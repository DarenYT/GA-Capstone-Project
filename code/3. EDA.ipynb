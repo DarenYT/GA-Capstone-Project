{
 "cells": [
  {
   "cell_type": "markdown",
   "id": "5b95ace2",
   "metadata": {},
   "source": [
    "data cleaniing\n",
    "- deleted gardenia mutabilis, \n",
    "- not enough photos (Kleinhova hospita, lantana trifolia, malpighia punicifolia, melaleuca cajuputi, memcylon oleifolium)\n",
    "- deleted images that have frames, captions, watermarks, no subject in frame (flowers), are not photographs (i.e. diagrams or images), images that were classified wrongly, collages"
   ]
  },
  {
   "cell_type": "code",
   "execution_count": 1,
   "id": "0c1dd828",
   "metadata": {},
   "outputs": [],
   "source": [
    "import os \n",
    "import zipfile \n",
    "import tensorflow as tf \n",
    "import numpy as np\n",
    "import pandas as pd\n",
    "from tensorflow.keras import layers \n",
    "from tensorflow.keras import Model \n",
    "import matplotlib.pyplot as plt\n",
    "from tensorflow.keras.models import Sequential\n",
    "from tensorflow.keras.layers import Dense, Conv2D, MaxPooling2D , Flatten\n",
    "from tensorflow.keras.preprocessing.image import ImageDataGenerator, array_to_img, img_to_array, load_img"
   ]
  },
  {
   "cell_type": "code",
   "execution_count": 2,
   "id": "0224ab7a",
   "metadata": {},
   "outputs": [],
   "source": [
    "train_path=\"../data/google_images/train\"\n",
    "test_path=\"../data/google_images/test\"\n",
    "val_path=\"../data/google_images/val\""
   ]
  },
  {
   "cell_type": "code",
   "execution_count": 3,
   "id": "d7d03fd6",
   "metadata": {},
   "outputs": [],
   "source": [
    "flower_df = pd.DataFrame()"
   ]
  },
  {
   "cell_type": "code",
   "execution_count": 4,
   "id": "60b1379f",
   "metadata": {},
   "outputs": [],
   "source": [
    "no_flower = [species[:-7] for species in os.listdir(train_path)]"
   ]
  },
  {
   "cell_type": "code",
   "execution_count": 5,
   "id": "9a95f043",
   "metadata": {},
   "outputs": [],
   "source": [
    "flower_df['species'] = no_flower"
   ]
  },
  {
   "cell_type": "code",
   "execution_count": 6,
   "id": "6655e0a4",
   "metadata": {},
   "outputs": [],
   "source": [
    "count = []\n",
    "for species in os.listdir(train_path):\n",
    "    count.append(len(os.listdir(train_path + '/' + species)))"
   ]
  },
  {
   "cell_type": "code",
   "execution_count": 7,
   "id": "b6a94727",
   "metadata": {},
   "outputs": [],
   "source": [
    "flower_df['count'] = count"
   ]
  },
  {
   "cell_type": "code",
   "execution_count": 8,
   "id": "7d63a475",
   "metadata": {},
   "outputs": [
    {
     "data": {
      "image/png": "[encoded data removed]",
      "text/plain": [
       "<Figure size 864x288 with 1 Axes>"
      ]
     },
     "metadata": {
      "needs_background": "light"
     },
     "output_type": "display_data"
    }
   ],
   "source": [
    "plt.figure(figsize=(12, 4))\n",
    "plt.tight_layout()\n",
    "plt.bar(flower_df['species'].index, flower_df['count'])\n",
    "plt.ylabel('Count')\n",
    "plt.xlabel('Species Index')\n",
    "plt.xticks(flower_df['species'].index, rotation=90, fontsize=8)\n",
    "plt.title('Data Counts of Species')\n",
    "plt.savefig('../data/train_class_count.jpg')\n"
   ]
  },
  {
   "cell_type": "code",
   "execution_count": null,
   "id": "ac42c387",
   "metadata": {},
   "outputs": [],
   "source": []
  },
  {
   "cell_type": "code",
   "execution_count": null,
   "id": "93851d4d",
   "metadata": {},
   "outputs": [],
   "source": []
  },
  {
   "cell_type": "code",
   "execution_count": null,
   "id": "ee31ecd5",
   "metadata": {},
   "outputs": [],
   "source": []
  },
  {
   "cell_type": "code",
   "execution_count": null,
   "id": "71945787",
   "metadata": {},
   "outputs": [],
   "source": []
  },
  {
   "cell_type": "code",
   "execution_count": null,
   "id": "0cba95dd",
   "metadata": {},
   "outputs": [],
   "source": []
  },
  {
   "cell_type": "code",
   "execution_count": null,
   "id": "5c2e7679",
   "metadata": {},
   "outputs": [],
   "source": []
  },
  {
   "cell_type": "code",
   "execution_count": null,
   "id": "c2444bef",
   "metadata": {},
   "outputs": [],
   "source": [
    "for folder in os.listdir(train_path):\n",
    "\n",
    "    sub_path=train_path+\"/\"+folder\n",
    "    \n",
    "    \n",
    "\n"
   ]
  },
  {
   "cell_type": "code",
   "execution_count": null,
   "id": "af4e89ca",
   "metadata": {},
   "outputs": [],
   "source": [
    "    for img in os.listdir(sub_path):\n",
    "\n",
    "        image_path=sub_path+\"/\"+img\n",
    "\n",
    "        img_arr=cv2.imread(image_path)\n",
    "\n",
    "        img_arr=cv2.resize(img_arr,(224,224))\n",
    "\n",
    "        x_train.append(img_arr)\n",
    "\n",
    "x_test=[]"
   ]
  }
 ],
 "metadata": {
  "kernelspec": {
   "display_name": "Python 3 (ipykernel)",
   "language": "python",
   "name": "python3"
  },
  "language_info": {
   "codemirror_mode": {
    "name": "ipython",
    "version": 3
   },
   "file_extension": ".py",
   "mimetype": "text/x-python",
   "name": "python",
   "nbconvert_exporter": "python",
   "pygments_lexer": "ipython3",
   "version": "3.7.13"
  }
 },
 "nbformat": 4,
 "nbformat_minor": 5
}
