{
  "cells": [
    {
      "cell_type": "markdown",
      "metadata": {
        "id": "view-in-github",
        "colab_type": "text"
      },
      "source": [
        "<a href=\"https://colab.research.google.com/github/DarenYT/GA-Capstone-Project/blob/main/code/5_Modelling_colab.ipynb\" target=\"_parent\"><img src=\"https://colab.research.google.com/assets/colab-badge.svg\" alt=\"Open In Colab\"/></a>"
      ]
    },
    {
      "cell_type": "markdown",
      "metadata": {
        "id": "1c6bc7a9"
      },
      "source": [
        "# Imports"
      ],
      "id": "1c6bc7a9"
    },
    {
      "cell_type": "code",
      "execution_count": 35,
      "metadata": {
        "colab": {
          "base_uri": "https://localhost:8080/"
        },
        "id": "4Nzyb6RlUrOU",
        "outputId": "0b1dcc58-b8e6-40df-936b-b1c59c892362"
      },
      "outputs": [
        {
          "output_type": "stream",
          "name": "stdout",
          "text": [
            "Thu May 12 18:47:44 2022       \n",
            "+-----------------------------------------------------------------------------+\n",
            "| NVIDIA-SMI 460.32.03    Driver Version: 460.32.03    CUDA Version: 11.2     |\n",
            "|-------------------------------+----------------------+----------------------+\n",
            "| GPU  Name        Persistence-M| Bus-Id        Disp.A | Volatile Uncorr. ECC |\n",
            "| Fan  Temp  Perf  Pwr:Usage/Cap|         Memory-Usage | GPU-Util  Compute M. |\n",
            "|                               |                      |               MIG M. |\n",
            "|===============================+======================+======================|\n",
            "|   0  Tesla T4            Off  | 00000000:00:04.0 Off |                    0 |\n",
            "| N/A   66C    P0    31W /  70W |   2794MiB / 15109MiB |      0%      Default |\n",
            "|                               |                      |                  N/A |\n",
            "+-------------------------------+----------------------+----------------------+\n",
            "                                                                               \n",
            "+-----------------------------------------------------------------------------+\n",
            "| Processes:                                                                  |\n",
            "|  GPU   GI   CI        PID   Type   Process name                  GPU Memory |\n",
            "|        ID   ID                                                   Usage      |\n",
            "|=============================================================================|\n",
            "+-----------------------------------------------------------------------------+\n"
          ]
        }
      ],
      "source": [
        "gpu_info = !nvidia-smi\n",
        "gpu_info = '\\n'.join(gpu_info)\n",
        "if gpu_info.find('failed') >= 0:\n",
        "  print('Not connected to a GPU')\n",
        "else:\n",
        "  print(gpu_info)"
      ],
      "id": "4Nzyb6RlUrOU"
    },
    {
      "cell_type": "code",
      "execution_count": 36,
      "metadata": {
        "id": "b7d13f9f"
      },
      "outputs": [],
      "source": [
        "import os \n",
        "import zipfile \n",
        "import pandas as pd\n",
        "import cv2\n",
        "import matplotlib.pyplot as plt\n",
        "import numpy as np\n",
        "\n",
        "\n",
        "import tensorflow as tf\n",
        "from tensorflow.keras import layers \n",
        "from tensorflow.keras.layers import Input, Lambda, Dense, Flatten,Dropout\n",
        "from tensorflow.keras import Model \n",
        "from tensorflow.keras.models import Model\n",
        "\n",
        "from tensorflow.keras.models import Sequential\n",
        "from tensorflow.keras.layers import Dense, Conv2D, MaxPooling2D , Flatten\n",
        "from tensorflow.keras.preprocessing import image\n",
        "from tensorflow.keras.preprocessing.image import ImageDataGenerator, array_to_img, img_to_array, load_img\n",
        "from sklearn.metrics import accuracy_score,classification_report,confusion_matrix\n",
        "from tensorflow.keras.utils import to_categorical\n",
        "from tensorflow.keras.callbacks import EarlyStopping\n",
        "\n",
        "from google.colab import drive, files\n",
        "from tensorflow.keras.applications.vgg19 import VGG19\n",
        "from tensorflow.keras.applications.inception_v3 import InceptionV3\n",
        "from tensorflow.keras.applications.mobilenet_v2 import MobileNetV2\n",
        "from tensorflow.keras.applications.efficientnet import EfficientNetB3\n",
        "from PIL import Image\n"
      ],
      "id": "b7d13f9f"
    },
    {
      "cell_type": "code",
      "execution_count": 37,
      "metadata": {
        "id": "b75e7e0c"
      },
      "outputs": [],
      "source": [
        "np.random.seed=42"
      ],
      "id": "b75e7e0c"
    },
    {
      "cell_type": "code",
      "execution_count": 38,
      "metadata": {
        "colab": {
          "base_uri": "https://localhost:8080/"
        },
        "id": "Bo2l3N4ZDIST",
        "outputId": "f4cb179d-6734-4f2b-b03b-e41697e7d6c3"
      },
      "outputs": [
        {
          "output_type": "stream",
          "name": "stdout",
          "text": [
            "Drive already mounted at /content/drive; to attempt to forcibly remount, call drive.mount(\"/content/drive\", force_remount=True).\n"
          ]
        }
      ],
      "source": [
        "\n",
        "drive.mount('/content/drive')"
      ],
      "id": "Bo2l3N4ZDIST"
    },
    {
      "cell_type": "markdown",
      "metadata": {
        "id": "350859bb"
      },
      "source": [
        "# Data Generation"
      ],
      "id": "350859bb"
    },
    {
      "cell_type": "code",
      "execution_count": 207,
      "metadata": {
        "id": "f7144f4b"
      },
      "outputs": [],
      "source": [
        "train_path='drive/My Drive/google_images/train'\n",
        "test_path='drive/My Drive/google_images/test'\n",
        "val_path='drive/My Drive/google_images/val'\n"
      ],
      "id": "f7144f4b"
    },
    {
      "cell_type": "code",
      "execution_count": 208,
      "metadata": {
        "id": "bcc7f24c"
      },
      "outputs": [],
      "source": [
        "class_list = os.listdir(train_path)"
      ],
      "id": "bcc7f24c"
    },
    {
      "cell_type": "code",
      "execution_count": 209,
      "metadata": {
        "id": "30b91722"
      },
      "outputs": [],
      "source": [
        "train_datagen = ImageDataGenerator(rescale = 1./255.)\n",
        "test_datagen = ImageDataGenerator(rescale = 1./255)\n",
        "val_datagen = ImageDataGenerator(rescale = 1./255)"
      ],
      "id": "30b91722"
    },
    {
      "cell_type": "code",
      "execution_count": 210,
      "metadata": {
        "colab": {
          "base_uri": "https://localhost:8080/"
        },
        "id": "676b2fd3",
        "outputId": "202211ef-ec54-40fe-ecea-87008b728001"
      },
      "outputs": [
        {
          "output_type": "stream",
          "name": "stdout",
          "text": [
            "Found 1615 images belonging to 50 classes.\n",
            "Found 538 images belonging to 50 classes.\n",
            "Found 426 images belonging to 50 classes.\n"
          ]
        }
      ],
      "source": [
        "train_generator = train_datagen.flow_from_directory(train_path,\n",
        "                                                 target_size = (224, 224),\n",
        "                                                 batch_size = 32,\n",
        "                                                 class_mode = 'categorical')\n",
        "test_generator = test_datagen.flow_from_directory(test_path,\n",
        "                                            target_size = (224, 224),\n",
        "                                            batch_size = 1,\n",
        "                                            class_mode = 'categorical',\n",
        "                                            shuffle=False)\n",
        "val_generator = val_datagen.flow_from_directory(val_path,\n",
        "                                            target_size = (224, 224),\n",
        "                                            batch_size = 32,\n",
        "                                            class_mode = 'categorical')"
      ],
      "id": "676b2fd3"
    },
    {
      "cell_type": "code",
      "execution_count": 211,
      "metadata": {
        "id": "bLqSsGSa2iuP"
      },
      "outputs": [],
      "source": [
        "class_dict = test_generator.class_indices\n",
        "labels = test_generator.labels\n",
        "file_names = test_generator.filenames"
      ],
      "id": "bLqSsGSa2iuP"
    },
    {
      "cell_type": "markdown",
      "metadata": {
        "id": "06e42e94"
      },
      "source": [
        "# Basic CNN"
      ],
      "id": "06e42e94"
    },
    {
      "cell_type": "code",
      "execution_count": 44,
      "metadata": {
        "id": "18f5c5dd"
      },
      "outputs": [],
      "source": [
        "# Instantiate a CNN.\n",
        "cnn_model = Sequential()"
      ],
      "id": "18f5c5dd"
    },
    {
      "cell_type": "code",
      "execution_count": 45,
      "metadata": {
        "id": "eb8ebc77"
      },
      "outputs": [],
      "source": [
        "# Add a convolutional layer.\n",
        "cnn_model.add(Conv2D(filters=6,            # number of filters\n",
        "                     kernel_size=(3, 3),        # height/width of filter\n",
        "                     activation='relu',      # activation function \n",
        "                     input_shape=(224, 224, 3))) # shape of input (image)"
      ],
      "id": "eb8ebc77"
    },
    {
      "cell_type": "code",
      "execution_count": 46,
      "metadata": {
        "id": "95846b92"
      },
      "outputs": [],
      "source": [
        "cnn_model.add(MaxPooling2D(pool_size=(2, 2))) # dimensions of region of pooling"
      ],
      "id": "95846b92"
    },
    {
      "cell_type": "code",
      "execution_count": 47,
      "metadata": {
        "id": "2f79a0c3"
      },
      "outputs": [],
      "source": [
        "cnn_model.add(Conv2D(16,\n",
        "                     kernel_size = (3, 3),\n",
        "                     activation='relu'))"
      ],
      "id": "2f79a0c3"
    },
    {
      "cell_type": "code",
      "execution_count": 48,
      "metadata": {
        "id": "56b0822f"
      },
      "outputs": [],
      "source": [
        "cnn_model.add(MaxPooling2D(pool_size=(2, 2)))"
      ],
      "id": "56b0822f"
    },
    {
      "cell_type": "code",
      "execution_count": 49,
      "metadata": {
        "id": "9e45b59d"
      },
      "outputs": [],
      "source": [
        "cnn_model.add(Flatten())"
      ],
      "id": "9e45b59d"
    },
    {
      "cell_type": "code",
      "execution_count": 50,
      "metadata": {
        "id": "126d2b4b"
      },
      "outputs": [],
      "source": [
        "# Add a densely-connected layer with 128 neurons.\n",
        "cnn_model.add(Dense(128, activation='relu'))"
      ],
      "id": "126d2b4b"
    },
    {
      "cell_type": "code",
      "execution_count": 51,
      "metadata": {
        "id": "df24cb94"
      },
      "outputs": [],
      "source": [
        "# Add a final layer with 50 neurons.\n",
        "cnn_model.add(Dense(len(class_list), activation='softmax'))"
      ],
      "id": "df24cb94"
    },
    {
      "cell_type": "code",
      "execution_count": 52,
      "metadata": {
        "id": "df53b18e"
      },
      "outputs": [],
      "source": [
        "# Compile model\n",
        "cnn_model.compile(\n",
        "    loss='categorical_crossentropy',\n",
        "    optimizer='adam',\n",
        "    metrics=['accuracy', 'top_k_categorical_accuracy']\n",
        ")"
      ],
      "id": "df53b18e"
    },
    {
      "cell_type": "code",
      "execution_count": 53,
      "metadata": {
        "id": "0be98e33"
      },
      "outputs": [],
      "source": [
        "# Include checkpoint \n",
        "\n",
        "#checkpoint_path = \"../checkpoint/baseline_cnn//cp-{epoch:04d}.ckpt\"\n",
        "\n",
        "\n",
        "# Create a callback that saves the model's weights\n",
        "#cp_callback = tf.keras.callbacks.ModelCheckpoint(filepath=checkpoint_path,\n",
        "#                                                 save_weights_only=True,\n",
        "#                                                verbose=1)"
      ],
      "id": "0be98e33"
    },
    {
      "cell_type": "code",
      "execution_count": 54,
      "metadata": {
        "colab": {
          "base_uri": "https://localhost:8080/"
        },
        "id": "52308871",
        "outputId": "0ea0c39e-33db-4e3a-f7d3-79df54f172bf"
      },
      "outputs": [
        {
          "output_type": "stream",
          "name": "stdout",
          "text": [
            "Epoch 1/15\n",
            "50/50 [==============================] - 17s 305ms/step - loss: 4.0543 - accuracy: 0.0297 - top_k_categorical_accuracy: 0.1295 - val_loss: 3.8802 - val_accuracy: 0.0457 - val_top_k_categorical_accuracy: 0.1875\n",
            "Epoch 2/15\n",
            "50/50 [==============================] - 15s 294ms/step - loss: 3.7993 - accuracy: 0.0663 - top_k_categorical_accuracy: 0.2224 - val_loss: 3.8084 - val_accuracy: 0.0841 - val_top_k_categorical_accuracy: 0.2019\n",
            "Epoch 3/15\n",
            "50/50 [==============================] - 15s 294ms/step - loss: 3.4438 - accuracy: 0.1453 - top_k_categorical_accuracy: 0.3898 - val_loss: 3.6545 - val_accuracy: 0.1202 - val_top_k_categorical_accuracy: 0.3029\n",
            "Epoch 4/15\n",
            "50/50 [==============================] - 15s 294ms/step - loss: 2.6164 - accuracy: 0.3613 - top_k_categorical_accuracy: 0.6450 - val_loss: 3.4256 - val_accuracy: 0.1899 - val_top_k_categorical_accuracy: 0.3894\n",
            "Epoch 5/15\n",
            "50/50 [==============================] - 15s 296ms/step - loss: 1.4796 - accuracy: 0.6526 - top_k_categorical_accuracy: 0.8781 - val_loss: 3.5745 - val_accuracy: 0.1971 - val_top_k_categorical_accuracy: 0.4111\n",
            "Epoch 6/15\n",
            "50/50 [==============================] - 15s 297ms/step - loss: 0.6651 - accuracy: 0.8617 - top_k_categorical_accuracy: 0.9672 - val_loss: 3.7607 - val_accuracy: 0.2500 - val_top_k_categorical_accuracy: 0.4327\n",
            "Epoch 7/15\n",
            "50/50 [==============================] - 15s 293ms/step - loss: 0.2724 - accuracy: 0.9570 - top_k_categorical_accuracy: 0.9937 - val_loss: 4.0401 - val_accuracy: 0.2524 - val_top_k_categorical_accuracy: 0.4447\n",
            "Epoch 8/15\n",
            "50/50 [==============================] - 15s 292ms/step - loss: 0.1281 - accuracy: 0.9874 - top_k_categorical_accuracy: 0.9975 - val_loss: 4.5358 - val_accuracy: 0.2668 - val_top_k_categorical_accuracy: 0.4327\n",
            "Epoch 9/15\n",
            "50/50 [==============================] - 15s 294ms/step - loss: 0.0543 - accuracy: 0.9956 - top_k_categorical_accuracy: 0.9987 - val_loss: 4.5148 - val_accuracy: 0.2788 - val_top_k_categorical_accuracy: 0.4423\n",
            "Epoch 10/15\n",
            "50/50 [==============================] - 15s 294ms/step - loss: 0.0402 - accuracy: 0.9975 - top_k_categorical_accuracy: 0.9987 - val_loss: 4.6448 - val_accuracy: 0.2644 - val_top_k_categorical_accuracy: 0.4375\n",
            "Epoch 11/15\n",
            "50/50 [==============================] - 15s 294ms/step - loss: 0.0421 - accuracy: 0.9981 - top_k_categorical_accuracy: 0.9987 - val_loss: 4.7848 - val_accuracy: 0.2764 - val_top_k_categorical_accuracy: 0.4447\n",
            "Epoch 12/15\n",
            "50/50 [==============================] - 15s 293ms/step - loss: 0.0211 - accuracy: 0.9987 - top_k_categorical_accuracy: 0.9994 - val_loss: 4.7998 - val_accuracy: 0.2740 - val_top_k_categorical_accuracy: 0.4471\n",
            "Epoch 13/15\n",
            "50/50 [==============================] - 15s 297ms/step - loss: 0.0189 - accuracy: 0.9987 - top_k_categorical_accuracy: 0.9987 - val_loss: 4.9275 - val_accuracy: 0.2812 - val_top_k_categorical_accuracy: 0.4495\n",
            "Epoch 14/15\n",
            "50/50 [==============================] - 15s 294ms/step - loss: 0.0163 - accuracy: 0.9987 - top_k_categorical_accuracy: 0.9994 - val_loss: 5.1075 - val_accuracy: 0.2812 - val_top_k_categorical_accuracy: 0.4471\n",
            "Epoch 15/15\n",
            "50/50 [==============================] - 15s 297ms/step - loss: 0.0119 - accuracy: 0.9987 - top_k_categorical_accuracy: 0.9994 - val_loss: 5.4451 - val_accuracy: 0.2644 - val_top_k_categorical_accuracy: 0.4303\n"
          ]
        }
      ],
      "source": [
        "# fit the model\n",
        "cnn_history = cnn_model.fit(\n",
        "    train_generator,\n",
        "    steps_per_epoch=train_generator.n//train_generator.batch_size,\n",
        "    validation_data=val_generator,\n",
        "    validation_steps=val_generator.n//val_generator.batch_size,\n",
        "    epochs=15,\n",
        "    shuffle=True,\n",
        "    verbose=1\n",
        ")"
      ],
      "id": "52308871"
    },
    {
      "cell_type": "code",
      "execution_count": 55,
      "metadata": {
        "id": "edcc9bf6"
      },
      "outputs": [],
      "source": [
        "# saving mob model\n",
        "#cnn_model.save('cnn')\n",
        "#files.download('cnn')"
      ],
      "id": "edcc9bf6"
    },
    {
      "cell_type": "code",
      "execution_count": 56,
      "metadata": {
        "colab": {
          "base_uri": "https://localhost:8080/",
          "height": 295
        },
        "id": "ecf497bc",
        "outputId": "a6d6f1b0-5db8-4afe-c82e-f2bdccb82dfe"
      },
      "outputs": [
        {
          "output_type": "display_data",
          "data": {
            "text/plain": [
              "<Figure size 432x288 with 1 Axes>"
            ],
            "image/png": "[encoded data removed]"
          },
          "metadata": {
            "needs_background": "light"
          }
        },
        {
          "output_type": "display_data",
          "data": {
            "text/plain": [
              "<IPython.core.display.Javascript object>"
            ],
            "application/javascript": [
              "\n",
              "    async function download(id, filename, size) {\n",
              "      if (!google.colab.kernel.accessAllowed) {\n",
              "        return;\n",
              "      }\n",
              "      const div = document.createElement('div');\n",
              "      const label = document.createElement('label');\n",
              "      label.textContent = `Downloading \"${filename}\": `;\n",
              "      div.appendChild(label);\n",
              "      const progress = document.createElement('progress');\n",
              "      progress.max = size;\n",
              "      div.appendChild(progress);\n",
              "      document.body.appendChild(div);\n",
              "\n",
              "      const buffers = [];\n",
              "      let downloaded = 0;\n",
              "\n",
              "      const channel = await google.colab.kernel.comms.open(id);\n",
              "      // Send a message to notify the kernel that we're ready.\n",
              "      channel.send({})\n",
              "\n",
              "      for await (const message of channel.messages) {\n",
              "        // Send a message to notify the kernel that we're ready.\n",
              "        channel.send({})\n",
              "        if (message.buffers) {\n",
              "          for (const buffer of message.buffers) {\n",
              "            buffers.push(buffer);\n",
              "            downloaded += buffer.byteLength;\n",
              "            progress.value = downloaded;\n",
              "          }\n",
              "        }\n",
              "      }\n",
              "      const blob = new Blob(buffers, {type: 'application/binary'});\n",
              "      const a = document.createElement('a');\n",
              "      a.href = window.URL.createObjectURL(blob);\n",
              "      a.download = filename;\n",
              "      div.appendChild(a);\n",
              "      a.click();\n",
              "      div.remove();\n",
              "    }\n",
              "  "
            ]
          },
          "metadata": {}
        },
        {
          "output_type": "display_data",
          "data": {
            "text/plain": [
              "<IPython.core.display.Javascript object>"
            ],
            "application/javascript": [
              "download(\"download_3594c964-dff5-4400-9b4c-cb43bcde4858\", \"cnn-acc-rps-1.png\", 17040)"
            ]
          },
          "metadata": {}
        }
      ],
      "source": [
        "# accuracies\n",
        "plt.plot(cnn_history.history['accuracy'], label='train acc')\n",
        "plt.plot(cnn_history.history['val_accuracy'], label='val acc')\n",
        "plt.legend()\n",
        "plt.title('Baseline CNN Top-1 Accuracy')\n",
        "plt.xlabel('Number of Epochs')\n",
        "plt.ylabel('Accuracy')\n",
        "plt.savefig('cnn-acc-rps-1.png')\n",
        "plt.show()\n",
        "files.download('cnn-acc-rps-1.png')"
      ],
      "id": "ecf497bc"
    },
    {
      "cell_type": "code",
      "execution_count": 57,
      "metadata": {
        "colab": {
          "base_uri": "https://localhost:8080/",
          "height": 295
        },
        "id": "f85281ca",
        "outputId": "bc7fc977-c8ae-4905-a00c-c9dc164a13f1"
      },
      "outputs": [
        {
          "output_type": "display_data",
          "data": {
            "text/plain": [
              "<Figure size 432x288 with 1 Axes>"
            ],
            "image/png": "[encoded data removed]"
          },
          "metadata": {
            "needs_background": "light"
          }
        },
        {
          "output_type": "display_data",
          "data": {
            "text/plain": [
              "<IPython.core.display.Javascript object>"
            ],
            "application/javascript": [
              "\n",
              "    async function download(id, filename, size) {\n",
              "      if (!google.colab.kernel.accessAllowed) {\n",
              "        return;\n",
              "      }\n",
              "      const div = document.createElement('div');\n",
              "      const label = document.createElement('label');\n",
              "      label.textContent = `Downloading \"${filename}\": `;\n",
              "      div.appendChild(label);\n",
              "      const progress = document.createElement('progress');\n",
              "      progress.max = size;\n",
              "      div.appendChild(progress);\n",
              "      document.body.appendChild(div);\n",
              "\n",
              "      const buffers = [];\n",
              "      let downloaded = 0;\n",
              "\n",
              "      const channel = await google.colab.kernel.comms.open(id);\n",
              "      // Send a message to notify the kernel that we're ready.\n",
              "      channel.send({})\n",
              "\n",
              "      for await (const message of channel.messages) {\n",
              "        // Send a message to notify the kernel that we're ready.\n",
              "        channel.send({})\n",
              "        if (message.buffers) {\n",
              "          for (const buffer of message.buffers) {\n",
              "            buffers.push(buffer);\n",
              "            downloaded += buffer.byteLength;\n",
              "            progress.value = downloaded;\n",
              "          }\n",
              "        }\n",
              "      }\n",
              "      const blob = new Blob(buffers, {type: 'application/binary'});\n",
              "      const a = document.createElement('a');\n",
              "      a.href = window.URL.createObjectURL(blob);\n",
              "      a.download = filename;\n",
              "      div.appendChild(a);\n",
              "      a.click();\n",
              "      div.remove();\n",
              "    }\n",
              "  "
            ]
          },
          "metadata": {}
        },
        {
          "output_type": "display_data",
          "data": {
            "text/plain": [
              "<IPython.core.display.Javascript object>"
            ],
            "application/javascript": [
              "download(\"download_2f87e896-e0dc-42a9-b30c-89baa044ee61\", \"cnn-top-5-rps-1.png\", 18174)"
            ]
          },
          "metadata": {}
        }
      ],
      "source": [
        "# loss\n",
        "plt.plot(cnn_history.history['top_k_categorical_accuracy'], label='train top-5 accuracy')\n",
        "plt.plot(cnn_history.history['val_top_k_categorical_accuracy'], label='val top-5 accuracy')\n",
        "plt.legend()\n",
        "plt.title('Baseline CNN Top-5 Accuracy')\n",
        "plt.xlabel('Number of Epochs')\n",
        "plt.ylabel('Accuracy')\n",
        "plt.savefig('cnn-top-5-rps-1.png')\n",
        "plt.show()\n",
        "files.download('cnn-top-5-rps-1.png')"
      ],
      "id": "f85281ca"
    },
    {
      "cell_type": "code",
      "execution_count": 58,
      "metadata": {
        "colab": {
          "base_uri": "https://localhost:8080/"
        },
        "id": "31c5fea1",
        "outputId": "b7338a5a-6521-4ee5-c4c0-3da079698663"
      },
      "outputs": [
        {
          "output_type": "stream",
          "name": "stdout",
          "text": [
            "538/538 [==============================] - 5s 10ms/step - loss: 5.3886 - accuracy: 0.2565 - top_k_categorical_accuracy: 0.4294\n"
          ]
        },
        {
          "output_type": "execute_result",
          "data": {
            "text/plain": [
              "[5.388577461242676, 0.2565055787563324, 0.4293680191040039]"
            ]
          },
          "metadata": {},
          "execution_count": 58
        }
      ],
      "source": [
        "# evaluate\n",
        "cnn_model.evaluate(test_generator)"
      ],
      "id": "31c5fea1"
    },
    {
      "cell_type": "code",
      "execution_count": 59,
      "metadata": {
        "colab": {
          "base_uri": "https://localhost:8080/"
        },
        "id": "GhXUJSoNsP5X",
        "outputId": "593cb3a0-9bdd-4eef-e56f-f44a1ff56119"
      },
      "outputs": [
        {
          "output_type": "stream",
          "name": "stdout",
          "text": [
            "538/538 [==============================] - 5s 9ms/step\n"
          ]
        }
      ],
      "source": [
        "# predict\n",
        "test_generator.reset()\n",
        "pred=cnn_model.predict(test_generator,\n",
        "steps=test_generator.n//test_generator.batch_size,\n",
        "verbose=1)"
      ],
      "id": "GhXUJSoNsP5X"
    },
    {
      "cell_type": "code",
      "execution_count": null,
      "metadata": {
        "id": "240e18f3"
      },
      "outputs": [],
      "source": [
        "y_pred = np.argmax(pred,axis=1)"
      ],
      "id": "240e18f3"
    },
    {
      "cell_type": "code",
      "execution_count": null,
      "metadata": {
        "id": "bd005e81"
      },
      "outputs": [],
      "source": [
        "#get classification report\n",
        "print(classification_report(y_pred, labels))\n"
      ],
      "id": "bd005e81"
    },
    {
      "cell_type": "code",
      "execution_count": null,
      "metadata": {
        "id": "V0a_wbVG1fni"
      },
      "outputs": [],
      "source": [
        "def create_prediction_df(pred, failed_class):\n",
        "    # creating list for predictions and actual Y\n",
        "    label_map = (test_generator.class_indices)\n",
        "    label_map = dict((v,k) for k,v in label_map.items())                      #flip k,v              \n",
        "\n",
        "    predictions = [label_map[k] for k in pred]                                # to create list for predictions \n",
        "    label_class = [label_map[k] for k in labels]                              # to create list for labels \n",
        "\n",
        "    df = pd.DataFrame(list(zip(label_class, predictions, file_names)),        # to create df for all predictions \n",
        "               columns =['actual_y', 'pred', 'names'])\n",
        "    return df"
      ],
      "id": "V0a_wbVG1fni"
    },
    {
      "cell_type": "code",
      "execution_count": 63,
      "metadata": {
        "id": "2oof5GhU3a0y"
      },
      "outputs": [],
      "source": [
        "df = create_prediction_df(y_pred, labels)"
      ],
      "id": "2oof5GhU3a0y"
    },
    {
      "cell_type": "code",
      "execution_count": 64,
      "metadata": {
        "colab": {
          "base_uri": "https://localhost:8080/",
          "height": 424
        },
        "id": "gf-CkCkXPrmg",
        "outputId": "af7b16d2-4a26-46ca-9a66-76756f41351c"
      },
      "outputs": [
        {
          "output_type": "execute_result",
          "data": {
            "text/plain": [
              "                       actual_y                        pred  \\\n",
              "1               acanthus_flower             acanthus_flower   \n",
              "3               acanthus_flower             acanthus_flower   \n",
              "8               acanthus_flower             acanthus_flower   \n",
              "10              acanthus_flower             acanthus_flower   \n",
              "14        adenium_obesum_flower       adenium_obesum_flower   \n",
              "..                          ...                         ...   \n",
              "515  hibiscus_acetosella_flower  hibiscus_acetosella_flower   \n",
              "518  hibiscus_acetosella_flower  hibiscus_acetosella_flower   \n",
              "525  hibiscus_acetosella_flower  hibiscus_acetosella_flower   \n",
              "535   hibiscus_coccineus_flower   hibiscus_coccineus_flower   \n",
              "536   hibiscus_coccineus_flower   hibiscus_coccineus_flower   \n",
              "\n",
              "                                         names  \n",
              "1               acanthus_flower/198fad40ab.jpg  \n",
              "3               acanthus_flower/28067f8a14.jpg  \n",
              "8               acanthus_flower/b69059895a.jpg  \n",
              "10              acanthus_flower/ec0b225710.jpg  \n",
              "14        adenium_obesum_flower/6144689112.jpg  \n",
              "..                                         ...  \n",
              "515  hibiscus_acetosella_flower/723bdd44ee.jpg  \n",
              "518  hibiscus_acetosella_flower/b6e6828da2.jpg  \n",
              "525  hibiscus_acetosella_flower/fbaa804348.jpg  \n",
              "535   hibiscus_coccineus_flower/85dbf5b9ff.jpg  \n",
              "536   hibiscus_coccineus_flower/9bbe39e1a7.jpg  \n",
              "\n",
              "[138 rows x 3 columns]"
            ],
            "text/html": [
              "\n",
              "  <div id=\"df-40d74091-473b-4758-b000-d694e0b76d56\">\n",
              "    <div class=\"colab-df-container\">\n",
              "      <div>\n",
              "<style scoped>\n",
              "    .dataframe tbody tr th:only-of-type {\n",
              "        vertical-align: middle;\n",
              "    }\n",
              "\n",
              "    .dataframe tbody tr th {\n",
              "        vertical-align: top;\n",
              "    }\n",
              "\n",
              "    .dataframe thead th {\n",
              "        text-align: right;\n",
              "    }\n",
              "</style>\n",
              "<table border=\"1\" class=\"dataframe\">\n",
              "  <thead>\n",
              "    <tr style=\"text-align: right;\">\n",
              "      <th></th>\n",
              "      <th>actual_y</th>\n",
              "      <th>pred</th>\n",
              "      <th>names</th>\n",
              "    </tr>\n",
              "  </thead>\n",
              "  <tbody>\n",
              "    <tr>\n",
              "      <th>1</th>\n",
              "      <td>acanthus_flower</td>\n",
              "      <td>acanthus_flower</td>\n",
              "      <td>acanthus_flower/198fad40ab.jpg</td>\n",
              "    </tr>\n",
              "    <tr>\n",
              "      <th>3</th>\n",
              "      <td>acanthus_flower</td>\n",
              "      <td>acanthus_flower</td>\n",
              "      <td>acanthus_flower/28067f8a14.jpg</td>\n",
              "    </tr>\n",
              "    <tr>\n",
              "      <th>8</th>\n",
              "      <td>acanthus_flower</td>\n",
              "      <td>acanthus_flower</td>\n",
              "      <td>acanthus_flower/b69059895a.jpg</td>\n",
              "    </tr>\n",
              "    <tr>\n",
              "      <th>10</th>\n",
              "      <td>acanthus_flower</td>\n",
              "      <td>acanthus_flower</td>\n",
              "      <td>acanthus_flower/ec0b225710.jpg</td>\n",
              "    </tr>\n",
              "    <tr>\n",
              "      <th>14</th>\n",
              "      <td>adenium_obesum_flower</td>\n",
              "      <td>adenium_obesum_flower</td>\n",
              "      <td>adenium_obesum_flower/6144689112.jpg</td>\n",
              "    </tr>\n",
              "    <tr>\n",
              "      <th>...</th>\n",
              "      <td>...</td>\n",
              "      <td>...</td>\n",
              "      <td>...</td>\n",
              "    </tr>\n",
              "    <tr>\n",
              "      <th>515</th>\n",
              "      <td>hibiscus_acetosella_flower</td>\n",
              "      <td>hibiscus_acetosella_flower</td>\n",
              "      <td>hibiscus_acetosella_flower/723bdd44ee.jpg</td>\n",
              "    </tr>\n",
              "    <tr>\n",
              "      <th>518</th>\n",
              "      <td>hibiscus_acetosella_flower</td>\n",
              "      <td>hibiscus_acetosella_flower</td>\n",
              "      <td>hibiscus_acetosella_flower/b6e6828da2.jpg</td>\n",
              "    </tr>\n",
              "    <tr>\n",
              "      <th>525</th>\n",
              "      <td>hibiscus_acetosella_flower</td>\n",
              "      <td>hibiscus_acetosella_flower</td>\n",
              "      <td>hibiscus_acetosella_flower/fbaa804348.jpg</td>\n",
              "    </tr>\n",
              "    <tr>\n",
              "      <th>535</th>\n",
              "      <td>hibiscus_coccineus_flower</td>\n",
              "      <td>hibiscus_coccineus_flower</td>\n",
              "      <td>hibiscus_coccineus_flower/85dbf5b9ff.jpg</td>\n",
              "    </tr>\n",
              "    <tr>\n",
              "      <th>536</th>\n",
              "      <td>hibiscus_coccineus_flower</td>\n",
              "      <td>hibiscus_coccineus_flower</td>\n",
              "      <td>hibiscus_coccineus_flower/9bbe39e1a7.jpg</td>\n",
              "    </tr>\n",
              "  </tbody>\n",
              "</table>\n",
              "<p>138 rows × 3 columns</p>\n",
              "</div>\n",
              "      <button class=\"colab-df-convert\" onclick=\"convertToInteractive('df-40d74091-473b-4758-b000-d694e0b76d56')\"\n",
              "              title=\"Convert this dataframe to an interactive table.\"\n",
              "              style=\"display:none;\">\n",
              "        \n",
              "  <svg xmlns=\"http://www.w3.org/2000/svg\" height=\"24px\"viewBox=\"0 0 24 24\"\n",
              "       width=\"24px\">\n",
              "    <path d=\"M0 0h24v24H0V0z\" fill=\"none\"/>\n",
              "    <path d=\"M18.56 5.44l.94 2.06.94-2.06 2.06-.94-2.06-.94-.94-2.06-.94 2.06-2.06.94zm-11 1L8.5 8.5l.94-2.06 2.06-.94-2.06-.94L8.5 2.5l-.94 2.06-2.06.94zm10 10l.94 2.06.94-2.06 2.06-.94-2.06-.94-.94-2.06-.94 2.06-2.06.94z\"/><path d=\"M17.41 7.96l-1.37-1.37c-.4-.4-.92-.59-1.43-.59-.52 0-1.04.2-1.43.59L10.3 9.45l-7.72 7.72c-.78.78-.78 2.05 0 2.83L4 21.41c.39.39.9.59 1.41.59.51 0 1.02-.2 1.41-.59l7.78-7.78 2.81-2.81c.8-.78.8-2.07 0-2.86zM5.41 20L4 18.59l7.72-7.72 1.47 1.35L5.41 20z\"/>\n",
              "  </svg>\n",
              "      </button>\n",
              "      \n",
              "  <style>\n",
              "    .colab-df-container {\n",
              "      display:flex;\n",
              "      flex-wrap:wrap;\n",
              "      gap: 12px;\n",
              "    }\n",
              "\n",
              "    .colab-df-convert {\n",
              "      background-color: #E8F0FE;\n",
              "      border: none;\n",
              "      border-radius: 50%;\n",
              "      cursor: pointer;\n",
              "      display: none;\n",
              "      fill: #1967D2;\n",
              "      height: 32px;\n",
              "      padding: 0 0 0 0;\n",
              "      width: 32px;\n",
              "    }\n",
              "\n",
              "    .colab-df-convert:hover {\n",
              "      background-color: #E2EBFA;\n",
              "      box-shadow: 0px 1px 2px rgba(60, 64, 67, 0.3), 0px 1px 3px 1px rgba(60, 64, 67, 0.15);\n",
              "      fill: #174EA6;\n",
              "    }\n",
              "\n",
              "    [theme=dark] .colab-df-convert {\n",
              "      background-color: #3B4455;\n",
              "      fill: #D2E3FC;\n",
              "    }\n",
              "\n",
              "    [theme=dark] .colab-df-convert:hover {\n",
              "      background-color: #434B5C;\n",
              "      box-shadow: 0px 1px 3px 1px rgba(0, 0, 0, 0.15);\n",
              "      filter: drop-shadow(0px 1px 2px rgba(0, 0, 0, 0.3));\n",
              "      fill: #FFFFFF;\n",
              "    }\n",
              "  </style>\n",
              "\n",
              "      <script>\n",
              "        const buttonEl =\n",
              "          document.querySelector('#df-40d74091-473b-4758-b000-d694e0b76d56 button.colab-df-convert');\n",
              "        buttonEl.style.display =\n",
              "          google.colab.kernel.accessAllowed ? 'block' : 'none';\n",
              "\n",
              "        async function convertToInteractive(key) {\n",
              "          const element = document.querySelector('#df-40d74091-473b-4758-b000-d694e0b76d56');\n",
              "          const dataTable =\n",
              "            await google.colab.kernel.invokeFunction('convertToInteractive',\n",
              "                                                     [key], {});\n",
              "          if (!dataTable) return;\n",
              "\n",
              "          const docLinkHtml = 'Like what you see? Visit the ' +\n",
              "            '<a target=\"_blank\" href=https://colab.research.google.com/notebooks/data_table.ipynb>data table notebook</a>'\n",
              "            + ' to learn more about interactive tables.';\n",
              "          element.innerHTML = '';\n",
              "          dataTable['output_type'] = 'display_data';\n",
              "          await google.colab.output.renderOutput(dataTable, element);\n",
              "          const docLink = document.createElement('div');\n",
              "          docLink.innerHTML = docLinkHtml;\n",
              "          element.appendChild(docLink);\n",
              "        }\n",
              "      </script>\n",
              "    </div>\n",
              "  </div>\n",
              "  "
            ]
          },
          "metadata": {},
          "execution_count": 64
        }
      ],
      "source": [
        "df.loc[df['actual_y']==df['pred']]"
      ],
      "id": "gf-CkCkXPrmg"
    },
    {
      "cell_type": "code",
      "execution_count": 65,
      "metadata": {
        "colab": {
          "base_uri": "https://localhost:8080/"
        },
        "id": "vDFMJX8uPrmh",
        "outputId": "fe8b162a-6d10-4800-8d6d-feca0272bf30"
      },
      "outputs": [
        {
          "output_type": "stream",
          "name": "stdout",
          "text": [
            "The basic CNN model correctly predicted 138 images from 46 classes out of 538 images.\n"
          ]
        }
      ],
      "source": [
        "print(f\"The basic CNN model correctly predicted {df.loc[df['actual_y']==df['pred']].shape[0]} images from {df.loc[df['actual_y']==df['pred']]['actual_y'].value_counts().count()} classes out of {len(test_generator.labels)} images.\")"
      ],
      "id": "vDFMJX8uPrmh"
    },
    {
      "cell_type": "code",
      "execution_count": 66,
      "metadata": {
        "colab": {
          "base_uri": "https://localhost:8080/"
        },
        "id": "zC1bA5d3Prmh",
        "outputId": "13f0626c-967b-4b35-a4ad-5225c67464f7"
      },
      "outputs": [
        {
          "output_type": "execute_result",
          "data": {
            "text/plain": [
              "1                 acanthus_flower/198fad40ab.jpg\n",
              "3                 acanthus_flower/28067f8a14.jpg\n",
              "8                 acanthus_flower/b69059895a.jpg\n",
              "10                acanthus_flower/ec0b225710.jpg\n",
              "14          adenium_obesum_flower/6144689112.jpg\n",
              "                         ...                    \n",
              "515    hibiscus_acetosella_flower/723bdd44ee.jpg\n",
              "518    hibiscus_acetosella_flower/b6e6828da2.jpg\n",
              "525    hibiscus_acetosella_flower/fbaa804348.jpg\n",
              "535     hibiscus_coccineus_flower/85dbf5b9ff.jpg\n",
              "536     hibiscus_coccineus_flower/9bbe39e1a7.jpg\n",
              "Name: names, Length: 138, dtype: object"
            ]
          },
          "metadata": {},
          "execution_count": 66
        }
      ],
      "source": [
        "df.loc[df['actual_y']==df['pred']]['names']"
      ],
      "id": "zC1bA5d3Prmh"
    },
    {
      "cell_type": "code",
      "execution_count": 67,
      "metadata": {
        "id": "V42KGWOqPrmh"
      },
      "outputs": [],
      "source": [
        "#Image.open(test_path+'/'+list(df.loc[df['actual_y']==df['pred']]['names'])[0])"
      ],
      "id": "V42KGWOqPrmh"
    },
    {
      "cell_type": "markdown",
      "metadata": {
        "id": "7106827e"
      },
      "source": [
        "# VGG 19"
      ],
      "id": "7106827e"
    },
    {
      "cell_type": "code",
      "execution_count": 68,
      "metadata": {
        "colab": {
          "base_uri": "https://localhost:8080/"
        },
        "id": "c2f4431f",
        "outputId": "c5b67d5c-b8b1-4b66-84ac-1096833af9f5"
      },
      "outputs": [
        {
          "output_type": "stream",
          "name": "stdout",
          "text": [
            "Downloading data from https://storage.googleapis.com/tensorflow/keras-applications/vgg19/vgg19_weights_tf_dim_ordering_tf_kernels_notop.h5\n",
            "80142336/80134624 [==============================] - 0s 0us/step\n",
            "80150528/80134624 [==============================] - 0s 0us/step\n"
          ]
        }
      ],
      "source": [
        "vgg = VGG19(input_shape=(224,224, 3), weights='imagenet', include_top=False)"
      ],
      "id": "c2f4431f"
    },
    {
      "cell_type": "code",
      "execution_count": 69,
      "metadata": {
        "id": "d496fd33"
      },
      "outputs": [],
      "source": [
        "# do not train the pre-trained layers of VGG-19\n",
        "for layer in vgg.layers:\n",
        "    layer.trainable = False"
      ],
      "id": "d496fd33"
    },
    {
      "cell_type": "code",
      "execution_count": 70,
      "metadata": {
        "id": "34ea1dfb"
      },
      "outputs": [],
      "source": [
        "x = Flatten()(vgg.output)"
      ],
      "id": "34ea1dfb"
    },
    {
      "cell_type": "code",
      "execution_count": 71,
      "metadata": {
        "id": "b8df0bb8"
      },
      "outputs": [],
      "source": [
        "#adding output layer.Softmax classifier is used as it is multi-class classification\n",
        "prediction = Dense(len(class_list), activation='softmax')(x)\n",
        "\n",
        "vgg_model = Model(inputs=vgg.input, outputs=prediction)"
      ],
      "id": "b8df0bb8"
    },
    {
      "cell_type": "code",
      "execution_count": 72,
      "metadata": {
        "colab": {
          "base_uri": "https://localhost:8080/"
        },
        "id": "37111774",
        "outputId": "03841ce4-0473-479d-f6d0-7df408a0b3f0"
      },
      "outputs": [
        {
          "output_type": "stream",
          "name": "stdout",
          "text": [
            "Model: \"model_1\"\n",
            "_________________________________________________________________\n",
            " Layer (type)                Output Shape              Param #   \n",
            "=================================================================\n",
            " input_2 (InputLayer)        [(None, 224, 224, 3)]     0         \n",
            "                                                                 \n",
            " block1_conv1 (Conv2D)       (None, 224, 224, 64)      1792      \n",
            "                                                                 \n",
            " block1_conv2 (Conv2D)       (None, 224, 224, 64)      36928     \n",
            "                                                                 \n",
            " block1_pool (MaxPooling2D)  (None, 112, 112, 64)      0         \n",
            "                                                                 \n",
            " block2_conv1 (Conv2D)       (None, 112, 112, 128)     73856     \n",
            "                                                                 \n",
            " block2_conv2 (Conv2D)       (None, 112, 112, 128)     147584    \n",
            "                                                                 \n",
            " block2_pool (MaxPooling2D)  (None, 56, 56, 128)       0         \n",
            "                                                                 \n",
            " block3_conv1 (Conv2D)       (None, 56, 56, 256)       295168    \n",
            "                                                                 \n",
            " block3_conv2 (Conv2D)       (None, 56, 56, 256)       590080    \n",
            "                                                                 \n",
            " block3_conv3 (Conv2D)       (None, 56, 56, 256)       590080    \n",
            "                                                                 \n",
            " block3_conv4 (Conv2D)       (None, 56, 56, 256)       590080    \n",
            "                                                                 \n",
            " block3_pool (MaxPooling2D)  (None, 28, 28, 256)       0         \n",
            "                                                                 \n",
            " block4_conv1 (Conv2D)       (None, 28, 28, 512)       1180160   \n",
            "                                                                 \n",
            " block4_conv2 (Conv2D)       (None, 28, 28, 512)       2359808   \n",
            "                                                                 \n",
            " block4_conv3 (Conv2D)       (None, 28, 28, 512)       2359808   \n",
            "                                                                 \n",
            " block4_conv4 (Conv2D)       (None, 28, 28, 512)       2359808   \n",
            "                                                                 \n",
            " block4_pool (MaxPooling2D)  (None, 14, 14, 512)       0         \n",
            "                                                                 \n",
            " block5_conv1 (Conv2D)       (None, 14, 14, 512)       2359808   \n",
            "                                                                 \n",
            " block5_conv2 (Conv2D)       (None, 14, 14, 512)       2359808   \n",
            "                                                                 \n",
            " block5_conv3 (Conv2D)       (None, 14, 14, 512)       2359808   \n",
            "                                                                 \n",
            " block5_conv4 (Conv2D)       (None, 14, 14, 512)       2359808   \n",
            "                                                                 \n",
            " block5_pool (MaxPooling2D)  (None, 7, 7, 512)         0         \n",
            "                                                                 \n",
            " flatten_2 (Flatten)         (None, 25088)             0         \n",
            "                                                                 \n",
            " dense_3 (Dense)             (None, 50)                1254450   \n",
            "                                                                 \n",
            "=================================================================\n",
            "Total params: 21,278,834\n",
            "Trainable params: 1,254,450\n",
            "Non-trainable params: 20,024,384\n",
            "_________________________________________________________________\n"
          ]
        }
      ],
      "source": [
        "# view the structure of the model\n",
        "vgg_model.summary()"
      ],
      "id": "37111774"
    },
    {
      "cell_type": "code",
      "execution_count": 73,
      "metadata": {
        "id": "YsOYz8lezrYr"
      },
      "outputs": [],
      "source": [
        "# Compile model\n",
        "vgg_model.compile(\n",
        "    loss='categorical_crossentropy',\n",
        "    optimizer='adam',\n",
        "    metrics=['accuracy', 'top_k_categorical_accuracy']\n",
        ")"
      ],
      "id": "YsOYz8lezrYr"
    },
    {
      "cell_type": "code",
      "execution_count": 74,
      "metadata": {
        "id": "JRIc3c56zrYu"
      },
      "outputs": [],
      "source": [
        "# Include checkpoint \n",
        "\n",
        "#checkpoint_path = \"../checkpoint/baseline_cnn//cp-{epoch:04d}.ckpt\"\n",
        "\n",
        "\n",
        "# Create a callback that saves the model's weights\n",
        "#cp_callback = tf.keras.callbacks.ModelCheckpoint(filepath=checkpoint_path,\n",
        "#                                                 save_weights_only=True,\n",
        "#                                                verbose=1)"
      ],
      "id": "JRIc3c56zrYu"
    },
    {
      "cell_type": "code",
      "execution_count": 75,
      "metadata": {
        "colab": {
          "base_uri": "https://localhost:8080/"
        },
        "id": "8xt7j_HlzrYv",
        "outputId": "cb576347-b368-4f6d-dab4-b47d6a8eaa67"
      },
      "outputs": [
        {
          "output_type": "stream",
          "name": "stdout",
          "text": [
            "Epoch 1/15\n",
            "50/50 [==============================] - 23s 387ms/step - loss: 4.0383 - accuracy: 0.2198 - top_k_categorical_accuracy: 0.4239 - val_loss: 2.4786 - val_accuracy: 0.4038 - val_top_k_categorical_accuracy: 0.6418\n",
            "Epoch 2/15\n",
            "50/50 [==============================] - 18s 353ms/step - loss: 0.7006 - accuracy: 0.8370 - top_k_categorical_accuracy: 0.9520 - val_loss: 2.0580 - val_accuracy: 0.5048 - val_top_k_categorical_accuracy: 0.7452\n",
            "Epoch 3/15\n",
            "50/50 [==============================] - 18s 349ms/step - loss: 0.1729 - accuracy: 0.9842 - top_k_categorical_accuracy: 0.9981 - val_loss: 1.7137 - val_accuracy: 0.5385 - val_top_k_categorical_accuracy: 0.7885\n",
            "Epoch 4/15\n",
            "50/50 [==============================] - 18s 349ms/step - loss: 0.0667 - accuracy: 0.9968 - top_k_categorical_accuracy: 1.0000 - val_loss: 1.6763 - val_accuracy: 0.5601 - val_top_k_categorical_accuracy: 0.8005\n",
            "Epoch 5/15\n",
            "50/50 [==============================] - 17s 349ms/step - loss: 0.0392 - accuracy: 0.9981 - top_k_categorical_accuracy: 1.0000 - val_loss: 1.5968 - val_accuracy: 0.6034 - val_top_k_categorical_accuracy: 0.8077\n",
            "Epoch 6/15\n",
            "50/50 [==============================] - 17s 346ms/step - loss: 0.0309 - accuracy: 0.9975 - top_k_categorical_accuracy: 1.0000 - val_loss: 1.6363 - val_accuracy: 0.5865 - val_top_k_categorical_accuracy: 0.8221\n",
            "Epoch 7/15\n",
            "50/50 [==============================] - 17s 347ms/step - loss: 0.0270 - accuracy: 0.9981 - top_k_categorical_accuracy: 0.9994 - val_loss: 1.6480 - val_accuracy: 0.5865 - val_top_k_categorical_accuracy: 0.8053\n",
            "Epoch 8/15\n",
            "50/50 [==============================] - 17s 346ms/step - loss: 0.0237 - accuracy: 0.9975 - top_k_categorical_accuracy: 1.0000 - val_loss: 1.6175 - val_accuracy: 0.5865 - val_top_k_categorical_accuracy: 0.8101\n",
            "Epoch 9/15\n",
            "50/50 [==============================] - 17s 346ms/step - loss: 0.0152 - accuracy: 0.9987 - top_k_categorical_accuracy: 1.0000 - val_loss: 1.5819 - val_accuracy: 0.5986 - val_top_k_categorical_accuracy: 0.8125\n",
            "Epoch 10/15\n",
            "50/50 [==============================] - 17s 350ms/step - loss: 0.0304 - accuracy: 0.9962 - top_k_categorical_accuracy: 0.9987 - val_loss: 1.7511 - val_accuracy: 0.5913 - val_top_k_categorical_accuracy: 0.8125\n",
            "Epoch 11/15\n",
            "50/50 [==============================] - 17s 345ms/step - loss: 0.0179 - accuracy: 0.9975 - top_k_categorical_accuracy: 0.9994 - val_loss: 1.5732 - val_accuracy: 0.6058 - val_top_k_categorical_accuracy: 0.8173\n",
            "Epoch 12/15\n",
            "50/50 [==============================] - 17s 348ms/step - loss: 0.0220 - accuracy: 0.9962 - top_k_categorical_accuracy: 1.0000 - val_loss: 1.6091 - val_accuracy: 0.5889 - val_top_k_categorical_accuracy: 0.8197\n",
            "Epoch 13/15\n",
            "50/50 [==============================] - 17s 346ms/step - loss: 0.0143 - accuracy: 0.9981 - top_k_categorical_accuracy: 1.0000 - val_loss: 1.7443 - val_accuracy: 0.5745 - val_top_k_categorical_accuracy: 0.8101\n",
            "Epoch 14/15\n",
            "50/50 [==============================] - 17s 347ms/step - loss: 0.0175 - accuracy: 0.9981 - top_k_categorical_accuracy: 1.0000 - val_loss: 1.5908 - val_accuracy: 0.5986 - val_top_k_categorical_accuracy: 0.8245\n",
            "Epoch 15/15\n",
            "50/50 [==============================] - 17s 347ms/step - loss: 0.0180 - accuracy: 0.9981 - top_k_categorical_accuracy: 1.0000 - val_loss: 1.7005 - val_accuracy: 0.5913 - val_top_k_categorical_accuracy: 0.8125\n"
          ]
        }
      ],
      "source": [
        "# fit the model\n",
        "vgg_history = vgg_model.fit(\n",
        "    train_generator,\n",
        "    steps_per_epoch=train_generator.n//train_generator.batch_size,\n",
        "    validation_data=val_generator,\n",
        "    validation_steps=val_generator.n//val_generator.batch_size,\n",
        "    epochs=15,\n",
        "    shuffle=True,\n",
        "    verbose=1\n",
        ")"
      ],
      "id": "8xt7j_HlzrYv"
    },
    {
      "cell_type": "code",
      "execution_count": null,
      "metadata": {
        "id": "rUYqsiaDzrYv"
      },
      "outputs": [],
      "source": [
        "# saving vgg model\n",
        "#vgg_model.save('vgg')\n",
        "#files.download('vgg')"
      ],
      "id": "rUYqsiaDzrYv"
    },
    {
      "cell_type": "code",
      "execution_count": 192,
      "metadata": {
        "colab": {
          "base_uri": "https://localhost:8080/",
          "height": 295
        },
        "id": "EjDZXru9zrYv",
        "outputId": "ffefdb1e-b404-4cca-ecec-64f7963ea210"
      },
      "outputs": [
        {
          "output_type": "display_data",
          "data": {
            "text/plain": [
              "<Figure size 432x288 with 1 Axes>"
            ],
            "image/png": "[encoded data removed]"
          },
          "metadata": {
            "needs_background": "light"
          }
        },
        {
          "output_type": "display_data",
          "data": {
            "text/plain": [
              "<IPython.core.display.Javascript object>"
            ],
            "application/javascript": [
              "\n",
              "    async function download(id, filename, size) {\n",
              "      if (!google.colab.kernel.accessAllowed) {\n",
              "        return;\n",
              "      }\n",
              "      const div = document.createElement('div');\n",
              "      const label = document.createElement('label');\n",
              "      label.textContent = `Downloading \"${filename}\": `;\n",
              "      div.appendChild(label);\n",
              "      const progress = document.createElement('progress');\n",
              "      progress.max = size;\n",
              "      div.appendChild(progress);\n",
              "      document.body.appendChild(div);\n",
              "\n",
              "      const buffers = [];\n",
              "      let downloaded = 0;\n",
              "\n",
              "      const channel = await google.colab.kernel.comms.open(id);\n",
              "      // Send a message to notify the kernel that we're ready.\n",
              "      channel.send({})\n",
              "\n",
              "      for await (const message of channel.messages) {\n",
              "        // Send a message to notify the kernel that we're ready.\n",
              "        channel.send({})\n",
              "        if (message.buffers) {\n",
              "          for (const buffer of message.buffers) {\n",
              "            buffers.push(buffer);\n",
              "            downloaded += buffer.byteLength;\n",
              "            progress.value = downloaded;\n",
              "          }\n",
              "        }\n",
              "      }\n",
              "      const blob = new Blob(buffers, {type: 'application/binary'});\n",
              "      const a = document.createElement('a');\n",
              "      a.href = window.URL.createObjectURL(blob);\n",
              "      a.download = filename;\n",
              "      div.appendChild(a);\n",
              "      a.click();\n",
              "      div.remove();\n",
              "    }\n",
              "  "
            ]
          },
          "metadata": {}
        },
        {
          "output_type": "display_data",
          "data": {
            "text/plain": [
              "<IPython.core.display.Javascript object>"
            ],
            "application/javascript": [
              "download(\"download_61b15e6a-dd4d-46d2-b6d4-a325c1230b29\", \"vgg-acc-rps-1.png\", 17005)"
            ]
          },
          "metadata": {}
        }
      ],
      "source": [
        "# accuracies\n",
        "plt.plot(vgg_history.history['accuracy'], label='train acc')\n",
        "plt.plot(vgg_history.history['val_accuracy'], label='val acc')\n",
        "plt.legend()\n",
        "plt.title('VGG-19 Top-1 Accuracy')\n",
        "plt.xlabel('Number of Epochs')\n",
        "plt.ylabel('Accuracy')\n",
        "plt.savefig('vgg-acc-rps-1.png')\n",
        "plt.show()\n",
        "files.download('vgg-acc-rps-1.png')"
      ],
      "id": "EjDZXru9zrYv"
    },
    {
      "cell_type": "code",
      "execution_count": 193,
      "metadata": {
        "colab": {
          "base_uri": "https://localhost:8080/",
          "height": 295
        },
        "id": "6KdGYJcHzrYw",
        "outputId": "e5a0035e-78a7-452a-8d91-4062e199ea01"
      },
      "outputs": [
        {
          "output_type": "display_data",
          "data": {
            "text/plain": [
              "<Figure size 432x288 with 1 Axes>"
            ],
            "image/png": "[encoded data removed]"
          },
          "metadata": {
            "needs_background": "light"
          }
        },
        {
          "output_type": "display_data",
          "data": {
            "text/plain": [
              "<IPython.core.display.Javascript object>"
            ],
            "application/javascript": [
              "\n",
              "    async function download(id, filename, size) {\n",
              "      if (!google.colab.kernel.accessAllowed) {\n",
              "        return;\n",
              "      }\n",
              "      const div = document.createElement('div');\n",
              "      const label = document.createElement('label');\n",
              "      label.textContent = `Downloading \"${filename}\": `;\n",
              "      div.appendChild(label);\n",
              "      const progress = document.createElement('progress');\n",
              "      progress.max = size;\n",
              "      div.appendChild(progress);\n",
              "      document.body.appendChild(div);\n",
              "\n",
              "      const buffers = [];\n",
              "      let downloaded = 0;\n",
              "\n",
              "      const channel = await google.colab.kernel.comms.open(id);\n",
              "      // Send a message to notify the kernel that we're ready.\n",
              "      channel.send({})\n",
              "\n",
              "      for await (const message of channel.messages) {\n",
              "        // Send a message to notify the kernel that we're ready.\n",
              "        channel.send({})\n",
              "        if (message.buffers) {\n",
              "          for (const buffer of message.buffers) {\n",
              "            buffers.push(buffer);\n",
              "            downloaded += buffer.byteLength;\n",
              "            progress.value = downloaded;\n",
              "          }\n",
              "        }\n",
              "      }\n",
              "      const blob = new Blob(buffers, {type: 'application/binary'});\n",
              "      const a = document.createElement('a');\n",
              "      a.href = window.URL.createObjectURL(blob);\n",
              "      a.download = filename;\n",
              "      div.appendChild(a);\n",
              "      a.click();\n",
              "      div.remove();\n",
              "    }\n",
              "  "
            ]
          },
          "metadata": {}
        },
        {
          "output_type": "display_data",
          "data": {
            "text/plain": [
              "<IPython.core.display.Javascript object>"
            ],
            "application/javascript": [
              "download(\"download_338c91f8-3e0f-41ee-8a15-c772d4d3414d\", \"vgg-top-5-rps-1.png\", 17623)"
            ]
          },
          "metadata": {}
        }
      ],
      "source": [
        "# loss\n",
        "plt.plot(vgg_history.history['top_k_categorical_accuracy'], label='train top-5 accuracy')\n",
        "plt.plot(vgg_history.history['val_top_k_categorical_accuracy'], label='val top-5 accuracy')\n",
        "plt.legend()\n",
        "plt.title('VGG-19 Top-5 Accuracy')\n",
        "plt.xlabel('Number of Epochs')\n",
        "plt.ylabel('Accuracy')\n",
        "plt.savefig('vgg-top-5-rps-1.png')\n",
        "plt.show()\n",
        "files.download('vgg-top-5-rps-1.png')"
      ],
      "id": "6KdGYJcHzrYw"
    },
    {
      "cell_type": "code",
      "execution_count": 194,
      "metadata": {
        "colab": {
          "base_uri": "https://localhost:8080/"
        },
        "id": "1dCuRyo2zrYw",
        "outputId": "601ee6d7-4f74-4df0-dbc1-4ddbb79f639e"
      },
      "outputs": [
        {
          "output_type": "stream",
          "name": "stdout",
          "text": [
            "538/538 [==============================] - 10s 18ms/step - loss: 1.8061 - accuracy: 0.5502 - top_k_categorical_accuracy: 0.8067\n"
          ]
        },
        {
          "output_type": "execute_result",
          "data": {
            "text/plain": [
              "[1.806112289428711, 0.5501858592033386, 0.8066914677619934]"
            ]
          },
          "metadata": {},
          "execution_count": 194
        }
      ],
      "source": [
        "# evaluate\n",
        "vgg_model.evaluate(test_generator)"
      ],
      "id": "1dCuRyo2zrYw"
    },
    {
      "cell_type": "code",
      "execution_count": 195,
      "metadata": {
        "colab": {
          "base_uri": "https://localhost:8080/"
        },
        "id": "tf7vD4adzrYw",
        "outputId": "ffd70090-048b-45b0-c05d-aadd82bc0368"
      },
      "outputs": [
        {
          "output_type": "stream",
          "name": "stdout",
          "text": [
            "538/538 [==============================] - 8s 14ms/step\n"
          ]
        }
      ],
      "source": [
        "# predict\n",
        "test_generator.reset()\n",
        "pred=vgg_model.predict(test_generator,\n",
        "steps=test_generator.n//test_generator.batch_size,\n",
        "verbose=1)"
      ],
      "id": "tf7vD4adzrYw"
    },
    {
      "cell_type": "code",
      "execution_count": 196,
      "metadata": {
        "id": "mQl6oc-5zrYw"
      },
      "outputs": [],
      "source": [
        "y_pred = np.argmax(pred,axis=1)"
      ],
      "id": "mQl6oc-5zrYw"
    },
    {
      "cell_type": "code",
      "execution_count": 197,
      "metadata": {
        "colab": {
          "base_uri": "https://localhost:8080/"
        },
        "id": "Qh3RzSWTzrYx",
        "outputId": "d6d198d7-c335-4fb8-85d1-dc384e52106c"
      },
      "outputs": [
        {
          "output_type": "stream",
          "name": "stdout",
          "text": [
            "              precision    recall  f1-score   support\n",
            "\n",
            "           0       0.62      0.67      0.64        12\n",
            "           1       0.43      0.75      0.55         4\n",
            "           2       0.67      0.42      0.52        19\n",
            "           3       0.11      0.33      0.17         3\n",
            "           4       0.59      0.50      0.54        20\n",
            "           5       0.58      0.78      0.67         9\n",
            "           6       0.64      0.43      0.51        21\n",
            "           7       0.77      0.59      0.67        17\n",
            "           8       0.73      0.61      0.67        18\n",
            "           9       0.64      0.69      0.67        13\n",
            "          10       0.67      0.89      0.76         9\n",
            "          11       0.55      0.67      0.60         9\n",
            "          12       0.40      0.44      0.42         9\n",
            "          13       0.30      0.33      0.32         9\n",
            "          14       0.45      0.42      0.43        12\n",
            "          15       0.22      0.40      0.29         5\n",
            "          16       0.50      0.62      0.56         8\n",
            "          17       0.69      0.82      0.75        11\n",
            "          18       0.67      0.60      0.63        10\n",
            "          19       0.70      0.64      0.67        11\n",
            "          20       0.50      0.56      0.53         9\n",
            "          21       0.73      0.80      0.76        10\n",
            "          22       0.12      0.50      0.20         2\n",
            "          23       0.22      0.50      0.31         4\n",
            "          24       0.60      1.00      0.75         6\n",
            "          25       0.33      0.33      0.33         9\n",
            "          26       0.73      0.38      0.50        21\n",
            "          27       0.78      0.58      0.67        12\n",
            "          28       0.57      0.80      0.67         5\n",
            "          29       0.57      0.67      0.62         6\n",
            "          30       0.75      0.86      0.80         7\n",
            "          31       0.38      0.60      0.46         5\n",
            "          32       0.30      0.50      0.37         6\n",
            "          33       0.54      0.58      0.56        12\n",
            "          34       0.46      0.33      0.39        18\n",
            "          35       0.25      0.33      0.29         6\n",
            "          36       0.30      0.33      0.32         9\n",
            "          37       0.27      0.50      0.35         6\n",
            "          38       0.57      0.80      0.67         5\n",
            "          39       0.30      0.43      0.35         7\n",
            "          40       0.50      0.83      0.62         6\n",
            "          41       0.42      0.56      0.48         9\n",
            "          42       0.67      0.67      0.67        12\n",
            "          43       0.87      1.00      0.93        13\n",
            "          44       0.91      0.20      0.33        50\n",
            "          45       0.60      1.00      0.75         6\n",
            "          46       0.30      1.00      0.46         3\n",
            "          47       0.25      1.00      0.40         2\n",
            "          48       0.89      0.57      0.70        28\n",
            "          49       0.75      0.60      0.67        15\n",
            "\n",
            "    accuracy                           0.55       538\n",
            "   macro avg       0.53      0.61      0.54       538\n",
            "weighted avg       0.62      0.55      0.55       538\n",
            "\n"
          ]
        }
      ],
      "source": [
        "#get classification report\n",
        "print(classification_report(y_pred, labels))\n"
      ],
      "id": "Qh3RzSWTzrYx"
    },
    {
      "cell_type": "code",
      "execution_count": null,
      "metadata": {
        "id": "MgJ5oRw5zrYx"
      },
      "outputs": [],
      "source": [
        "df = create_prediction_df(y_pred, labels)"
      ],
      "id": "MgJ5oRw5zrYx"
    },
    {
      "cell_type": "code",
      "execution_count": null,
      "metadata": {
        "id": "jt8bfrTIzrYy"
      },
      "outputs": [],
      "source": [
        "df.loc[df['actual_y']==df['pred']]"
      ],
      "id": "jt8bfrTIzrYy"
    },
    {
      "cell_type": "code",
      "execution_count": null,
      "metadata": {
        "id": "ACiF4C8RzrYy"
      },
      "outputs": [],
      "source": [
        "print(f\"The VGG-19 model correctly predicted {df.loc[df['actual_y']==df['pred']].shape[0]} images from {df.loc[df['actual_y']==df['pred']]['actual_y'].value_counts().count()} classes out of {len(test_generator.labels)} images.\")"
      ],
      "id": "ACiF4C8RzrYy"
    },
    {
      "cell_type": "code",
      "execution_count": null,
      "metadata": {
        "id": "X3ghmZcyzrYy"
      },
      "outputs": [],
      "source": [
        "df.loc[df['actual_y']==df['pred']]['names']"
      ],
      "id": "X3ghmZcyzrYy"
    },
    {
      "cell_type": "code",
      "execution_count": null,
      "metadata": {
        "id": "9PAqSVelzrYy"
      },
      "outputs": [],
      "source": [
        "#Image.open(test_path+'/'+list(df.loc[df['actual_y']==df['pred']]['names'])[0])"
      ],
      "id": "9PAqSVelzrYy"
    },
    {
      "cell_type": "markdown",
      "metadata": {
        "id": "4a691c64"
      },
      "source": [
        "# InceptionV3"
      ],
      "id": "4a691c64"
    },
    {
      "cell_type": "code",
      "execution_count": 212,
      "metadata": {
        "id": "c33ede34"
      },
      "outputs": [],
      "source": [
        "inc = InceptionV3(input_shape=(224,224, 3), weights='imagenet', include_top=False)"
      ],
      "id": "c33ede34"
    },
    {
      "cell_type": "code",
      "execution_count": 213,
      "metadata": {
        "id": "60a63287"
      },
      "outputs": [],
      "source": [
        "#do not train the pre-trained layers of InceptionV3\n",
        "for layer in inc.layers:\n",
        "    layer.trainable = False"
      ],
      "id": "60a63287"
    },
    {
      "cell_type": "code",
      "execution_count": 214,
      "metadata": {
        "id": "8f25267e"
      },
      "outputs": [],
      "source": [
        "x = Flatten()(inc.output)"
      ],
      "id": "8f25267e"
    },
    {
      "cell_type": "code",
      "execution_count": 215,
      "metadata": {
        "id": "ae8459ed"
      },
      "outputs": [],
      "source": [
        "#adding output layer.Softmax classifier is used as it is multi-class classification\n",
        "prediction = Dense(len(class_list), activation='softmax')(x)\n",
        "\n",
        "inc_model = Model(inputs=inc.input, outputs=prediction)"
      ],
      "id": "ae8459ed"
    },
    {
      "cell_type": "code",
      "execution_count": 216,
      "metadata": {
        "colab": {
          "base_uri": "https://localhost:8080/"
        },
        "id": "3c2974ef",
        "outputId": "cddb4810-62d2-4edc-c40c-a4909dec2541"
      },
      "outputs": [
        {
          "output_type": "stream",
          "name": "stdout",
          "text": [
            "Model: \"model_8\"\n",
            "__________________________________________________________________________________________________\n",
            " Layer (type)                   Output Shape         Param #     Connected to                     \n",
            "==================================================================================================\n",
            " input_9 (InputLayer)           [(None, 224, 224, 3  0           []                               \n",
            "                                )]                                                                \n",
            "                                                                                                  \n",
            " conv2d_191 (Conv2D)            (None, 111, 111, 32  864         ['input_9[0][0]']                \n",
            "                                )                                                                 \n",
            "                                                                                                  \n",
            " batch_normalization_188 (Batch  (None, 111, 111, 32  96         ['conv2d_191[0][0]']             \n",
            " Normalization)                 )                                                                 \n",
            "                                                                                                  \n",
            " activation_188 (Activation)    (None, 111, 111, 32  0           ['batch_normalization_188[0][0]']\n",
            "                                )                                                                 \n",
            "                                                                                                  \n",
            " conv2d_192 (Conv2D)            (None, 109, 109, 32  9216        ['activation_188[0][0]']         \n",
            "                                )                                                                 \n",
            "                                                                                                  \n",
            " batch_normalization_189 (Batch  (None, 109, 109, 32  96         ['conv2d_192[0][0]']             \n",
            " Normalization)                 )                                                                 \n",
            "                                                                                                  \n",
            " activation_189 (Activation)    (None, 109, 109, 32  0           ['batch_normalization_189[0][0]']\n",
            "                                )                                                                 \n",
            "                                                                                                  \n",
            " conv2d_193 (Conv2D)            (None, 109, 109, 64  18432       ['activation_189[0][0]']         \n",
            "                                )                                                                 \n",
            "                                                                                                  \n",
            " batch_normalization_190 (Batch  (None, 109, 109, 64  192        ['conv2d_193[0][0]']             \n",
            " Normalization)                 )                                                                 \n",
            "                                                                                                  \n",
            " activation_190 (Activation)    (None, 109, 109, 64  0           ['batch_normalization_190[0][0]']\n",
            "                                )                                                                 \n",
            "                                                                                                  \n",
            " max_pooling2d_10 (MaxPooling2D  (None, 54, 54, 64)  0           ['activation_190[0][0]']         \n",
            " )                                                                                                \n",
            "                                                                                                  \n",
            " conv2d_194 (Conv2D)            (None, 54, 54, 80)   5120        ['max_pooling2d_10[0][0]']       \n",
            "                                                                                                  \n",
            " batch_normalization_191 (Batch  (None, 54, 54, 80)  240         ['conv2d_194[0][0]']             \n",
            " Normalization)                                                                                   \n",
            "                                                                                                  \n",
            " activation_191 (Activation)    (None, 54, 54, 80)   0           ['batch_normalization_191[0][0]']\n",
            "                                                                                                  \n",
            " conv2d_195 (Conv2D)            (None, 52, 52, 192)  138240      ['activation_191[0][0]']         \n",
            "                                                                                                  \n",
            " batch_normalization_192 (Batch  (None, 52, 52, 192)  576        ['conv2d_195[0][0]']             \n",
            " Normalization)                                                                                   \n",
            "                                                                                                  \n",
            " activation_192 (Activation)    (None, 52, 52, 192)  0           ['batch_normalization_192[0][0]']\n",
            "                                                                                                  \n",
            " max_pooling2d_11 (MaxPooling2D  (None, 25, 25, 192)  0          ['activation_192[0][0]']         \n",
            " )                                                                                                \n",
            "                                                                                                  \n",
            " conv2d_199 (Conv2D)            (None, 25, 25, 64)   12288       ['max_pooling2d_11[0][0]']       \n",
            "                                                                                                  \n",
            " batch_normalization_196 (Batch  (None, 25, 25, 64)  192         ['conv2d_199[0][0]']             \n",
            " Normalization)                                                                                   \n",
            "                                                                                                  \n",
            " activation_196 (Activation)    (None, 25, 25, 64)   0           ['batch_normalization_196[0][0]']\n",
            "                                                                                                  \n",
            " conv2d_197 (Conv2D)            (None, 25, 25, 48)   9216        ['max_pooling2d_11[0][0]']       \n",
            "                                                                                                  \n",
            " conv2d_200 (Conv2D)            (None, 25, 25, 96)   55296       ['activation_196[0][0]']         \n",
            "                                                                                                  \n",
            " batch_normalization_194 (Batch  (None, 25, 25, 48)  144         ['conv2d_197[0][0]']             \n",
            " Normalization)                                                                                   \n",
            "                                                                                                  \n",
            " batch_normalization_197 (Batch  (None, 25, 25, 96)  288         ['conv2d_200[0][0]']             \n",
            " Normalization)                                                                                   \n",
            "                                                                                                  \n",
            " activation_194 (Activation)    (None, 25, 25, 48)   0           ['batch_normalization_194[0][0]']\n",
            "                                                                                                  \n",
            " activation_197 (Activation)    (None, 25, 25, 96)   0           ['batch_normalization_197[0][0]']\n",
            "                                                                                                  \n",
            " average_pooling2d_18 (AverageP  (None, 25, 25, 192)  0          ['max_pooling2d_11[0][0]']       \n",
            " ooling2D)                                                                                        \n",
            "                                                                                                  \n",
            " conv2d_196 (Conv2D)            (None, 25, 25, 64)   12288       ['max_pooling2d_11[0][0]']       \n",
            "                                                                                                  \n",
            " conv2d_198 (Conv2D)            (None, 25, 25, 64)   76800       ['activation_194[0][0]']         \n",
            "                                                                                                  \n",
            " conv2d_201 (Conv2D)            (None, 25, 25, 96)   82944       ['activation_197[0][0]']         \n",
            "                                                                                                  \n",
            " conv2d_202 (Conv2D)            (None, 25, 25, 32)   6144        ['average_pooling2d_18[0][0]']   \n",
            "                                                                                                  \n",
            " batch_normalization_193 (Batch  (None, 25, 25, 64)  192         ['conv2d_196[0][0]']             \n",
            " Normalization)                                                                                   \n",
            "                                                                                                  \n",
            " batch_normalization_195 (Batch  (None, 25, 25, 64)  192         ['conv2d_198[0][0]']             \n",
            " Normalization)                                                                                   \n",
            "                                                                                                  \n",
            " batch_normalization_198 (Batch  (None, 25, 25, 96)  288         ['conv2d_201[0][0]']             \n",
            " Normalization)                                                                                   \n",
            "                                                                                                  \n",
            " batch_normalization_199 (Batch  (None, 25, 25, 32)  96          ['conv2d_202[0][0]']             \n",
            " Normalization)                                                                                   \n",
            "                                                                                                  \n",
            " activation_193 (Activation)    (None, 25, 25, 64)   0           ['batch_normalization_193[0][0]']\n",
            "                                                                                                  \n",
            " activation_195 (Activation)    (None, 25, 25, 64)   0           ['batch_normalization_195[0][0]']\n",
            "                                                                                                  \n",
            " activation_198 (Activation)    (None, 25, 25, 96)   0           ['batch_normalization_198[0][0]']\n",
            "                                                                                                  \n",
            " activation_199 (Activation)    (None, 25, 25, 32)   0           ['batch_normalization_199[0][0]']\n",
            "                                                                                                  \n",
            " mixed0 (Concatenate)           (None, 25, 25, 256)  0           ['activation_193[0][0]',         \n",
            "                                                                  'activation_195[0][0]',         \n",
            "                                                                  'activation_198[0][0]',         \n",
            "                                                                  'activation_199[0][0]']         \n",
            "                                                                                                  \n",
            " conv2d_206 (Conv2D)            (None, 25, 25, 64)   16384       ['mixed0[0][0]']                 \n",
            "                                                                                                  \n",
            " batch_normalization_203 (Batch  (None, 25, 25, 64)  192         ['conv2d_206[0][0]']             \n",
            " Normalization)                                                                                   \n",
            "                                                                                                  \n",
            " activation_203 (Activation)    (None, 25, 25, 64)   0           ['batch_normalization_203[0][0]']\n",
            "                                                                                                  \n",
            " conv2d_204 (Conv2D)            (None, 25, 25, 48)   12288       ['mixed0[0][0]']                 \n",
            "                                                                                                  \n",
            " conv2d_207 (Conv2D)            (None, 25, 25, 96)   55296       ['activation_203[0][0]']         \n",
            "                                                                                                  \n",
            " batch_normalization_201 (Batch  (None, 25, 25, 48)  144         ['conv2d_204[0][0]']             \n",
            " Normalization)                                                                                   \n",
            "                                                                                                  \n",
            " batch_normalization_204 (Batch  (None, 25, 25, 96)  288         ['conv2d_207[0][0]']             \n",
            " Normalization)                                                                                   \n",
            "                                                                                                  \n",
            " activation_201 (Activation)    (None, 25, 25, 48)   0           ['batch_normalization_201[0][0]']\n",
            "                                                                                                  \n",
            " activation_204 (Activation)    (None, 25, 25, 96)   0           ['batch_normalization_204[0][0]']\n",
            "                                                                                                  \n",
            " average_pooling2d_19 (AverageP  (None, 25, 25, 256)  0          ['mixed0[0][0]']                 \n",
            " ooling2D)                                                                                        \n",
            "                                                                                                  \n",
            " conv2d_203 (Conv2D)            (None, 25, 25, 64)   16384       ['mixed0[0][0]']                 \n",
            "                                                                                                  \n",
            " conv2d_205 (Conv2D)            (None, 25, 25, 64)   76800       ['activation_201[0][0]']         \n",
            "                                                                                                  \n",
            " conv2d_208 (Conv2D)            (None, 25, 25, 96)   82944       ['activation_204[0][0]']         \n",
            "                                                                                                  \n",
            " conv2d_209 (Conv2D)            (None, 25, 25, 64)   16384       ['average_pooling2d_19[0][0]']   \n",
            "                                                                                                  \n",
            " batch_normalization_200 (Batch  (None, 25, 25, 64)  192         ['conv2d_203[0][0]']             \n",
            " Normalization)                                                                                   \n",
            "                                                                                                  \n",
            " batch_normalization_202 (Batch  (None, 25, 25, 64)  192         ['conv2d_205[0][0]']             \n",
            " Normalization)                                                                                   \n",
            "                                                                                                  \n",
            " batch_normalization_205 (Batch  (None, 25, 25, 96)  288         ['conv2d_208[0][0]']             \n",
            " Normalization)                                                                                   \n",
            "                                                                                                  \n",
            " batch_normalization_206 (Batch  (None, 25, 25, 64)  192         ['conv2d_209[0][0]']             \n",
            " Normalization)                                                                                   \n",
            "                                                                                                  \n",
            " activation_200 (Activation)    (None, 25, 25, 64)   0           ['batch_normalization_200[0][0]']\n",
            "                                                                                                  \n",
            " activation_202 (Activation)    (None, 25, 25, 64)   0           ['batch_normalization_202[0][0]']\n",
            "                                                                                                  \n",
            " activation_205 (Activation)    (None, 25, 25, 96)   0           ['batch_normalization_205[0][0]']\n",
            "                                                                                                  \n",
            " activation_206 (Activation)    (None, 25, 25, 64)   0           ['batch_normalization_206[0][0]']\n",
            "                                                                                                  \n",
            " mixed1 (Concatenate)           (None, 25, 25, 288)  0           ['activation_200[0][0]',         \n",
            "                                                                  'activation_202[0][0]',         \n",
            "                                                                  'activation_205[0][0]',         \n",
            "                                                                  'activation_206[0][0]']         \n",
            "                                                                                                  \n",
            " conv2d_213 (Conv2D)            (None, 25, 25, 64)   18432       ['mixed1[0][0]']                 \n",
            "                                                                                                  \n",
            " batch_normalization_210 (Batch  (None, 25, 25, 64)  192         ['conv2d_213[0][0]']             \n",
            " Normalization)                                                                                   \n",
            "                                                                                                  \n",
            " activation_210 (Activation)    (None, 25, 25, 64)   0           ['batch_normalization_210[0][0]']\n",
            "                                                                                                  \n",
            " conv2d_211 (Conv2D)            (None, 25, 25, 48)   13824       ['mixed1[0][0]']                 \n",
            "                                                                                                  \n",
            " conv2d_214 (Conv2D)            (None, 25, 25, 96)   55296       ['activation_210[0][0]']         \n",
            "                                                                                                  \n",
            " batch_normalization_208 (Batch  (None, 25, 25, 48)  144         ['conv2d_211[0][0]']             \n",
            " Normalization)                                                                                   \n",
            "                                                                                                  \n",
            " batch_normalization_211 (Batch  (None, 25, 25, 96)  288         ['conv2d_214[0][0]']             \n",
            " Normalization)                                                                                   \n",
            "                                                                                                  \n",
            " activation_208 (Activation)    (None, 25, 25, 48)   0           ['batch_normalization_208[0][0]']\n",
            "                                                                                                  \n",
            " activation_211 (Activation)    (None, 25, 25, 96)   0           ['batch_normalization_211[0][0]']\n",
            "                                                                                                  \n",
            " average_pooling2d_20 (AverageP  (None, 25, 25, 288)  0          ['mixed1[0][0]']                 \n",
            " ooling2D)                                                                                        \n",
            "                                                                                                  \n",
            " conv2d_210 (Conv2D)            (None, 25, 25, 64)   18432       ['mixed1[0][0]']                 \n",
            "                                                                                                  \n",
            " conv2d_212 (Conv2D)            (None, 25, 25, 64)   76800       ['activation_208[0][0]']         \n",
            "                                                                                                  \n",
            " conv2d_215 (Conv2D)            (None, 25, 25, 96)   82944       ['activation_211[0][0]']         \n",
            "                                                                                                  \n",
            " conv2d_216 (Conv2D)            (None, 25, 25, 64)   18432       ['average_pooling2d_20[0][0]']   \n",
            "                                                                                                  \n",
            " batch_normalization_207 (Batch  (None, 25, 25, 64)  192         ['conv2d_210[0][0]']             \n",
            " Normalization)                                                                                   \n",
            "                                                                                                  \n",
            " batch_normalization_209 (Batch  (None, 25, 25, 64)  192         ['conv2d_212[0][0]']             \n",
            " Normalization)                                                                                   \n",
            "                                                                                                  \n",
            " batch_normalization_212 (Batch  (None, 25, 25, 96)  288         ['conv2d_215[0][0]']             \n",
            " Normalization)                                                                                   \n",
            "                                                                                                  \n",
            " batch_normalization_213 (Batch  (None, 25, 25, 64)  192         ['conv2d_216[0][0]']             \n",
            " Normalization)                                                                                   \n",
            "                                                                                                  \n",
            " activation_207 (Activation)    (None, 25, 25, 64)   0           ['batch_normalization_207[0][0]']\n",
            "                                                                                                  \n",
            " activation_209 (Activation)    (None, 25, 25, 64)   0           ['batch_normalization_209[0][0]']\n",
            "                                                                                                  \n",
            " activation_212 (Activation)    (None, 25, 25, 96)   0           ['batch_normalization_212[0][0]']\n",
            "                                                                                                  \n",
            " activation_213 (Activation)    (None, 25, 25, 64)   0           ['batch_normalization_213[0][0]']\n",
            "                                                                                                  \n",
            " mixed2 (Concatenate)           (None, 25, 25, 288)  0           ['activation_207[0][0]',         \n",
            "                                                                  'activation_209[0][0]',         \n",
            "                                                                  'activation_212[0][0]',         \n",
            "                                                                  'activation_213[0][0]']         \n",
            "                                                                                                  \n",
            " conv2d_218 (Conv2D)            (None, 25, 25, 64)   18432       ['mixed2[0][0]']                 \n",
            "                                                                                                  \n",
            " batch_normalization_215 (Batch  (None, 25, 25, 64)  192         ['conv2d_218[0][0]']             \n",
            " Normalization)                                                                                   \n",
            "                                                                                                  \n",
            " activation_215 (Activation)    (None, 25, 25, 64)   0           ['batch_normalization_215[0][0]']\n",
            "                                                                                                  \n",
            " conv2d_219 (Conv2D)            (None, 25, 25, 96)   55296       ['activation_215[0][0]']         \n",
            "                                                                                                  \n",
            " batch_normalization_216 (Batch  (None, 25, 25, 96)  288         ['conv2d_219[0][0]']             \n",
            " Normalization)                                                                                   \n",
            "                                                                                                  \n",
            " activation_216 (Activation)    (None, 25, 25, 96)   0           ['batch_normalization_216[0][0]']\n",
            "                                                                                                  \n",
            " conv2d_217 (Conv2D)            (None, 12, 12, 384)  995328      ['mixed2[0][0]']                 \n",
            "                                                                                                  \n",
            " conv2d_220 (Conv2D)            (None, 12, 12, 96)   82944       ['activation_216[0][0]']         \n",
            "                                                                                                  \n",
            " batch_normalization_214 (Batch  (None, 12, 12, 384)  1152       ['conv2d_217[0][0]']             \n",
            " Normalization)                                                                                   \n",
            "                                                                                                  \n",
            " batch_normalization_217 (Batch  (None, 12, 12, 96)  288         ['conv2d_220[0][0]']             \n",
            " Normalization)                                                                                   \n",
            "                                                                                                  \n",
            " activation_214 (Activation)    (None, 12, 12, 384)  0           ['batch_normalization_214[0][0]']\n",
            "                                                                                                  \n",
            " activation_217 (Activation)    (None, 12, 12, 96)   0           ['batch_normalization_217[0][0]']\n",
            "                                                                                                  \n",
            " max_pooling2d_12 (MaxPooling2D  (None, 12, 12, 288)  0          ['mixed2[0][0]']                 \n",
            " )                                                                                                \n",
            "                                                                                                  \n",
            " mixed3 (Concatenate)           (None, 12, 12, 768)  0           ['activation_214[0][0]',         \n",
            "                                                                  'activation_217[0][0]',         \n",
            "                                                                  'max_pooling2d_12[0][0]']       \n",
            "                                                                                                  \n",
            " conv2d_225 (Conv2D)            (None, 12, 12, 128)  98304       ['mixed3[0][0]']                 \n",
            "                                                                                                  \n",
            " batch_normalization_222 (Batch  (None, 12, 12, 128)  384        ['conv2d_225[0][0]']             \n",
            " Normalization)                                                                                   \n",
            "                                                                                                  \n",
            " activation_222 (Activation)    (None, 12, 12, 128)  0           ['batch_normalization_222[0][0]']\n",
            "                                                                                                  \n",
            " conv2d_226 (Conv2D)            (None, 12, 12, 128)  114688      ['activation_222[0][0]']         \n",
            "                                                                                                  \n",
            " batch_normalization_223 (Batch  (None, 12, 12, 128)  384        ['conv2d_226[0][0]']             \n",
            " Normalization)                                                                                   \n",
            "                                                                                                  \n",
            " activation_223 (Activation)    (None, 12, 12, 128)  0           ['batch_normalization_223[0][0]']\n",
            "                                                                                                  \n",
            " conv2d_222 (Conv2D)            (None, 12, 12, 128)  98304       ['mixed3[0][0]']                 \n",
            "                                                                                                  \n",
            " conv2d_227 (Conv2D)            (None, 12, 12, 128)  114688      ['activation_223[0][0]']         \n",
            "                                                                                                  \n",
            " batch_normalization_219 (Batch  (None, 12, 12, 128)  384        ['conv2d_222[0][0]']             \n",
            " Normalization)                                                                                   \n",
            "                                                                                                  \n",
            " batch_normalization_224 (Batch  (None, 12, 12, 128)  384        ['conv2d_227[0][0]']             \n",
            " Normalization)                                                                                   \n",
            "                                                                                                  \n",
            " activation_219 (Activation)    (None, 12, 12, 128)  0           ['batch_normalization_219[0][0]']\n",
            "                                                                                                  \n",
            " activation_224 (Activation)    (None, 12, 12, 128)  0           ['batch_normalization_224[0][0]']\n",
            "                                                                                                  \n",
            " conv2d_223 (Conv2D)            (None, 12, 12, 128)  114688      ['activation_219[0][0]']         \n",
            "                                                                                                  \n",
            " conv2d_228 (Conv2D)            (None, 12, 12, 128)  114688      ['activation_224[0][0]']         \n",
            "                                                                                                  \n",
            " batch_normalization_220 (Batch  (None, 12, 12, 128)  384        ['conv2d_223[0][0]']             \n",
            " Normalization)                                                                                   \n",
            "                                                                                                  \n",
            " batch_normalization_225 (Batch  (None, 12, 12, 128)  384        ['conv2d_228[0][0]']             \n",
            " Normalization)                                                                                   \n",
            "                                                                                                  \n",
            " activation_220 (Activation)    (None, 12, 12, 128)  0           ['batch_normalization_220[0][0]']\n",
            "                                                                                                  \n",
            " activation_225 (Activation)    (None, 12, 12, 128)  0           ['batch_normalization_225[0][0]']\n",
            "                                                                                                  \n",
            " average_pooling2d_21 (AverageP  (None, 12, 12, 768)  0          ['mixed3[0][0]']                 \n",
            " ooling2D)                                                                                        \n",
            "                                                                                                  \n",
            " conv2d_221 (Conv2D)            (None, 12, 12, 192)  147456      ['mixed3[0][0]']                 \n",
            "                                                                                                  \n",
            " conv2d_224 (Conv2D)            (None, 12, 12, 192)  172032      ['activation_220[0][0]']         \n",
            "                                                                                                  \n",
            " conv2d_229 (Conv2D)            (None, 12, 12, 192)  172032      ['activation_225[0][0]']         \n",
            "                                                                                                  \n",
            " conv2d_230 (Conv2D)            (None, 12, 12, 192)  147456      ['average_pooling2d_21[0][0]']   \n",
            "                                                                                                  \n",
            " batch_normalization_218 (Batch  (None, 12, 12, 192)  576        ['conv2d_221[0][0]']             \n",
            " Normalization)                                                                                   \n",
            "                                                                                                  \n",
            " batch_normalization_221 (Batch  (None, 12, 12, 192)  576        ['conv2d_224[0][0]']             \n",
            " Normalization)                                                                                   \n",
            "                                                                                                  \n",
            " batch_normalization_226 (Batch  (None, 12, 12, 192)  576        ['conv2d_229[0][0]']             \n",
            " Normalization)                                                                                   \n",
            "                                                                                                  \n",
            " batch_normalization_227 (Batch  (None, 12, 12, 192)  576        ['conv2d_230[0][0]']             \n",
            " Normalization)                                                                                   \n",
            "                                                                                                  \n",
            " activation_218 (Activation)    (None, 12, 12, 192)  0           ['batch_normalization_218[0][0]']\n",
            "                                                                                                  \n",
            " activation_221 (Activation)    (None, 12, 12, 192)  0           ['batch_normalization_221[0][0]']\n",
            "                                                                                                  \n",
            " activation_226 (Activation)    (None, 12, 12, 192)  0           ['batch_normalization_226[0][0]']\n",
            "                                                                                                  \n",
            " activation_227 (Activation)    (None, 12, 12, 192)  0           ['batch_normalization_227[0][0]']\n",
            "                                                                                                  \n",
            " mixed4 (Concatenate)           (None, 12, 12, 768)  0           ['activation_218[0][0]',         \n",
            "                                                                  'activation_221[0][0]',         \n",
            "                                                                  'activation_226[0][0]',         \n",
            "                                                                  'activation_227[0][0]']         \n",
            "                                                                                                  \n",
            " conv2d_235 (Conv2D)            (None, 12, 12, 160)  122880      ['mixed4[0][0]']                 \n",
            "                                                                                                  \n",
            " batch_normalization_232 (Batch  (None, 12, 12, 160)  480        ['conv2d_235[0][0]']             \n",
            " Normalization)                                                                                   \n",
            "                                                                                                  \n",
            " activation_232 (Activation)    (None, 12, 12, 160)  0           ['batch_normalization_232[0][0]']\n",
            "                                                                                                  \n",
            " conv2d_236 (Conv2D)            (None, 12, 12, 160)  179200      ['activation_232[0][0]']         \n",
            "                                                                                                  \n",
            " batch_normalization_233 (Batch  (None, 12, 12, 160)  480        ['conv2d_236[0][0]']             \n",
            " Normalization)                                                                                   \n",
            "                                                                                                  \n",
            " activation_233 (Activation)    (None, 12, 12, 160)  0           ['batch_normalization_233[0][0]']\n",
            "                                                                                                  \n",
            " conv2d_232 (Conv2D)            (None, 12, 12, 160)  122880      ['mixed4[0][0]']                 \n",
            "                                                                                                  \n",
            " conv2d_237 (Conv2D)            (None, 12, 12, 160)  179200      ['activation_233[0][0]']         \n",
            "                                                                                                  \n",
            " batch_normalization_229 (Batch  (None, 12, 12, 160)  480        ['conv2d_232[0][0]']             \n",
            " Normalization)                                                                                   \n",
            "                                                                                                  \n",
            " batch_normalization_234 (Batch  (None, 12, 12, 160)  480        ['conv2d_237[0][0]']             \n",
            " Normalization)                                                                                   \n",
            "                                                                                                  \n",
            " activation_229 (Activation)    (None, 12, 12, 160)  0           ['batch_normalization_229[0][0]']\n",
            "                                                                                                  \n",
            " activation_234 (Activation)    (None, 12, 12, 160)  0           ['batch_normalization_234[0][0]']\n",
            "                                                                                                  \n",
            " conv2d_233 (Conv2D)            (None, 12, 12, 160)  179200      ['activation_229[0][0]']         \n",
            "                                                                                                  \n",
            " conv2d_238 (Conv2D)            (None, 12, 12, 160)  179200      ['activation_234[0][0]']         \n",
            "                                                                                                  \n",
            " batch_normalization_230 (Batch  (None, 12, 12, 160)  480        ['conv2d_233[0][0]']             \n",
            " Normalization)                                                                                   \n",
            "                                                                                                  \n",
            " batch_normalization_235 (Batch  (None, 12, 12, 160)  480        ['conv2d_238[0][0]']             \n",
            " Normalization)                                                                                   \n",
            "                                                                                                  \n",
            " activation_230 (Activation)    (None, 12, 12, 160)  0           ['batch_normalization_230[0][0]']\n",
            "                                                                                                  \n",
            " activation_235 (Activation)    (None, 12, 12, 160)  0           ['batch_normalization_235[0][0]']\n",
            "                                                                                                  \n",
            " average_pooling2d_22 (AverageP  (None, 12, 12, 768)  0          ['mixed4[0][0]']                 \n",
            " ooling2D)                                                                                        \n",
            "                                                                                                  \n",
            " conv2d_231 (Conv2D)            (None, 12, 12, 192)  147456      ['mixed4[0][0]']                 \n",
            "                                                                                                  \n",
            " conv2d_234 (Conv2D)            (None, 12, 12, 192)  215040      ['activation_230[0][0]']         \n",
            "                                                                                                  \n",
            " conv2d_239 (Conv2D)            (None, 12, 12, 192)  215040      ['activation_235[0][0]']         \n",
            "                                                                                                  \n",
            " conv2d_240 (Conv2D)            (None, 12, 12, 192)  147456      ['average_pooling2d_22[0][0]']   \n",
            "                                                                                                  \n",
            " batch_normalization_228 (Batch  (None, 12, 12, 192)  576        ['conv2d_231[0][0]']             \n",
            " Normalization)                                                                                   \n",
            "                                                                                                  \n",
            " batch_normalization_231 (Batch  (None, 12, 12, 192)  576        ['conv2d_234[0][0]']             \n",
            " Normalization)                                                                                   \n",
            "                                                                                                  \n",
            " batch_normalization_236 (Batch  (None, 12, 12, 192)  576        ['conv2d_239[0][0]']             \n",
            " Normalization)                                                                                   \n",
            "                                                                                                  \n",
            " batch_normalization_237 (Batch  (None, 12, 12, 192)  576        ['conv2d_240[0][0]']             \n",
            " Normalization)                                                                                   \n",
            "                                                                                                  \n",
            " activation_228 (Activation)    (None, 12, 12, 192)  0           ['batch_normalization_228[0][0]']\n",
            "                                                                                                  \n",
            " activation_231 (Activation)    (None, 12, 12, 192)  0           ['batch_normalization_231[0][0]']\n",
            "                                                                                                  \n",
            " activation_236 (Activation)    (None, 12, 12, 192)  0           ['batch_normalization_236[0][0]']\n",
            "                                                                                                  \n",
            " activation_237 (Activation)    (None, 12, 12, 192)  0           ['batch_normalization_237[0][0]']\n",
            "                                                                                                  \n",
            " mixed5 (Concatenate)           (None, 12, 12, 768)  0           ['activation_228[0][0]',         \n",
            "                                                                  'activation_231[0][0]',         \n",
            "                                                                  'activation_236[0][0]',         \n",
            "                                                                  'activation_237[0][0]']         \n",
            "                                                                                                  \n",
            " conv2d_245 (Conv2D)            (None, 12, 12, 160)  122880      ['mixed5[0][0]']                 \n",
            "                                                                                                  \n",
            " batch_normalization_242 (Batch  (None, 12, 12, 160)  480        ['conv2d_245[0][0]']             \n",
            " Normalization)                                                                                   \n",
            "                                                                                                  \n",
            " activation_242 (Activation)    (None, 12, 12, 160)  0           ['batch_normalization_242[0][0]']\n",
            "                                                                                                  \n",
            " conv2d_246 (Conv2D)            (None, 12, 12, 160)  179200      ['activation_242[0][0]']         \n",
            "                                                                                                  \n",
            " batch_normalization_243 (Batch  (None, 12, 12, 160)  480        ['conv2d_246[0][0]']             \n",
            " Normalization)                                                                                   \n",
            "                                                                                                  \n",
            " activation_243 (Activation)    (None, 12, 12, 160)  0           ['batch_normalization_243[0][0]']\n",
            "                                                                                                  \n",
            " conv2d_242 (Conv2D)            (None, 12, 12, 160)  122880      ['mixed5[0][0]']                 \n",
            "                                                                                                  \n",
            " conv2d_247 (Conv2D)            (None, 12, 12, 160)  179200      ['activation_243[0][0]']         \n",
            "                                                                                                  \n",
            " batch_normalization_239 (Batch  (None, 12, 12, 160)  480        ['conv2d_242[0][0]']             \n",
            " Normalization)                                                                                   \n",
            "                                                                                                  \n",
            " batch_normalization_244 (Batch  (None, 12, 12, 160)  480        ['conv2d_247[0][0]']             \n",
            " Normalization)                                                                                   \n",
            "                                                                                                  \n",
            " activation_239 (Activation)    (None, 12, 12, 160)  0           ['batch_normalization_239[0][0]']\n",
            "                                                                                                  \n",
            " activation_244 (Activation)    (None, 12, 12, 160)  0           ['batch_normalization_244[0][0]']\n",
            "                                                                                                  \n",
            " conv2d_243 (Conv2D)            (None, 12, 12, 160)  179200      ['activation_239[0][0]']         \n",
            "                                                                                                  \n",
            " conv2d_248 (Conv2D)            (None, 12, 12, 160)  179200      ['activation_244[0][0]']         \n",
            "                                                                                                  \n",
            " batch_normalization_240 (Batch  (None, 12, 12, 160)  480        ['conv2d_243[0][0]']             \n",
            " Normalization)                                                                                   \n",
            "                                                                                                  \n",
            " batch_normalization_245 (Batch  (None, 12, 12, 160)  480        ['conv2d_248[0][0]']             \n",
            " Normalization)                                                                                   \n",
            "                                                                                                  \n",
            " activation_240 (Activation)    (None, 12, 12, 160)  0           ['batch_normalization_240[0][0]']\n",
            "                                                                                                  \n",
            " activation_245 (Activation)    (None, 12, 12, 160)  0           ['batch_normalization_245[0][0]']\n",
            "                                                                                                  \n",
            " average_pooling2d_23 (AverageP  (None, 12, 12, 768)  0          ['mixed5[0][0]']                 \n",
            " ooling2D)                                                                                        \n",
            "                                                                                                  \n",
            " conv2d_241 (Conv2D)            (None, 12, 12, 192)  147456      ['mixed5[0][0]']                 \n",
            "                                                                                                  \n",
            " conv2d_244 (Conv2D)            (None, 12, 12, 192)  215040      ['activation_240[0][0]']         \n",
            "                                                                                                  \n",
            " conv2d_249 (Conv2D)            (None, 12, 12, 192)  215040      ['activation_245[0][0]']         \n",
            "                                                                                                  \n",
            " conv2d_250 (Conv2D)            (None, 12, 12, 192)  147456      ['average_pooling2d_23[0][0]']   \n",
            "                                                                                                  \n",
            " batch_normalization_238 (Batch  (None, 12, 12, 192)  576        ['conv2d_241[0][0]']             \n",
            " Normalization)                                                                                   \n",
            "                                                                                                  \n",
            " batch_normalization_241 (Batch  (None, 12, 12, 192)  576        ['conv2d_244[0][0]']             \n",
            " Normalization)                                                                                   \n",
            "                                                                                                  \n",
            " batch_normalization_246 (Batch  (None, 12, 12, 192)  576        ['conv2d_249[0][0]']             \n",
            " Normalization)                                                                                   \n",
            "                                                                                                  \n",
            " batch_normalization_247 (Batch  (None, 12, 12, 192)  576        ['conv2d_250[0][0]']             \n",
            " Normalization)                                                                                   \n",
            "                                                                                                  \n",
            " activation_238 (Activation)    (None, 12, 12, 192)  0           ['batch_normalization_238[0][0]']\n",
            "                                                                                                  \n",
            " activation_241 (Activation)    (None, 12, 12, 192)  0           ['batch_normalization_241[0][0]']\n",
            "                                                                                                  \n",
            " activation_246 (Activation)    (None, 12, 12, 192)  0           ['batch_normalization_246[0][0]']\n",
            "                                                                                                  \n",
            " activation_247 (Activation)    (None, 12, 12, 192)  0           ['batch_normalization_247[0][0]']\n",
            "                                                                                                  \n",
            " mixed6 (Concatenate)           (None, 12, 12, 768)  0           ['activation_238[0][0]',         \n",
            "                                                                  'activation_241[0][0]',         \n",
            "                                                                  'activation_246[0][0]',         \n",
            "                                                                  'activation_247[0][0]']         \n",
            "                                                                                                  \n",
            " conv2d_255 (Conv2D)            (None, 12, 12, 192)  147456      ['mixed6[0][0]']                 \n",
            "                                                                                                  \n",
            " batch_normalization_252 (Batch  (None, 12, 12, 192)  576        ['conv2d_255[0][0]']             \n",
            " Normalization)                                                                                   \n",
            "                                                                                                  \n",
            " activation_252 (Activation)    (None, 12, 12, 192)  0           ['batch_normalization_252[0][0]']\n",
            "                                                                                                  \n",
            " conv2d_256 (Conv2D)            (None, 12, 12, 192)  258048      ['activation_252[0][0]']         \n",
            "                                                                                                  \n",
            " batch_normalization_253 (Batch  (None, 12, 12, 192)  576        ['conv2d_256[0][0]']             \n",
            " Normalization)                                                                                   \n",
            "                                                                                                  \n",
            " activation_253 (Activation)    (None, 12, 12, 192)  0           ['batch_normalization_253[0][0]']\n",
            "                                                                                                  \n",
            " conv2d_252 (Conv2D)            (None, 12, 12, 192)  147456      ['mixed6[0][0]']                 \n",
            "                                                                                                  \n",
            " conv2d_257 (Conv2D)            (None, 12, 12, 192)  258048      ['activation_253[0][0]']         \n",
            "                                                                                                  \n",
            " batch_normalization_249 (Batch  (None, 12, 12, 192)  576        ['conv2d_252[0][0]']             \n",
            " Normalization)                                                                                   \n",
            "                                                                                                  \n",
            " batch_normalization_254 (Batch  (None, 12, 12, 192)  576        ['conv2d_257[0][0]']             \n",
            " Normalization)                                                                                   \n",
            "                                                                                                  \n",
            " activation_249 (Activation)    (None, 12, 12, 192)  0           ['batch_normalization_249[0][0]']\n",
            "                                                                                                  \n",
            " activation_254 (Activation)    (None, 12, 12, 192)  0           ['batch_normalization_254[0][0]']\n",
            "                                                                                                  \n",
            " conv2d_253 (Conv2D)            (None, 12, 12, 192)  258048      ['activation_249[0][0]']         \n",
            "                                                                                                  \n",
            " conv2d_258 (Conv2D)            (None, 12, 12, 192)  258048      ['activation_254[0][0]']         \n",
            "                                                                                                  \n",
            " batch_normalization_250 (Batch  (None, 12, 12, 192)  576        ['conv2d_253[0][0]']             \n",
            " Normalization)                                                                                   \n",
            "                                                                                                  \n",
            " batch_normalization_255 (Batch  (None, 12, 12, 192)  576        ['conv2d_258[0][0]']             \n",
            " Normalization)                                                                                   \n",
            "                                                                                                  \n",
            " activation_250 (Activation)    (None, 12, 12, 192)  0           ['batch_normalization_250[0][0]']\n",
            "                                                                                                  \n",
            " activation_255 (Activation)    (None, 12, 12, 192)  0           ['batch_normalization_255[0][0]']\n",
            "                                                                                                  \n",
            " average_pooling2d_24 (AverageP  (None, 12, 12, 768)  0          ['mixed6[0][0]']                 \n",
            " ooling2D)                                                                                        \n",
            "                                                                                                  \n",
            " conv2d_251 (Conv2D)            (None, 12, 12, 192)  147456      ['mixed6[0][0]']                 \n",
            "                                                                                                  \n",
            " conv2d_254 (Conv2D)            (None, 12, 12, 192)  258048      ['activation_250[0][0]']         \n",
            "                                                                                                  \n",
            " conv2d_259 (Conv2D)            (None, 12, 12, 192)  258048      ['activation_255[0][0]']         \n",
            "                                                                                                  \n",
            " conv2d_260 (Conv2D)            (None, 12, 12, 192)  147456      ['average_pooling2d_24[0][0]']   \n",
            "                                                                                                  \n",
            " batch_normalization_248 (Batch  (None, 12, 12, 192)  576        ['conv2d_251[0][0]']             \n",
            " Normalization)                                                                                   \n",
            "                                                                                                  \n",
            " batch_normalization_251 (Batch  (None, 12, 12, 192)  576        ['conv2d_254[0][0]']             \n",
            " Normalization)                                                                                   \n",
            "                                                                                                  \n",
            " batch_normalization_256 (Batch  (None, 12, 12, 192)  576        ['conv2d_259[0][0]']             \n",
            " Normalization)                                                                                   \n",
            "                                                                                                  \n",
            " batch_normalization_257 (Batch  (None, 12, 12, 192)  576        ['conv2d_260[0][0]']             \n",
            " Normalization)                                                                                   \n",
            "                                                                                                  \n",
            " activation_248 (Activation)    (None, 12, 12, 192)  0           ['batch_normalization_248[0][0]']\n",
            "                                                                                                  \n",
            " activation_251 (Activation)    (None, 12, 12, 192)  0           ['batch_normalization_251[0][0]']\n",
            "                                                                                                  \n",
            " activation_256 (Activation)    (None, 12, 12, 192)  0           ['batch_normalization_256[0][0]']\n",
            "                                                                                                  \n",
            " activation_257 (Activation)    (None, 12, 12, 192)  0           ['batch_normalization_257[0][0]']\n",
            "                                                                                                  \n",
            " mixed7 (Concatenate)           (None, 12, 12, 768)  0           ['activation_248[0][0]',         \n",
            "                                                                  'activation_251[0][0]',         \n",
            "                                                                  'activation_256[0][0]',         \n",
            "                                                                  'activation_257[0][0]']         \n",
            "                                                                                                  \n",
            " conv2d_263 (Conv2D)            (None, 12, 12, 192)  147456      ['mixed7[0][0]']                 \n",
            "                                                                                                  \n",
            " batch_normalization_260 (Batch  (None, 12, 12, 192)  576        ['conv2d_263[0][0]']             \n",
            " Normalization)                                                                                   \n",
            "                                                                                                  \n",
            " activation_260 (Activation)    (None, 12, 12, 192)  0           ['batch_normalization_260[0][0]']\n",
            "                                                                                                  \n",
            " conv2d_264 (Conv2D)            (None, 12, 12, 192)  258048      ['activation_260[0][0]']         \n",
            "                                                                                                  \n",
            " batch_normalization_261 (Batch  (None, 12, 12, 192)  576        ['conv2d_264[0][0]']             \n",
            " Normalization)                                                                                   \n",
            "                                                                                                  \n",
            " activation_261 (Activation)    (None, 12, 12, 192)  0           ['batch_normalization_261[0][0]']\n",
            "                                                                                                  \n",
            " conv2d_261 (Conv2D)            (None, 12, 12, 192)  147456      ['mixed7[0][0]']                 \n",
            "                                                                                                  \n",
            " conv2d_265 (Conv2D)            (None, 12, 12, 192)  258048      ['activation_261[0][0]']         \n",
            "                                                                                                  \n",
            " batch_normalization_258 (Batch  (None, 12, 12, 192)  576        ['conv2d_261[0][0]']             \n",
            " Normalization)                                                                                   \n",
            "                                                                                                  \n",
            " batch_normalization_262 (Batch  (None, 12, 12, 192)  576        ['conv2d_265[0][0]']             \n",
            " Normalization)                                                                                   \n",
            "                                                                                                  \n",
            " activation_258 (Activation)    (None, 12, 12, 192)  0           ['batch_normalization_258[0][0]']\n",
            "                                                                                                  \n",
            " activation_262 (Activation)    (None, 12, 12, 192)  0           ['batch_normalization_262[0][0]']\n",
            "                                                                                                  \n",
            " conv2d_262 (Conv2D)            (None, 5, 5, 320)    552960      ['activation_258[0][0]']         \n",
            "                                                                                                  \n",
            " conv2d_266 (Conv2D)            (None, 5, 5, 192)    331776      ['activation_262[0][0]']         \n",
            "                                                                                                  \n",
            " batch_normalization_259 (Batch  (None, 5, 5, 320)   960         ['conv2d_262[0][0]']             \n",
            " Normalization)                                                                                   \n",
            "                                                                                                  \n",
            " batch_normalization_263 (Batch  (None, 5, 5, 192)   576         ['conv2d_266[0][0]']             \n",
            " Normalization)                                                                                   \n",
            "                                                                                                  \n",
            " activation_259 (Activation)    (None, 5, 5, 320)    0           ['batch_normalization_259[0][0]']\n",
            "                                                                                                  \n",
            " activation_263 (Activation)    (None, 5, 5, 192)    0           ['batch_normalization_263[0][0]']\n",
            "                                                                                                  \n",
            " max_pooling2d_13 (MaxPooling2D  (None, 5, 5, 768)   0           ['mixed7[0][0]']                 \n",
            " )                                                                                                \n",
            "                                                                                                  \n",
            " mixed8 (Concatenate)           (None, 5, 5, 1280)   0           ['activation_259[0][0]',         \n",
            "                                                                  'activation_263[0][0]',         \n",
            "                                                                  'max_pooling2d_13[0][0]']       \n",
            "                                                                                                  \n",
            " conv2d_271 (Conv2D)            (None, 5, 5, 448)    573440      ['mixed8[0][0]']                 \n",
            "                                                                                                  \n",
            " batch_normalization_268 (Batch  (None, 5, 5, 448)   1344        ['conv2d_271[0][0]']             \n",
            " Normalization)                                                                                   \n",
            "                                                                                                  \n",
            " activation_268 (Activation)    (None, 5, 5, 448)    0           ['batch_normalization_268[0][0]']\n",
            "                                                                                                  \n",
            " conv2d_268 (Conv2D)            (None, 5, 5, 384)    491520      ['mixed8[0][0]']                 \n",
            "                                                                                                  \n",
            " conv2d_272 (Conv2D)            (None, 5, 5, 384)    1548288     ['activation_268[0][0]']         \n",
            "                                                                                                  \n",
            " batch_normalization_265 (Batch  (None, 5, 5, 384)   1152        ['conv2d_268[0][0]']             \n",
            " Normalization)                                                                                   \n",
            "                                                                                                  \n",
            " batch_normalization_269 (Batch  (None, 5, 5, 384)   1152        ['conv2d_272[0][0]']             \n",
            " Normalization)                                                                                   \n",
            "                                                                                                  \n",
            " activation_265 (Activation)    (None, 5, 5, 384)    0           ['batch_normalization_265[0][0]']\n",
            "                                                                                                  \n",
            " activation_269 (Activation)    (None, 5, 5, 384)    0           ['batch_normalization_269[0][0]']\n",
            "                                                                                                  \n",
            " conv2d_269 (Conv2D)            (None, 5, 5, 384)    442368      ['activation_265[0][0]']         \n",
            "                                                                                                  \n",
            " conv2d_270 (Conv2D)            (None, 5, 5, 384)    442368      ['activation_265[0][0]']         \n",
            "                                                                                                  \n",
            " conv2d_273 (Conv2D)            (None, 5, 5, 384)    442368      ['activation_269[0][0]']         \n",
            "                                                                                                  \n",
            " conv2d_274 (Conv2D)            (None, 5, 5, 384)    442368      ['activation_269[0][0]']         \n",
            "                                                                                                  \n",
            " average_pooling2d_25 (AverageP  (None, 5, 5, 1280)  0           ['mixed8[0][0]']                 \n",
            " ooling2D)                                                                                        \n",
            "                                                                                                  \n",
            " conv2d_267 (Conv2D)            (None, 5, 5, 320)    409600      ['mixed8[0][0]']                 \n",
            "                                                                                                  \n",
            " batch_normalization_266 (Batch  (None, 5, 5, 384)   1152        ['conv2d_269[0][0]']             \n",
            " Normalization)                                                                                   \n",
            "                                                                                                  \n",
            " batch_normalization_267 (Batch  (None, 5, 5, 384)   1152        ['conv2d_270[0][0]']             \n",
            " Normalization)                                                                                   \n",
            "                                                                                                  \n",
            " batch_normalization_270 (Batch  (None, 5, 5, 384)   1152        ['conv2d_273[0][0]']             \n",
            " Normalization)                                                                                   \n",
            "                                                                                                  \n",
            " batch_normalization_271 (Batch  (None, 5, 5, 384)   1152        ['conv2d_274[0][0]']             \n",
            " Normalization)                                                                                   \n",
            "                                                                                                  \n",
            " conv2d_275 (Conv2D)            (None, 5, 5, 192)    245760      ['average_pooling2d_25[0][0]']   \n",
            "                                                                                                  \n",
            " batch_normalization_264 (Batch  (None, 5, 5, 320)   960         ['conv2d_267[0][0]']             \n",
            " Normalization)                                                                                   \n",
            "                                                                                                  \n",
            " activation_266 (Activation)    (None, 5, 5, 384)    0           ['batch_normalization_266[0][0]']\n",
            "                                                                                                  \n",
            " activation_267 (Activation)    (None, 5, 5, 384)    0           ['batch_normalization_267[0][0]']\n",
            "                                                                                                  \n",
            " activation_270 (Activation)    (None, 5, 5, 384)    0           ['batch_normalization_270[0][0]']\n",
            "                                                                                                  \n",
            " activation_271 (Activation)    (None, 5, 5, 384)    0           ['batch_normalization_271[0][0]']\n",
            "                                                                                                  \n",
            " batch_normalization_272 (Batch  (None, 5, 5, 192)   576         ['conv2d_275[0][0]']             \n",
            " Normalization)                                                                                   \n",
            "                                                                                                  \n",
            " activation_264 (Activation)    (None, 5, 5, 320)    0           ['batch_normalization_264[0][0]']\n",
            "                                                                                                  \n",
            " mixed9_0 (Concatenate)         (None, 5, 5, 768)    0           ['activation_266[0][0]',         \n",
            "                                                                  'activation_267[0][0]']         \n",
            "                                                                                                  \n",
            " concatenate_4 (Concatenate)    (None, 5, 5, 768)    0           ['activation_270[0][0]',         \n",
            "                                                                  'activation_271[0][0]']         \n",
            "                                                                                                  \n",
            " activation_272 (Activation)    (None, 5, 5, 192)    0           ['batch_normalization_272[0][0]']\n",
            "                                                                                                  \n",
            " mixed9 (Concatenate)           (None, 5, 5, 2048)   0           ['activation_264[0][0]',         \n",
            "                                                                  'mixed9_0[0][0]',               \n",
            "                                                                  'concatenate_4[0][0]',          \n",
            "                                                                  'activation_272[0][0]']         \n",
            "                                                                                                  \n",
            " conv2d_280 (Conv2D)            (None, 5, 5, 448)    917504      ['mixed9[0][0]']                 \n",
            "                                                                                                  \n",
            " batch_normalization_277 (Batch  (None, 5, 5, 448)   1344        ['conv2d_280[0][0]']             \n",
            " Normalization)                                                                                   \n",
            "                                                                                                  \n",
            " activation_277 (Activation)    (None, 5, 5, 448)    0           ['batch_normalization_277[0][0]']\n",
            "                                                                                                  \n",
            " conv2d_277 (Conv2D)            (None, 5, 5, 384)    786432      ['mixed9[0][0]']                 \n",
            "                                                                                                  \n",
            " conv2d_281 (Conv2D)            (None, 5, 5, 384)    1548288     ['activation_277[0][0]']         \n",
            "                                                                                                  \n",
            " batch_normalization_274 (Batch  (None, 5, 5, 384)   1152        ['conv2d_277[0][0]']             \n",
            " Normalization)                                                                                   \n",
            "                                                                                                  \n",
            " batch_normalization_278 (Batch  (None, 5, 5, 384)   1152        ['conv2d_281[0][0]']             \n",
            " Normalization)                                                                                   \n",
            "                                                                                                  \n",
            " activation_274 (Activation)    (None, 5, 5, 384)    0           ['batch_normalization_274[0][0]']\n",
            "                                                                                                  \n",
            " activation_278 (Activation)    (None, 5, 5, 384)    0           ['batch_normalization_278[0][0]']\n",
            "                                                                                                  \n",
            " conv2d_278 (Conv2D)            (None, 5, 5, 384)    442368      ['activation_274[0][0]']         \n",
            "                                                                                                  \n",
            " conv2d_279 (Conv2D)            (None, 5, 5, 384)    442368      ['activation_274[0][0]']         \n",
            "                                                                                                  \n",
            " conv2d_282 (Conv2D)            (None, 5, 5, 384)    442368      ['activation_278[0][0]']         \n",
            "                                                                                                  \n",
            " conv2d_283 (Conv2D)            (None, 5, 5, 384)    442368      ['activation_278[0][0]']         \n",
            "                                                                                                  \n",
            " average_pooling2d_26 (AverageP  (None, 5, 5, 2048)  0           ['mixed9[0][0]']                 \n",
            " ooling2D)                                                                                        \n",
            "                                                                                                  \n",
            " conv2d_276 (Conv2D)            (None, 5, 5, 320)    655360      ['mixed9[0][0]']                 \n",
            "                                                                                                  \n",
            " batch_normalization_275 (Batch  (None, 5, 5, 384)   1152        ['conv2d_278[0][0]']             \n",
            " Normalization)                                                                                   \n",
            "                                                                                                  \n",
            " batch_normalization_276 (Batch  (None, 5, 5, 384)   1152        ['conv2d_279[0][0]']             \n",
            " Normalization)                                                                                   \n",
            "                                                                                                  \n",
            " batch_normalization_279 (Batch  (None, 5, 5, 384)   1152        ['conv2d_282[0][0]']             \n",
            " Normalization)                                                                                   \n",
            "                                                                                                  \n",
            " batch_normalization_280 (Batch  (None, 5, 5, 384)   1152        ['conv2d_283[0][0]']             \n",
            " Normalization)                                                                                   \n",
            "                                                                                                  \n",
            " conv2d_284 (Conv2D)            (None, 5, 5, 192)    393216      ['average_pooling2d_26[0][0]']   \n",
            "                                                                                                  \n",
            " batch_normalization_273 (Batch  (None, 5, 5, 320)   960         ['conv2d_276[0][0]']             \n",
            " Normalization)                                                                                   \n",
            "                                                                                                  \n",
            " activation_275 (Activation)    (None, 5, 5, 384)    0           ['batch_normalization_275[0][0]']\n",
            "                                                                                                  \n",
            " activation_276 (Activation)    (None, 5, 5, 384)    0           ['batch_normalization_276[0][0]']\n",
            "                                                                                                  \n",
            " activation_279 (Activation)    (None, 5, 5, 384)    0           ['batch_normalization_279[0][0]']\n",
            "                                                                                                  \n",
            " activation_280 (Activation)    (None, 5, 5, 384)    0           ['batch_normalization_280[0][0]']\n",
            "                                                                                                  \n",
            " batch_normalization_281 (Batch  (None, 5, 5, 192)   576         ['conv2d_284[0][0]']             \n",
            " Normalization)                                                                                   \n",
            "                                                                                                  \n",
            " activation_273 (Activation)    (None, 5, 5, 320)    0           ['batch_normalization_273[0][0]']\n",
            "                                                                                                  \n",
            " mixed9_1 (Concatenate)         (None, 5, 5, 768)    0           ['activation_275[0][0]',         \n",
            "                                                                  'activation_276[0][0]']         \n",
            "                                                                                                  \n",
            " concatenate_5 (Concatenate)    (None, 5, 5, 768)    0           ['activation_279[0][0]',         \n",
            "                                                                  'activation_280[0][0]']         \n",
            "                                                                                                  \n",
            " activation_281 (Activation)    (None, 5, 5, 192)    0           ['batch_normalization_281[0][0]']\n",
            "                                                                                                  \n",
            " mixed10 (Concatenate)          (None, 5, 5, 2048)   0           ['activation_273[0][0]',         \n",
            "                                                                  'mixed9_1[0][0]',               \n",
            "                                                                  'concatenate_5[0][0]',          \n",
            "                                                                  'activation_281[0][0]']         \n",
            "                                                                                                  \n",
            " flatten_8 (Flatten)            (None, 51200)        0           ['mixed10[0][0]']                \n",
            "                                                                                                  \n",
            " dense_9 (Dense)                (None, 50)           2560050     ['flatten_8[0][0]']              \n",
            "                                                                                                  \n",
            "==================================================================================================\n",
            "Total params: 24,362,834\n",
            "Trainable params: 2,560,050\n",
            "Non-trainable params: 21,802,784\n",
            "__________________________________________________________________________________________________\n"
          ]
        }
      ],
      "source": [
        "# view the structure of the model\n",
        "inc_model.summary()"
      ],
      "id": "3c2974ef"
    },
    {
      "cell_type": "code",
      "execution_count": 217,
      "metadata": {
        "id": "PMCQVnME0tXQ"
      },
      "outputs": [],
      "source": [
        "# Compile model\n",
        "inc_model.compile(\n",
        "    loss='categorical_crossentropy',\n",
        "    optimizer='adam',\n",
        "    metrics=['accuracy', 'top_k_categorical_accuracy']\n",
        ")"
      ],
      "id": "PMCQVnME0tXQ"
    },
    {
      "cell_type": "code",
      "execution_count": 218,
      "metadata": {
        "id": "UvnmNTb90tXW"
      },
      "outputs": [],
      "source": [
        "# Include checkpoint \n",
        "\n",
        "#checkpoint_path = \"../checkpoint/baseline_cnn//cp-{epoch:04d}.ckpt\"\n",
        "\n",
        "\n",
        "# Create a callback that saves the model's weights\n",
        "#cp_callback = tf.keras.callbacks.ModelCheckpoint(filepath=checkpoint_path,\n",
        "#                                                 save_weights_only=True,\n",
        "#                                                verbose=1)"
      ],
      "id": "UvnmNTb90tXW"
    },
    {
      "cell_type": "code",
      "execution_count": 219,
      "metadata": {
        "colab": {
          "base_uri": "https://localhost:8080/"
        },
        "id": "1AcOtf970tXX",
        "outputId": "191c7019-75bd-4059-ac0f-4a8cd0cd1d48"
      },
      "outputs": [
        {
          "output_type": "stream",
          "name": "stdout",
          "text": [
            "Epoch 1/15\n",
            "50/50 [==============================] - 22s 347ms/step - loss: 14.6599 - accuracy: 0.2906 - top_k_categorical_accuracy: 0.5104 - val_loss: 7.0252 - val_accuracy: 0.4663 - val_top_k_categorical_accuracy: 0.7476\n",
            "Epoch 2/15\n",
            "50/50 [==============================] - 16s 320ms/step - loss: 1.7904 - accuracy: 0.8054 - top_k_categorical_accuracy: 0.9501 - val_loss: 6.5537 - val_accuracy: 0.4952 - val_top_k_categorical_accuracy: 0.7957\n",
            "Epoch 3/15\n",
            "50/50 [==============================] - 16s 319ms/step - loss: 0.6473 - accuracy: 0.9223 - top_k_categorical_accuracy: 0.9874 - val_loss: 4.4006 - val_accuracy: 0.6034 - val_top_k_categorical_accuracy: 0.8317\n",
            "Epoch 4/15\n",
            "50/50 [==============================] - 16s 321ms/step - loss: 0.3235 - accuracy: 0.9627 - top_k_categorical_accuracy: 0.9975 - val_loss: 4.7699 - val_accuracy: 0.5889 - val_top_k_categorical_accuracy: 0.8173\n",
            "Epoch 5/15\n",
            "50/50 [==============================] - 16s 317ms/step - loss: 0.2446 - accuracy: 0.9615 - top_k_categorical_accuracy: 0.9994 - val_loss: 4.5201 - val_accuracy: 0.6154 - val_top_k_categorical_accuracy: 0.8462\n",
            "Epoch 6/15\n",
            "50/50 [==============================] - 16s 314ms/step - loss: 0.2536 - accuracy: 0.9684 - top_k_categorical_accuracy: 0.9968 - val_loss: 5.2549 - val_accuracy: 0.5817 - val_top_k_categorical_accuracy: 0.8317\n",
            "Epoch 7/15\n",
            "50/50 [==============================] - 16s 315ms/step - loss: 0.4152 - accuracy: 0.9463 - top_k_categorical_accuracy: 0.9918 - val_loss: 6.6147 - val_accuracy: 0.5721 - val_top_k_categorical_accuracy: 0.8341\n",
            "Epoch 8/15\n",
            "50/50 [==============================] - 16s 320ms/step - loss: 0.4560 - accuracy: 0.9482 - top_k_categorical_accuracy: 0.9918 - val_loss: 5.9666 - val_accuracy: 0.6106 - val_top_k_categorical_accuracy: 0.8125\n",
            "Epoch 9/15\n",
            "50/50 [==============================] - 16s 317ms/step - loss: 0.5074 - accuracy: 0.9368 - top_k_categorical_accuracy: 0.9956 - val_loss: 6.8381 - val_accuracy: 0.5721 - val_top_k_categorical_accuracy: 0.8173\n",
            "Epoch 10/15\n",
            "50/50 [==============================] - 16s 323ms/step - loss: 0.4972 - accuracy: 0.9463 - top_k_categorical_accuracy: 0.9943 - val_loss: 6.2686 - val_accuracy: 0.5962 - val_top_k_categorical_accuracy: 0.8173\n",
            "Epoch 11/15\n",
            "50/50 [==============================] - 16s 320ms/step - loss: 0.3183 - accuracy: 0.9703 - top_k_categorical_accuracy: 0.9994 - val_loss: 8.7164 - val_accuracy: 0.5793 - val_top_k_categorical_accuracy: 0.8197\n",
            "Epoch 12/15\n",
            "50/50 [==============================] - 16s 325ms/step - loss: 0.3558 - accuracy: 0.9703 - top_k_categorical_accuracy: 0.9956 - val_loss: 8.0983 - val_accuracy: 0.5601 - val_top_k_categorical_accuracy: 0.8173\n",
            "Epoch 13/15\n",
            "50/50 [==============================] - 16s 324ms/step - loss: 0.2438 - accuracy: 0.9735 - top_k_categorical_accuracy: 0.9994 - val_loss: 7.6804 - val_accuracy: 0.5938 - val_top_k_categorical_accuracy: 0.8125\n",
            "Epoch 14/15\n",
            "50/50 [==============================] - 16s 319ms/step - loss: 0.2342 - accuracy: 0.9798 - top_k_categorical_accuracy: 0.9987 - val_loss: 7.9151 - val_accuracy: 0.5793 - val_top_k_categorical_accuracy: 0.8149\n",
            "Epoch 15/15\n",
            "50/50 [==============================] - 16s 321ms/step - loss: 0.3425 - accuracy: 0.9653 - top_k_categorical_accuracy: 0.9962 - val_loss: 10.0069 - val_accuracy: 0.5409 - val_top_k_categorical_accuracy: 0.7981\n"
          ]
        }
      ],
      "source": [
        "# fit the model\n",
        "inc_history = inc_model.fit(\n",
        "    train_generator,\n",
        "    steps_per_epoch=train_generator.n//train_generator.batch_size,\n",
        "    validation_data=val_generator,\n",
        "    validation_steps=val_generator.n//val_generator.batch_size,\n",
        "    epochs=15,\n",
        "    shuffle=True,\n",
        "    verbose=1\n",
        ")"
      ],
      "id": "1AcOtf970tXX"
    },
    {
      "cell_type": "code",
      "execution_count": null,
      "metadata": {
        "id": "yr7U0GnI0tXX"
      },
      "outputs": [],
      "source": [
        "# saving mob model\n",
        "# inc_model.save('inc')\n",
        "# files.download('inc')"
      ],
      "id": "yr7U0GnI0tXX"
    },
    {
      "cell_type": "code",
      "execution_count": 198,
      "metadata": {
        "colab": {
          "base_uri": "https://localhost:8080/",
          "height": 295
        },
        "id": "1cR4ayk00tXX",
        "outputId": "c2ee9fb2-67f9-496c-eb3d-a268dfccfb27"
      },
      "outputs": [
        {
          "output_type": "display_data",
          "data": {
            "text/plain": [
              "<Figure size 432x288 with 1 Axes>"
            ],
            "image/png": "[encoded data removed]"
          },
          "metadata": {
            "needs_background": "light"
          }
        },
        {
          "output_type": "display_data",
          "data": {
            "text/plain": [
              "<IPython.core.display.Javascript object>"
            ],
            "application/javascript": [
              "\n",
              "    async function download(id, filename, size) {\n",
              "      if (!google.colab.kernel.accessAllowed) {\n",
              "        return;\n",
              "      }\n",
              "      const div = document.createElement('div');\n",
              "      const label = document.createElement('label');\n",
              "      label.textContent = `Downloading \"${filename}\": `;\n",
              "      div.appendChild(label);\n",
              "      const progress = document.createElement('progress');\n",
              "      progress.max = size;\n",
              "      div.appendChild(progress);\n",
              "      document.body.appendChild(div);\n",
              "\n",
              "      const buffers = [];\n",
              "      let downloaded = 0;\n",
              "\n",
              "      const channel = await google.colab.kernel.comms.open(id);\n",
              "      // Send a message to notify the kernel that we're ready.\n",
              "      channel.send({})\n",
              "\n",
              "      for await (const message of channel.messages) {\n",
              "        // Send a message to notify the kernel that we're ready.\n",
              "        channel.send({})\n",
              "        if (message.buffers) {\n",
              "          for (const buffer of message.buffers) {\n",
              "            buffers.push(buffer);\n",
              "            downloaded += buffer.byteLength;\n",
              "            progress.value = downloaded;\n",
              "          }\n",
              "        }\n",
              "      }\n",
              "      const blob = new Blob(buffers, {type: 'application/binary'});\n",
              "      const a = document.createElement('a');\n",
              "      a.href = window.URL.createObjectURL(blob);\n",
              "      a.download = filename;\n",
              "      div.appendChild(a);\n",
              "      a.click();\n",
              "      div.remove();\n",
              "    }\n",
              "  "
            ]
          },
          "metadata": {}
        },
        {
          "output_type": "display_data",
          "data": {
            "text/plain": [
              "<IPython.core.display.Javascript object>"
            ],
            "application/javascript": [
              "download(\"download_c622cd71-3768-48ab-b93c-5c550fbdbe15\", \"inc-acc-rps-1.png\", 18217)"
            ]
          },
          "metadata": {}
        }
      ],
      "source": [
        "# accuracies\n",
        "plt.plot(inc_history.history['accuracy'], label='train acc')\n",
        "plt.plot(inc_history.history['val_accuracy'], label='val acc')\n",
        "plt.legend()\n",
        "plt.title('InceptionV3 Top-1 Accuracy')\n",
        "plt.xlabel('Number of Epochs')\n",
        "plt.ylabel('Accuracy')\n",
        "plt.savefig('inc-acc-rps-1.png')\n",
        "plt.show()\n",
        "files.download('inc-acc-rps-1.png')"
      ],
      "id": "1cR4ayk00tXX"
    },
    {
      "cell_type": "code",
      "execution_count": 199,
      "metadata": {
        "colab": {
          "base_uri": "https://localhost:8080/",
          "height": 295
        },
        "id": "up04jGig0tXY",
        "outputId": "7cbc52cd-2e17-4153-8d5f-9bde2dda93bb"
      },
      "outputs": [
        {
          "output_type": "display_data",
          "data": {
            "text/plain": [
              "<Figure size 432x288 with 1 Axes>"
            ],
            "image/png": "[encoded data removed]"
          },
          "metadata": {
            "needs_background": "light"
          }
        },
        {
          "output_type": "display_data",
          "data": {
            "text/plain": [
              "<IPython.core.display.Javascript object>"
            ],
            "application/javascript": [
              "\n",
              "    async function download(id, filename, size) {\n",
              "      if (!google.colab.kernel.accessAllowed) {\n",
              "        return;\n",
              "      }\n",
              "      const div = document.createElement('div');\n",
              "      const label = document.createElement('label');\n",
              "      label.textContent = `Downloading \"${filename}\": `;\n",
              "      div.appendChild(label);\n",
              "      const progress = document.createElement('progress');\n",
              "      progress.max = size;\n",
              "      div.appendChild(progress);\n",
              "      document.body.appendChild(div);\n",
              "\n",
              "      const buffers = [];\n",
              "      let downloaded = 0;\n",
              "\n",
              "      const channel = await google.colab.kernel.comms.open(id);\n",
              "      // Send a message to notify the kernel that we're ready.\n",
              "      channel.send({})\n",
              "\n",
              "      for await (const message of channel.messages) {\n",
              "        // Send a message to notify the kernel that we're ready.\n",
              "        channel.send({})\n",
              "        if (message.buffers) {\n",
              "          for (const buffer of message.buffers) {\n",
              "            buffers.push(buffer);\n",
              "            downloaded += buffer.byteLength;\n",
              "            progress.value = downloaded;\n",
              "          }\n",
              "        }\n",
              "      }\n",
              "      const blob = new Blob(buffers, {type: 'application/binary'});\n",
              "      const a = document.createElement('a');\n",
              "      a.href = window.URL.createObjectURL(blob);\n",
              "      a.download = filename;\n",
              "      div.appendChild(a);\n",
              "      a.click();\n",
              "      div.remove();\n",
              "    }\n",
              "  "
            ]
          },
          "metadata": {}
        },
        {
          "output_type": "display_data",
          "data": {
            "text/plain": [
              "<IPython.core.display.Javascript object>"
            ],
            "application/javascript": [
              "download(\"download_1ab1e767-a1bb-45c7-84b8-110be20f7b54\", \"inc-top-5-rps-1.png\", 18344)"
            ]
          },
          "metadata": {}
        }
      ],
      "source": [
        "# loss\n",
        "plt.plot(inc_history.history['top_k_categorical_accuracy'], label='train top-5 accuracy')\n",
        "plt.plot(inc_history.history['val_top_k_categorical_accuracy'], label='val top-5 accuracy')\n",
        "plt.legend()\n",
        "plt.title('InceptionV3 Top-5 Accuracy')\n",
        "plt.xlabel('Number of Epochs')\n",
        "plt.ylabel('Accuracy')\n",
        "plt.savefig('inc-top-5-rps-1.png')\n",
        "plt.show()\n",
        "files.download('inc-top-5-rps-1.png')"
      ],
      "id": "up04jGig0tXY"
    },
    {
      "cell_type": "code",
      "execution_count": 201,
      "metadata": {
        "colab": {
          "base_uri": "https://localhost:8080/"
        },
        "id": "r9RAEZsk0tXY",
        "outputId": "464b1ecb-44f3-4fdf-bd6d-9166b6731a3a"
      },
      "outputs": [
        {
          "output_type": "stream",
          "name": "stdout",
          "text": [
            "538/538 [==============================] - 10s 19ms/step - loss: 10.2265 - accuracy: 0.5446 - top_k_categorical_accuracy: 0.7677\n"
          ]
        },
        {
          "output_type": "execute_result",
          "data": {
            "text/plain": [
              "[10.226533889770508, 0.5446096658706665, 0.767657995223999]"
            ]
          },
          "metadata": {},
          "execution_count": 201
        }
      ],
      "source": [
        "# evaluate\n",
        "inc_model.evaluate(test_generator)"
      ],
      "id": "r9RAEZsk0tXY"
    },
    {
      "cell_type": "code",
      "execution_count": 200,
      "metadata": {
        "colab": {
          "base_uri": "https://localhost:8080/"
        },
        "id": "KpBW5skp0tXY",
        "outputId": "f84c7988-d88b-437a-fe08-a83497675f6a"
      },
      "outputs": [
        {
          "output_type": "stream",
          "name": "stdout",
          "text": [
            "538/538 [==============================] - 9s 16ms/step\n"
          ]
        }
      ],
      "source": [
        "# predict\n",
        "test_generator.reset()\n",
        "pred=inc_model.predict(test_generator,\n",
        "steps=test_generator.n//test_generator.batch_size,\n",
        "verbose=1)"
      ],
      "id": "KpBW5skp0tXY"
    },
    {
      "cell_type": "code",
      "execution_count": null,
      "metadata": {
        "id": "nGpt09380tXY"
      },
      "outputs": [],
      "source": [
        "y_pred = np.argmax(pred,axis=1)"
      ],
      "id": "nGpt09380tXY"
    },
    {
      "cell_type": "code",
      "execution_count": null,
      "metadata": {
        "id": "q4jhGXOo0tXZ"
      },
      "outputs": [],
      "source": [
        "#get classification report\n",
        "print(classification_report(y_pred, labels))\n"
      ],
      "id": "q4jhGXOo0tXZ"
    },
    {
      "cell_type": "code",
      "execution_count": null,
      "metadata": {
        "id": "LcRXuxzi0tXZ"
      },
      "outputs": [],
      "source": [
        "df = create_prediction_df(y_pred, labels)"
      ],
      "id": "LcRXuxzi0tXZ"
    },
    {
      "cell_type": "code",
      "execution_count": null,
      "metadata": {
        "id": "N2x50RCP0tXZ"
      },
      "outputs": [],
      "source": [
        "df.loc[df['actual_y']==df['pred']]"
      ],
      "id": "N2x50RCP0tXZ"
    },
    {
      "cell_type": "code",
      "execution_count": null,
      "metadata": {
        "id": "Juy1MolO0tXa"
      },
      "outputs": [],
      "source": [
        "print(f\"The InceptionV3 correctly predicted {df.loc[df['actual_y']==df['pred']].shape[0]} images from {df.loc[df['actual_y']==df['pred']]['actual_y'].value_counts().count()} classes out of {len(test_generator.labels)} images.\")"
      ],
      "id": "Juy1MolO0tXa"
    },
    {
      "cell_type": "code",
      "execution_count": null,
      "metadata": {
        "id": "CHF8d3QR0tXa"
      },
      "outputs": [],
      "source": [
        "df.loc[df['actual_y']==df['pred']]['names']"
      ],
      "id": "CHF8d3QR0tXa"
    },
    {
      "cell_type": "code",
      "execution_count": null,
      "metadata": {
        "id": "xVJx9LSC0tXa"
      },
      "outputs": [],
      "source": [
        "#Image.open(test_path+'/'+list(df.loc[df['actual_y']==df['pred']]['names'])[0])"
      ],
      "id": "xVJx9LSC0tXa"
    },
    {
      "cell_type": "markdown",
      "metadata": {
        "id": "03ec86b6"
      },
      "source": [
        "# MobileNetV2"
      ],
      "id": "03ec86b6"
    },
    {
      "cell_type": "code",
      "execution_count": 11,
      "metadata": {
        "colab": {
          "base_uri": "https://localhost:8080/"
        },
        "id": "d1176d70",
        "outputId": "cfe7a8eb-05e3-4ad1-c704-f3a8a7c06075"
      },
      "outputs": [
        {
          "output_type": "stream",
          "name": "stdout",
          "text": [
            "Downloading data from https://storage.googleapis.com/tensorflow/keras-applications/mobilenet_v2/mobilenet_v2_weights_tf_dim_ordering_tf_kernels_1.0_224_no_top.h5\n",
            "9412608/9406464 [==============================] - 0s 0us/step\n",
            "9420800/9406464 [==============================] - 0s 0us/step\n"
          ]
        }
      ],
      "source": [
        "mob = MobileNetV2(input_shape=(224,224, 3), weights='imagenet', include_top=False)"
      ],
      "id": "d1176d70"
    },
    {
      "cell_type": "code",
      "execution_count": 12,
      "metadata": {
        "id": "8003e5fd"
      },
      "outputs": [],
      "source": [
        "#do not train the pre-trained layers of mob-19\n",
        "for layer in mob.layers:\n",
        "    layer.trainable = False"
      ],
      "id": "8003e5fd"
    },
    {
      "cell_type": "code",
      "execution_count": 13,
      "metadata": {
        "id": "664173f8"
      },
      "outputs": [],
      "source": [
        "x = Flatten()(mob.output)"
      ],
      "id": "664173f8"
    },
    {
      "cell_type": "code",
      "execution_count": 14,
      "metadata": {
        "id": "e2c6df16"
      },
      "outputs": [],
      "source": [
        "#adding output layer.Softmax classifier is used as it is multi-class classification\n",
        "prediction = Dense(len(class_list), activation='softmax')(x)\n",
        "\n",
        "mob_model = Model(inputs=mob.input, outputs=prediction)"
      ],
      "id": "e2c6df16"
    },
    {
      "cell_type": "code",
      "execution_count": 15,
      "metadata": {
        "colab": {
          "base_uri": "https://localhost:8080/"
        },
        "id": "c28b72bc",
        "outputId": "8717a7fa-d5e7-46c6-ccea-b5e391a5be26"
      },
      "outputs": [
        {
          "output_type": "stream",
          "name": "stdout",
          "text": [
            "Model: \"model\"\n",
            "__________________________________________________________________________________________________\n",
            " Layer (type)                   Output Shape         Param #     Connected to                     \n",
            "==================================================================================================\n",
            " input_1 (InputLayer)           [(None, 224, 224, 3  0           []                               \n",
            "                                )]                                                                \n",
            "                                                                                                  \n",
            " Conv1 (Conv2D)                 (None, 112, 112, 32  864         ['input_1[0][0]']                \n",
            "                                )                                                                 \n",
            "                                                                                                  \n",
            " bn_Conv1 (BatchNormalization)  (None, 112, 112, 32  128         ['Conv1[0][0]']                  \n",
            "                                )                                                                 \n",
            "                                                                                                  \n",
            " Conv1_relu (ReLU)              (None, 112, 112, 32  0           ['bn_Conv1[0][0]']               \n",
            "                                )                                                                 \n",
            "                                                                                                  \n",
            " expanded_conv_depthwise (Depth  (None, 112, 112, 32  288        ['Conv1_relu[0][0]']             \n",
            " wiseConv2D)                    )                                                                 \n",
            "                                                                                                  \n",
            " expanded_conv_depthwise_BN (Ba  (None, 112, 112, 32  128        ['expanded_conv_depthwise[0][0]']\n",
            " tchNormalization)              )                                                                 \n",
            "                                                                                                  \n",
            " expanded_conv_depthwise_relu (  (None, 112, 112, 32  0          ['expanded_conv_depthwise_BN[0][0\n",
            " ReLU)                          )                                ]']                              \n",
            "                                                                                                  \n",
            " expanded_conv_project (Conv2D)  (None, 112, 112, 16  512        ['expanded_conv_depthwise_relu[0]\n",
            "                                )                                [0]']                            \n",
            "                                                                                                  \n",
            " expanded_conv_project_BN (Batc  (None, 112, 112, 16  64         ['expanded_conv_project[0][0]']  \n",
            " hNormalization)                )                                                                 \n",
            "                                                                                                  \n",
            " block_1_expand (Conv2D)        (None, 112, 112, 96  1536        ['expanded_conv_project_BN[0][0]'\n",
            "                                )                                ]                                \n",
            "                                                                                                  \n",
            " block_1_expand_BN (BatchNormal  (None, 112, 112, 96  384        ['block_1_expand[0][0]']         \n",
            " ization)                       )                                                                 \n",
            "                                                                                                  \n",
            " block_1_expand_relu (ReLU)     (None, 112, 112, 96  0           ['block_1_expand_BN[0][0]']      \n",
            "                                )                                                                 \n",
            "                                                                                                  \n",
            " block_1_pad (ZeroPadding2D)    (None, 113, 113, 96  0           ['block_1_expand_relu[0][0]']    \n",
            "                                )                                                                 \n",
            "                                                                                                  \n",
            " block_1_depthwise (DepthwiseCo  (None, 56, 56, 96)  864         ['block_1_pad[0][0]']            \n",
            " nv2D)                                                                                            \n",
            "                                                                                                  \n",
            " block_1_depthwise_BN (BatchNor  (None, 56, 56, 96)  384         ['block_1_depthwise[0][0]']      \n",
            " malization)                                                                                      \n",
            "                                                                                                  \n",
            " block_1_depthwise_relu (ReLU)  (None, 56, 56, 96)   0           ['block_1_depthwise_BN[0][0]']   \n",
            "                                                                                                  \n",
            " block_1_project (Conv2D)       (None, 56, 56, 24)   2304        ['block_1_depthwise_relu[0][0]'] \n",
            "                                                                                                  \n",
            " block_1_project_BN (BatchNorma  (None, 56, 56, 24)  96          ['block_1_project[0][0]']        \n",
            " lization)                                                                                        \n",
            "                                                                                                  \n",
            " block_2_expand (Conv2D)        (None, 56, 56, 144)  3456        ['block_1_project_BN[0][0]']     \n",
            "                                                                                                  \n",
            " block_2_expand_BN (BatchNormal  (None, 56, 56, 144)  576        ['block_2_expand[0][0]']         \n",
            " ization)                                                                                         \n",
            "                                                                                                  \n",
            " block_2_expand_relu (ReLU)     (None, 56, 56, 144)  0           ['block_2_expand_BN[0][0]']      \n",
            "                                                                                                  \n",
            " block_2_depthwise (DepthwiseCo  (None, 56, 56, 144)  1296       ['block_2_expand_relu[0][0]']    \n",
            " nv2D)                                                                                            \n",
            "                                                                                                  \n",
            " block_2_depthwise_BN (BatchNor  (None, 56, 56, 144)  576        ['block_2_depthwise[0][0]']      \n",
            " malization)                                                                                      \n",
            "                                                                                                  \n",
            " block_2_depthwise_relu (ReLU)  (None, 56, 56, 144)  0           ['block_2_depthwise_BN[0][0]']   \n",
            "                                                                                                  \n",
            " block_2_project (Conv2D)       (None, 56, 56, 24)   3456        ['block_2_depthwise_relu[0][0]'] \n",
            "                                                                                                  \n",
            " block_2_project_BN (BatchNorma  (None, 56, 56, 24)  96          ['block_2_project[0][0]']        \n",
            " lization)                                                                                        \n",
            "                                                                                                  \n",
            " block_2_add (Add)              (None, 56, 56, 24)   0           ['block_1_project_BN[0][0]',     \n",
            "                                                                  'block_2_project_BN[0][0]']     \n",
            "                                                                                                  \n",
            " block_3_expand (Conv2D)        (None, 56, 56, 144)  3456        ['block_2_add[0][0]']            \n",
            "                                                                                                  \n",
            " block_3_expand_BN (BatchNormal  (None, 56, 56, 144)  576        ['block_3_expand[0][0]']         \n",
            " ization)                                                                                         \n",
            "                                                                                                  \n",
            " block_3_expand_relu (ReLU)     (None, 56, 56, 144)  0           ['block_3_expand_BN[0][0]']      \n",
            "                                                                                                  \n",
            " block_3_pad (ZeroPadding2D)    (None, 57, 57, 144)  0           ['block_3_expand_relu[0][0]']    \n",
            "                                                                                                  \n",
            " block_3_depthwise (DepthwiseCo  (None, 28, 28, 144)  1296       ['block_3_pad[0][0]']            \n",
            " nv2D)                                                                                            \n",
            "                                                                                                  \n",
            " block_3_depthwise_BN (BatchNor  (None, 28, 28, 144)  576        ['block_3_depthwise[0][0]']      \n",
            " malization)                                                                                      \n",
            "                                                                                                  \n",
            " block_3_depthwise_relu (ReLU)  (None, 28, 28, 144)  0           ['block_3_depthwise_BN[0][0]']   \n",
            "                                                                                                  \n",
            " block_3_project (Conv2D)       (None, 28, 28, 32)   4608        ['block_3_depthwise_relu[0][0]'] \n",
            "                                                                                                  \n",
            " block_3_project_BN (BatchNorma  (None, 28, 28, 32)  128         ['block_3_project[0][0]']        \n",
            " lization)                                                                                        \n",
            "                                                                                                  \n",
            " block_4_expand (Conv2D)        (None, 28, 28, 192)  6144        ['block_3_project_BN[0][0]']     \n",
            "                                                                                                  \n",
            " block_4_expand_BN (BatchNormal  (None, 28, 28, 192)  768        ['block_4_expand[0][0]']         \n",
            " ization)                                                                                         \n",
            "                                                                                                  \n",
            " block_4_expand_relu (ReLU)     (None, 28, 28, 192)  0           ['block_4_expand_BN[0][0]']      \n",
            "                                                                                                  \n",
            " block_4_depthwise (DepthwiseCo  (None, 28, 28, 192)  1728       ['block_4_expand_relu[0][0]']    \n",
            " nv2D)                                                                                            \n",
            "                                                                                                  \n",
            " block_4_depthwise_BN (BatchNor  (None, 28, 28, 192)  768        ['block_4_depthwise[0][0]']      \n",
            " malization)                                                                                      \n",
            "                                                                                                  \n",
            " block_4_depthwise_relu (ReLU)  (None, 28, 28, 192)  0           ['block_4_depthwise_BN[0][0]']   \n",
            "                                                                                                  \n",
            " block_4_project (Conv2D)       (None, 28, 28, 32)   6144        ['block_4_depthwise_relu[0][0]'] \n",
            "                                                                                                  \n",
            " block_4_project_BN (BatchNorma  (None, 28, 28, 32)  128         ['block_4_project[0][0]']        \n",
            " lization)                                                                                        \n",
            "                                                                                                  \n",
            " block_4_add (Add)              (None, 28, 28, 32)   0           ['block_3_project_BN[0][0]',     \n",
            "                                                                  'block_4_project_BN[0][0]']     \n",
            "                                                                                                  \n",
            " block_5_expand (Conv2D)        (None, 28, 28, 192)  6144        ['block_4_add[0][0]']            \n",
            "                                                                                                  \n",
            " block_5_expand_BN (BatchNormal  (None, 28, 28, 192)  768        ['block_5_expand[0][0]']         \n",
            " ization)                                                                                         \n",
            "                                                                                                  \n",
            " block_5_expand_relu (ReLU)     (None, 28, 28, 192)  0           ['block_5_expand_BN[0][0]']      \n",
            "                                                                                                  \n",
            " block_5_depthwise (DepthwiseCo  (None, 28, 28, 192)  1728       ['block_5_expand_relu[0][0]']    \n",
            " nv2D)                                                                                            \n",
            "                                                                                                  \n",
            " block_5_depthwise_BN (BatchNor  (None, 28, 28, 192)  768        ['block_5_depthwise[0][0]']      \n",
            " malization)                                                                                      \n",
            "                                                                                                  \n",
            " block_5_depthwise_relu (ReLU)  (None, 28, 28, 192)  0           ['block_5_depthwise_BN[0][0]']   \n",
            "                                                                                                  \n",
            " block_5_project (Conv2D)       (None, 28, 28, 32)   6144        ['block_5_depthwise_relu[0][0]'] \n",
            "                                                                                                  \n",
            " block_5_project_BN (BatchNorma  (None, 28, 28, 32)  128         ['block_5_project[0][0]']        \n",
            " lization)                                                                                        \n",
            "                                                                                                  \n",
            " block_5_add (Add)              (None, 28, 28, 32)   0           ['block_4_add[0][0]',            \n",
            "                                                                  'block_5_project_BN[0][0]']     \n",
            "                                                                                                  \n",
            " block_6_expand (Conv2D)        (None, 28, 28, 192)  6144        ['block_5_add[0][0]']            \n",
            "                                                                                                  \n",
            " block_6_expand_BN (BatchNormal  (None, 28, 28, 192)  768        ['block_6_expand[0][0]']         \n",
            " ization)                                                                                         \n",
            "                                                                                                  \n",
            " block_6_expand_relu (ReLU)     (None, 28, 28, 192)  0           ['block_6_expand_BN[0][0]']      \n",
            "                                                                                                  \n",
            " block_6_pad (ZeroPadding2D)    (None, 29, 29, 192)  0           ['block_6_expand_relu[0][0]']    \n",
            "                                                                                                  \n",
            " block_6_depthwise (DepthwiseCo  (None, 14, 14, 192)  1728       ['block_6_pad[0][0]']            \n",
            " nv2D)                                                                                            \n",
            "                                                                                                  \n",
            " block_6_depthwise_BN (BatchNor  (None, 14, 14, 192)  768        ['block_6_depthwise[0][0]']      \n",
            " malization)                                                                                      \n",
            "                                                                                                  \n",
            " block_6_depthwise_relu (ReLU)  (None, 14, 14, 192)  0           ['block_6_depthwise_BN[0][0]']   \n",
            "                                                                                                  \n",
            " block_6_project (Conv2D)       (None, 14, 14, 64)   12288       ['block_6_depthwise_relu[0][0]'] \n",
            "                                                                                                  \n",
            " block_6_project_BN (BatchNorma  (None, 14, 14, 64)  256         ['block_6_project[0][0]']        \n",
            " lization)                                                                                        \n",
            "                                                                                                  \n",
            " block_7_expand (Conv2D)        (None, 14, 14, 384)  24576       ['block_6_project_BN[0][0]']     \n",
            "                                                                                                  \n",
            " block_7_expand_BN (BatchNormal  (None, 14, 14, 384)  1536       ['block_7_expand[0][0]']         \n",
            " ization)                                                                                         \n",
            "                                                                                                  \n",
            " block_7_expand_relu (ReLU)     (None, 14, 14, 384)  0           ['block_7_expand_BN[0][0]']      \n",
            "                                                                                                  \n",
            " block_7_depthwise (DepthwiseCo  (None, 14, 14, 384)  3456       ['block_7_expand_relu[0][0]']    \n",
            " nv2D)                                                                                            \n",
            "                                                                                                  \n",
            " block_7_depthwise_BN (BatchNor  (None, 14, 14, 384)  1536       ['block_7_depthwise[0][0]']      \n",
            " malization)                                                                                      \n",
            "                                                                                                  \n",
            " block_7_depthwise_relu (ReLU)  (None, 14, 14, 384)  0           ['block_7_depthwise_BN[0][0]']   \n",
            "                                                                                                  \n",
            " block_7_project (Conv2D)       (None, 14, 14, 64)   24576       ['block_7_depthwise_relu[0][0]'] \n",
            "                                                                                                  \n",
            " block_7_project_BN (BatchNorma  (None, 14, 14, 64)  256         ['block_7_project[0][0]']        \n",
            " lization)                                                                                        \n",
            "                                                                                                  \n",
            " block_7_add (Add)              (None, 14, 14, 64)   0           ['block_6_project_BN[0][0]',     \n",
            "                                                                  'block_7_project_BN[0][0]']     \n",
            "                                                                                                  \n",
            " block_8_expand (Conv2D)        (None, 14, 14, 384)  24576       ['block_7_add[0][0]']            \n",
            "                                                                                                  \n",
            " block_8_expand_BN (BatchNormal  (None, 14, 14, 384)  1536       ['block_8_expand[0][0]']         \n",
            " ization)                                                                                         \n",
            "                                                                                                  \n",
            " block_8_expand_relu (ReLU)     (None, 14, 14, 384)  0           ['block_8_expand_BN[0][0]']      \n",
            "                                                                                                  \n",
            " block_8_depthwise (DepthwiseCo  (None, 14, 14, 384)  3456       ['block_8_expand_relu[0][0]']    \n",
            " nv2D)                                                                                            \n",
            "                                                                                                  \n",
            " block_8_depthwise_BN (BatchNor  (None, 14, 14, 384)  1536       ['block_8_depthwise[0][0]']      \n",
            " malization)                                                                                      \n",
            "                                                                                                  \n",
            " block_8_depthwise_relu (ReLU)  (None, 14, 14, 384)  0           ['block_8_depthwise_BN[0][0]']   \n",
            "                                                                                                  \n",
            " block_8_project (Conv2D)       (None, 14, 14, 64)   24576       ['block_8_depthwise_relu[0][0]'] \n",
            "                                                                                                  \n",
            " block_8_project_BN (BatchNorma  (None, 14, 14, 64)  256         ['block_8_project[0][0]']        \n",
            " lization)                                                                                        \n",
            "                                                                                                  \n",
            " block_8_add (Add)              (None, 14, 14, 64)   0           ['block_7_add[0][0]',            \n",
            "                                                                  'block_8_project_BN[0][0]']     \n",
            "                                                                                                  \n",
            " block_9_expand (Conv2D)        (None, 14, 14, 384)  24576       ['block_8_add[0][0]']            \n",
            "                                                                                                  \n",
            " block_9_expand_BN (BatchNormal  (None, 14, 14, 384)  1536       ['block_9_expand[0][0]']         \n",
            " ization)                                                                                         \n",
            "                                                                                                  \n",
            " block_9_expand_relu (ReLU)     (None, 14, 14, 384)  0           ['block_9_expand_BN[0][0]']      \n",
            "                                                                                                  \n",
            " block_9_depthwise (DepthwiseCo  (None, 14, 14, 384)  3456       ['block_9_expand_relu[0][0]']    \n",
            " nv2D)                                                                                            \n",
            "                                                                                                  \n",
            " block_9_depthwise_BN (BatchNor  (None, 14, 14, 384)  1536       ['block_9_depthwise[0][0]']      \n",
            " malization)                                                                                      \n",
            "                                                                                                  \n",
            " block_9_depthwise_relu (ReLU)  (None, 14, 14, 384)  0           ['block_9_depthwise_BN[0][0]']   \n",
            "                                                                                                  \n",
            " block_9_project (Conv2D)       (None, 14, 14, 64)   24576       ['block_9_depthwise_relu[0][0]'] \n",
            "                                                                                                  \n",
            " block_9_project_BN (BatchNorma  (None, 14, 14, 64)  256         ['block_9_project[0][0]']        \n",
            " lization)                                                                                        \n",
            "                                                                                                  \n",
            " block_9_add (Add)              (None, 14, 14, 64)   0           ['block_8_add[0][0]',            \n",
            "                                                                  'block_9_project_BN[0][0]']     \n",
            "                                                                                                  \n",
            " block_10_expand (Conv2D)       (None, 14, 14, 384)  24576       ['block_9_add[0][0]']            \n",
            "                                                                                                  \n",
            " block_10_expand_BN (BatchNorma  (None, 14, 14, 384)  1536       ['block_10_expand[0][0]']        \n",
            " lization)                                                                                        \n",
            "                                                                                                  \n",
            " block_10_expand_relu (ReLU)    (None, 14, 14, 384)  0           ['block_10_expand_BN[0][0]']     \n",
            "                                                                                                  \n",
            " block_10_depthwise (DepthwiseC  (None, 14, 14, 384)  3456       ['block_10_expand_relu[0][0]']   \n",
            " onv2D)                                                                                           \n",
            "                                                                                                  \n",
            " block_10_depthwise_BN (BatchNo  (None, 14, 14, 384)  1536       ['block_10_depthwise[0][0]']     \n",
            " rmalization)                                                                                     \n",
            "                                                                                                  \n",
            " block_10_depthwise_relu (ReLU)  (None, 14, 14, 384)  0          ['block_10_depthwise_BN[0][0]']  \n",
            "                                                                                                  \n",
            " block_10_project (Conv2D)      (None, 14, 14, 96)   36864       ['block_10_depthwise_relu[0][0]']\n",
            "                                                                                                  \n",
            " block_10_project_BN (BatchNorm  (None, 14, 14, 96)  384         ['block_10_project[0][0]']       \n",
            " alization)                                                                                       \n",
            "                                                                                                  \n",
            " block_11_expand (Conv2D)       (None, 14, 14, 576)  55296       ['block_10_project_BN[0][0]']    \n",
            "                                                                                                  \n",
            " block_11_expand_BN (BatchNorma  (None, 14, 14, 576)  2304       ['block_11_expand[0][0]']        \n",
            " lization)                                                                                        \n",
            "                                                                                                  \n",
            " block_11_expand_relu (ReLU)    (None, 14, 14, 576)  0           ['block_11_expand_BN[0][0]']     \n",
            "                                                                                                  \n",
            " block_11_depthwise (DepthwiseC  (None, 14, 14, 576)  5184       ['block_11_expand_relu[0][0]']   \n",
            " onv2D)                                                                                           \n",
            "                                                                                                  \n",
            " block_11_depthwise_BN (BatchNo  (None, 14, 14, 576)  2304       ['block_11_depthwise[0][0]']     \n",
            " rmalization)                                                                                     \n",
            "                                                                                                  \n",
            " block_11_depthwise_relu (ReLU)  (None, 14, 14, 576)  0          ['block_11_depthwise_BN[0][0]']  \n",
            "                                                                                                  \n",
            " block_11_project (Conv2D)      (None, 14, 14, 96)   55296       ['block_11_depthwise_relu[0][0]']\n",
            "                                                                                                  \n",
            " block_11_project_BN (BatchNorm  (None, 14, 14, 96)  384         ['block_11_project[0][0]']       \n",
            " alization)                                                                                       \n",
            "                                                                                                  \n",
            " block_11_add (Add)             (None, 14, 14, 96)   0           ['block_10_project_BN[0][0]',    \n",
            "                                                                  'block_11_project_BN[0][0]']    \n",
            "                                                                                                  \n",
            " block_12_expand (Conv2D)       (None, 14, 14, 576)  55296       ['block_11_add[0][0]']           \n",
            "                                                                                                  \n",
            " block_12_expand_BN (BatchNorma  (None, 14, 14, 576)  2304       ['block_12_expand[0][0]']        \n",
            " lization)                                                                                        \n",
            "                                                                                                  \n",
            " block_12_expand_relu (ReLU)    (None, 14, 14, 576)  0           ['block_12_expand_BN[0][0]']     \n",
            "                                                                                                  \n",
            " block_12_depthwise (DepthwiseC  (None, 14, 14, 576)  5184       ['block_12_expand_relu[0][0]']   \n",
            " onv2D)                                                                                           \n",
            "                                                                                                  \n",
            " block_12_depthwise_BN (BatchNo  (None, 14, 14, 576)  2304       ['block_12_depthwise[0][0]']     \n",
            " rmalization)                                                                                     \n",
            "                                                                                                  \n",
            " block_12_depthwise_relu (ReLU)  (None, 14, 14, 576)  0          ['block_12_depthwise_BN[0][0]']  \n",
            "                                                                                                  \n",
            " block_12_project (Conv2D)      (None, 14, 14, 96)   55296       ['block_12_depthwise_relu[0][0]']\n",
            "                                                                                                  \n",
            " block_12_project_BN (BatchNorm  (None, 14, 14, 96)  384         ['block_12_project[0][0]']       \n",
            " alization)                                                                                       \n",
            "                                                                                                  \n",
            " block_12_add (Add)             (None, 14, 14, 96)   0           ['block_11_add[0][0]',           \n",
            "                                                                  'block_12_project_BN[0][0]']    \n",
            "                                                                                                  \n",
            " block_13_expand (Conv2D)       (None, 14, 14, 576)  55296       ['block_12_add[0][0]']           \n",
            "                                                                                                  \n",
            " block_13_expand_BN (BatchNorma  (None, 14, 14, 576)  2304       ['block_13_expand[0][0]']        \n",
            " lization)                                                                                        \n",
            "                                                                                                  \n",
            " block_13_expand_relu (ReLU)    (None, 14, 14, 576)  0           ['block_13_expand_BN[0][0]']     \n",
            "                                                                                                  \n",
            " block_13_pad (ZeroPadding2D)   (None, 15, 15, 576)  0           ['block_13_expand_relu[0][0]']   \n",
            "                                                                                                  \n",
            " block_13_depthwise (DepthwiseC  (None, 7, 7, 576)   5184        ['block_13_pad[0][0]']           \n",
            " onv2D)                                                                                           \n",
            "                                                                                                  \n",
            " block_13_depthwise_BN (BatchNo  (None, 7, 7, 576)   2304        ['block_13_depthwise[0][0]']     \n",
            " rmalization)                                                                                     \n",
            "                                                                                                  \n",
            " block_13_depthwise_relu (ReLU)  (None, 7, 7, 576)   0           ['block_13_depthwise_BN[0][0]']  \n",
            "                                                                                                  \n",
            " block_13_project (Conv2D)      (None, 7, 7, 160)    92160       ['block_13_depthwise_relu[0][0]']\n",
            "                                                                                                  \n",
            " block_13_project_BN (BatchNorm  (None, 7, 7, 160)   640         ['block_13_project[0][0]']       \n",
            " alization)                                                                                       \n",
            "                                                                                                  \n",
            " block_14_expand (Conv2D)       (None, 7, 7, 960)    153600      ['block_13_project_BN[0][0]']    \n",
            "                                                                                                  \n",
            " block_14_expand_BN (BatchNorma  (None, 7, 7, 960)   3840        ['block_14_expand[0][0]']        \n",
            " lization)                                                                                        \n",
            "                                                                                                  \n",
            " block_14_expand_relu (ReLU)    (None, 7, 7, 960)    0           ['block_14_expand_BN[0][0]']     \n",
            "                                                                                                  \n",
            " block_14_depthwise (DepthwiseC  (None, 7, 7, 960)   8640        ['block_14_expand_relu[0][0]']   \n",
            " onv2D)                                                                                           \n",
            "                                                                                                  \n",
            " block_14_depthwise_BN (BatchNo  (None, 7, 7, 960)   3840        ['block_14_depthwise[0][0]']     \n",
            " rmalization)                                                                                     \n",
            "                                                                                                  \n",
            " block_14_depthwise_relu (ReLU)  (None, 7, 7, 960)   0           ['block_14_depthwise_BN[0][0]']  \n",
            "                                                                                                  \n",
            " block_14_project (Conv2D)      (None, 7, 7, 160)    153600      ['block_14_depthwise_relu[0][0]']\n",
            "                                                                                                  \n",
            " block_14_project_BN (BatchNorm  (None, 7, 7, 160)   640         ['block_14_project[0][0]']       \n",
            " alization)                                                                                       \n",
            "                                                                                                  \n",
            " block_14_add (Add)             (None, 7, 7, 160)    0           ['block_13_project_BN[0][0]',    \n",
            "                                                                  'block_14_project_BN[0][0]']    \n",
            "                                                                                                  \n",
            " block_15_expand (Conv2D)       (None, 7, 7, 960)    153600      ['block_14_add[0][0]']           \n",
            "                                                                                                  \n",
            " block_15_expand_BN (BatchNorma  (None, 7, 7, 960)   3840        ['block_15_expand[0][0]']        \n",
            " lization)                                                                                        \n",
            "                                                                                                  \n",
            " block_15_expand_relu (ReLU)    (None, 7, 7, 960)    0           ['block_15_expand_BN[0][0]']     \n",
            "                                                                                                  \n",
            " block_15_depthwise (DepthwiseC  (None, 7, 7, 960)   8640        ['block_15_expand_relu[0][0]']   \n",
            " onv2D)                                                                                           \n",
            "                                                                                                  \n",
            " block_15_depthwise_BN (BatchNo  (None, 7, 7, 960)   3840        ['block_15_depthwise[0][0]']     \n",
            " rmalization)                                                                                     \n",
            "                                                                                                  \n",
            " block_15_depthwise_relu (ReLU)  (None, 7, 7, 960)   0           ['block_15_depthwise_BN[0][0]']  \n",
            "                                                                                                  \n",
            " block_15_project (Conv2D)      (None, 7, 7, 160)    153600      ['block_15_depthwise_relu[0][0]']\n",
            "                                                                                                  \n",
            " block_15_project_BN (BatchNorm  (None, 7, 7, 160)   640         ['block_15_project[0][0]']       \n",
            " alization)                                                                                       \n",
            "                                                                                                  \n",
            " block_15_add (Add)             (None, 7, 7, 160)    0           ['block_14_add[0][0]',           \n",
            "                                                                  'block_15_project_BN[0][0]']    \n",
            "                                                                                                  \n",
            " block_16_expand (Conv2D)       (None, 7, 7, 960)    153600      ['block_15_add[0][0]']           \n",
            "                                                                                                  \n",
            " block_16_expand_BN (BatchNorma  (None, 7, 7, 960)   3840        ['block_16_expand[0][0]']        \n",
            " lization)                                                                                        \n",
            "                                                                                                  \n",
            " block_16_expand_relu (ReLU)    (None, 7, 7, 960)    0           ['block_16_expand_BN[0][0]']     \n",
            "                                                                                                  \n",
            " block_16_depthwise (DepthwiseC  (None, 7, 7, 960)   8640        ['block_16_expand_relu[0][0]']   \n",
            " onv2D)                                                                                           \n",
            "                                                                                                  \n",
            " block_16_depthwise_BN (BatchNo  (None, 7, 7, 960)   3840        ['block_16_depthwise[0][0]']     \n",
            " rmalization)                                                                                     \n",
            "                                                                                                  \n",
            " block_16_depthwise_relu (ReLU)  (None, 7, 7, 960)   0           ['block_16_depthwise_BN[0][0]']  \n",
            "                                                                                                  \n",
            " block_16_project (Conv2D)      (None, 7, 7, 320)    307200      ['block_16_depthwise_relu[0][0]']\n",
            "                                                                                                  \n",
            " block_16_project_BN (BatchNorm  (None, 7, 7, 320)   1280        ['block_16_project[0][0]']       \n",
            " alization)                                                                                       \n",
            "                                                                                                  \n",
            " Conv_1 (Conv2D)                (None, 7, 7, 1280)   409600      ['block_16_project_BN[0][0]']    \n",
            "                                                                                                  \n",
            " Conv_1_bn (BatchNormalization)  (None, 7, 7, 1280)  5120        ['Conv_1[0][0]']                 \n",
            "                                                                                                  \n",
            " out_relu (ReLU)                (None, 7, 7, 1280)   0           ['Conv_1_bn[0][0]']              \n",
            "                                                                                                  \n",
            " flatten (Flatten)              (None, 62720)        0           ['out_relu[0][0]']               \n",
            "                                                                                                  \n",
            " dense (Dense)                  (None, 50)           3136050     ['flatten[0][0]']                \n",
            "                                                                                                  \n",
            "==================================================================================================\n",
            "Total params: 5,394,034\n",
            "Trainable params: 3,136,050\n",
            "Non-trainable params: 2,257,984\n",
            "__________________________________________________________________________________________________\n"
          ]
        }
      ],
      "source": [
        "# view the structure of the model\n",
        "mob_model.summary()"
      ],
      "id": "c28b72bc"
    },
    {
      "cell_type": "code",
      "execution_count": 16,
      "metadata": {
        "id": "eL00HGFx0wOL"
      },
      "outputs": [],
      "source": [
        "# Compile model\n",
        "mob_model.compile(\n",
        "    loss='categorical_crossentropy',\n",
        "    optimizer='adam',\n",
        "    metrics=['accuracy', 'top_k_categorical_accuracy']\n",
        ")"
      ],
      "id": "eL00HGFx0wOL"
    },
    {
      "cell_type": "code",
      "execution_count": 17,
      "metadata": {
        "id": "J0J_uLTv0wOM"
      },
      "outputs": [],
      "source": [
        "# Include checkpoint \n",
        "\n",
        "#checkpoint_path = \"../checkpoint/baseline_cnn//cp-{epoch:04d}.ckpt\"\n",
        "\n",
        "\n",
        "# Create a callback that saves the model's weights\n",
        "#cp_callback = tf.keras.callbacks.ModelCheckpoint(filepath=checkpoint_path,\n",
        "#                                                 save_weights_only=True,\n",
        "#                                                verbose=1)"
      ],
      "id": "J0J_uLTv0wOM"
    },
    {
      "cell_type": "code",
      "execution_count": 18,
      "metadata": {
        "colab": {
          "base_uri": "https://localhost:8080/"
        },
        "id": "pHTZiQkT0wOM",
        "outputId": "86951237-35b8-46e6-c254-48ccb7df03b3"
      },
      "outputs": [
        {
          "output_type": "stream",
          "name": "stdout",
          "text": [
            "Epoch 1/15\n",
            "50/50 [==============================] - 595s 12s/step - loss: 10.0132 - accuracy: 0.3986 - top_k_categorical_accuracy: 0.6639 - val_loss: 7.2000 - val_accuracy: 0.5673 - val_top_k_categorical_accuracy: 0.8101\n",
            "Epoch 2/15\n",
            "50/50 [==============================] - 15s 307ms/step - loss: 1.0538 - accuracy: 0.9166 - top_k_categorical_accuracy: 0.9773 - val_loss: 4.9740 - val_accuracy: 0.6611 - val_top_k_categorical_accuracy: 0.8750\n",
            "Epoch 3/15\n",
            "50/50 [==============================] - 15s 303ms/step - loss: 0.2570 - accuracy: 0.9735 - top_k_categorical_accuracy: 0.9962 - val_loss: 5.4184 - val_accuracy: 0.6875 - val_top_k_categorical_accuracy: 0.8870\n",
            "Epoch 4/15\n",
            "50/50 [==============================] - 15s 305ms/step - loss: 0.3116 - accuracy: 0.9703 - top_k_categorical_accuracy: 0.9987 - val_loss: 6.3148 - val_accuracy: 0.6250 - val_top_k_categorical_accuracy: 0.8486\n",
            "Epoch 5/15\n",
            "50/50 [==============================] - 16s 311ms/step - loss: 0.1847 - accuracy: 0.9792 - top_k_categorical_accuracy: 0.9987 - val_loss: 6.3937 - val_accuracy: 0.6202 - val_top_k_categorical_accuracy: 0.8726\n",
            "Epoch 6/15\n",
            "50/50 [==============================] - 15s 306ms/step - loss: 0.1572 - accuracy: 0.9867 - top_k_categorical_accuracy: 0.9987 - val_loss: 5.9041 - val_accuracy: 0.6635 - val_top_k_categorical_accuracy: 0.8870\n",
            "Epoch 7/15\n",
            "50/50 [==============================] - 15s 307ms/step - loss: 0.0508 - accuracy: 0.9937 - top_k_categorical_accuracy: 0.9994 - val_loss: 5.5929 - val_accuracy: 0.6683 - val_top_k_categorical_accuracy: 0.8870\n",
            "Epoch 8/15\n",
            "50/50 [==============================] - 15s 302ms/step - loss: 0.1253 - accuracy: 0.9943 - top_k_categorical_accuracy: 0.9994 - val_loss: 5.9195 - val_accuracy: 0.6707 - val_top_k_categorical_accuracy: 0.8798\n",
            "Epoch 9/15\n",
            "50/50 [==============================] - 15s 305ms/step - loss: 0.1373 - accuracy: 0.9924 - top_k_categorical_accuracy: 0.9987 - val_loss: 5.7354 - val_accuracy: 0.6827 - val_top_k_categorical_accuracy: 0.8894\n",
            "Epoch 10/15\n",
            "50/50 [==============================] - 15s 304ms/step - loss: 0.1568 - accuracy: 0.9949 - top_k_categorical_accuracy: 0.9994 - val_loss: 6.5296 - val_accuracy: 0.6611 - val_top_k_categorical_accuracy: 0.8798\n",
            "Epoch 11/15\n",
            "50/50 [==============================] - 15s 304ms/step - loss: 0.2506 - accuracy: 0.9874 - top_k_categorical_accuracy: 0.9987 - val_loss: 6.2892 - val_accuracy: 0.6779 - val_top_k_categorical_accuracy: 0.8726\n",
            "Epoch 12/15\n",
            "50/50 [==============================] - 15s 305ms/step - loss: 0.2172 - accuracy: 0.9886 - top_k_categorical_accuracy: 0.9981 - val_loss: 8.0111 - val_accuracy: 0.6106 - val_top_k_categorical_accuracy: 0.8582\n",
            "Epoch 13/15\n",
            "50/50 [==============================] - 15s 303ms/step - loss: 0.1646 - accuracy: 0.9855 - top_k_categorical_accuracy: 0.9994 - val_loss: 7.0678 - val_accuracy: 0.6490 - val_top_k_categorical_accuracy: 0.8534\n",
            "Epoch 14/15\n",
            "50/50 [==============================] - 15s 305ms/step - loss: 0.2090 - accuracy: 0.9792 - top_k_categorical_accuracy: 0.9981 - val_loss: 8.7335 - val_accuracy: 0.6058 - val_top_k_categorical_accuracy: 0.8702\n",
            "Epoch 15/15\n",
            "50/50 [==============================] - 15s 310ms/step - loss: 0.3786 - accuracy: 0.9754 - top_k_categorical_accuracy: 0.9987 - val_loss: 8.2071 - val_accuracy: 0.6490 - val_top_k_categorical_accuracy: 0.8534\n"
          ]
        }
      ],
      "source": [
        "# fit the model\n",
        "mob_history = mob_model.fit(\n",
        "    train_generator,\n",
        "    steps_per_epoch=train_generator.n//train_generator.batch_size,\n",
        "    validation_data=val_generator,\n",
        "    validation_steps=val_generator.n//val_generator.batch_size,\n",
        "    epochs=15,\n",
        "    shuffle=True,\n",
        "    verbose=1\n",
        ")"
      ],
      "id": "pHTZiQkT0wOM"
    },
    {
      "cell_type": "code",
      "execution_count": 19,
      "metadata": {
        "id": "oBP15ILS0wOM"
      },
      "outputs": [],
      "source": [
        "# saving mob model\n",
        "#mob_model.save('mob')\n",
        "#files.download('mob')"
      ],
      "id": "oBP15ILS0wOM"
    },
    {
      "cell_type": "code",
      "execution_count": 29,
      "metadata": {
        "colab": {
          "base_uri": "https://localhost:8080/",
          "height": 295
        },
        "id": "opUaovfg0wON",
        "outputId": "279cfaa2-bc41-4d4c-a949-30bdab71d1d8"
      },
      "outputs": [
        {
          "output_type": "display_data",
          "data": {
            "text/plain": [
              "<Figure size 432x288 with 1 Axes>"
            ],
            "image/png": "[encoded data removed]"
          },
          "metadata": {
            "needs_background": "light"
          }
        },
        {
          "output_type": "display_data",
          "data": {
            "text/plain": [
              "<IPython.core.display.Javascript object>"
            ],
            "application/javascript": [
              "\n",
              "    async function download(id, filename, size) {\n",
              "      if (!google.colab.kernel.accessAllowed) {\n",
              "        return;\n",
              "      }\n",
              "      const div = document.createElement('div');\n",
              "      const label = document.createElement('label');\n",
              "      label.textContent = `Downloading \"${filename}\": `;\n",
              "      div.appendChild(label);\n",
              "      const progress = document.createElement('progress');\n",
              "      progress.max = size;\n",
              "      div.appendChild(progress);\n",
              "      document.body.appendChild(div);\n",
              "\n",
              "      const buffers = [];\n",
              "      let downloaded = 0;\n",
              "\n",
              "      const channel = await google.colab.kernel.comms.open(id);\n",
              "      // Send a message to notify the kernel that we're ready.\n",
              "      channel.send({})\n",
              "\n",
              "      for await (const message of channel.messages) {\n",
              "        // Send a message to notify the kernel that we're ready.\n",
              "        channel.send({})\n",
              "        if (message.buffers) {\n",
              "          for (const buffer of message.buffers) {\n",
              "            buffers.push(buffer);\n",
              "            downloaded += buffer.byteLength;\n",
              "            progress.value = downloaded;\n",
              "          }\n",
              "        }\n",
              "      }\n",
              "      const blob = new Blob(buffers, {type: 'application/binary'});\n",
              "      const a = document.createElement('a');\n",
              "      a.href = window.URL.createObjectURL(blob);\n",
              "      a.download = filename;\n",
              "      div.appendChild(a);\n",
              "      a.click();\n",
              "      div.remove();\n",
              "    }\n",
              "  "
            ]
          },
          "metadata": {}
        },
        {
          "output_type": "display_data",
          "data": {
            "text/plain": [
              "<IPython.core.display.Javascript object>"
            ],
            "application/javascript": [
              "download(\"download_bb9b076a-722e-4d3c-b412-f8cfc58db22e\", \"mob-acc-rps-1.png\", 18476)"
            ]
          },
          "metadata": {}
        }
      ],
      "source": [
        "# accuracies\n",
        "plt.plot(mob_history.history['accuracy'], label='train acc')\n",
        "plt.plot(mob_history.history['val_accuracy'], label='val acc')\n",
        "plt.legend()\n",
        "plt.title('MobileNetV2 Top-1 Accuracy')\n",
        "plt.xlabel('Number of Epochs')\n",
        "plt.ylabel('Accuracy')\n",
        "plt.savefig('mob-acc-rps-1.png')\n",
        "plt.show()\n",
        "files.download('mob-acc-rps-1.png')"
      ],
      "id": "opUaovfg0wON"
    },
    {
      "cell_type": "code",
      "execution_count": 30,
      "metadata": {
        "colab": {
          "base_uri": "https://localhost:8080/",
          "height": 295
        },
        "id": "Q-b72TGd0wON",
        "outputId": "b0ce9914-35cb-460b-c376-bfa8471611c1"
      },
      "outputs": [
        {
          "output_type": "display_data",
          "data": {
            "text/plain": [
              "<Figure size 432x288 with 1 Axes>"
            ],
            "image/png": "[encoded data removed]"
          },
          "metadata": {
            "needs_background": "light"
          }
        },
        {
          "output_type": "display_data",
          "data": {
            "text/plain": [
              "<IPython.core.display.Javascript object>"
            ],
            "application/javascript": [
              "\n",
              "    async function download(id, filename, size) {\n",
              "      if (!google.colab.kernel.accessAllowed) {\n",
              "        return;\n",
              "      }\n",
              "      const div = document.createElement('div');\n",
              "      const label = document.createElement('label');\n",
              "      label.textContent = `Downloading \"${filename}\": `;\n",
              "      div.appendChild(label);\n",
              "      const progress = document.createElement('progress');\n",
              "      progress.max = size;\n",
              "      div.appendChild(progress);\n",
              "      document.body.appendChild(div);\n",
              "\n",
              "      const buffers = [];\n",
              "      let downloaded = 0;\n",
              "\n",
              "      const channel = await google.colab.kernel.comms.open(id);\n",
              "      // Send a message to notify the kernel that we're ready.\n",
              "      channel.send({})\n",
              "\n",
              "      for await (const message of channel.messages) {\n",
              "        // Send a message to notify the kernel that we're ready.\n",
              "        channel.send({})\n",
              "        if (message.buffers) {\n",
              "          for (const buffer of message.buffers) {\n",
              "            buffers.push(buffer);\n",
              "            downloaded += buffer.byteLength;\n",
              "            progress.value = downloaded;\n",
              "          }\n",
              "        }\n",
              "      }\n",
              "      const blob = new Blob(buffers, {type: 'application/binary'});\n",
              "      const a = document.createElement('a');\n",
              "      a.href = window.URL.createObjectURL(blob);\n",
              "      a.download = filename;\n",
              "      div.appendChild(a);\n",
              "      a.click();\n",
              "      div.remove();\n",
              "    }\n",
              "  "
            ]
          },
          "metadata": {}
        },
        {
          "output_type": "display_data",
          "data": {
            "text/plain": [
              "<IPython.core.display.Javascript object>"
            ],
            "application/javascript": [
              "download(\"download_dc530768-08d8-4822-a421-c4eb039843d2\", \"mob-top-5-rps-1.png\", 20350)"
            ]
          },
          "metadata": {}
        }
      ],
      "source": [
        "# loss\n",
        "plt.plot(mob_history.history['top_k_categorical_accuracy'], label='train top-5 accuracy')\n",
        "plt.plot(mob_history.history['val_top_k_categorical_accuracy'], label='val top-5 accuracy')\n",
        "plt.legend()\n",
        "plt.title('MobileNetV2 Top-5 Accuracy')\n",
        "plt.xlabel('Number of Epochs')\n",
        "plt.ylabel('Accuracy')\n",
        "plt.savefig('mob-top-5-rps-1.png')\n",
        "plt.show()\n",
        "files.download('mob-top-5-rps-1.png')"
      ],
      "id": "Q-b72TGd0wON"
    },
    {
      "cell_type": "code",
      "execution_count": 22,
      "metadata": {
        "colab": {
          "base_uri": "https://localhost:8080/"
        },
        "id": "2RyN9iyz0wON",
        "outputId": "fb12cfc0-d88d-492f-96c1-048b3bec42b9"
      },
      "outputs": [
        {
          "output_type": "stream",
          "name": "stdout",
          "text": [
            "538/538 [==============================] - 174s 324ms/step - loss: 9.2728 - accuracy: 0.6134 - top_k_categorical_accuracy: 0.8401\n"
          ]
        },
        {
          "output_type": "execute_result",
          "data": {
            "text/plain": [
              "[9.272809028625488, 0.613382875919342, 0.8401486873626709]"
            ]
          },
          "metadata": {},
          "execution_count": 22
        }
      ],
      "source": [
        "# evaluate\n",
        "mob_model.evaluate(test_generator)"
      ],
      "id": "2RyN9iyz0wON"
    },
    {
      "cell_type": "code",
      "execution_count": 23,
      "metadata": {
        "id": "gZRtVovy0wON",
        "colab": {
          "base_uri": "https://localhost:8080/"
        },
        "outputId": "934c3030-9b50-4495-d6a5-4a550fbd60c4"
      },
      "outputs": [
        {
          "output_type": "stream",
          "name": "stdout",
          "text": [
            "538/538 [==============================] - 7s 12ms/step\n"
          ]
        }
      ],
      "source": [
        "# predict\n",
        "test_generator.reset()\n",
        "pred=mob_model.predict(test_generator,\n",
        "steps=test_generator.n//test_generator.batch_size,\n",
        "verbose=1)"
      ],
      "id": "gZRtVovy0wON"
    },
    {
      "cell_type": "code",
      "execution_count": 24,
      "metadata": {
        "id": "HLc85YRy0wON"
      },
      "outputs": [],
      "source": [
        "y_pred = np.argmax(pred,axis=1)"
      ],
      "id": "HLc85YRy0wON"
    },
    {
      "cell_type": "code",
      "execution_count": 25,
      "metadata": {
        "id": "tUo9yJQ00wOO",
        "colab": {
          "base_uri": "https://localhost:8080/"
        },
        "outputId": "b542bc9d-265b-4777-e518-ba3fae784757"
      },
      "outputs": [
        {
          "output_type": "stream",
          "name": "stdout",
          "text": [
            "              precision    recall  f1-score   support\n",
            "\n",
            "           0       0.92      0.55      0.69        22\n",
            "           1       0.71      0.14      0.23        37\n",
            "           2       0.92      0.61      0.73        18\n",
            "           3       0.56      0.56      0.56         9\n",
            "           4       0.53      0.82      0.64        11\n",
            "           5       0.67      0.36      0.47        22\n",
            "           6       0.71      0.91      0.80        11\n",
            "           7       0.85      0.69      0.76        16\n",
            "           8       0.73      0.92      0.81        12\n",
            "           9       0.50      0.64      0.56        11\n",
            "          10       0.67      0.89      0.76         9\n",
            "          11       0.73      0.53      0.62        15\n",
            "          12       0.40      1.00      0.57         4\n",
            "          13       0.50      0.71      0.59         7\n",
            "          14       0.82      0.43      0.56        21\n",
            "          15       0.56      0.71      0.63         7\n",
            "          16       0.40      0.33      0.36        12\n",
            "          17       0.77      1.00      0.87        10\n",
            "          18       0.89      0.62      0.73        13\n",
            "          19       0.70      0.64      0.67        11\n",
            "          20       0.10      1.00      0.18         1\n",
            "          21       0.73      0.67      0.70        12\n",
            "          22       0.75      0.33      0.46        18\n",
            "          23       1.00      0.28      0.44        32\n",
            "          24       0.50      0.83      0.62         6\n",
            "          25       0.22      0.67      0.33         3\n",
            "          26       0.36      1.00      0.53         4\n",
            "          27       0.89      1.00      0.94         8\n",
            "          28       0.86      0.60      0.71        10\n",
            "          29       0.43      1.00      0.60         3\n",
            "          30       0.50      1.00      0.67         4\n",
            "          31       0.50      0.57      0.53         7\n",
            "          32       0.30      1.00      0.46         3\n",
            "          33       0.54      0.78      0.64         9\n",
            "          34       0.46      1.00      0.63         6\n",
            "          35       0.38      0.43      0.40         7\n",
            "          36       0.20      0.50      0.29         4\n",
            "          37       0.45      0.71      0.56         7\n",
            "          38       0.29      1.00      0.44         2\n",
            "          39       0.60      0.55      0.57        11\n",
            "          40       0.90      1.00      0.95         9\n",
            "          41       0.58      0.78      0.67         9\n",
            "          42       0.50      1.00      0.67         6\n",
            "          43       0.80      0.92      0.86        13\n",
            "          44       0.64      0.58      0.61        12\n",
            "          45       0.60      0.67      0.63         9\n",
            "          46       0.70      0.78      0.74         9\n",
            "          47       0.38      0.50      0.43         6\n",
            "          48       0.72      0.72      0.72        18\n",
            "          49       0.75      0.75      0.75        12\n",
            "\n",
            "    accuracy                           0.61       538\n",
            "   macro avg       0.60      0.71      0.61       538\n",
            "weighted avg       0.69      0.61      0.60       538\n",
            "\n"
          ]
        }
      ],
      "source": [
        "#get classification report\n",
        "print(classification_report(y_pred, labels))\n"
      ],
      "id": "tUo9yJQ00wOO"
    },
    {
      "cell_type": "code",
      "execution_count": 26,
      "metadata": {
        "id": "75sf7_VB0wOO",
        "colab": {
          "base_uri": "https://localhost:8080/",
          "height": 166
        },
        "outputId": "daaf34c8-1c39-441a-a29b-af554e4182f1"
      },
      "outputs": [
        {
          "output_type": "error",
          "ename": "NameError",
          "evalue": "ignored",
          "traceback": [
            "\u001b[0;31m---------------------------------------------------------------------------\u001b[0m",
            "\u001b[0;31mNameError\u001b[0m                                 Traceback (most recent call last)",
            "\u001b[0;32m<ipython-input-26-cb82d7b90304>\u001b[0m in \u001b[0;36m<module>\u001b[0;34m()\u001b[0m\n\u001b[0;32m----> 1\u001b[0;31m \u001b[0mdf\u001b[0m \u001b[0;34m=\u001b[0m \u001b[0mcreate_prediction_df\u001b[0m\u001b[0;34m(\u001b[0m\u001b[0my_pred\u001b[0m\u001b[0;34m,\u001b[0m \u001b[0mlabels\u001b[0m\u001b[0;34m)\u001b[0m\u001b[0;34m\u001b[0m\u001b[0;34m\u001b[0m\u001b[0m\n\u001b[0m",
            "\u001b[0;31mNameError\u001b[0m: name 'create_prediction_df' is not defined"
          ]
        }
      ],
      "source": [
        "df = create_prediction_df(y_pred, labels)"
      ],
      "id": "75sf7_VB0wOO"
    },
    {
      "cell_type": "code",
      "execution_count": null,
      "metadata": {
        "id": "kmtK1Jlb0wOO"
      },
      "outputs": [],
      "source": [
        "df.loc[df['actual_y']==df['pred']]"
      ],
      "id": "kmtK1Jlb0wOO"
    },
    {
      "cell_type": "code",
      "execution_count": null,
      "metadata": {
        "id": "dfCNyUMf0wOP"
      },
      "outputs": [],
      "source": [
        "print(f\"The MobileNetV2 correctly predicted {df.loc[df['actual_y']==df['pred']].shape[0]} images from {df.loc[df['actual_y']==df['pred']]['actual_y'].value_counts().count()} classes out of {len(test_generator.labels)} images.\")"
      ],
      "id": "dfCNyUMf0wOP"
    },
    {
      "cell_type": "code",
      "execution_count": null,
      "metadata": {
        "id": "jWD1N0_U0wOP"
      },
      "outputs": [],
      "source": [
        "df.loc[df['actual_y']==df['pred']]['names']"
      ],
      "id": "jWD1N0_U0wOP"
    },
    {
      "cell_type": "code",
      "execution_count": null,
      "metadata": {
        "id": "PsFtnGCm0wOP"
      },
      "outputs": [],
      "source": [
        "#Image.open(test_path+'/'+list(df.loc[df['actual_y']==df['pred']]['names'])[0])"
      ],
      "id": "PsFtnGCm0wOP"
    },
    {
      "cell_type": "markdown",
      "metadata": {
        "id": "c0289b94"
      },
      "source": [
        "# EfficientNetB3\n"
      ],
      "id": "c0289b94"
    },
    {
      "cell_type": "code",
      "execution_count": 220,
      "metadata": {
        "id": "pXVk_rF2B7yi"
      },
      "outputs": [],
      "source": [
        "train_datagen = ImageDataGenerator(rescale = 1./255.)\n",
        "test_datagen = ImageDataGenerator(rescale = 1./255)\n",
        "val_datagen = ImageDataGenerator(rescale = 1./255)"
      ],
      "id": "pXVk_rF2B7yi"
    },
    {
      "cell_type": "code",
      "execution_count": 221,
      "metadata": {
        "id": "C3gffugvB7y9",
        "colab": {
          "base_uri": "https://localhost:8080/"
        },
        "outputId": "9c7e64b3-4d79-4f38-d293-6b8e6c4bd4f0"
      },
      "outputs": [
        {
          "output_type": "stream",
          "name": "stdout",
          "text": [
            "Found 1615 images belonging to 50 classes.\n",
            "Found 538 images belonging to 50 classes.\n",
            "Found 426 images belonging to 50 classes.\n"
          ]
        }
      ],
      "source": [
        "train_generator = train_datagen.flow_from_directory(train_path,\n",
        "                                                 target_size = (300, 300),\n",
        "                                                 batch_size = 30,\n",
        "                                                 class_mode = 'categorical')\n",
        "test_generator = test_datagen.flow_from_directory(test_path,\n",
        "                                            target_size = (300, 300),\n",
        "                                            batch_size = 1,\n",
        "                                            class_mode = 'categorical',\n",
        "                                            shuffle = False)\n",
        "val_generator = val_datagen.flow_from_directory(val_path,\n",
        "                                            target_size = (300, 300),\n",
        "                                            batch_size = 30,\n",
        "                                            class_mode = 'categorical')"
      ],
      "id": "C3gffugvB7y9"
    },
    {
      "cell_type": "code",
      "execution_count": 222,
      "metadata": {
        "id": "1887219f"
      },
      "outputs": [],
      "source": [
        "enet = EfficientNetB3(input_shape=(300,300, 3), weights='imagenet', include_top=False)"
      ],
      "id": "1887219f"
    },
    {
      "cell_type": "code",
      "execution_count": 223,
      "metadata": {
        "id": "59a1df9e"
      },
      "outputs": [],
      "source": [
        "#do not train the pre-trained layers of enet\n",
        "for layer in enet.layers:\n",
        "    layer.trainable = False"
      ],
      "id": "59a1df9e"
    },
    {
      "cell_type": "code",
      "execution_count": 224,
      "metadata": {
        "id": "8724b1f1"
      },
      "outputs": [],
      "source": [
        "x = Flatten()(enet.output)"
      ],
      "id": "8724b1f1"
    },
    {
      "cell_type": "code",
      "execution_count": 225,
      "metadata": {
        "id": "421533ed"
      },
      "outputs": [],
      "source": [
        "#adding output layer.Softmax classifier is used as it is multi-class classification\n",
        "prediction = Dense(len(class_list), activation='softmax')(x)\n",
        "\n",
        "enet_model = Model(inputs=enet.input, outputs=prediction)"
      ],
      "id": "421533ed"
    },
    {
      "cell_type": "code",
      "execution_count": 226,
      "metadata": {
        "id": "9883a15e",
        "colab": {
          "base_uri": "https://localhost:8080/"
        },
        "outputId": "865868d4-1c83-4e6b-f69c-cc09e66c291a"
      },
      "outputs": [
        {
          "output_type": "stream",
          "name": "stdout",
          "text": [
            "Model: \"model_9\"\n",
            "__________________________________________________________________________________________________\n",
            " Layer (type)                   Output Shape         Param #     Connected to                     \n",
            "==================================================================================================\n",
            " input_10 (InputLayer)          [(None, 300, 300, 3  0           []                               \n",
            "                                )]                                                                \n",
            "                                                                                                  \n",
            " rescaling_1 (Rescaling)        (None, 300, 300, 3)  0           ['input_10[0][0]']               \n",
            "                                                                                                  \n",
            " normalization_1 (Normalization  (None, 300, 300, 3)  7          ['rescaling_1[0][0]']            \n",
            " )                                                                                                \n",
            "                                                                                                  \n",
            " stem_conv_pad (ZeroPadding2D)  (None, 301, 301, 3)  0           ['normalization_1[0][0]']        \n",
            "                                                                                                  \n",
            " stem_conv (Conv2D)             (None, 150, 150, 40  1080        ['stem_conv_pad[0][0]']          \n",
            "                                )                                                                 \n",
            "                                                                                                  \n",
            " stem_bn (BatchNormalization)   (None, 150, 150, 40  160         ['stem_conv[0][0]']              \n",
            "                                )                                                                 \n",
            "                                                                                                  \n",
            " stem_activation (Activation)   (None, 150, 150, 40  0           ['stem_bn[0][0]']                \n",
            "                                )                                                                 \n",
            "                                                                                                  \n",
            " block1a_dwconv (DepthwiseConv2  (None, 150, 150, 40  360        ['stem_activation[0][0]']        \n",
            " D)                             )                                                                 \n",
            "                                                                                                  \n",
            " block1a_bn (BatchNormalization  (None, 150, 150, 40  160        ['block1a_dwconv[0][0]']         \n",
            " )                              )                                                                 \n",
            "                                                                                                  \n",
            " block1a_activation (Activation  (None, 150, 150, 40  0          ['block1a_bn[0][0]']             \n",
            " )                              )                                                                 \n",
            "                                                                                                  \n",
            " block1a_se_squeeze (GlobalAver  (None, 40)          0           ['block1a_activation[0][0]']     \n",
            " agePooling2D)                                                                                    \n",
            "                                                                                                  \n",
            " block1a_se_reshape (Reshape)   (None, 1, 1, 40)     0           ['block1a_se_squeeze[0][0]']     \n",
            "                                                                                                  \n",
            " block1a_se_reduce (Conv2D)     (None, 1, 1, 10)     410         ['block1a_se_reshape[0][0]']     \n",
            "                                                                                                  \n",
            " block1a_se_expand (Conv2D)     (None, 1, 1, 40)     440         ['block1a_se_reduce[0][0]']      \n",
            "                                                                                                  \n",
            " block1a_se_excite (Multiply)   (None, 150, 150, 40  0           ['block1a_activation[0][0]',     \n",
            "                                )                                 'block1a_se_expand[0][0]']      \n",
            "                                                                                                  \n",
            " block1a_project_conv (Conv2D)  (None, 150, 150, 24  960         ['block1a_se_excite[0][0]']      \n",
            "                                )                                                                 \n",
            "                                                                                                  \n",
            " block1a_project_bn (BatchNorma  (None, 150, 150, 24  96         ['block1a_project_conv[0][0]']   \n",
            " lization)                      )                                                                 \n",
            "                                                                                                  \n",
            " block1b_dwconv (DepthwiseConv2  (None, 150, 150, 24  216        ['block1a_project_bn[0][0]']     \n",
            " D)                             )                                                                 \n",
            "                                                                                                  \n",
            " block1b_bn (BatchNormalization  (None, 150, 150, 24  96         ['block1b_dwconv[0][0]']         \n",
            " )                              )                                                                 \n",
            "                                                                                                  \n",
            " block1b_activation (Activation  (None, 150, 150, 24  0          ['block1b_bn[0][0]']             \n",
            " )                              )                                                                 \n",
            "                                                                                                  \n",
            " block1b_se_squeeze (GlobalAver  (None, 24)          0           ['block1b_activation[0][0]']     \n",
            " agePooling2D)                                                                                    \n",
            "                                                                                                  \n",
            " block1b_se_reshape (Reshape)   (None, 1, 1, 24)     0           ['block1b_se_squeeze[0][0]']     \n",
            "                                                                                                  \n",
            " block1b_se_reduce (Conv2D)     (None, 1, 1, 6)      150         ['block1b_se_reshape[0][0]']     \n",
            "                                                                                                  \n",
            " block1b_se_expand (Conv2D)     (None, 1, 1, 24)     168         ['block1b_se_reduce[0][0]']      \n",
            "                                                                                                  \n",
            " block1b_se_excite (Multiply)   (None, 150, 150, 24  0           ['block1b_activation[0][0]',     \n",
            "                                )                                 'block1b_se_expand[0][0]']      \n",
            "                                                                                                  \n",
            " block1b_project_conv (Conv2D)  (None, 150, 150, 24  576         ['block1b_se_excite[0][0]']      \n",
            "                                )                                                                 \n",
            "                                                                                                  \n",
            " block1b_project_bn (BatchNorma  (None, 150, 150, 24  96         ['block1b_project_conv[0][0]']   \n",
            " lization)                      )                                                                 \n",
            "                                                                                                  \n",
            " block1b_drop (Dropout)         (None, 150, 150, 24  0           ['block1b_project_bn[0][0]']     \n",
            "                                )                                                                 \n",
            "                                                                                                  \n",
            " block1b_add (Add)              (None, 150, 150, 24  0           ['block1b_drop[0][0]',           \n",
            "                                )                                 'block1a_project_bn[0][0]']     \n",
            "                                                                                                  \n",
            " block2a_expand_conv (Conv2D)   (None, 150, 150, 14  3456        ['block1b_add[0][0]']            \n",
            "                                4)                                                                \n",
            "                                                                                                  \n",
            " block2a_expand_bn (BatchNormal  (None, 150, 150, 14  576        ['block2a_expand_conv[0][0]']    \n",
            " ization)                       4)                                                                \n",
            "                                                                                                  \n",
            " block2a_expand_activation (Act  (None, 150, 150, 14  0          ['block2a_expand_bn[0][0]']      \n",
            " ivation)                       4)                                                                \n",
            "                                                                                                  \n",
            " block2a_dwconv_pad (ZeroPaddin  (None, 151, 151, 14  0          ['block2a_expand_activation[0][0]\n",
            " g2D)                           4)                               ']                               \n",
            "                                                                                                  \n",
            " block2a_dwconv (DepthwiseConv2  (None, 75, 75, 144)  1296       ['block2a_dwconv_pad[0][0]']     \n",
            " D)                                                                                               \n",
            "                                                                                                  \n",
            " block2a_bn (BatchNormalization  (None, 75, 75, 144)  576        ['block2a_dwconv[0][0]']         \n",
            " )                                                                                                \n",
            "                                                                                                  \n",
            " block2a_activation (Activation  (None, 75, 75, 144)  0          ['block2a_bn[0][0]']             \n",
            " )                                                                                                \n",
            "                                                                                                  \n",
            " block2a_se_squeeze (GlobalAver  (None, 144)         0           ['block2a_activation[0][0]']     \n",
            " agePooling2D)                                                                                    \n",
            "                                                                                                  \n",
            " block2a_se_reshape (Reshape)   (None, 1, 1, 144)    0           ['block2a_se_squeeze[0][0]']     \n",
            "                                                                                                  \n",
            " block2a_se_reduce (Conv2D)     (None, 1, 1, 6)      870         ['block2a_se_reshape[0][0]']     \n",
            "                                                                                                  \n",
            " block2a_se_expand (Conv2D)     (None, 1, 1, 144)    1008        ['block2a_se_reduce[0][0]']      \n",
            "                                                                                                  \n",
            " block2a_se_excite (Multiply)   (None, 75, 75, 144)  0           ['block2a_activation[0][0]',     \n",
            "                                                                  'block2a_se_expand[0][0]']      \n",
            "                                                                                                  \n",
            " block2a_project_conv (Conv2D)  (None, 75, 75, 32)   4608        ['block2a_se_excite[0][0]']      \n",
            "                                                                                                  \n",
            " block2a_project_bn (BatchNorma  (None, 75, 75, 32)  128         ['block2a_project_conv[0][0]']   \n",
            " lization)                                                                                        \n",
            "                                                                                                  \n",
            " block2b_expand_conv (Conv2D)   (None, 75, 75, 192)  6144        ['block2a_project_bn[0][0]']     \n",
            "                                                                                                  \n",
            " block2b_expand_bn (BatchNormal  (None, 75, 75, 192)  768        ['block2b_expand_conv[0][0]']    \n",
            " ization)                                                                                         \n",
            "                                                                                                  \n",
            " block2b_expand_activation (Act  (None, 75, 75, 192)  0          ['block2b_expand_bn[0][0]']      \n",
            " ivation)                                                                                         \n",
            "                                                                                                  \n",
            " block2b_dwconv (DepthwiseConv2  (None, 75, 75, 192)  1728       ['block2b_expand_activation[0][0]\n",
            " D)                                                              ']                               \n",
            "                                                                                                  \n",
            " block2b_bn (BatchNormalization  (None, 75, 75, 192)  768        ['block2b_dwconv[0][0]']         \n",
            " )                                                                                                \n",
            "                                                                                                  \n",
            " block2b_activation (Activation  (None, 75, 75, 192)  0          ['block2b_bn[0][0]']             \n",
            " )                                                                                                \n",
            "                                                                                                  \n",
            " block2b_se_squeeze (GlobalAver  (None, 192)         0           ['block2b_activation[0][0]']     \n",
            " agePooling2D)                                                                                    \n",
            "                                                                                                  \n",
            " block2b_se_reshape (Reshape)   (None, 1, 1, 192)    0           ['block2b_se_squeeze[0][0]']     \n",
            "                                                                                                  \n",
            " block2b_se_reduce (Conv2D)     (None, 1, 1, 8)      1544        ['block2b_se_reshape[0][0]']     \n",
            "                                                                                                  \n",
            " block2b_se_expand (Conv2D)     (None, 1, 1, 192)    1728        ['block2b_se_reduce[0][0]']      \n",
            "                                                                                                  \n",
            " block2b_se_excite (Multiply)   (None, 75, 75, 192)  0           ['block2b_activation[0][0]',     \n",
            "                                                                  'block2b_se_expand[0][0]']      \n",
            "                                                                                                  \n",
            " block2b_project_conv (Conv2D)  (None, 75, 75, 32)   6144        ['block2b_se_excite[0][0]']      \n",
            "                                                                                                  \n",
            " block2b_project_bn (BatchNorma  (None, 75, 75, 32)  128         ['block2b_project_conv[0][0]']   \n",
            " lization)                                                                                        \n",
            "                                                                                                  \n",
            " block2b_drop (Dropout)         (None, 75, 75, 32)   0           ['block2b_project_bn[0][0]']     \n",
            "                                                                                                  \n",
            " block2b_add (Add)              (None, 75, 75, 32)   0           ['block2b_drop[0][0]',           \n",
            "                                                                  'block2a_project_bn[0][0]']     \n",
            "                                                                                                  \n",
            " block2c_expand_conv (Conv2D)   (None, 75, 75, 192)  6144        ['block2b_add[0][0]']            \n",
            "                                                                                                  \n",
            " block2c_expand_bn (BatchNormal  (None, 75, 75, 192)  768        ['block2c_expand_conv[0][0]']    \n",
            " ization)                                                                                         \n",
            "                                                                                                  \n",
            " block2c_expand_activation (Act  (None, 75, 75, 192)  0          ['block2c_expand_bn[0][0]']      \n",
            " ivation)                                                                                         \n",
            "                                                                                                  \n",
            " block2c_dwconv (DepthwiseConv2  (None, 75, 75, 192)  1728       ['block2c_expand_activation[0][0]\n",
            " D)                                                              ']                               \n",
            "                                                                                                  \n",
            " block2c_bn (BatchNormalization  (None, 75, 75, 192)  768        ['block2c_dwconv[0][0]']         \n",
            " )                                                                                                \n",
            "                                                                                                  \n",
            " block2c_activation (Activation  (None, 75, 75, 192)  0          ['block2c_bn[0][0]']             \n",
            " )                                                                                                \n",
            "                                                                                                  \n",
            " block2c_se_squeeze (GlobalAver  (None, 192)         0           ['block2c_activation[0][0]']     \n",
            " agePooling2D)                                                                                    \n",
            "                                                                                                  \n",
            " block2c_se_reshape (Reshape)   (None, 1, 1, 192)    0           ['block2c_se_squeeze[0][0]']     \n",
            "                                                                                                  \n",
            " block2c_se_reduce (Conv2D)     (None, 1, 1, 8)      1544        ['block2c_se_reshape[0][0]']     \n",
            "                                                                                                  \n",
            " block2c_se_expand (Conv2D)     (None, 1, 1, 192)    1728        ['block2c_se_reduce[0][0]']      \n",
            "                                                                                                  \n",
            " block2c_se_excite (Multiply)   (None, 75, 75, 192)  0           ['block2c_activation[0][0]',     \n",
            "                                                                  'block2c_se_expand[0][0]']      \n",
            "                                                                                                  \n",
            " block2c_project_conv (Conv2D)  (None, 75, 75, 32)   6144        ['block2c_se_excite[0][0]']      \n",
            "                                                                                                  \n",
            " block2c_project_bn (BatchNorma  (None, 75, 75, 32)  128         ['block2c_project_conv[0][0]']   \n",
            " lization)                                                                                        \n",
            "                                                                                                  \n",
            " block2c_drop (Dropout)         (None, 75, 75, 32)   0           ['block2c_project_bn[0][0]']     \n",
            "                                                                                                  \n",
            " block2c_add (Add)              (None, 75, 75, 32)   0           ['block2c_drop[0][0]',           \n",
            "                                                                  'block2b_add[0][0]']            \n",
            "                                                                                                  \n",
            " block3a_expand_conv (Conv2D)   (None, 75, 75, 192)  6144        ['block2c_add[0][0]']            \n",
            "                                                                                                  \n",
            " block3a_expand_bn (BatchNormal  (None, 75, 75, 192)  768        ['block3a_expand_conv[0][0]']    \n",
            " ization)                                                                                         \n",
            "                                                                                                  \n",
            " block3a_expand_activation (Act  (None, 75, 75, 192)  0          ['block3a_expand_bn[0][0]']      \n",
            " ivation)                                                                                         \n",
            "                                                                                                  \n",
            " block3a_dwconv_pad (ZeroPaddin  (None, 79, 79, 192)  0          ['block3a_expand_activation[0][0]\n",
            " g2D)                                                            ']                               \n",
            "                                                                                                  \n",
            " block3a_dwconv (DepthwiseConv2  (None, 38, 38, 192)  4800       ['block3a_dwconv_pad[0][0]']     \n",
            " D)                                                                                               \n",
            "                                                                                                  \n",
            " block3a_bn (BatchNormalization  (None, 38, 38, 192)  768        ['block3a_dwconv[0][0]']         \n",
            " )                                                                                                \n",
            "                                                                                                  \n",
            " block3a_activation (Activation  (None, 38, 38, 192)  0          ['block3a_bn[0][0]']             \n",
            " )                                                                                                \n",
            "                                                                                                  \n",
            " block3a_se_squeeze (GlobalAver  (None, 192)         0           ['block3a_activation[0][0]']     \n",
            " agePooling2D)                                                                                    \n",
            "                                                                                                  \n",
            " block3a_se_reshape (Reshape)   (None, 1, 1, 192)    0           ['block3a_se_squeeze[0][0]']     \n",
            "                                                                                                  \n",
            " block3a_se_reduce (Conv2D)     (None, 1, 1, 8)      1544        ['block3a_se_reshape[0][0]']     \n",
            "                                                                                                  \n",
            " block3a_se_expand (Conv2D)     (None, 1, 1, 192)    1728        ['block3a_se_reduce[0][0]']      \n",
            "                                                                                                  \n",
            " block3a_se_excite (Multiply)   (None, 38, 38, 192)  0           ['block3a_activation[0][0]',     \n",
            "                                                                  'block3a_se_expand[0][0]']      \n",
            "                                                                                                  \n",
            " block3a_project_conv (Conv2D)  (None, 38, 38, 48)   9216        ['block3a_se_excite[0][0]']      \n",
            "                                                                                                  \n",
            " block3a_project_bn (BatchNorma  (None, 38, 38, 48)  192         ['block3a_project_conv[0][0]']   \n",
            " lization)                                                                                        \n",
            "                                                                                                  \n",
            " block3b_expand_conv (Conv2D)   (None, 38, 38, 288)  13824       ['block3a_project_bn[0][0]']     \n",
            "                                                                                                  \n",
            " block3b_expand_bn (BatchNormal  (None, 38, 38, 288)  1152       ['block3b_expand_conv[0][0]']    \n",
            " ization)                                                                                         \n",
            "                                                                                                  \n",
            " block3b_expand_activation (Act  (None, 38, 38, 288)  0          ['block3b_expand_bn[0][0]']      \n",
            " ivation)                                                                                         \n",
            "                                                                                                  \n",
            " block3b_dwconv (DepthwiseConv2  (None, 38, 38, 288)  7200       ['block3b_expand_activation[0][0]\n",
            " D)                                                              ']                               \n",
            "                                                                                                  \n",
            " block3b_bn (BatchNormalization  (None, 38, 38, 288)  1152       ['block3b_dwconv[0][0]']         \n",
            " )                                                                                                \n",
            "                                                                                                  \n",
            " block3b_activation (Activation  (None, 38, 38, 288)  0          ['block3b_bn[0][0]']             \n",
            " )                                                                                                \n",
            "                                                                                                  \n",
            " block3b_se_squeeze (GlobalAver  (None, 288)         0           ['block3b_activation[0][0]']     \n",
            " agePooling2D)                                                                                    \n",
            "                                                                                                  \n",
            " block3b_se_reshape (Reshape)   (None, 1, 1, 288)    0           ['block3b_se_squeeze[0][0]']     \n",
            "                                                                                                  \n",
            " block3b_se_reduce (Conv2D)     (None, 1, 1, 12)     3468        ['block3b_se_reshape[0][0]']     \n",
            "                                                                                                  \n",
            " block3b_se_expand (Conv2D)     (None, 1, 1, 288)    3744        ['block3b_se_reduce[0][0]']      \n",
            "                                                                                                  \n",
            " block3b_se_excite (Multiply)   (None, 38, 38, 288)  0           ['block3b_activation[0][0]',     \n",
            "                                                                  'block3b_se_expand[0][0]']      \n",
            "                                                                                                  \n",
            " block3b_project_conv (Conv2D)  (None, 38, 38, 48)   13824       ['block3b_se_excite[0][0]']      \n",
            "                                                                                                  \n",
            " block3b_project_bn (BatchNorma  (None, 38, 38, 48)  192         ['block3b_project_conv[0][0]']   \n",
            " lization)                                                                                        \n",
            "                                                                                                  \n",
            " block3b_drop (Dropout)         (None, 38, 38, 48)   0           ['block3b_project_bn[0][0]']     \n",
            "                                                                                                  \n",
            " block3b_add (Add)              (None, 38, 38, 48)   0           ['block3b_drop[0][0]',           \n",
            "                                                                  'block3a_project_bn[0][0]']     \n",
            "                                                                                                  \n",
            " block3c_expand_conv (Conv2D)   (None, 38, 38, 288)  13824       ['block3b_add[0][0]']            \n",
            "                                                                                                  \n",
            " block3c_expand_bn (BatchNormal  (None, 38, 38, 288)  1152       ['block3c_expand_conv[0][0]']    \n",
            " ization)                                                                                         \n",
            "                                                                                                  \n",
            " block3c_expand_activation (Act  (None, 38, 38, 288)  0          ['block3c_expand_bn[0][0]']      \n",
            " ivation)                                                                                         \n",
            "                                                                                                  \n",
            " block3c_dwconv (DepthwiseConv2  (None, 38, 38, 288)  7200       ['block3c_expand_activation[0][0]\n",
            " D)                                                              ']                               \n",
            "                                                                                                  \n",
            " block3c_bn (BatchNormalization  (None, 38, 38, 288)  1152       ['block3c_dwconv[0][0]']         \n",
            " )                                                                                                \n",
            "                                                                                                  \n",
            " block3c_activation (Activation  (None, 38, 38, 288)  0          ['block3c_bn[0][0]']             \n",
            " )                                                                                                \n",
            "                                                                                                  \n",
            " block3c_se_squeeze (GlobalAver  (None, 288)         0           ['block3c_activation[0][0]']     \n",
            " agePooling2D)                                                                                    \n",
            "                                                                                                  \n",
            " block3c_se_reshape (Reshape)   (None, 1, 1, 288)    0           ['block3c_se_squeeze[0][0]']     \n",
            "                                                                                                  \n",
            " block3c_se_reduce (Conv2D)     (None, 1, 1, 12)     3468        ['block3c_se_reshape[0][0]']     \n",
            "                                                                                                  \n",
            " block3c_se_expand (Conv2D)     (None, 1, 1, 288)    3744        ['block3c_se_reduce[0][0]']      \n",
            "                                                                                                  \n",
            " block3c_se_excite (Multiply)   (None, 38, 38, 288)  0           ['block3c_activation[0][0]',     \n",
            "                                                                  'block3c_se_expand[0][0]']      \n",
            "                                                                                                  \n",
            " block3c_project_conv (Conv2D)  (None, 38, 38, 48)   13824       ['block3c_se_excite[0][0]']      \n",
            "                                                                                                  \n",
            " block3c_project_bn (BatchNorma  (None, 38, 38, 48)  192         ['block3c_project_conv[0][0]']   \n",
            " lization)                                                                                        \n",
            "                                                                                                  \n",
            " block3c_drop (Dropout)         (None, 38, 38, 48)   0           ['block3c_project_bn[0][0]']     \n",
            "                                                                                                  \n",
            " block3c_add (Add)              (None, 38, 38, 48)   0           ['block3c_drop[0][0]',           \n",
            "                                                                  'block3b_add[0][0]']            \n",
            "                                                                                                  \n",
            " block4a_expand_conv (Conv2D)   (None, 38, 38, 288)  13824       ['block3c_add[0][0]']            \n",
            "                                                                                                  \n",
            " block4a_expand_bn (BatchNormal  (None, 38, 38, 288)  1152       ['block4a_expand_conv[0][0]']    \n",
            " ization)                                                                                         \n",
            "                                                                                                  \n",
            " block4a_expand_activation (Act  (None, 38, 38, 288)  0          ['block4a_expand_bn[0][0]']      \n",
            " ivation)                                                                                         \n",
            "                                                                                                  \n",
            " block4a_dwconv_pad (ZeroPaddin  (None, 39, 39, 288)  0          ['block4a_expand_activation[0][0]\n",
            " g2D)                                                            ']                               \n",
            "                                                                                                  \n",
            " block4a_dwconv (DepthwiseConv2  (None, 19, 19, 288)  2592       ['block4a_dwconv_pad[0][0]']     \n",
            " D)                                                                                               \n",
            "                                                                                                  \n",
            " block4a_bn (BatchNormalization  (None, 19, 19, 288)  1152       ['block4a_dwconv[0][0]']         \n",
            " )                                                                                                \n",
            "                                                                                                  \n",
            " block4a_activation (Activation  (None, 19, 19, 288)  0          ['block4a_bn[0][0]']             \n",
            " )                                                                                                \n",
            "                                                                                                  \n",
            " block4a_se_squeeze (GlobalAver  (None, 288)         0           ['block4a_activation[0][0]']     \n",
            " agePooling2D)                                                                                    \n",
            "                                                                                                  \n",
            " block4a_se_reshape (Reshape)   (None, 1, 1, 288)    0           ['block4a_se_squeeze[0][0]']     \n",
            "                                                                                                  \n",
            " block4a_se_reduce (Conv2D)     (None, 1, 1, 12)     3468        ['block4a_se_reshape[0][0]']     \n",
            "                                                                                                  \n",
            " block4a_se_expand (Conv2D)     (None, 1, 1, 288)    3744        ['block4a_se_reduce[0][0]']      \n",
            "                                                                                                  \n",
            " block4a_se_excite (Multiply)   (None, 19, 19, 288)  0           ['block4a_activation[0][0]',     \n",
            "                                                                  'block4a_se_expand[0][0]']      \n",
            "                                                                                                  \n",
            " block4a_project_conv (Conv2D)  (None, 19, 19, 96)   27648       ['block4a_se_excite[0][0]']      \n",
            "                                                                                                  \n",
            " block4a_project_bn (BatchNorma  (None, 19, 19, 96)  384         ['block4a_project_conv[0][0]']   \n",
            " lization)                                                                                        \n",
            "                                                                                                  \n",
            " block4b_expand_conv (Conv2D)   (None, 19, 19, 576)  55296       ['block4a_project_bn[0][0]']     \n",
            "                                                                                                  \n",
            " block4b_expand_bn (BatchNormal  (None, 19, 19, 576)  2304       ['block4b_expand_conv[0][0]']    \n",
            " ization)                                                                                         \n",
            "                                                                                                  \n",
            " block4b_expand_activation (Act  (None, 19, 19, 576)  0          ['block4b_expand_bn[0][0]']      \n",
            " ivation)                                                                                         \n",
            "                                                                                                  \n",
            " block4b_dwconv (DepthwiseConv2  (None, 19, 19, 576)  5184       ['block4b_expand_activation[0][0]\n",
            " D)                                                              ']                               \n",
            "                                                                                                  \n",
            " block4b_bn (BatchNormalization  (None, 19, 19, 576)  2304       ['block4b_dwconv[0][0]']         \n",
            " )                                                                                                \n",
            "                                                                                                  \n",
            " block4b_activation (Activation  (None, 19, 19, 576)  0          ['block4b_bn[0][0]']             \n",
            " )                                                                                                \n",
            "                                                                                                  \n",
            " block4b_se_squeeze (GlobalAver  (None, 576)         0           ['block4b_activation[0][0]']     \n",
            " agePooling2D)                                                                                    \n",
            "                                                                                                  \n",
            " block4b_se_reshape (Reshape)   (None, 1, 1, 576)    0           ['block4b_se_squeeze[0][0]']     \n",
            "                                                                                                  \n",
            " block4b_se_reduce (Conv2D)     (None, 1, 1, 24)     13848       ['block4b_se_reshape[0][0]']     \n",
            "                                                                                                  \n",
            " block4b_se_expand (Conv2D)     (None, 1, 1, 576)    14400       ['block4b_se_reduce[0][0]']      \n",
            "                                                                                                  \n",
            " block4b_se_excite (Multiply)   (None, 19, 19, 576)  0           ['block4b_activation[0][0]',     \n",
            "                                                                  'block4b_se_expand[0][0]']      \n",
            "                                                                                                  \n",
            " block4b_project_conv (Conv2D)  (None, 19, 19, 96)   55296       ['block4b_se_excite[0][0]']      \n",
            "                                                                                                  \n",
            " block4b_project_bn (BatchNorma  (None, 19, 19, 96)  384         ['block4b_project_conv[0][0]']   \n",
            " lization)                                                                                        \n",
            "                                                                                                  \n",
            " block4b_drop (Dropout)         (None, 19, 19, 96)   0           ['block4b_project_bn[0][0]']     \n",
            "                                                                                                  \n",
            " block4b_add (Add)              (None, 19, 19, 96)   0           ['block4b_drop[0][0]',           \n",
            "                                                                  'block4a_project_bn[0][0]']     \n",
            "                                                                                                  \n",
            " block4c_expand_conv (Conv2D)   (None, 19, 19, 576)  55296       ['block4b_add[0][0]']            \n",
            "                                                                                                  \n",
            " block4c_expand_bn (BatchNormal  (None, 19, 19, 576)  2304       ['block4c_expand_conv[0][0]']    \n",
            " ization)                                                                                         \n",
            "                                                                                                  \n",
            " block4c_expand_activation (Act  (None, 19, 19, 576)  0          ['block4c_expand_bn[0][0]']      \n",
            " ivation)                                                                                         \n",
            "                                                                                                  \n",
            " block4c_dwconv (DepthwiseConv2  (None, 19, 19, 576)  5184       ['block4c_expand_activation[0][0]\n",
            " D)                                                              ']                               \n",
            "                                                                                                  \n",
            " block4c_bn (BatchNormalization  (None, 19, 19, 576)  2304       ['block4c_dwconv[0][0]']         \n",
            " )                                                                                                \n",
            "                                                                                                  \n",
            " block4c_activation (Activation  (None, 19, 19, 576)  0          ['block4c_bn[0][0]']             \n",
            " )                                                                                                \n",
            "                                                                                                  \n",
            " block4c_se_squeeze (GlobalAver  (None, 576)         0           ['block4c_activation[0][0]']     \n",
            " agePooling2D)                                                                                    \n",
            "                                                                                                  \n",
            " block4c_se_reshape (Reshape)   (None, 1, 1, 576)    0           ['block4c_se_squeeze[0][0]']     \n",
            "                                                                                                  \n",
            " block4c_se_reduce (Conv2D)     (None, 1, 1, 24)     13848       ['block4c_se_reshape[0][0]']     \n",
            "                                                                                                  \n",
            " block4c_se_expand (Conv2D)     (None, 1, 1, 576)    14400       ['block4c_se_reduce[0][0]']      \n",
            "                                                                                                  \n",
            " block4c_se_excite (Multiply)   (None, 19, 19, 576)  0           ['block4c_activation[0][0]',     \n",
            "                                                                  'block4c_se_expand[0][0]']      \n",
            "                                                                                                  \n",
            " block4c_project_conv (Conv2D)  (None, 19, 19, 96)   55296       ['block4c_se_excite[0][0]']      \n",
            "                                                                                                  \n",
            " block4c_project_bn (BatchNorma  (None, 19, 19, 96)  384         ['block4c_project_conv[0][0]']   \n",
            " lization)                                                                                        \n",
            "                                                                                                  \n",
            " block4c_drop (Dropout)         (None, 19, 19, 96)   0           ['block4c_project_bn[0][0]']     \n",
            "                                                                                                  \n",
            " block4c_add (Add)              (None, 19, 19, 96)   0           ['block4c_drop[0][0]',           \n",
            "                                                                  'block4b_add[0][0]']            \n",
            "                                                                                                  \n",
            " block4d_expand_conv (Conv2D)   (None, 19, 19, 576)  55296       ['block4c_add[0][0]']            \n",
            "                                                                                                  \n",
            " block4d_expand_bn (BatchNormal  (None, 19, 19, 576)  2304       ['block4d_expand_conv[0][0]']    \n",
            " ization)                                                                                         \n",
            "                                                                                                  \n",
            " block4d_expand_activation (Act  (None, 19, 19, 576)  0          ['block4d_expand_bn[0][0]']      \n",
            " ivation)                                                                                         \n",
            "                                                                                                  \n",
            " block4d_dwconv (DepthwiseConv2  (None, 19, 19, 576)  5184       ['block4d_expand_activation[0][0]\n",
            " D)                                                              ']                               \n",
            "                                                                                                  \n",
            " block4d_bn (BatchNormalization  (None, 19, 19, 576)  2304       ['block4d_dwconv[0][0]']         \n",
            " )                                                                                                \n",
            "                                                                                                  \n",
            " block4d_activation (Activation  (None, 19, 19, 576)  0          ['block4d_bn[0][0]']             \n",
            " )                                                                                                \n",
            "                                                                                                  \n",
            " block4d_se_squeeze (GlobalAver  (None, 576)         0           ['block4d_activation[0][0]']     \n",
            " agePooling2D)                                                                                    \n",
            "                                                                                                  \n",
            " block4d_se_reshape (Reshape)   (None, 1, 1, 576)    0           ['block4d_se_squeeze[0][0]']     \n",
            "                                                                                                  \n",
            " block4d_se_reduce (Conv2D)     (None, 1, 1, 24)     13848       ['block4d_se_reshape[0][0]']     \n",
            "                                                                                                  \n",
            " block4d_se_expand (Conv2D)     (None, 1, 1, 576)    14400       ['block4d_se_reduce[0][0]']      \n",
            "                                                                                                  \n",
            " block4d_se_excite (Multiply)   (None, 19, 19, 576)  0           ['block4d_activation[0][0]',     \n",
            "                                                                  'block4d_se_expand[0][0]']      \n",
            "                                                                                                  \n",
            " block4d_project_conv (Conv2D)  (None, 19, 19, 96)   55296       ['block4d_se_excite[0][0]']      \n",
            "                                                                                                  \n",
            " block4d_project_bn (BatchNorma  (None, 19, 19, 96)  384         ['block4d_project_conv[0][0]']   \n",
            " lization)                                                                                        \n",
            "                                                                                                  \n",
            " block4d_drop (Dropout)         (None, 19, 19, 96)   0           ['block4d_project_bn[0][0]']     \n",
            "                                                                                                  \n",
            " block4d_add (Add)              (None, 19, 19, 96)   0           ['block4d_drop[0][0]',           \n",
            "                                                                  'block4c_add[0][0]']            \n",
            "                                                                                                  \n",
            " block4e_expand_conv (Conv2D)   (None, 19, 19, 576)  55296       ['block4d_add[0][0]']            \n",
            "                                                                                                  \n",
            " block4e_expand_bn (BatchNormal  (None, 19, 19, 576)  2304       ['block4e_expand_conv[0][0]']    \n",
            " ization)                                                                                         \n",
            "                                                                                                  \n",
            " block4e_expand_activation (Act  (None, 19, 19, 576)  0          ['block4e_expand_bn[0][0]']      \n",
            " ivation)                                                                                         \n",
            "                                                                                                  \n",
            " block4e_dwconv (DepthwiseConv2  (None, 19, 19, 576)  5184       ['block4e_expand_activation[0][0]\n",
            " D)                                                              ']                               \n",
            "                                                                                                  \n",
            " block4e_bn (BatchNormalization  (None, 19, 19, 576)  2304       ['block4e_dwconv[0][0]']         \n",
            " )                                                                                                \n",
            "                                                                                                  \n",
            " block4e_activation (Activation  (None, 19, 19, 576)  0          ['block4e_bn[0][0]']             \n",
            " )                                                                                                \n",
            "                                                                                                  \n",
            " block4e_se_squeeze (GlobalAver  (None, 576)         0           ['block4e_activation[0][0]']     \n",
            " agePooling2D)                                                                                    \n",
            "                                                                                                  \n",
            " block4e_se_reshape (Reshape)   (None, 1, 1, 576)    0           ['block4e_se_squeeze[0][0]']     \n",
            "                                                                                                  \n",
            " block4e_se_reduce (Conv2D)     (None, 1, 1, 24)     13848       ['block4e_se_reshape[0][0]']     \n",
            "                                                                                                  \n",
            " block4e_se_expand (Conv2D)     (None, 1, 1, 576)    14400       ['block4e_se_reduce[0][0]']      \n",
            "                                                                                                  \n",
            " block4e_se_excite (Multiply)   (None, 19, 19, 576)  0           ['block4e_activation[0][0]',     \n",
            "                                                                  'block4e_se_expand[0][0]']      \n",
            "                                                                                                  \n",
            " block4e_project_conv (Conv2D)  (None, 19, 19, 96)   55296       ['block4e_se_excite[0][0]']      \n",
            "                                                                                                  \n",
            " block4e_project_bn (BatchNorma  (None, 19, 19, 96)  384         ['block4e_project_conv[0][0]']   \n",
            " lization)                                                                                        \n",
            "                                                                                                  \n",
            " block4e_drop (Dropout)         (None, 19, 19, 96)   0           ['block4e_project_bn[0][0]']     \n",
            "                                                                                                  \n",
            " block4e_add (Add)              (None, 19, 19, 96)   0           ['block4e_drop[0][0]',           \n",
            "                                                                  'block4d_add[0][0]']            \n",
            "                                                                                                  \n",
            " block5a_expand_conv (Conv2D)   (None, 19, 19, 576)  55296       ['block4e_add[0][0]']            \n",
            "                                                                                                  \n",
            " block5a_expand_bn (BatchNormal  (None, 19, 19, 576)  2304       ['block5a_expand_conv[0][0]']    \n",
            " ization)                                                                                         \n",
            "                                                                                                  \n",
            " block5a_expand_activation (Act  (None, 19, 19, 576)  0          ['block5a_expand_bn[0][0]']      \n",
            " ivation)                                                                                         \n",
            "                                                                                                  \n",
            " block5a_dwconv (DepthwiseConv2  (None, 19, 19, 576)  14400      ['block5a_expand_activation[0][0]\n",
            " D)                                                              ']                               \n",
            "                                                                                                  \n",
            " block5a_bn (BatchNormalization  (None, 19, 19, 576)  2304       ['block5a_dwconv[0][0]']         \n",
            " )                                                                                                \n",
            "                                                                                                  \n",
            " block5a_activation (Activation  (None, 19, 19, 576)  0          ['block5a_bn[0][0]']             \n",
            " )                                                                                                \n",
            "                                                                                                  \n",
            " block5a_se_squeeze (GlobalAver  (None, 576)         0           ['block5a_activation[0][0]']     \n",
            " agePooling2D)                                                                                    \n",
            "                                                                                                  \n",
            " block5a_se_reshape (Reshape)   (None, 1, 1, 576)    0           ['block5a_se_squeeze[0][0]']     \n",
            "                                                                                                  \n",
            " block5a_se_reduce (Conv2D)     (None, 1, 1, 24)     13848       ['block5a_se_reshape[0][0]']     \n",
            "                                                                                                  \n",
            " block5a_se_expand (Conv2D)     (None, 1, 1, 576)    14400       ['block5a_se_reduce[0][0]']      \n",
            "                                                                                                  \n",
            " block5a_se_excite (Multiply)   (None, 19, 19, 576)  0           ['block5a_activation[0][0]',     \n",
            "                                                                  'block5a_se_expand[0][0]']      \n",
            "                                                                                                  \n",
            " block5a_project_conv (Conv2D)  (None, 19, 19, 136)  78336       ['block5a_se_excite[0][0]']      \n",
            "                                                                                                  \n",
            " block5a_project_bn (BatchNorma  (None, 19, 19, 136)  544        ['block5a_project_conv[0][0]']   \n",
            " lization)                                                                                        \n",
            "                                                                                                  \n",
            " block5b_expand_conv (Conv2D)   (None, 19, 19, 816)  110976      ['block5a_project_bn[0][0]']     \n",
            "                                                                                                  \n",
            " block5b_expand_bn (BatchNormal  (None, 19, 19, 816)  3264       ['block5b_expand_conv[0][0]']    \n",
            " ization)                                                                                         \n",
            "                                                                                                  \n",
            " block5b_expand_activation (Act  (None, 19, 19, 816)  0          ['block5b_expand_bn[0][0]']      \n",
            " ivation)                                                                                         \n",
            "                                                                                                  \n",
            " block5b_dwconv (DepthwiseConv2  (None, 19, 19, 816)  20400      ['block5b_expand_activation[0][0]\n",
            " D)                                                              ']                               \n",
            "                                                                                                  \n",
            " block5b_bn (BatchNormalization  (None, 19, 19, 816)  3264       ['block5b_dwconv[0][0]']         \n",
            " )                                                                                                \n",
            "                                                                                                  \n",
            " block5b_activation (Activation  (None, 19, 19, 816)  0          ['block5b_bn[0][0]']             \n",
            " )                                                                                                \n",
            "                                                                                                  \n",
            " block5b_se_squeeze (GlobalAver  (None, 816)         0           ['block5b_activation[0][0]']     \n",
            " agePooling2D)                                                                                    \n",
            "                                                                                                  \n",
            " block5b_se_reshape (Reshape)   (None, 1, 1, 816)    0           ['block5b_se_squeeze[0][0]']     \n",
            "                                                                                                  \n",
            " block5b_se_reduce (Conv2D)     (None, 1, 1, 34)     27778       ['block5b_se_reshape[0][0]']     \n",
            "                                                                                                  \n",
            " block5b_se_expand (Conv2D)     (None, 1, 1, 816)    28560       ['block5b_se_reduce[0][0]']      \n",
            "                                                                                                  \n",
            " block5b_se_excite (Multiply)   (None, 19, 19, 816)  0           ['block5b_activation[0][0]',     \n",
            "                                                                  'block5b_se_expand[0][0]']      \n",
            "                                                                                                  \n",
            " block5b_project_conv (Conv2D)  (None, 19, 19, 136)  110976      ['block5b_se_excite[0][0]']      \n",
            "                                                                                                  \n",
            " block5b_project_bn (BatchNorma  (None, 19, 19, 136)  544        ['block5b_project_conv[0][0]']   \n",
            " lization)                                                                                        \n",
            "                                                                                                  \n",
            " block5b_drop (Dropout)         (None, 19, 19, 136)  0           ['block5b_project_bn[0][0]']     \n",
            "                                                                                                  \n",
            " block5b_add (Add)              (None, 19, 19, 136)  0           ['block5b_drop[0][0]',           \n",
            "                                                                  'block5a_project_bn[0][0]']     \n",
            "                                                                                                  \n",
            " block5c_expand_conv (Conv2D)   (None, 19, 19, 816)  110976      ['block5b_add[0][0]']            \n",
            "                                                                                                  \n",
            " block5c_expand_bn (BatchNormal  (None, 19, 19, 816)  3264       ['block5c_expand_conv[0][0]']    \n",
            " ization)                                                                                         \n",
            "                                                                                                  \n",
            " block5c_expand_activation (Act  (None, 19, 19, 816)  0          ['block5c_expand_bn[0][0]']      \n",
            " ivation)                                                                                         \n",
            "                                                                                                  \n",
            " block5c_dwconv (DepthwiseConv2  (None, 19, 19, 816)  20400      ['block5c_expand_activation[0][0]\n",
            " D)                                                              ']                               \n",
            "                                                                                                  \n",
            " block5c_bn (BatchNormalization  (None, 19, 19, 816)  3264       ['block5c_dwconv[0][0]']         \n",
            " )                                                                                                \n",
            "                                                                                                  \n",
            " block5c_activation (Activation  (None, 19, 19, 816)  0          ['block5c_bn[0][0]']             \n",
            " )                                                                                                \n",
            "                                                                                                  \n",
            " block5c_se_squeeze (GlobalAver  (None, 816)         0           ['block5c_activation[0][0]']     \n",
            " agePooling2D)                                                                                    \n",
            "                                                                                                  \n",
            " block5c_se_reshape (Reshape)   (None, 1, 1, 816)    0           ['block5c_se_squeeze[0][0]']     \n",
            "                                                                                                  \n",
            " block5c_se_reduce (Conv2D)     (None, 1, 1, 34)     27778       ['block5c_se_reshape[0][0]']     \n",
            "                                                                                                  \n",
            " block5c_se_expand (Conv2D)     (None, 1, 1, 816)    28560       ['block5c_se_reduce[0][0]']      \n",
            "                                                                                                  \n",
            " block5c_se_excite (Multiply)   (None, 19, 19, 816)  0           ['block5c_activation[0][0]',     \n",
            "                                                                  'block5c_se_expand[0][0]']      \n",
            "                                                                                                  \n",
            " block5c_project_conv (Conv2D)  (None, 19, 19, 136)  110976      ['block5c_se_excite[0][0]']      \n",
            "                                                                                                  \n",
            " block5c_project_bn (BatchNorma  (None, 19, 19, 136)  544        ['block5c_project_conv[0][0]']   \n",
            " lization)                                                                                        \n",
            "                                                                                                  \n",
            " block5c_drop (Dropout)         (None, 19, 19, 136)  0           ['block5c_project_bn[0][0]']     \n",
            "                                                                                                  \n",
            " block5c_add (Add)              (None, 19, 19, 136)  0           ['block5c_drop[0][0]',           \n",
            "                                                                  'block5b_add[0][0]']            \n",
            "                                                                                                  \n",
            " block5d_expand_conv (Conv2D)   (None, 19, 19, 816)  110976      ['block5c_add[0][0]']            \n",
            "                                                                                                  \n",
            " block5d_expand_bn (BatchNormal  (None, 19, 19, 816)  3264       ['block5d_expand_conv[0][0]']    \n",
            " ization)                                                                                         \n",
            "                                                                                                  \n",
            " block5d_expand_activation (Act  (None, 19, 19, 816)  0          ['block5d_expand_bn[0][0]']      \n",
            " ivation)                                                                                         \n",
            "                                                                                                  \n",
            " block5d_dwconv (DepthwiseConv2  (None, 19, 19, 816)  20400      ['block5d_expand_activation[0][0]\n",
            " D)                                                              ']                               \n",
            "                                                                                                  \n",
            " block5d_bn (BatchNormalization  (None, 19, 19, 816)  3264       ['block5d_dwconv[0][0]']         \n",
            " )                                                                                                \n",
            "                                                                                                  \n",
            " block5d_activation (Activation  (None, 19, 19, 816)  0          ['block5d_bn[0][0]']             \n",
            " )                                                                                                \n",
            "                                                                                                  \n",
            " block5d_se_squeeze (GlobalAver  (None, 816)         0           ['block5d_activation[0][0]']     \n",
            " agePooling2D)                                                                                    \n",
            "                                                                                                  \n",
            " block5d_se_reshape (Reshape)   (None, 1, 1, 816)    0           ['block5d_se_squeeze[0][0]']     \n",
            "                                                                                                  \n",
            " block5d_se_reduce (Conv2D)     (None, 1, 1, 34)     27778       ['block5d_se_reshape[0][0]']     \n",
            "                                                                                                  \n",
            " block5d_se_expand (Conv2D)     (None, 1, 1, 816)    28560       ['block5d_se_reduce[0][0]']      \n",
            "                                                                                                  \n",
            " block5d_se_excite (Multiply)   (None, 19, 19, 816)  0           ['block5d_activation[0][0]',     \n",
            "                                                                  'block5d_se_expand[0][0]']      \n",
            "                                                                                                  \n",
            " block5d_project_conv (Conv2D)  (None, 19, 19, 136)  110976      ['block5d_se_excite[0][0]']      \n",
            "                                                                                                  \n",
            " block5d_project_bn (BatchNorma  (None, 19, 19, 136)  544        ['block5d_project_conv[0][0]']   \n",
            " lization)                                                                                        \n",
            "                                                                                                  \n",
            " block5d_drop (Dropout)         (None, 19, 19, 136)  0           ['block5d_project_bn[0][0]']     \n",
            "                                                                                                  \n",
            " block5d_add (Add)              (None, 19, 19, 136)  0           ['block5d_drop[0][0]',           \n",
            "                                                                  'block5c_add[0][0]']            \n",
            "                                                                                                  \n",
            " block5e_expand_conv (Conv2D)   (None, 19, 19, 816)  110976      ['block5d_add[0][0]']            \n",
            "                                                                                                  \n",
            " block5e_expand_bn (BatchNormal  (None, 19, 19, 816)  3264       ['block5e_expand_conv[0][0]']    \n",
            " ization)                                                                                         \n",
            "                                                                                                  \n",
            " block5e_expand_activation (Act  (None, 19, 19, 816)  0          ['block5e_expand_bn[0][0]']      \n",
            " ivation)                                                                                         \n",
            "                                                                                                  \n",
            " block5e_dwconv (DepthwiseConv2  (None, 19, 19, 816)  20400      ['block5e_expand_activation[0][0]\n",
            " D)                                                              ']                               \n",
            "                                                                                                  \n",
            " block5e_bn (BatchNormalization  (None, 19, 19, 816)  3264       ['block5e_dwconv[0][0]']         \n",
            " )                                                                                                \n",
            "                                                                                                  \n",
            " block5e_activation (Activation  (None, 19, 19, 816)  0          ['block5e_bn[0][0]']             \n",
            " )                                                                                                \n",
            "                                                                                                  \n",
            " block5e_se_squeeze (GlobalAver  (None, 816)         0           ['block5e_activation[0][0]']     \n",
            " agePooling2D)                                                                                    \n",
            "                                                                                                  \n",
            " block5e_se_reshape (Reshape)   (None, 1, 1, 816)    0           ['block5e_se_squeeze[0][0]']     \n",
            "                                                                                                  \n",
            " block5e_se_reduce (Conv2D)     (None, 1, 1, 34)     27778       ['block5e_se_reshape[0][0]']     \n",
            "                                                                                                  \n",
            " block5e_se_expand (Conv2D)     (None, 1, 1, 816)    28560       ['block5e_se_reduce[0][0]']      \n",
            "                                                                                                  \n",
            " block5e_se_excite (Multiply)   (None, 19, 19, 816)  0           ['block5e_activation[0][0]',     \n",
            "                                                                  'block5e_se_expand[0][0]']      \n",
            "                                                                                                  \n",
            " block5e_project_conv (Conv2D)  (None, 19, 19, 136)  110976      ['block5e_se_excite[0][0]']      \n",
            "                                                                                                  \n",
            " block5e_project_bn (BatchNorma  (None, 19, 19, 136)  544        ['block5e_project_conv[0][0]']   \n",
            " lization)                                                                                        \n",
            "                                                                                                  \n",
            " block5e_drop (Dropout)         (None, 19, 19, 136)  0           ['block5e_project_bn[0][0]']     \n",
            "                                                                                                  \n",
            " block5e_add (Add)              (None, 19, 19, 136)  0           ['block5e_drop[0][0]',           \n",
            "                                                                  'block5d_add[0][0]']            \n",
            "                                                                                                  \n",
            " block6a_expand_conv (Conv2D)   (None, 19, 19, 816)  110976      ['block5e_add[0][0]']            \n",
            "                                                                                                  \n",
            " block6a_expand_bn (BatchNormal  (None, 19, 19, 816)  3264       ['block6a_expand_conv[0][0]']    \n",
            " ization)                                                                                         \n",
            "                                                                                                  \n",
            " block6a_expand_activation (Act  (None, 19, 19, 816)  0          ['block6a_expand_bn[0][0]']      \n",
            " ivation)                                                                                         \n",
            "                                                                                                  \n",
            " block6a_dwconv_pad (ZeroPaddin  (None, 23, 23, 816)  0          ['block6a_expand_activation[0][0]\n",
            " g2D)                                                            ']                               \n",
            "                                                                                                  \n",
            " block6a_dwconv (DepthwiseConv2  (None, 10, 10, 816)  20400      ['block6a_dwconv_pad[0][0]']     \n",
            " D)                                                                                               \n",
            "                                                                                                  \n",
            " block6a_bn (BatchNormalization  (None, 10, 10, 816)  3264       ['block6a_dwconv[0][0]']         \n",
            " )                                                                                                \n",
            "                                                                                                  \n",
            " block6a_activation (Activation  (None, 10, 10, 816)  0          ['block6a_bn[0][0]']             \n",
            " )                                                                                                \n",
            "                                                                                                  \n",
            " block6a_se_squeeze (GlobalAver  (None, 816)         0           ['block6a_activation[0][0]']     \n",
            " agePooling2D)                                                                                    \n",
            "                                                                                                  \n",
            " block6a_se_reshape (Reshape)   (None, 1, 1, 816)    0           ['block6a_se_squeeze[0][0]']     \n",
            "                                                                                                  \n",
            " block6a_se_reduce (Conv2D)     (None, 1, 1, 34)     27778       ['block6a_se_reshape[0][0]']     \n",
            "                                                                                                  \n",
            " block6a_se_expand (Conv2D)     (None, 1, 1, 816)    28560       ['block6a_se_reduce[0][0]']      \n",
            "                                                                                                  \n",
            " block6a_se_excite (Multiply)   (None, 10, 10, 816)  0           ['block6a_activation[0][0]',     \n",
            "                                                                  'block6a_se_expand[0][0]']      \n",
            "                                                                                                  \n",
            " block6a_project_conv (Conv2D)  (None, 10, 10, 232)  189312      ['block6a_se_excite[0][0]']      \n",
            "                                                                                                  \n",
            " block6a_project_bn (BatchNorma  (None, 10, 10, 232)  928        ['block6a_project_conv[0][0]']   \n",
            " lization)                                                                                        \n",
            "                                                                                                  \n",
            " block6b_expand_conv (Conv2D)   (None, 10, 10, 1392  322944      ['block6a_project_bn[0][0]']     \n",
            "                                )                                                                 \n",
            "                                                                                                  \n",
            " block6b_expand_bn (BatchNormal  (None, 10, 10, 1392  5568       ['block6b_expand_conv[0][0]']    \n",
            " ization)                       )                                                                 \n",
            "                                                                                                  \n",
            " block6b_expand_activation (Act  (None, 10, 10, 1392  0          ['block6b_expand_bn[0][0]']      \n",
            " ivation)                       )                                                                 \n",
            "                                                                                                  \n",
            " block6b_dwconv (DepthwiseConv2  (None, 10, 10, 1392  34800      ['block6b_expand_activation[0][0]\n",
            " D)                             )                                ']                               \n",
            "                                                                                                  \n",
            " block6b_bn (BatchNormalization  (None, 10, 10, 1392  5568       ['block6b_dwconv[0][0]']         \n",
            " )                              )                                                                 \n",
            "                                                                                                  \n",
            " block6b_activation (Activation  (None, 10, 10, 1392  0          ['block6b_bn[0][0]']             \n",
            " )                              )                                                                 \n",
            "                                                                                                  \n",
            " block6b_se_squeeze (GlobalAver  (None, 1392)        0           ['block6b_activation[0][0]']     \n",
            " agePooling2D)                                                                                    \n",
            "                                                                                                  \n",
            " block6b_se_reshape (Reshape)   (None, 1, 1, 1392)   0           ['block6b_se_squeeze[0][0]']     \n",
            "                                                                                                  \n",
            " block6b_se_reduce (Conv2D)     (None, 1, 1, 58)     80794       ['block6b_se_reshape[0][0]']     \n",
            "                                                                                                  \n",
            " block6b_se_expand (Conv2D)     (None, 1, 1, 1392)   82128       ['block6b_se_reduce[0][0]']      \n",
            "                                                                                                  \n",
            " block6b_se_excite (Multiply)   (None, 10, 10, 1392  0           ['block6b_activation[0][0]',     \n",
            "                                )                                 'block6b_se_expand[0][0]']      \n",
            "                                                                                                  \n",
            " block6b_project_conv (Conv2D)  (None, 10, 10, 232)  322944      ['block6b_se_excite[0][0]']      \n",
            "                                                                                                  \n",
            " block6b_project_bn (BatchNorma  (None, 10, 10, 232)  928        ['block6b_project_conv[0][0]']   \n",
            " lization)                                                                                        \n",
            "                                                                                                  \n",
            " block6b_drop (Dropout)         (None, 10, 10, 232)  0           ['block6b_project_bn[0][0]']     \n",
            "                                                                                                  \n",
            " block6b_add (Add)              (None, 10, 10, 232)  0           ['block6b_drop[0][0]',           \n",
            "                                                                  'block6a_project_bn[0][0]']     \n",
            "                                                                                                  \n",
            " block6c_expand_conv (Conv2D)   (None, 10, 10, 1392  322944      ['block6b_add[0][0]']            \n",
            "                                )                                                                 \n",
            "                                                                                                  \n",
            " block6c_expand_bn (BatchNormal  (None, 10, 10, 1392  5568       ['block6c_expand_conv[0][0]']    \n",
            " ization)                       )                                                                 \n",
            "                                                                                                  \n",
            " block6c_expand_activation (Act  (None, 10, 10, 1392  0          ['block6c_expand_bn[0][0]']      \n",
            " ivation)                       )                                                                 \n",
            "                                                                                                  \n",
            " block6c_dwconv (DepthwiseConv2  (None, 10, 10, 1392  34800      ['block6c_expand_activation[0][0]\n",
            " D)                             )                                ']                               \n",
            "                                                                                                  \n",
            " block6c_bn (BatchNormalization  (None, 10, 10, 1392  5568       ['block6c_dwconv[0][0]']         \n",
            " )                              )                                                                 \n",
            "                                                                                                  \n",
            " block6c_activation (Activation  (None, 10, 10, 1392  0          ['block6c_bn[0][0]']             \n",
            " )                              )                                                                 \n",
            "                                                                                                  \n",
            " block6c_se_squeeze (GlobalAver  (None, 1392)        0           ['block6c_activation[0][0]']     \n",
            " agePooling2D)                                                                                    \n",
            "                                                                                                  \n",
            " block6c_se_reshape (Reshape)   (None, 1, 1, 1392)   0           ['block6c_se_squeeze[0][0]']     \n",
            "                                                                                                  \n",
            " block6c_se_reduce (Conv2D)     (None, 1, 1, 58)     80794       ['block6c_se_reshape[0][0]']     \n",
            "                                                                                                  \n",
            " block6c_se_expand (Conv2D)     (None, 1, 1, 1392)   82128       ['block6c_se_reduce[0][0]']      \n",
            "                                                                                                  \n",
            " block6c_se_excite (Multiply)   (None, 10, 10, 1392  0           ['block6c_activation[0][0]',     \n",
            "                                )                                 'block6c_se_expand[0][0]']      \n",
            "                                                                                                  \n",
            " block6c_project_conv (Conv2D)  (None, 10, 10, 232)  322944      ['block6c_se_excite[0][0]']      \n",
            "                                                                                                  \n",
            " block6c_project_bn (BatchNorma  (None, 10, 10, 232)  928        ['block6c_project_conv[0][0]']   \n",
            " lization)                                                                                        \n",
            "                                                                                                  \n",
            " block6c_drop (Dropout)         (None, 10, 10, 232)  0           ['block6c_project_bn[0][0]']     \n",
            "                                                                                                  \n",
            " block6c_add (Add)              (None, 10, 10, 232)  0           ['block6c_drop[0][0]',           \n",
            "                                                                  'block6b_add[0][0]']            \n",
            "                                                                                                  \n",
            " block6d_expand_conv (Conv2D)   (None, 10, 10, 1392  322944      ['block6c_add[0][0]']            \n",
            "                                )                                                                 \n",
            "                                                                                                  \n",
            " block6d_expand_bn (BatchNormal  (None, 10, 10, 1392  5568       ['block6d_expand_conv[0][0]']    \n",
            " ization)                       )                                                                 \n",
            "                                                                                                  \n",
            " block6d_expand_activation (Act  (None, 10, 10, 1392  0          ['block6d_expand_bn[0][0]']      \n",
            " ivation)                       )                                                                 \n",
            "                                                                                                  \n",
            " block6d_dwconv (DepthwiseConv2  (None, 10, 10, 1392  34800      ['block6d_expand_activation[0][0]\n",
            " D)                             )                                ']                               \n",
            "                                                                                                  \n",
            " block6d_bn (BatchNormalization  (None, 10, 10, 1392  5568       ['block6d_dwconv[0][0]']         \n",
            " )                              )                                                                 \n",
            "                                                                                                  \n",
            " block6d_activation (Activation  (None, 10, 10, 1392  0          ['block6d_bn[0][0]']             \n",
            " )                              )                                                                 \n",
            "                                                                                                  \n",
            " block6d_se_squeeze (GlobalAver  (None, 1392)        0           ['block6d_activation[0][0]']     \n",
            " agePooling2D)                                                                                    \n",
            "                                                                                                  \n",
            " block6d_se_reshape (Reshape)   (None, 1, 1, 1392)   0           ['block6d_se_squeeze[0][0]']     \n",
            "                                                                                                  \n",
            " block6d_se_reduce (Conv2D)     (None, 1, 1, 58)     80794       ['block6d_se_reshape[0][0]']     \n",
            "                                                                                                  \n",
            " block6d_se_expand (Conv2D)     (None, 1, 1, 1392)   82128       ['block6d_se_reduce[0][0]']      \n",
            "                                                                                                  \n",
            " block6d_se_excite (Multiply)   (None, 10, 10, 1392  0           ['block6d_activation[0][0]',     \n",
            "                                )                                 'block6d_se_expand[0][0]']      \n",
            "                                                                                                  \n",
            " block6d_project_conv (Conv2D)  (None, 10, 10, 232)  322944      ['block6d_se_excite[0][0]']      \n",
            "                                                                                                  \n",
            " block6d_project_bn (BatchNorma  (None, 10, 10, 232)  928        ['block6d_project_conv[0][0]']   \n",
            " lization)                                                                                        \n",
            "                                                                                                  \n",
            " block6d_drop (Dropout)         (None, 10, 10, 232)  0           ['block6d_project_bn[0][0]']     \n",
            "                                                                                                  \n",
            " block6d_add (Add)              (None, 10, 10, 232)  0           ['block6d_drop[0][0]',           \n",
            "                                                                  'block6c_add[0][0]']            \n",
            "                                                                                                  \n",
            " block6e_expand_conv (Conv2D)   (None, 10, 10, 1392  322944      ['block6d_add[0][0]']            \n",
            "                                )                                                                 \n",
            "                                                                                                  \n",
            " block6e_expand_bn (BatchNormal  (None, 10, 10, 1392  5568       ['block6e_expand_conv[0][0]']    \n",
            " ization)                       )                                                                 \n",
            "                                                                                                  \n",
            " block6e_expand_activation (Act  (None, 10, 10, 1392  0          ['block6e_expand_bn[0][0]']      \n",
            " ivation)                       )                                                                 \n",
            "                                                                                                  \n",
            " block6e_dwconv (DepthwiseConv2  (None, 10, 10, 1392  34800      ['block6e_expand_activation[0][0]\n",
            " D)                             )                                ']                               \n",
            "                                                                                                  \n",
            " block6e_bn (BatchNormalization  (None, 10, 10, 1392  5568       ['block6e_dwconv[0][0]']         \n",
            " )                              )                                                                 \n",
            "                                                                                                  \n",
            " block6e_activation (Activation  (None, 10, 10, 1392  0          ['block6e_bn[0][0]']             \n",
            " )                              )                                                                 \n",
            "                                                                                                  \n",
            " block6e_se_squeeze (GlobalAver  (None, 1392)        0           ['block6e_activation[0][0]']     \n",
            " agePooling2D)                                                                                    \n",
            "                                                                                                  \n",
            " block6e_se_reshape (Reshape)   (None, 1, 1, 1392)   0           ['block6e_se_squeeze[0][0]']     \n",
            "                                                                                                  \n",
            " block6e_se_reduce (Conv2D)     (None, 1, 1, 58)     80794       ['block6e_se_reshape[0][0]']     \n",
            "                                                                                                  \n",
            " block6e_se_expand (Conv2D)     (None, 1, 1, 1392)   82128       ['block6e_se_reduce[0][0]']      \n",
            "                                                                                                  \n",
            " block6e_se_excite (Multiply)   (None, 10, 10, 1392  0           ['block6e_activation[0][0]',     \n",
            "                                )                                 'block6e_se_expand[0][0]']      \n",
            "                                                                                                  \n",
            " block6e_project_conv (Conv2D)  (None, 10, 10, 232)  322944      ['block6e_se_excite[0][0]']      \n",
            "                                                                                                  \n",
            " block6e_project_bn (BatchNorma  (None, 10, 10, 232)  928        ['block6e_project_conv[0][0]']   \n",
            " lization)                                                                                        \n",
            "                                                                                                  \n",
            " block6e_drop (Dropout)         (None, 10, 10, 232)  0           ['block6e_project_bn[0][0]']     \n",
            "                                                                                                  \n",
            " block6e_add (Add)              (None, 10, 10, 232)  0           ['block6e_drop[0][0]',           \n",
            "                                                                  'block6d_add[0][0]']            \n",
            "                                                                                                  \n",
            " block6f_expand_conv (Conv2D)   (None, 10, 10, 1392  322944      ['block6e_add[0][0]']            \n",
            "                                )                                                                 \n",
            "                                                                                                  \n",
            " block6f_expand_bn (BatchNormal  (None, 10, 10, 1392  5568       ['block6f_expand_conv[0][0]']    \n",
            " ization)                       )                                                                 \n",
            "                                                                                                  \n",
            " block6f_expand_activation (Act  (None, 10, 10, 1392  0          ['block6f_expand_bn[0][0]']      \n",
            " ivation)                       )                                                                 \n",
            "                                                                                                  \n",
            " block6f_dwconv (DepthwiseConv2  (None, 10, 10, 1392  34800      ['block6f_expand_activation[0][0]\n",
            " D)                             )                                ']                               \n",
            "                                                                                                  \n",
            " block6f_bn (BatchNormalization  (None, 10, 10, 1392  5568       ['block6f_dwconv[0][0]']         \n",
            " )                              )                                                                 \n",
            "                                                                                                  \n",
            " block6f_activation (Activation  (None, 10, 10, 1392  0          ['block6f_bn[0][0]']             \n",
            " )                              )                                                                 \n",
            "                                                                                                  \n",
            " block6f_se_squeeze (GlobalAver  (None, 1392)        0           ['block6f_activation[0][0]']     \n",
            " agePooling2D)                                                                                    \n",
            "                                                                                                  \n",
            " block6f_se_reshape (Reshape)   (None, 1, 1, 1392)   0           ['block6f_se_squeeze[0][0]']     \n",
            "                                                                                                  \n",
            " block6f_se_reduce (Conv2D)     (None, 1, 1, 58)     80794       ['block6f_se_reshape[0][0]']     \n",
            "                                                                                                  \n",
            " block6f_se_expand (Conv2D)     (None, 1, 1, 1392)   82128       ['block6f_se_reduce[0][0]']      \n",
            "                                                                                                  \n",
            " block6f_se_excite (Multiply)   (None, 10, 10, 1392  0           ['block6f_activation[0][0]',     \n",
            "                                )                                 'block6f_se_expand[0][0]']      \n",
            "                                                                                                  \n",
            " block6f_project_conv (Conv2D)  (None, 10, 10, 232)  322944      ['block6f_se_excite[0][0]']      \n",
            "                                                                                                  \n",
            " block6f_project_bn (BatchNorma  (None, 10, 10, 232)  928        ['block6f_project_conv[0][0]']   \n",
            " lization)                                                                                        \n",
            "                                                                                                  \n",
            " block6f_drop (Dropout)         (None, 10, 10, 232)  0           ['block6f_project_bn[0][0]']     \n",
            "                                                                                                  \n",
            " block6f_add (Add)              (None, 10, 10, 232)  0           ['block6f_drop[0][0]',           \n",
            "                                                                  'block6e_add[0][0]']            \n",
            "                                                                                                  \n",
            " block7a_expand_conv (Conv2D)   (None, 10, 10, 1392  322944      ['block6f_add[0][0]']            \n",
            "                                )                                                                 \n",
            "                                                                                                  \n",
            " block7a_expand_bn (BatchNormal  (None, 10, 10, 1392  5568       ['block7a_expand_conv[0][0]']    \n",
            " ization)                       )                                                                 \n",
            "                                                                                                  \n",
            " block7a_expand_activation (Act  (None, 10, 10, 1392  0          ['block7a_expand_bn[0][0]']      \n",
            " ivation)                       )                                                                 \n",
            "                                                                                                  \n",
            " block7a_dwconv (DepthwiseConv2  (None, 10, 10, 1392  12528      ['block7a_expand_activation[0][0]\n",
            " D)                             )                                ']                               \n",
            "                                                                                                  \n",
            " block7a_bn (BatchNormalization  (None, 10, 10, 1392  5568       ['block7a_dwconv[0][0]']         \n",
            " )                              )                                                                 \n",
            "                                                                                                  \n",
            " block7a_activation (Activation  (None, 10, 10, 1392  0          ['block7a_bn[0][0]']             \n",
            " )                              )                                                                 \n",
            "                                                                                                  \n",
            " block7a_se_squeeze (GlobalAver  (None, 1392)        0           ['block7a_activation[0][0]']     \n",
            " agePooling2D)                                                                                    \n",
            "                                                                                                  \n",
            " block7a_se_reshape (Reshape)   (None, 1, 1, 1392)   0           ['block7a_se_squeeze[0][0]']     \n",
            "                                                                                                  \n",
            " block7a_se_reduce (Conv2D)     (None, 1, 1, 58)     80794       ['block7a_se_reshape[0][0]']     \n",
            "                                                                                                  \n",
            " block7a_se_expand (Conv2D)     (None, 1, 1, 1392)   82128       ['block7a_se_reduce[0][0]']      \n",
            "                                                                                                  \n",
            " block7a_se_excite (Multiply)   (None, 10, 10, 1392  0           ['block7a_activation[0][0]',     \n",
            "                                )                                 'block7a_se_expand[0][0]']      \n",
            "                                                                                                  \n",
            " block7a_project_conv (Conv2D)  (None, 10, 10, 384)  534528      ['block7a_se_excite[0][0]']      \n",
            "                                                                                                  \n",
            " block7a_project_bn (BatchNorma  (None, 10, 10, 384)  1536       ['block7a_project_conv[0][0]']   \n",
            " lization)                                                                                        \n",
            "                                                                                                  \n",
            " block7b_expand_conv (Conv2D)   (None, 10, 10, 2304  884736      ['block7a_project_bn[0][0]']     \n",
            "                                )                                                                 \n",
            "                                                                                                  \n",
            " block7b_expand_bn (BatchNormal  (None, 10, 10, 2304  9216       ['block7b_expand_conv[0][0]']    \n",
            " ization)                       )                                                                 \n",
            "                                                                                                  \n",
            " block7b_expand_activation (Act  (None, 10, 10, 2304  0          ['block7b_expand_bn[0][0]']      \n",
            " ivation)                       )                                                                 \n",
            "                                                                                                  \n",
            " block7b_dwconv (DepthwiseConv2  (None, 10, 10, 2304  20736      ['block7b_expand_activation[0][0]\n",
            " D)                             )                                ']                               \n",
            "                                                                                                  \n",
            " block7b_bn (BatchNormalization  (None, 10, 10, 2304  9216       ['block7b_dwconv[0][0]']         \n",
            " )                              )                                                                 \n",
            "                                                                                                  \n",
            " block7b_activation (Activation  (None, 10, 10, 2304  0          ['block7b_bn[0][0]']             \n",
            " )                              )                                                                 \n",
            "                                                                                                  \n",
            " block7b_se_squeeze (GlobalAver  (None, 2304)        0           ['block7b_activation[0][0]']     \n",
            " agePooling2D)                                                                                    \n",
            "                                                                                                  \n",
            " block7b_se_reshape (Reshape)   (None, 1, 1, 2304)   0           ['block7b_se_squeeze[0][0]']     \n",
            "                                                                                                  \n",
            " block7b_se_reduce (Conv2D)     (None, 1, 1, 96)     221280      ['block7b_se_reshape[0][0]']     \n",
            "                                                                                                  \n",
            " block7b_se_expand (Conv2D)     (None, 1, 1, 2304)   223488      ['block7b_se_reduce[0][0]']      \n",
            "                                                                                                  \n",
            " block7b_se_excite (Multiply)   (None, 10, 10, 2304  0           ['block7b_activation[0][0]',     \n",
            "                                )                                 'block7b_se_expand[0][0]']      \n",
            "                                                                                                  \n",
            " block7b_project_conv (Conv2D)  (None, 10, 10, 384)  884736      ['block7b_se_excite[0][0]']      \n",
            "                                                                                                  \n",
            " block7b_project_bn (BatchNorma  (None, 10, 10, 384)  1536       ['block7b_project_conv[0][0]']   \n",
            " lization)                                                                                        \n",
            "                                                                                                  \n",
            " block7b_drop (Dropout)         (None, 10, 10, 384)  0           ['block7b_project_bn[0][0]']     \n",
            "                                                                                                  \n",
            " block7b_add (Add)              (None, 10, 10, 384)  0           ['block7b_drop[0][0]',           \n",
            "                                                                  'block7a_project_bn[0][0]']     \n",
            "                                                                                                  \n",
            " top_conv (Conv2D)              (None, 10, 10, 1536  589824      ['block7b_add[0][0]']            \n",
            "                                )                                                                 \n",
            "                                                                                                  \n",
            " top_bn (BatchNormalization)    (None, 10, 10, 1536  6144        ['top_conv[0][0]']               \n",
            "                                )                                                                 \n",
            "                                                                                                  \n",
            " top_activation (Activation)    (None, 10, 10, 1536  0           ['top_bn[0][0]']                 \n",
            "                                )                                                                 \n",
            "                                                                                                  \n",
            " flatten_9 (Flatten)            (None, 153600)       0           ['top_activation[0][0]']         \n",
            "                                                                                                  \n",
            " dense_10 (Dense)               (None, 50)           7680050     ['flatten_9[0][0]']              \n",
            "                                                                                                  \n",
            "==================================================================================================\n",
            "Total params: 18,463,585\n",
            "Trainable params: 7,680,050\n",
            "Non-trainable params: 10,783,535\n",
            "__________________________________________________________________________________________________\n"
          ]
        }
      ],
      "source": [
        "# view the structure of the model\n",
        "enet_model.summary()"
      ],
      "id": "9883a15e"
    },
    {
      "cell_type": "code",
      "execution_count": 227,
      "metadata": {
        "id": "9X8rn8bd000a"
      },
      "outputs": [],
      "source": [
        "# Compile model\n",
        "enet_model.compile(\n",
        "    loss='categorical_crossentropy',\n",
        "    optimizer='adam',\n",
        "    metrics=['accuracy', 'top_k_categorical_accuracy']\n",
        ")"
      ],
      "id": "9X8rn8bd000a"
    },
    {
      "cell_type": "code",
      "execution_count": 228,
      "metadata": {
        "id": "of5GP1CX000a"
      },
      "outputs": [],
      "source": [
        "# Include checkpoint \n",
        "\n",
        "#checkpoint_path = \"../checkpoint/baseline_cnn//cp-{epoch:04d}.ckpt\"\n",
        "\n",
        "\n",
        "# Create a callback that saves the model's weights\n",
        "#cp_callback = tf.keras.callbacks.ModelCheckpoint(filepath=checkpoint_path,\n",
        "#                                                 save_weights_only=True,\n",
        "#                                                verbose=1)"
      ],
      "id": "of5GP1CX000a"
    },
    {
      "cell_type": "code",
      "execution_count": 229,
      "metadata": {
        "id": "PXgMZNC6000b",
        "colab": {
          "base_uri": "https://localhost:8080/"
        },
        "outputId": "863988b7-29ea-4a6e-dcdf-54d36c2c1453"
      },
      "outputs": [
        {
          "output_type": "stream",
          "name": "stdout",
          "text": [
            "Epoch 1/15\n",
            "53/53 [==============================] - 30s 404ms/step - loss: 173.9489 - accuracy: 0.0202 - top_k_categorical_accuracy: 0.1060 - val_loss: 134.4501 - val_accuracy: 0.0167 - val_top_k_categorical_accuracy: 0.1071\n",
            "Epoch 2/15\n",
            "53/53 [==============================] - 19s 363ms/step - loss: 67.8223 - accuracy: 0.0189 - top_k_categorical_accuracy: 0.1028 - val_loss: 61.1843 - val_accuracy: 0.0238 - val_top_k_categorical_accuracy: 0.1024\n",
            "Epoch 3/15\n",
            "53/53 [==============================] - 19s 367ms/step - loss: 67.9136 - accuracy: 0.0151 - top_k_categorical_accuracy: 0.0940 - val_loss: 71.1208 - val_accuracy: 0.0262 - val_top_k_categorical_accuracy: 0.0952\n",
            "Epoch 4/15\n",
            "53/53 [==============================] - 19s 365ms/step - loss: 70.5286 - accuracy: 0.0189 - top_k_categorical_accuracy: 0.0959 - val_loss: 70.7256 - val_accuracy: 0.0190 - val_top_k_categorical_accuracy: 0.1048\n",
            "Epoch 5/15\n",
            "53/53 [==============================] - 19s 364ms/step - loss: 70.0529 - accuracy: 0.0233 - top_k_categorical_accuracy: 0.1161 - val_loss: 55.8313 - val_accuracy: 0.0333 - val_top_k_categorical_accuracy: 0.1238\n",
            "Epoch 6/15\n",
            "53/53 [==============================] - 20s 367ms/step - loss: 56.4730 - accuracy: 0.0233 - top_k_categorical_accuracy: 0.1066 - val_loss: 67.2262 - val_accuracy: 0.0190 - val_top_k_categorical_accuracy: 0.0810\n",
            "Epoch 7/15\n",
            "53/53 [==============================] - 20s 368ms/step - loss: 65.8105 - accuracy: 0.0265 - top_k_categorical_accuracy: 0.1142 - val_loss: 68.9478 - val_accuracy: 0.0333 - val_top_k_categorical_accuracy: 0.1262\n",
            "Epoch 8/15\n",
            "53/53 [==============================] - 19s 365ms/step - loss: 66.3901 - accuracy: 0.0233 - top_k_categorical_accuracy: 0.1161 - val_loss: 61.4812 - val_accuracy: 0.0333 - val_top_k_categorical_accuracy: 0.0952\n",
            "Epoch 9/15\n",
            "53/53 [==============================] - 20s 369ms/step - loss: 70.5937 - accuracy: 0.0221 - top_k_categorical_accuracy: 0.1066 - val_loss: 79.3307 - val_accuracy: 0.0333 - val_top_k_categorical_accuracy: 0.1190\n",
            "Epoch 10/15\n",
            "53/53 [==============================] - 19s 365ms/step - loss: 73.6207 - accuracy: 0.0189 - top_k_categorical_accuracy: 0.1066 - val_loss: 72.9821 - val_accuracy: 0.0262 - val_top_k_categorical_accuracy: 0.1024\n",
            "Epoch 11/15\n",
            "53/53 [==============================] - 19s 363ms/step - loss: 71.7632 - accuracy: 0.0196 - top_k_categorical_accuracy: 0.1047 - val_loss: 80.3917 - val_accuracy: 0.0190 - val_top_k_categorical_accuracy: 0.1048\n",
            "Epoch 12/15\n",
            "53/53 [==============================] - 19s 365ms/step - loss: 60.7897 - accuracy: 0.0265 - top_k_categorical_accuracy: 0.1054 - val_loss: 56.9221 - val_accuracy: 0.0238 - val_top_k_categorical_accuracy: 0.1119\n",
            "Epoch 13/15\n",
            "53/53 [==============================] - 20s 370ms/step - loss: 57.0660 - accuracy: 0.0221 - top_k_categorical_accuracy: 0.1180 - val_loss: 66.4671 - val_accuracy: 0.0333 - val_top_k_categorical_accuracy: 0.1071\n",
            "Epoch 14/15\n",
            "53/53 [==============================] - 20s 368ms/step - loss: 68.9456 - accuracy: 0.0252 - top_k_categorical_accuracy: 0.1110 - val_loss: 84.2398 - val_accuracy: 0.0333 - val_top_k_categorical_accuracy: 0.1167\n",
            "Epoch 15/15\n",
            "53/53 [==============================] - 19s 364ms/step - loss: 82.3684 - accuracy: 0.0202 - top_k_categorical_accuracy: 0.0984 - val_loss: 65.7231 - val_accuracy: 0.0190 - val_top_k_categorical_accuracy: 0.0905\n"
          ]
        }
      ],
      "source": [
        "# fit the model\n",
        "enet_history = enet_model.fit(\n",
        "    train_generator,\n",
        "    steps_per_epoch=train_generator.n//train_generator.batch_size,\n",
        "    validation_data=val_generator,\n",
        "    validation_steps=val_generator.n//val_generator.batch_size,\n",
        "    epochs=15,\n",
        "    shuffle=True,\n",
        "    verbose=1\n",
        ")"
      ],
      "id": "PXgMZNC6000b"
    },
    {
      "cell_type": "code",
      "execution_count": 230,
      "metadata": {
        "id": "7ilddbvX000b"
      },
      "outputs": [],
      "source": [
        "# saving mob model\n",
        "#enet_model.save('enet')\n",
        "#files.download('enet')"
      ],
      "id": "7ilddbvX000b"
    },
    {
      "cell_type": "code",
      "execution_count": 231,
      "metadata": {
        "id": "k2--jhfE000b",
        "colab": {
          "base_uri": "https://localhost:8080/",
          "height": 312
        },
        "outputId": "58e0a05f-d159-46e2-9003-26dcb155d1d3"
      },
      "outputs": [
        {
          "output_type": "display_data",
          "data": {
            "text/plain": [
              "<Figure size 432x288 with 1 Axes>"
            ],
            "image/png": "[encoded data removed]"
          },
          "metadata": {
            "needs_background": "light"
          }
        },
        {
          "output_type": "display_data",
          "data": {
            "text/plain": [
              "<IPython.core.display.Javascript object>"
            ],
            "application/javascript": [
              "\n",
              "    async function download(id, filename, size) {\n",
              "      if (!google.colab.kernel.accessAllowed) {\n",
              "        return;\n",
              "      }\n",
              "      const div = document.createElement('div');\n",
              "      const label = document.createElement('label');\n",
              "      label.textContent = `Downloading \"${filename}\": `;\n",
              "      div.appendChild(label);\n",
              "      const progress = document.createElement('progress');\n",
              "      progress.max = size;\n",
              "      div.appendChild(progress);\n",
              "      document.body.appendChild(div);\n",
              "\n",
              "      const buffers = [];\n",
              "      let downloaded = 0;\n",
              "\n",
              "      const channel = await google.colab.kernel.comms.open(id);\n",
              "      // Send a message to notify the kernel that we're ready.\n",
              "      channel.send({})\n",
              "\n",
              "      for await (const message of channel.messages) {\n",
              "        // Send a message to notify the kernel that we're ready.\n",
              "        channel.send({})\n",
              "        if (message.buffers) {\n",
              "          for (const buffer of message.buffers) {\n",
              "            buffers.push(buffer);\n",
              "            downloaded += buffer.byteLength;\n",
              "            progress.value = downloaded;\n",
              "          }\n",
              "        }\n",
              "      }\n",
              "      const blob = new Blob(buffers, {type: 'application/binary'});\n",
              "      const a = document.createElement('a');\n",
              "      a.href = window.URL.createObjectURL(blob);\n",
              "      a.download = filename;\n",
              "      div.appendChild(a);\n",
              "      a.click();\n",
              "      div.remove();\n",
              "    }\n",
              "  "
            ]
          },
          "metadata": {}
        },
        {
          "output_type": "display_data",
          "data": {
            "text/plain": [
              "<IPython.core.display.Javascript object>"
            ],
            "application/javascript": [
              "download(\"download_f2b5258e-7ce7-4fd7-8019-83f2a8ed078b\", \"enet-acc-rps-1.png\", 30120)"
            ]
          },
          "metadata": {}
        }
      ],
      "source": [
        "# accuracies\n",
        "plt.plot(enet_history.history['accuracy'], label='train acc')\n",
        "plt.plot(enet_history.history['val_accuracy'], label='val acc')\n",
        "plt.legend()\n",
        "plt.title('EfficientNetB3 Top-1 Accuracy')\n",
        "plt.xlabel('Number of Epochs')\n",
        "plt.ylabel('Accuracy')\n",
        "plt.savefig('enet-acc-rps-1.png')\n",
        "plt.show()\n",
        "files.download('enet-acc-rps-1.png')"
      ],
      "id": "k2--jhfE000b"
    },
    {
      "cell_type": "code",
      "execution_count": 232,
      "metadata": {
        "id": "D2KZAbXb000b",
        "colab": {
          "base_uri": "https://localhost:8080/",
          "height": 312
        },
        "outputId": "d7f1d295-3098-4eba-aed7-0785193755a3"
      },
      "outputs": [
        {
          "output_type": "display_data",
          "data": {
            "text/plain": [
              "<Figure size 432x288 with 1 Axes>"
            ],
            "image/png": "[encoded data removed]"
          },
          "metadata": {
            "needs_background": "light"
          }
        },
        {
          "output_type": "display_data",
          "data": {
            "text/plain": [
              "<IPython.core.display.Javascript object>"
            ],
            "application/javascript": [
              "\n",
              "    async function download(id, filename, size) {\n",
              "      if (!google.colab.kernel.accessAllowed) {\n",
              "        return;\n",
              "      }\n",
              "      const div = document.createElement('div');\n",
              "      const label = document.createElement('label');\n",
              "      label.textContent = `Downloading \"${filename}\": `;\n",
              "      div.appendChild(label);\n",
              "      const progress = document.createElement('progress');\n",
              "      progress.max = size;\n",
              "      div.appendChild(progress);\n",
              "      document.body.appendChild(div);\n",
              "\n",
              "      const buffers = [];\n",
              "      let downloaded = 0;\n",
              "\n",
              "      const channel = await google.colab.kernel.comms.open(id);\n",
              "      // Send a message to notify the kernel that we're ready.\n",
              "      channel.send({})\n",
              "\n",
              "      for await (const message of channel.messages) {\n",
              "        // Send a message to notify the kernel that we're ready.\n",
              "        channel.send({})\n",
              "        if (message.buffers) {\n",
              "          for (const buffer of message.buffers) {\n",
              "            buffers.push(buffer);\n",
              "            downloaded += buffer.byteLength;\n",
              "            progress.value = downloaded;\n",
              "          }\n",
              "        }\n",
              "      }\n",
              "      const blob = new Blob(buffers, {type: 'application/binary'});\n",
              "      const a = document.createElement('a');\n",
              "      a.href = window.URL.createObjectURL(blob);\n",
              "      a.download = filename;\n",
              "      div.appendChild(a);\n",
              "      a.click();\n",
              "      div.remove();\n",
              "    }\n",
              "  "
            ]
          },
          "metadata": {}
        },
        {
          "output_type": "display_data",
          "data": {
            "text/plain": [
              "<IPython.core.display.Javascript object>"
            ],
            "application/javascript": [
              "download(\"download_cd976ac8-962c-4cf1-9d81-ea268cb186c6\", \"enet-top-5-rps-1.png\", 28710)"
            ]
          },
          "metadata": {}
        }
      ],
      "source": [
        "# loss\n",
        "plt.plot(enet_history.history['top_k_categorical_accuracy'], label='train top-5 accuracy')\n",
        "plt.plot(enet_history.history['val_top_k_categorical_accuracy'], label='val top-5 accuracy')\n",
        "plt.legend()\n",
        "plt.title('EfficientNetB3 Top-5 Accuracy')\n",
        "plt.xlabel('Number of Epochs')\n",
        "plt.ylabel('Accuracy')\n",
        "plt.savefig('enet-top-5-rps-1.png')\n",
        "plt.show()\n",
        "files.download('enet-top-5-rps-1.png')"
      ],
      "id": "D2KZAbXb000b"
    },
    {
      "cell_type": "code",
      "execution_count": 233,
      "metadata": {
        "id": "hnIG9cme000b",
        "colab": {
          "base_uri": "https://localhost:8080/"
        },
        "outputId": "6240aa90-aec5-4dab-e318-22861c02d627"
      },
      "outputs": [
        {
          "output_type": "stream",
          "name": "stdout",
          "text": [
            "538/538 [==============================] - 12s 23ms/step - loss: 65.3615 - accuracy: 0.0186 - top_k_categorical_accuracy: 0.0911\n"
          ]
        },
        {
          "output_type": "execute_result",
          "data": {
            "text/plain": [
              "[65.36151885986328, 0.01858736015856266, 0.09107806533575058]"
            ]
          },
          "metadata": {},
          "execution_count": 233
        }
      ],
      "source": [
        "# evaluate\n",
        "enet_model.evaluate(test_generator)"
      ],
      "id": "hnIG9cme000b"
    },
    {
      "cell_type": "code",
      "execution_count": 234,
      "metadata": {
        "id": "Un_o36hd000c",
        "colab": {
          "base_uri": "https://localhost:8080/"
        },
        "outputId": "8095ea49-59d7-4389-b4a9-a8988f19ec78"
      },
      "outputs": [
        {
          "output_type": "stream",
          "name": "stdout",
          "text": [
            "538/538 [==============================] - 13s 21ms/step\n"
          ]
        }
      ],
      "source": [
        "# predict\n",
        "test_generator.reset()\n",
        "pred=enet_model.predict(test_generator,\n",
        "steps=test_generator.n//test_generator.batch_size,\n",
        "verbose=1)"
      ],
      "id": "Un_o36hd000c"
    },
    {
      "cell_type": "code",
      "execution_count": 235,
      "metadata": {
        "id": "kCS09VIZ000c"
      },
      "outputs": [],
      "source": [
        "y_pred = np.argmax(pred,axis=1)"
      ],
      "id": "kCS09VIZ000c"
    },
    {
      "cell_type": "code",
      "execution_count": 236,
      "metadata": {
        "id": "JHUcW7vE000c",
        "colab": {
          "base_uri": "https://localhost:8080/"
        },
        "outputId": "7593756d-8bb9-41e8-f70f-9ac9f0517685"
      },
      "outputs": [
        {
          "output_type": "stream",
          "name": "stdout",
          "text": [
            "              precision    recall  f1-score   support\n",
            "\n",
            "           0       0.00      0.00      0.00         0\n",
            "           1       0.00      0.00      0.00         0\n",
            "           2       0.00      0.00      0.00         0\n",
            "           3       0.00      0.00      0.00         0\n",
            "           4       0.00      0.00      0.00         0\n",
            "           5       0.00      0.00      0.00         0\n",
            "           6       0.00      0.00      0.00         0\n",
            "           7       0.00      0.00      0.00         0\n",
            "           8       0.00      0.00      0.00         0\n",
            "           9       0.00      0.00      0.00         0\n",
            "          10       0.00      0.00      0.00         0\n",
            "          11       0.00      0.00      0.00         0\n",
            "          12       0.00      0.00      0.00         0\n",
            "          13       0.00      0.00      0.00         0\n",
            "          14       0.00      0.00      0.00         0\n",
            "          15       0.00      0.00      0.00         0\n",
            "          16       0.00      0.00      0.00         0\n",
            "          17       0.00      0.00      0.00         0\n",
            "          18       0.00      0.00      0.00         0\n",
            "          19       0.00      0.00      0.00         0\n",
            "          20       0.00      0.00      0.00         0\n",
            "          21       0.00      0.00      0.00         0\n",
            "          22       0.00      0.00      0.00         0\n",
            "          23       0.00      0.00      0.00         0\n",
            "          24       0.00      0.00      0.00         0\n",
            "          25       0.00      0.00      0.00         0\n",
            "          26       0.00      0.00      0.00         0\n",
            "          27       0.00      0.00      0.00         0\n",
            "          28       0.00      0.00      0.00         0\n",
            "          29       0.00      0.00      0.00         0\n",
            "          30       0.00      0.00      0.00         0\n",
            "          31       0.00      0.00      0.00         0\n",
            "          32       1.00      0.02      0.04       538\n",
            "          33       0.00      0.00      0.00         0\n",
            "          34       0.00      0.00      0.00         0\n",
            "          35       0.00      0.00      0.00         0\n",
            "          36       0.00      0.00      0.00         0\n",
            "          37       0.00      0.00      0.00         0\n",
            "          38       0.00      0.00      0.00         0\n",
            "          39       0.00      0.00      0.00         0\n",
            "          40       0.00      0.00      0.00         0\n",
            "          41       0.00      0.00      0.00         0\n",
            "          42       0.00      0.00      0.00         0\n",
            "          43       0.00      0.00      0.00         0\n",
            "          44       0.00      0.00      0.00         0\n",
            "          45       0.00      0.00      0.00         0\n",
            "          46       0.00      0.00      0.00         0\n",
            "          47       0.00      0.00      0.00         0\n",
            "          48       0.00      0.00      0.00         0\n",
            "          49       0.00      0.00      0.00         0\n",
            "\n",
            "    accuracy                           0.02       538\n",
            "   macro avg       0.02      0.00      0.00       538\n",
            "weighted avg       1.00      0.02      0.04       538\n",
            "\n"
          ]
        },
        {
          "output_type": "stream",
          "name": "stderr",
          "text": [
            "/usr/local/lib/python3.7/dist-packages/sklearn/metrics/_classification.py:1318: UndefinedMetricWarning: Recall and F-score are ill-defined and being set to 0.0 in labels with no true samples. Use `zero_division` parameter to control this behavior.\n",
            "  _warn_prf(average, modifier, msg_start, len(result))\n",
            "/usr/local/lib/python3.7/dist-packages/sklearn/metrics/_classification.py:1318: UndefinedMetricWarning: Recall and F-score are ill-defined and being set to 0.0 in labels with no true samples. Use `zero_division` parameter to control this behavior.\n",
            "  _warn_prf(average, modifier, msg_start, len(result))\n",
            "/usr/local/lib/python3.7/dist-packages/sklearn/metrics/_classification.py:1318: UndefinedMetricWarning: Recall and F-score are ill-defined and being set to 0.0 in labels with no true samples. Use `zero_division` parameter to control this behavior.\n",
            "  _warn_prf(average, modifier, msg_start, len(result))\n"
          ]
        }
      ],
      "source": [
        "#get classification report\n",
        "print(classification_report(y_pred, labels))\n"
      ],
      "id": "JHUcW7vE000c"
    },
    {
      "cell_type": "code",
      "execution_count": 237,
      "metadata": {
        "id": "l0qToSX7000d"
      },
      "outputs": [],
      "source": [
        "df = create_prediction_df(y_pred, labels)"
      ],
      "id": "l0qToSX7000d"
    },
    {
      "cell_type": "code",
      "execution_count": 238,
      "metadata": {
        "id": "68121Acc000d",
        "colab": {
          "base_uri": "https://localhost:8080/",
          "height": 363
        },
        "outputId": "6ead9abb-10f3-4250-bb94-e10f1288d032"
      },
      "outputs": [
        {
          "output_type": "execute_result",
          "data": {
            "text/plain": [
              "                    actual_y                     pred  \\\n",
              "338  costus_woodsonii_flower  costus_woodsonii_flower   \n",
              "339  costus_woodsonii_flower  costus_woodsonii_flower   \n",
              "340  costus_woodsonii_flower  costus_woodsonii_flower   \n",
              "341  costus_woodsonii_flower  costus_woodsonii_flower   \n",
              "342  costus_woodsonii_flower  costus_woodsonii_flower   \n",
              "343  costus_woodsonii_flower  costus_woodsonii_flower   \n",
              "344  costus_woodsonii_flower  costus_woodsonii_flower   \n",
              "345  costus_woodsonii_flower  costus_woodsonii_flower   \n",
              "346  costus_woodsonii_flower  costus_woodsonii_flower   \n",
              "347  costus_woodsonii_flower  costus_woodsonii_flower   \n",
              "\n",
              "                                      names  \n",
              "338  costus_woodsonii_flower/01b1ff7909.jpg  \n",
              "339  costus_woodsonii_flower/0b2c288215.jpg  \n",
              "340  costus_woodsonii_flower/19abf6cc82.jpg  \n",
              "341  costus_woodsonii_flower/1ca4e4fe15.jpg  \n",
              "342  costus_woodsonii_flower/7b165484c9.jpg  \n",
              "343  costus_woodsonii_flower/7c4bb1b0af.jpg  \n",
              "344  costus_woodsonii_flower/b8a96814ae.jpg  \n",
              "345  costus_woodsonii_flower/bb82cd787a.jpg  \n",
              "346  costus_woodsonii_flower/f549d3d2dd.jpg  \n",
              "347  costus_woodsonii_flower/fd95de4494.jpg  "
            ],
            "text/html": [
              "\n",
              "  <div id=\"df-27ef204e-bd1e-4b95-83ce-fcfdaee68fe8\">\n",
              "    <div class=\"colab-df-container\">\n",
              "      <div>\n",
              "<style scoped>\n",
              "    .dataframe tbody tr th:only-of-type {\n",
              "        vertical-align: middle;\n",
              "    }\n",
              "\n",
              "    .dataframe tbody tr th {\n",
              "        vertical-align: top;\n",
              "    }\n",
              "\n",
              "    .dataframe thead th {\n",
              "        text-align: right;\n",
              "    }\n",
              "</style>\n",
              "<table border=\"1\" class=\"dataframe\">\n",
              "  <thead>\n",
              "    <tr style=\"text-align: right;\">\n",
              "      <th></th>\n",
              "      <th>actual_y</th>\n",
              "      <th>pred</th>\n",
              "      <th>names</th>\n",
              "    </tr>\n",
              "  </thead>\n",
              "  <tbody>\n",
              "    <tr>\n",
              "      <th>338</th>\n",
              "      <td>costus_woodsonii_flower</td>\n",
              "      <td>costus_woodsonii_flower</td>\n",
              "      <td>costus_woodsonii_flower/01b1ff7909.jpg</td>\n",
              "    </tr>\n",
              "    <tr>\n",
              "      <th>339</th>\n",
              "      <td>costus_woodsonii_flower</td>\n",
              "      <td>costus_woodsonii_flower</td>\n",
              "      <td>costus_woodsonii_flower/0b2c288215.jpg</td>\n",
              "    </tr>\n",
              "    <tr>\n",
              "      <th>340</th>\n",
              "      <td>costus_woodsonii_flower</td>\n",
              "      <td>costus_woodsonii_flower</td>\n",
              "      <td>costus_woodsonii_flower/19abf6cc82.jpg</td>\n",
              "    </tr>\n",
              "    <tr>\n",
              "      <th>341</th>\n",
              "      <td>costus_woodsonii_flower</td>\n",
              "      <td>costus_woodsonii_flower</td>\n",
              "      <td>costus_woodsonii_flower/1ca4e4fe15.jpg</td>\n",
              "    </tr>\n",
              "    <tr>\n",
              "      <th>342</th>\n",
              "      <td>costus_woodsonii_flower</td>\n",
              "      <td>costus_woodsonii_flower</td>\n",
              "      <td>costus_woodsonii_flower/7b165484c9.jpg</td>\n",
              "    </tr>\n",
              "    <tr>\n",
              "      <th>343</th>\n",
              "      <td>costus_woodsonii_flower</td>\n",
              "      <td>costus_woodsonii_flower</td>\n",
              "      <td>costus_woodsonii_flower/7c4bb1b0af.jpg</td>\n",
              "    </tr>\n",
              "    <tr>\n",
              "      <th>344</th>\n",
              "      <td>costus_woodsonii_flower</td>\n",
              "      <td>costus_woodsonii_flower</td>\n",
              "      <td>costus_woodsonii_flower/b8a96814ae.jpg</td>\n",
              "    </tr>\n",
              "    <tr>\n",
              "      <th>345</th>\n",
              "      <td>costus_woodsonii_flower</td>\n",
              "      <td>costus_woodsonii_flower</td>\n",
              "      <td>costus_woodsonii_flower/bb82cd787a.jpg</td>\n",
              "    </tr>\n",
              "    <tr>\n",
              "      <th>346</th>\n",
              "      <td>costus_woodsonii_flower</td>\n",
              "      <td>costus_woodsonii_flower</td>\n",
              "      <td>costus_woodsonii_flower/f549d3d2dd.jpg</td>\n",
              "    </tr>\n",
              "    <tr>\n",
              "      <th>347</th>\n",
              "      <td>costus_woodsonii_flower</td>\n",
              "      <td>costus_woodsonii_flower</td>\n",
              "      <td>costus_woodsonii_flower/fd95de4494.jpg</td>\n",
              "    </tr>\n",
              "  </tbody>\n",
              "</table>\n",
              "</div>\n",
              "      <button class=\"colab-df-convert\" onclick=\"convertToInteractive('df-27ef204e-bd1e-4b95-83ce-fcfdaee68fe8')\"\n",
              "              title=\"Convert this dataframe to an interactive table.\"\n",
              "              style=\"display:none;\">\n",
              "        \n",
              "  <svg xmlns=\"http://www.w3.org/2000/svg\" height=\"24px\"viewBox=\"0 0 24 24\"\n",
              "       width=\"24px\">\n",
              "    <path d=\"M0 0h24v24H0V0z\" fill=\"none\"/>\n",
              "    <path d=\"M18.56 5.44l.94 2.06.94-2.06 2.06-.94-2.06-.94-.94-2.06-.94 2.06-2.06.94zm-11 1L8.5 8.5l.94-2.06 2.06-.94-2.06-.94L8.5 2.5l-.94 2.06-2.06.94zm10 10l.94 2.06.94-2.06 2.06-.94-2.06-.94-.94-2.06-.94 2.06-2.06.94z\"/><path d=\"M17.41 7.96l-1.37-1.37c-.4-.4-.92-.59-1.43-.59-.52 0-1.04.2-1.43.59L10.3 9.45l-7.72 7.72c-.78.78-.78 2.05 0 2.83L4 21.41c.39.39.9.59 1.41.59.51 0 1.02-.2 1.41-.59l7.78-7.78 2.81-2.81c.8-.78.8-2.07 0-2.86zM5.41 20L4 18.59l7.72-7.72 1.47 1.35L5.41 20z\"/>\n",
              "  </svg>\n",
              "      </button>\n",
              "      \n",
              "  <style>\n",
              "    .colab-df-container {\n",
              "      display:flex;\n",
              "      flex-wrap:wrap;\n",
              "      gap: 12px;\n",
              "    }\n",
              "\n",
              "    .colab-df-convert {\n",
              "      background-color: #E8F0FE;\n",
              "      border: none;\n",
              "      border-radius: 50%;\n",
              "      cursor: pointer;\n",
              "      display: none;\n",
              "      fill: #1967D2;\n",
              "      height: 32px;\n",
              "      padding: 0 0 0 0;\n",
              "      width: 32px;\n",
              "    }\n",
              "\n",
              "    .colab-df-convert:hover {\n",
              "      background-color: #E2EBFA;\n",
              "      box-shadow: 0px 1px 2px rgba(60, 64, 67, 0.3), 0px 1px 3px 1px rgba(60, 64, 67, 0.15);\n",
              "      fill: #174EA6;\n",
              "    }\n",
              "\n",
              "    [theme=dark] .colab-df-convert {\n",
              "      background-color: #3B4455;\n",
              "      fill: #D2E3FC;\n",
              "    }\n",
              "\n",
              "    [theme=dark] .colab-df-convert:hover {\n",
              "      background-color: #434B5C;\n",
              "      box-shadow: 0px 1px 3px 1px rgba(0, 0, 0, 0.15);\n",
              "      filter: drop-shadow(0px 1px 2px rgba(0, 0, 0, 0.3));\n",
              "      fill: #FFFFFF;\n",
              "    }\n",
              "  </style>\n",
              "\n",
              "      <script>\n",
              "        const buttonEl =\n",
              "          document.querySelector('#df-27ef204e-bd1e-4b95-83ce-fcfdaee68fe8 button.colab-df-convert');\n",
              "        buttonEl.style.display =\n",
              "          google.colab.kernel.accessAllowed ? 'block' : 'none';\n",
              "\n",
              "        async function convertToInteractive(key) {\n",
              "          const element = document.querySelector('#df-27ef204e-bd1e-4b95-83ce-fcfdaee68fe8');\n",
              "          const dataTable =\n",
              "            await google.colab.kernel.invokeFunction('convertToInteractive',\n",
              "                                                     [key], {});\n",
              "          if (!dataTable) return;\n",
              "\n",
              "          const docLinkHtml = 'Like what you see? Visit the ' +\n",
              "            '<a target=\"_blank\" href=https://colab.research.google.com/notebooks/data_table.ipynb>data table notebook</a>'\n",
              "            + ' to learn more about interactive tables.';\n",
              "          element.innerHTML = '';\n",
              "          dataTable['output_type'] = 'display_data';\n",
              "          await google.colab.output.renderOutput(dataTable, element);\n",
              "          const docLink = document.createElement('div');\n",
              "          docLink.innerHTML = docLinkHtml;\n",
              "          element.appendChild(docLink);\n",
              "        }\n",
              "      </script>\n",
              "    </div>\n",
              "  </div>\n",
              "  "
            ]
          },
          "metadata": {},
          "execution_count": 238
        }
      ],
      "source": [
        "df.loc[df['actual_y']==df['pred']]"
      ],
      "id": "68121Acc000d"
    },
    {
      "cell_type": "code",
      "execution_count": 239,
      "metadata": {
        "id": "ZdQM1WD2000d",
        "colab": {
          "base_uri": "https://localhost:8080/"
        },
        "outputId": "928030ff-b81a-4bc1-944a-f65b2503ae9f"
      },
      "outputs": [
        {
          "output_type": "stream",
          "name": "stdout",
          "text": [
            "The EfficientNetB3 model correctly predicted 10 images from 1 classes out of 538 images.\n"
          ]
        }
      ],
      "source": [
        "print(f\"The EfficientNetB3 model correctly predicted {df.loc[df['actual_y']==df['pred']].shape[0]} images from {df.loc[df['actual_y']==df['pred']]['actual_y'].value_counts().count()} classes out of {len(test_generator.labels)} images.\")"
      ],
      "id": "ZdQM1WD2000d"
    },
    {
      "cell_type": "code",
      "execution_count": 240,
      "metadata": {
        "id": "VFW0G16V000d",
        "colab": {
          "base_uri": "https://localhost:8080/"
        },
        "outputId": "9dfe8186-8373-49c2-c832-c4c3ef33a4cd"
      },
      "outputs": [
        {
          "output_type": "execute_result",
          "data": {
            "text/plain": [
              "338    costus_woodsonii_flower/01b1ff7909.jpg\n",
              "339    costus_woodsonii_flower/0b2c288215.jpg\n",
              "340    costus_woodsonii_flower/19abf6cc82.jpg\n",
              "341    costus_woodsonii_flower/1ca4e4fe15.jpg\n",
              "342    costus_woodsonii_flower/7b165484c9.jpg\n",
              "343    costus_woodsonii_flower/7c4bb1b0af.jpg\n",
              "344    costus_woodsonii_flower/b8a96814ae.jpg\n",
              "345    costus_woodsonii_flower/bb82cd787a.jpg\n",
              "346    costus_woodsonii_flower/f549d3d2dd.jpg\n",
              "347    costus_woodsonii_flower/fd95de4494.jpg\n",
              "Name: names, dtype: object"
            ]
          },
          "metadata": {},
          "execution_count": 240
        }
      ],
      "source": [
        "df.loc[df['actual_y']==df['pred']]['names']"
      ],
      "id": "VFW0G16V000d"
    },
    {
      "cell_type": "code",
      "execution_count": 241,
      "metadata": {
        "id": "l0AkOF6F000e"
      },
      "outputs": [],
      "source": [
        "#Image.open(test_path+'/'+list(df.loc[df['actual_y']==df['pred']]['names'])[0])"
      ],
      "id": "l0AkOF6F000e"
    },
    {
      "cell_type": "markdown",
      "metadata": {
        "id": "3541971f"
      },
      "source": [
        "# MobileNetV2 (Augmented Data)"
      ],
      "id": "3541971f"
    },
    {
      "cell_type": "code",
      "execution_count": null,
      "metadata": {
        "id": "784a8f86"
      },
      "outputs": [],
      "source": [
        "train_datagen = ImageDataGenerator(\n",
        "    rescale = 1./255.,\n",
        "    rotation_range = 20,\n",
        "    width_shift_range = 0.2,\n",
        "    height_shift_range = 0.2,\n",
        "    shear_range = 0.2, \n",
        "    brightness_range = [0.8, 1.2]\n",
        ")\n",
        "\n",
        "test_datagen = ImageDataGenerator(rescale = 1./255)\n",
        "val_datagen = ImageDataGenerator(rescale = 1./255)"
      ],
      "id": "784a8f86"
    },
    {
      "cell_type": "code",
      "execution_count": null,
      "metadata": {
        "id": "85462a19"
      },
      "outputs": [],
      "source": [
        "train_generator = train_datagen.flow_from_directory(train_path,\n",
        "                                                 target_size = (224, 224),\n",
        "                                                 batch_size = 32,\n",
        "                                                 class_mode = 'categorical')\n",
        "test_generator = test_datagen.flow_from_directory(test_path,\n",
        "                                            target_size = (224, 224),\n",
        "                                            batch_size = 1,\n",
        "                                            class_mode = 'categorical',\n",
        "                                            shuffle = False)\n",
        "val_generator = val_datagen.flow_from_directory(val_path,\n",
        "                                            target_size = (224, 224),\n",
        "                                            batch_size = 32,\n",
        "                                            class_mode = 'categorical')"
      ],
      "id": "85462a19"
    },
    {
      "cell_type": "code",
      "execution_count": null,
      "metadata": {
        "id": "c371e93b"
      },
      "outputs": [],
      "source": [
        "aug_mob = MobileNetV2(input_shape=(224,224, 3), weights='imagenet', include_top=False)"
      ],
      "id": "c371e93b"
    },
    {
      "cell_type": "code",
      "execution_count": null,
      "metadata": {
        "id": "e9bc05f9"
      },
      "outputs": [],
      "source": [
        "#do not train the pre-trained layers of aug_mob-19\n",
        "for layer in aug_mob.layers:\n",
        "    layer.trainable = False"
      ],
      "id": "e9bc05f9"
    },
    {
      "cell_type": "code",
      "execution_count": null,
      "metadata": {
        "id": "6a8862a9"
      },
      "outputs": [],
      "source": [
        "x = Flatten()(aug_mob.output)"
      ],
      "id": "6a8862a9"
    },
    {
      "cell_type": "code",
      "execution_count": null,
      "metadata": {
        "id": "cf48d6a8"
      },
      "outputs": [],
      "source": [
        "#adding output layer.Softmax classifier is used as it is multi-class classification\n",
        "prediction = Dense(len(class_list), activation='softmax')(x)\n",
        "\n",
        "aug_mob_model = Model(inputs=aug_mob.input, outputs=prediction)"
      ],
      "id": "cf48d6a8"
    },
    {
      "cell_type": "code",
      "execution_count": null,
      "metadata": {
        "id": "c267857f"
      },
      "outputs": [],
      "source": [
        "# view the structure of the model\n",
        "aug_mob_model.summary()"
      ],
      "id": "c267857f"
    },
    {
      "cell_type": "code",
      "execution_count": null,
      "metadata": {
        "id": "trCTIRZT1TS-"
      },
      "outputs": [],
      "source": [
        "# Compile model\n",
        "aug_mob_model.compile(\n",
        "    loss='categorical_crossentropy',\n",
        "    optimizer='adam',\n",
        "    metrics=['accuracy', 'top_k_categorical_accuracy']\n",
        ")"
      ],
      "id": "trCTIRZT1TS-"
    },
    {
      "cell_type": "code",
      "execution_count": null,
      "metadata": {
        "id": "ME8eeT6o1TS_"
      },
      "outputs": [],
      "source": [
        "# Include checkpoint \n",
        "\n",
        "#checkpoint_path = \"../checkpoint/baseline_cnn//cp-{epoch:04d}.ckpt\"\n",
        "\n",
        "\n",
        "# Create a callback that saves the model's weights\n",
        "#cp_callback = tf.keras.callbacks.ModelCheckpoint(filepath=checkpoint_path,\n",
        "#                                                 save_weights_only=True,\n",
        "#                                                verbose=1)"
      ],
      "id": "ME8eeT6o1TS_"
    },
    {
      "cell_type": "code",
      "execution_count": 139,
      "metadata": {
        "id": "_ZyHnHay1TS_",
        "colab": {
          "base_uri": "https://localhost:8080/"
        },
        "outputId": "ccd3aed0-831f-4b21-8edf-fe9ff5d2008e"
      },
      "outputs": [
        {
          "output_type": "stream",
          "name": "stdout",
          "text": [
            "Epoch 1/15\n",
            "50/50 [==============================] - 36s 677ms/step - loss: 15.0614 - accuracy: 0.2817 - top_k_categorical_accuracy: 0.5167 - val_loss: 7.8921 - val_accuracy: 0.4688 - val_top_k_categorical_accuracy: 0.7909\n",
            "Epoch 2/15\n",
            "50/50 [==============================] - 33s 657ms/step - loss: 5.3822 - accuracy: 0.6300 - top_k_categorical_accuracy: 0.8575 - val_loss: 5.8610 - val_accuracy: 0.6178 - val_top_k_categorical_accuracy: 0.8558\n",
            "Epoch 3/15\n",
            "50/50 [==============================] - 33s 654ms/step - loss: 3.8605 - accuracy: 0.7037 - top_k_categorical_accuracy: 0.9217 - val_loss: 6.8787 - val_accuracy: 0.6178 - val_top_k_categorical_accuracy: 0.8822\n",
            "Epoch 4/15\n",
            "50/50 [==============================] - 33s 653ms/step - loss: 3.5451 - accuracy: 0.7492 - top_k_categorical_accuracy: 0.9482 - val_loss: 6.8065 - val_accuracy: 0.6130 - val_top_k_categorical_accuracy: 0.8582\n",
            "Epoch 5/15\n",
            "50/50 [==============================] - 33s 656ms/step - loss: 3.2006 - accuracy: 0.7720 - top_k_categorical_accuracy: 0.9551 - val_loss: 6.9274 - val_accuracy: 0.6779 - val_top_k_categorical_accuracy: 0.9087\n",
            "Epoch 6/15\n",
            "50/50 [==============================] - 33s 653ms/step - loss: 2.5873 - accuracy: 0.8225 - top_k_categorical_accuracy: 0.9703 - val_loss: 7.5271 - val_accuracy: 0.6755 - val_top_k_categorical_accuracy: 0.8654\n",
            "Epoch 7/15\n",
            "50/50 [==============================] - 33s 654ms/step - loss: 2.3594 - accuracy: 0.8320 - top_k_categorical_accuracy: 0.9697 - val_loss: 6.7995 - val_accuracy: 0.6779 - val_top_k_categorical_accuracy: 0.9038\n",
            "Epoch 8/15\n",
            "50/50 [==============================] - 33s 656ms/step - loss: 1.7374 - accuracy: 0.8692 - top_k_categorical_accuracy: 0.9817 - val_loss: 8.2500 - val_accuracy: 0.6442 - val_top_k_categorical_accuracy: 0.8822\n",
            "Epoch 9/15\n",
            "50/50 [==============================] - 33s 655ms/step - loss: 1.9530 - accuracy: 0.8768 - top_k_categorical_accuracy: 0.9817 - val_loss: 7.7561 - val_accuracy: 0.6779 - val_top_k_categorical_accuracy: 0.8990\n",
            "Epoch 10/15\n",
            "50/50 [==============================] - 33s 656ms/step - loss: 2.2892 - accuracy: 0.8705 - top_k_categorical_accuracy: 0.9728 - val_loss: 8.6859 - val_accuracy: 0.6466 - val_top_k_categorical_accuracy: 0.8846\n",
            "Epoch 11/15\n",
            "50/50 [==============================] - 33s 657ms/step - loss: 1.9105 - accuracy: 0.8838 - top_k_categorical_accuracy: 0.9848 - val_loss: 8.0550 - val_accuracy: 0.6923 - val_top_k_categorical_accuracy: 0.8918\n",
            "Epoch 12/15\n",
            "50/50 [==============================] - 33s 654ms/step - loss: 1.7544 - accuracy: 0.8888 - top_k_categorical_accuracy: 0.9842 - val_loss: 8.7822 - val_accuracy: 0.6947 - val_top_k_categorical_accuracy: 0.9111\n",
            "Epoch 13/15\n",
            "50/50 [==============================] - 33s 660ms/step - loss: 1.6413 - accuracy: 0.9052 - top_k_categorical_accuracy: 0.9861 - val_loss: 9.5690 - val_accuracy: 0.6851 - val_top_k_categorical_accuracy: 0.9014\n",
            "Epoch 14/15\n",
            "50/50 [==============================] - 33s 658ms/step - loss: 1.4971 - accuracy: 0.9154 - top_k_categorical_accuracy: 0.9886 - val_loss: 10.0000 - val_accuracy: 0.6587 - val_top_k_categorical_accuracy: 0.8846\n",
            "Epoch 15/15\n",
            "50/50 [==============================] - 33s 659ms/step - loss: 1.6083 - accuracy: 0.9015 - top_k_categorical_accuracy: 0.9899 - val_loss: 9.6938 - val_accuracy: 0.6827 - val_top_k_categorical_accuracy: 0.9014\n"
          ]
        }
      ],
      "source": [
        "# fit the model\n",
        "aug_mob_history = aug_mob_model.fit(\n",
        "    train_generator,\n",
        "    steps_per_epoch=train_generator.n//train_generator.batch_size,\n",
        "    validation_data=val_generator,\n",
        "    validation_steps=val_generator.n//val_generator.batch_size,\n",
        "    epochs=15,\n",
        "    shuffle=True,\n",
        "    verbose=1\n",
        ")"
      ],
      "id": "_ZyHnHay1TS_"
    },
    {
      "cell_type": "code",
      "execution_count": null,
      "metadata": {
        "id": "_ulniBjI1TS_"
      },
      "outputs": [],
      "source": [
        "# saving aug_mob model\n",
        "#aug_mob_model.save('aug_mob')\n",
        "#files.download('aug_mob')"
      ],
      "id": "_ulniBjI1TS_"
    },
    {
      "cell_type": "code",
      "execution_count": 183,
      "metadata": {
        "id": "YW8kfffg1TS_",
        "colab": {
          "base_uri": "https://localhost:8080/",
          "height": 295
        },
        "outputId": "f05abf64-622b-4525-91eb-5456725bb43f"
      },
      "outputs": [
        {
          "output_type": "display_data",
          "data": {
            "text/plain": [
              "<Figure size 432x288 with 1 Axes>"
            ],
            "image/png": "[encoded data removed]"
          },
          "metadata": {
            "needs_background": "light"
          }
        },
        {
          "output_type": "display_data",
          "data": {
            "text/plain": [
              "<IPython.core.display.Javascript object>"
            ],
            "application/javascript": [
              "\n",
              "    async function download(id, filename, size) {\n",
              "      if (!google.colab.kernel.accessAllowed) {\n",
              "        return;\n",
              "      }\n",
              "      const div = document.createElement('div');\n",
              "      const label = document.createElement('label');\n",
              "      label.textContent = `Downloading \"${filename}\": `;\n",
              "      div.appendChild(label);\n",
              "      const progress = document.createElement('progress');\n",
              "      progress.max = size;\n",
              "      div.appendChild(progress);\n",
              "      document.body.appendChild(div);\n",
              "\n",
              "      const buffers = [];\n",
              "      let downloaded = 0;\n",
              "\n",
              "      const channel = await google.colab.kernel.comms.open(id);\n",
              "      // Send a message to notify the kernel that we're ready.\n",
              "      channel.send({})\n",
              "\n",
              "      for await (const message of channel.messages) {\n",
              "        // Send a message to notify the kernel that we're ready.\n",
              "        channel.send({})\n",
              "        if (message.buffers) {\n",
              "          for (const buffer of message.buffers) {\n",
              "            buffers.push(buffer);\n",
              "            downloaded += buffer.byteLength;\n",
              "            progress.value = downloaded;\n",
              "          }\n",
              "        }\n",
              "      }\n",
              "      const blob = new Blob(buffers, {type: 'application/binary'});\n",
              "      const a = document.createElement('a');\n",
              "      a.href = window.URL.createObjectURL(blob);\n",
              "      a.download = filename;\n",
              "      div.appendChild(a);\n",
              "      a.click();\n",
              "      div.remove();\n",
              "    }\n",
              "  "
            ]
          },
          "metadata": {}
        },
        {
          "output_type": "display_data",
          "data": {
            "text/plain": [
              "<IPython.core.display.Javascript object>"
            ],
            "application/javascript": [
              "download(\"download_edab136e-6499-425b-a1b7-15a3e4cee75a\", \"aug_mob-acc-rps-1.png\", 20138)"
            ]
          },
          "metadata": {}
        }
      ],
      "source": [
        "# accuracies\n",
        "plt.plot(aug_mob_history.history['accuracy'], label='train acc')\n",
        "plt.plot(aug_mob_history.history['val_accuracy'], label='val acc')\n",
        "plt.legend()\n",
        "plt.title('Augmented Data MobileNetV2 Top-1 Accuracy')\n",
        "plt.xlabel('Number of Epochs')\n",
        "plt.ylabel('Accuracy')\n",
        "plt.savefig('aug_mob-acc-rps-1.png')\n",
        "plt.show()\n",
        "files.download('aug_mob-acc-rps-1.png')"
      ],
      "id": "YW8kfffg1TS_"
    },
    {
      "cell_type": "code",
      "execution_count": 184,
      "metadata": {
        "id": "-FfSfMcf1TS_",
        "colab": {
          "base_uri": "https://localhost:8080/",
          "height": 295
        },
        "outputId": "bee289e8-1bff-4756-cbd4-da55b5d26b77"
      },
      "outputs": [
        {
          "output_type": "display_data",
          "data": {
            "text/plain": [
              "<Figure size 432x288 with 1 Axes>"
            ],
            "image/png": "[encoded data removed]"
          },
          "metadata": {
            "needs_background": "light"
          }
        },
        {
          "output_type": "display_data",
          "data": {
            "text/plain": [
              "<IPython.core.display.Javascript object>"
            ],
            "application/javascript": [
              "\n",
              "    async function download(id, filename, size) {\n",
              "      if (!google.colab.kernel.accessAllowed) {\n",
              "        return;\n",
              "      }\n",
              "      const div = document.createElement('div');\n",
              "      const label = document.createElement('label');\n",
              "      label.textContent = `Downloading \"${filename}\": `;\n",
              "      div.appendChild(label);\n",
              "      const progress = document.createElement('progress');\n",
              "      progress.max = size;\n",
              "      div.appendChild(progress);\n",
              "      document.body.appendChild(div);\n",
              "\n",
              "      const buffers = [];\n",
              "      let downloaded = 0;\n",
              "\n",
              "      const channel = await google.colab.kernel.comms.open(id);\n",
              "      // Send a message to notify the kernel that we're ready.\n",
              "      channel.send({})\n",
              "\n",
              "      for await (const message of channel.messages) {\n",
              "        // Send a message to notify the kernel that we're ready.\n",
              "        channel.send({})\n",
              "        if (message.buffers) {\n",
              "          for (const buffer of message.buffers) {\n",
              "            buffers.push(buffer);\n",
              "            downloaded += buffer.byteLength;\n",
              "            progress.value = downloaded;\n",
              "          }\n",
              "        }\n",
              "      }\n",
              "      const blob = new Blob(buffers, {type: 'application/binary'});\n",
              "      const a = document.createElement('a');\n",
              "      a.href = window.URL.createObjectURL(blob);\n",
              "      a.download = filename;\n",
              "      div.appendChild(a);\n",
              "      a.click();\n",
              "      div.remove();\n",
              "    }\n",
              "  "
            ]
          },
          "metadata": {}
        },
        {
          "output_type": "display_data",
          "data": {
            "text/plain": [
              "<IPython.core.display.Javascript object>"
            ],
            "application/javascript": [
              "download(\"download_2f23fef9-334e-4d37-be09-8a9ba0504c0c\", \"aug_mob-top-5-rps-1.png\", 21493)"
            ]
          },
          "metadata": {}
        }
      ],
      "source": [
        "# loss\n",
        "plt.plot(aug_mob_history.history['top_k_categorical_accuracy'], label='train top-5 accuracy')\n",
        "plt.plot(aug_mob_history.history['val_top_k_categorical_accuracy'], label='val top-5 accuracy')\n",
        "plt.legend()\n",
        "plt.title('Augmented Data MobileNetV2 Top-5 Accuracy')\n",
        "plt.xlabel('Number of Epochs')\n",
        "plt.ylabel('Accuracy')\n",
        "plt.savefig('aug_mob-top-5-rps-1.png')\n",
        "plt.show()\n",
        "files.download('aug_mob-top-5-rps-1.png')"
      ],
      "id": "-FfSfMcf1TS_"
    },
    {
      "cell_type": "code",
      "execution_count": 185,
      "metadata": {
        "id": "FOZUbUUN1TTA",
        "colab": {
          "base_uri": "https://localhost:8080/"
        },
        "outputId": "59a0f7da-3397-4bca-d9c0-8f1a8ada8919"
      },
      "outputs": [
        {
          "output_type": "stream",
          "name": "stdout",
          "text": [
            "538/538 [==============================] - 8s 14ms/step - loss: 10.3936 - accuracy: 0.6654 - top_k_categorical_accuracy: 0.8773\n"
          ]
        },
        {
          "output_type": "execute_result",
          "data": {
            "text/plain": [
              "[10.393610000610352, 0.6654275059700012, 0.8773234486579895]"
            ]
          },
          "metadata": {},
          "execution_count": 185
        }
      ],
      "source": [
        "# evaluate\n",
        "aug_mob_model.evaluate(test_generator)"
      ],
      "id": "FOZUbUUN1TTA"
    },
    {
      "cell_type": "code",
      "execution_count": 186,
      "metadata": {
        "id": "oyrdl7FV1TTA",
        "colab": {
          "base_uri": "https://localhost:8080/"
        },
        "outputId": "c7f79ff3-59c3-483a-89f0-8b515a25ddeb"
      },
      "outputs": [
        {
          "output_type": "stream",
          "name": "stdout",
          "text": [
            "538/538 [==============================] - 7s 12ms/step\n"
          ]
        }
      ],
      "source": [
        "# predict\n",
        "test_generator.reset()\n",
        "pred=aug_mob_model.predict(test_generator,\n",
        "steps=test_generator.n//test_generator.batch_size,\n",
        "verbose=1)"
      ],
      "id": "oyrdl7FV1TTA"
    },
    {
      "cell_type": "code",
      "execution_count": 187,
      "metadata": {
        "id": "r6x-Hn4U1TTA"
      },
      "outputs": [],
      "source": [
        "y_pred = np.argmax(pred,axis=1)"
      ],
      "id": "r6x-Hn4U1TTA"
    },
    {
      "cell_type": "code",
      "execution_count": 188,
      "metadata": {
        "id": "b0ZRqCpq1TTA",
        "colab": {
          "base_uri": "https://localhost:8080/"
        },
        "outputId": "da15ef8a-cb73-4a3e-86f1-91d065d08204"
      },
      "outputs": [
        {
          "output_type": "stream",
          "name": "stdout",
          "text": [
            "              precision    recall  f1-score   support\n",
            "\n",
            "           0       0.92      0.80      0.86        15\n",
            "           1       0.71      0.56      0.63         9\n",
            "           2       0.75      1.00      0.86         9\n",
            "           3       0.44      0.80      0.57         5\n",
            "           4       0.53      0.82      0.64        11\n",
            "           5       0.42      1.00      0.59         5\n",
            "           6       0.86      0.92      0.89        13\n",
            "           7       0.92      0.57      0.71        21\n",
            "           8       0.73      0.58      0.65        19\n",
            "           9       0.50      0.64      0.56        11\n",
            "          10       0.75      1.00      0.86         9\n",
            "          11       0.45      1.00      0.62         5\n",
            "          12       0.60      0.86      0.71         7\n",
            "          13       0.80      0.57      0.67        14\n",
            "          14       0.64      0.50      0.56        14\n",
            "          15       0.56      0.71      0.63         7\n",
            "          16       0.60      0.55      0.57        11\n",
            "          17       0.69      0.90      0.78        10\n",
            "          18       1.00      0.69      0.82        13\n",
            "          19       0.50      0.83      0.62         6\n",
            "          20       0.30      1.00      0.46         3\n",
            "          21       0.82      0.75      0.78        12\n",
            "          22       0.62      0.71      0.67         7\n",
            "          23       0.67      1.00      0.80         6\n",
            "          24       0.40      1.00      0.57         4\n",
            "          25       0.56      0.71      0.63         7\n",
            "          26       0.45      0.50      0.48        10\n",
            "          27       0.89      1.00      0.94         8\n",
            "          28       0.86      0.33      0.48        18\n",
            "          29       0.43      1.00      0.60         3\n",
            "          30       0.88      0.54      0.67        13\n",
            "          31       0.25      0.67      0.36         3\n",
            "          32       0.90      0.56      0.69        16\n",
            "          33       0.62      0.89      0.73         9\n",
            "          34       0.85      0.28      0.42        39\n",
            "          35       0.50      0.67      0.57         6\n",
            "          36       0.20      1.00      0.33         2\n",
            "          37       0.36      0.80      0.50         5\n",
            "          38       0.71      0.50      0.59        10\n",
            "          39       0.70      0.54      0.61        13\n",
            "          40       0.70      0.64      0.67        11\n",
            "          41       0.50      0.75      0.60         8\n",
            "          42       0.92      0.65      0.76        17\n",
            "          43       0.87      0.93      0.90        14\n",
            "          44       0.73      0.67      0.70        12\n",
            "          45       0.40      0.80      0.53         5\n",
            "          46       0.90      0.90      0.90        10\n",
            "          47       0.88      0.58      0.70        12\n",
            "          48       0.89      0.52      0.65        31\n",
            "          49       0.75      0.90      0.82        10\n",
            "\n",
            "    accuracy                           0.67       538\n",
            "   macro avg       0.66      0.74      0.66       538\n",
            "weighted avg       0.74      0.67      0.67       538\n",
            "\n"
          ]
        }
      ],
      "source": [
        "#get classification report\n",
        "print(classification_report(y_pred, labels))\n"
      ],
      "id": "b0ZRqCpq1TTA"
    },
    {
      "cell_type": "code",
      "execution_count": 189,
      "metadata": {
        "id": "qf5Omqgl1TTA"
      },
      "outputs": [],
      "source": [
        "df = create_prediction_df(y_pred, labels)"
      ],
      "id": "qf5Omqgl1TTA"
    },
    {
      "cell_type": "code",
      "source": [
        "df.to_csv('drive/My Drive/final_model_predictions.csv')"
      ],
      "metadata": {
        "id": "MJAYFE7UzPGR"
      },
      "id": "MJAYFE7UzPGR",
      "execution_count": null,
      "outputs": []
    },
    {
      "cell_type": "code",
      "source": [
        "wrong_predict_df = df.loc[df['actual_y']!=df['pred']]"
      ],
      "metadata": {
        "id": "Ki8hFlEAQ96Z"
      },
      "id": "Ki8hFlEAQ96Z",
      "execution_count": 296,
      "outputs": []
    },
    {
      "cell_type": "code",
      "source": [
        "wrong_predict_df.to_csv('drive/My Drive/final_model_wrong_predictions.csv')"
      ],
      "metadata": {
        "id": "gWjR3Fp6z63u"
      },
      "id": "gWjR3Fp6z63u",
      "execution_count": null,
      "outputs": []
    },
    {
      "cell_type": "code",
      "source": [
        "wrong_predict_df['pred'].value_counts()"
      ],
      "metadata": {
        "colab": {
          "base_uri": "https://localhost:8080/"
        },
        "id": "vzsRf0GKRCtz",
        "outputId": "a2ab7bce-7848-4d52-b968-a6219e584ccb"
      },
      "id": "vzsRf0GKRCtz",
      "execution_count": 299,
      "outputs": [
        {
          "output_type": "execute_result",
          "data": {
            "text/plain": [
              "arachnothryx_leucophylla_flower     42\n",
              "allamanda_cathartica_flower         32\n",
              "asclepias_currassavica_flower       19\n",
              "cosmos_bipinnatus_flower            15\n",
              "allamanda_blanchetti_flower         13\n",
              "helianthus_annuus_flower            12\n",
              "hibiscus_coccineus_flower           12\n",
              "caesalpinia_pulcherrima_flower      10\n",
              "gardenia_scabrella_flower           10\n",
              "alpinia_purpurata_flower            10\n",
              "anthurium_andreanum_flower           9\n",
              "cosmos_sulphureus_flower             8\n",
              "hibiscus_acetosella_flower           8\n",
              "arundina_flower                      8\n",
              "calliandra_haematocephala_flower     7\n",
              "aranda_flower                        7\n",
              "heliconia_psittacorum_flower         7\n",
              "crinum_asiaticum_flower              7\n",
              "angelonia_biflora_flower             7\n",
              "guzmania_flower                      5\n",
              "callistemon_viminalis_flower         4\n",
              "clerodendrum_thomsoniae_flower       4\n",
              "heliconia_x_nickeriensis_flower      4\n",
              "cassia_javanica_flower               3\n",
              "cascabela_thevetia_flower            3\n",
              "bougainvillea_flower                 3\n",
              "delonix_regia_flower                 2\n",
              "bauhinia_kockiana_flower             2\n",
              "cochlospermum_religiosum_flower      2\n",
              "gardenia_vietnamensis_flower         2\n",
              "gardenia_tubifera_flower             2\n",
              "dianthus_barbatus_flower             2\n",
              "brunfelsia_americana_flower          2\n",
              "cordia_sebestena_flower              1\n",
              "bauhinia_galpinii_flower             1\n",
              "heliconia_bihai_flower               1\n",
              "dendrobium_flower                    1\n",
              "catharanthus_roseus_flower           1\n",
              "Name: pred, dtype: int64"
            ]
          },
          "metadata": {},
          "execution_count": 299
        }
      ]
    },
    {
      "cell_type": "code",
      "source": [
        "wrong_predict_df[wrong_predict_df['pred']=='arachnothryx_leucophylla_flower']"
      ],
      "metadata": {
        "colab": {
          "base_uri": "https://localhost:8080/",
          "height": 1000
        },
        "id": "4qj-g3PxS0wj",
        "outputId": "3401e686-5022-42c4-cf93-a6853ebe6384"
      },
      "id": "4qj-g3PxS0wj",
      "execution_count": 305,
      "outputs": [
        {
          "output_type": "execute_result",
          "data": {
            "text/plain": [
              "                            actual_y                             pred  \\\n",
              "17             adenium_obesum_flower  arachnothryx_leucophylla_flower   \n",
              "19             adenium_obesum_flower  arachnothryx_leucophylla_flower   \n",
              "23             aglaia_odorata_flower  arachnothryx_leucophylla_flower   \n",
              "28             aglaia_odorata_flower  arachnothryx_leucophylla_flower   \n",
              "37       allamanda_blanchetti_flower  arachnothryx_leucophylla_flower   \n",
              "63          alpinia_purpurata_flower  arachnothryx_leucophylla_flower   \n",
              "67          alpinia_purpurata_flower  arachnothryx_leucophylla_flower   \n",
              "70          angelonia_biflora_flower  arachnothryx_leucophylla_flower   \n",
              "81          angelonia_biflora_flower  arachnothryx_leucophylla_flower   \n",
              "92        anthurium_andreanum_flower  arachnothryx_leucophylla_flower   \n",
              "113                    aranda_flower  arachnothryx_leucophylla_flower   \n",
              "154         bauhinia_galpinii_flower  arachnothryx_leucophylla_flower   \n",
              "161         bauhinia_kockiana_flower  arachnothryx_leucophylla_flower   \n",
              "162         bauhinia_kockiana_flower  arachnothryx_leucophylla_flower   \n",
              "163         bauhinia_kockiana_flower  arachnothryx_leucophylla_flower   \n",
              "164         bauhinia_kockiana_flower  arachnothryx_leucophylla_flower   \n",
              "165         bauhinia_kockiana_flower  arachnothryx_leucophylla_flower   \n",
              "170             bougainvillea_flower  arachnothryx_leucophylla_flower   \n",
              "172             bougainvillea_flower  arachnothryx_leucophylla_flower   \n",
              "173             bougainvillea_flower  arachnothryx_leucophylla_flower   \n",
              "174             bougainvillea_flower  arachnothryx_leucophylla_flower   \n",
              "176             bougainvillea_flower  arachnothryx_leucophylla_flower   \n",
              "179             bougainvillea_flower  arachnothryx_leucophylla_flower   \n",
              "181      brunfelsia_americana_flower  arachnothryx_leucophylla_flower   \n",
              "183      brunfelsia_americana_flower  arachnothryx_leucophylla_flower   \n",
              "189   caesalpinia_pulcherrima_flower  arachnothryx_leucophylla_flower   \n",
              "258           cassia_javanica_flower  arachnothryx_leucophylla_flower   \n",
              "270          celosia_argentea_flower  arachnothryx_leucophylla_flower   \n",
              "272          celosia_argentea_flower  arachnothryx_leucophylla_flower   \n",
              "275          celosia_argentea_flower  arachnothryx_leucophylla_flower   \n",
              "276          celosia_argentea_flower  arachnothryx_leucophylla_flower   \n",
              "278          celosia_argentea_flower  arachnothryx_leucophylla_flower   \n",
              "279    clerodendrum_splendens_flower  arachnothryx_leucophylla_flower   \n",
              "280    clerodendrum_splendens_flower  arachnothryx_leucophylla_flower   \n",
              "310  cochlospermum_religiosum_flower  arachnothryx_leucophylla_flower   \n",
              "342          costus_woodsonii_flower  arachnothryx_leucophylla_flower   \n",
              "369                 cymbidium_flower  arachnothryx_leucophylla_flower   \n",
              "370                 cymbidium_flower  arachnothryx_leucophylla_flower   \n",
              "382                dendrobium_flower  arachnothryx_leucophylla_flower   \n",
              "393         dianthus_barbatus_flower  arachnothryx_leucophylla_flower   \n",
              "448                  guzmania_flower  arachnothryx_leucophylla_flower   \n",
              "532        hibiscus_coccineus_flower  arachnothryx_leucophylla_flower   \n",
              "\n",
              "                                              names  \n",
              "17             adenium_obesum_flower/b63e9da674.jpg  \n",
              "19             adenium_obesum_flower/f62df5d057.jpg  \n",
              "23             aglaia_odorata_flower/381e11de09.jpg  \n",
              "28             aglaia_odorata_flower/a4f2adbf07.jpg  \n",
              "37       allamanda_blanchetti_flower/b2445bea8a.jpg  \n",
              "63          alpinia_purpurata_flower/50f080ce7c.jpg  \n",
              "67          alpinia_purpurata_flower/a27e81406a.jpg  \n",
              "70          angelonia_biflora_flower/13230cd381.jpg  \n",
              "81          angelonia_biflora_flower/e836c4921a.jpg  \n",
              "92        anthurium_andreanum_flower/b72fbed69e.jpg  \n",
              "113                    aranda_flower/1a55f6d3af.jpg  \n",
              "154         bauhinia_galpinii_flower/9691d65b1a.jpg  \n",
              "161         bauhinia_kockiana_flower/49dd2adb82.jpg  \n",
              "162         bauhinia_kockiana_flower/6fd75d951f.jpg  \n",
              "163         bauhinia_kockiana_flower/7adb67b951.jpg  \n",
              "164         bauhinia_kockiana_flower/83ebb42df8.jpg  \n",
              "165         bauhinia_kockiana_flower/8665d0b31a.jpg  \n",
              "170             bougainvillea_flower/1b3217b206.jpg  \n",
              "172             bougainvillea_flower/52e3573554.jpg  \n",
              "173             bougainvillea_flower/97d3b3672c.jpg  \n",
              "174             bougainvillea_flower/98ae71b81c.jpg  \n",
              "176             bougainvillea_flower/d78143582f.jpg  \n",
              "179             bougainvillea_flower/f71d23b285.jpg  \n",
              "181      brunfelsia_americana_flower/11b97e100b.jpg  \n",
              "183      brunfelsia_americana_flower/17c67523de.jpg  \n",
              "189   caesalpinia_pulcherrima_flower/01724666ee.jpg  \n",
              "258           cassia_javanica_flower/7d55607246.jpg  \n",
              "270          celosia_argentea_flower/187d903031.jpg  \n",
              "272          celosia_argentea_flower/264aed0aa1.jpg  \n",
              "275          celosia_argentea_flower/88add6f6de.jpg  \n",
              "276          celosia_argentea_flower/a0181b83e6.jpg  \n",
              "278          celosia_argentea_flower/fbe7bd210e.jpg  \n",
              "279    clerodendrum_splendens_flower/0f017f48f6.jpg  \n",
              "280    clerodendrum_splendens_flower/112f6f604a.jpg  \n",
              "310  cochlospermum_religiosum_flower/9b7277ad4e.jpg  \n",
              "342          costus_woodsonii_flower/7b165484c9.jpg  \n",
              "369                 cymbidium_flower/933bcdfefc.jpg  \n",
              "370                 cymbidium_flower/c22f6225b9.jpg  \n",
              "382                dendrobium_flower/1ae5c80750.jpg  \n",
              "393         dianthus_barbatus_flower/09d3bd22c9.jpg  \n",
              "448                  guzmania_flower/4c4f31ad55.jpg  \n",
              "532        hibiscus_coccineus_flower/49ef1c57dd.jpg  "
            ],
            "text/html": [
              "\n",
              "  <div id=\"df-c6364a24-448a-4b06-9acb-e417c3c433e7\">\n",
              "    <div class=\"colab-df-container\">\n",
              "      <div>\n",
              "<style scoped>\n",
              "    .dataframe tbody tr th:only-of-type {\n",
              "        vertical-align: middle;\n",
              "    }\n",
              "\n",
              "    .dataframe tbody tr th {\n",
              "        vertical-align: top;\n",
              "    }\n",
              "\n",
              "    .dataframe thead th {\n",
              "        text-align: right;\n",
              "    }\n",
              "</style>\n",
              "<table border=\"1\" class=\"dataframe\">\n",
              "  <thead>\n",
              "    <tr style=\"text-align: right;\">\n",
              "      <th></th>\n",
              "      <th>actual_y</th>\n",
              "      <th>pred</th>\n",
              "      <th>names</th>\n",
              "    </tr>\n",
              "  </thead>\n",
              "  <tbody>\n",
              "    <tr>\n",
              "      <th>17</th>\n",
              "      <td>adenium_obesum_flower</td>\n",
              "      <td>arachnothryx_leucophylla_flower</td>\n",
              "      <td>adenium_obesum_flower/b63e9da674.jpg</td>\n",
              "    </tr>\n",
              "    <tr>\n",
              "      <th>19</th>\n",
              "      <td>adenium_obesum_flower</td>\n",
              "      <td>arachnothryx_leucophylla_flower</td>\n",
              "      <td>adenium_obesum_flower/f62df5d057.jpg</td>\n",
              "    </tr>\n",
              "    <tr>\n",
              "      <th>23</th>\n",
              "      <td>aglaia_odorata_flower</td>\n",
              "      <td>arachnothryx_leucophylla_flower</td>\n",
              "      <td>aglaia_odorata_flower/381e11de09.jpg</td>\n",
              "    </tr>\n",
              "    <tr>\n",
              "      <th>28</th>\n",
              "      <td>aglaia_odorata_flower</td>\n",
              "      <td>arachnothryx_leucophylla_flower</td>\n",
              "      <td>aglaia_odorata_flower/a4f2adbf07.jpg</td>\n",
              "    </tr>\n",
              "    <tr>\n",
              "      <th>37</th>\n",
              "      <td>allamanda_blanchetti_flower</td>\n",
              "      <td>arachnothryx_leucophylla_flower</td>\n",
              "      <td>allamanda_blanchetti_flower/b2445bea8a.jpg</td>\n",
              "    </tr>\n",
              "    <tr>\n",
              "      <th>63</th>\n",
              "      <td>alpinia_purpurata_flower</td>\n",
              "      <td>arachnothryx_leucophylla_flower</td>\n",
              "      <td>alpinia_purpurata_flower/50f080ce7c.jpg</td>\n",
              "    </tr>\n",
              "    <tr>\n",
              "      <th>67</th>\n",
              "      <td>alpinia_purpurata_flower</td>\n",
              "      <td>arachnothryx_leucophylla_flower</td>\n",
              "      <td>alpinia_purpurata_flower/a27e81406a.jpg</td>\n",
              "    </tr>\n",
              "    <tr>\n",
              "      <th>70</th>\n",
              "      <td>angelonia_biflora_flower</td>\n",
              "      <td>arachnothryx_leucophylla_flower</td>\n",
              "      <td>angelonia_biflora_flower/13230cd381.jpg</td>\n",
              "    </tr>\n",
              "    <tr>\n",
              "      <th>81</th>\n",
              "      <td>angelonia_biflora_flower</td>\n",
              "      <td>arachnothryx_leucophylla_flower</td>\n",
              "      <td>angelonia_biflora_flower/e836c4921a.jpg</td>\n",
              "    </tr>\n",
              "    <tr>\n",
              "      <th>92</th>\n",
              "      <td>anthurium_andreanum_flower</td>\n",
              "      <td>arachnothryx_leucophylla_flower</td>\n",
              "      <td>anthurium_andreanum_flower/b72fbed69e.jpg</td>\n",
              "    </tr>\n",
              "    <tr>\n",
              "      <th>113</th>\n",
              "      <td>aranda_flower</td>\n",
              "      <td>arachnothryx_leucophylla_flower</td>\n",
              "      <td>aranda_flower/1a55f6d3af.jpg</td>\n",
              "    </tr>\n",
              "    <tr>\n",
              "      <th>154</th>\n",
              "      <td>bauhinia_galpinii_flower</td>\n",
              "      <td>arachnothryx_leucophylla_flower</td>\n",
              "      <td>bauhinia_galpinii_flower/9691d65b1a.jpg</td>\n",
              "    </tr>\n",
              "    <tr>\n",
              "      <th>161</th>\n",
              "      <td>bauhinia_kockiana_flower</td>\n",
              "      <td>arachnothryx_leucophylla_flower</td>\n",
              "      <td>bauhinia_kockiana_flower/49dd2adb82.jpg</td>\n",
              "    </tr>\n",
              "    <tr>\n",
              "      <th>162</th>\n",
              "      <td>bauhinia_kockiana_flower</td>\n",
              "      <td>arachnothryx_leucophylla_flower</td>\n",
              "      <td>bauhinia_kockiana_flower/6fd75d951f.jpg</td>\n",
              "    </tr>\n",
              "    <tr>\n",
              "      <th>163</th>\n",
              "      <td>bauhinia_kockiana_flower</td>\n",
              "      <td>arachnothryx_leucophylla_flower</td>\n",
              "      <td>bauhinia_kockiana_flower/7adb67b951.jpg</td>\n",
              "    </tr>\n",
              "    <tr>\n",
              "      <th>164</th>\n",
              "      <td>bauhinia_kockiana_flower</td>\n",
              "      <td>arachnothryx_leucophylla_flower</td>\n",
              "      <td>bauhinia_kockiana_flower/83ebb42df8.jpg</td>\n",
              "    </tr>\n",
              "    <tr>\n",
              "      <th>165</th>\n",
              "      <td>bauhinia_kockiana_flower</td>\n",
              "      <td>arachnothryx_leucophylla_flower</td>\n",
              "      <td>bauhinia_kockiana_flower/8665d0b31a.jpg</td>\n",
              "    </tr>\n",
              "    <tr>\n",
              "      <th>170</th>\n",
              "      <td>bougainvillea_flower</td>\n",
              "      <td>arachnothryx_leucophylla_flower</td>\n",
              "      <td>bougainvillea_flower/1b3217b206.jpg</td>\n",
              "    </tr>\n",
              "    <tr>\n",
              "      <th>172</th>\n",
              "      <td>bougainvillea_flower</td>\n",
              "      <td>arachnothryx_leucophylla_flower</td>\n",
              "      <td>bougainvillea_flower/52e3573554.jpg</td>\n",
              "    </tr>\n",
              "    <tr>\n",
              "      <th>173</th>\n",
              "      <td>bougainvillea_flower</td>\n",
              "      <td>arachnothryx_leucophylla_flower</td>\n",
              "      <td>bougainvillea_flower/97d3b3672c.jpg</td>\n",
              "    </tr>\n",
              "    <tr>\n",
              "      <th>174</th>\n",
              "      <td>bougainvillea_flower</td>\n",
              "      <td>arachnothryx_leucophylla_flower</td>\n",
              "      <td>bougainvillea_flower/98ae71b81c.jpg</td>\n",
              "    </tr>\n",
              "    <tr>\n",
              "      <th>176</th>\n",
              "      <td>bougainvillea_flower</td>\n",
              "      <td>arachnothryx_leucophylla_flower</td>\n",
              "      <td>bougainvillea_flower/d78143582f.jpg</td>\n",
              "    </tr>\n",
              "    <tr>\n",
              "      <th>179</th>\n",
              "      <td>bougainvillea_flower</td>\n",
              "      <td>arachnothryx_leucophylla_flower</td>\n",
              "      <td>bougainvillea_flower/f71d23b285.jpg</td>\n",
              "    </tr>\n",
              "    <tr>\n",
              "      <th>181</th>\n",
              "      <td>brunfelsia_americana_flower</td>\n",
              "      <td>arachnothryx_leucophylla_flower</td>\n",
              "      <td>brunfelsia_americana_flower/11b97e100b.jpg</td>\n",
              "    </tr>\n",
              "    <tr>\n",
              "      <th>183</th>\n",
              "      <td>brunfelsia_americana_flower</td>\n",
              "      <td>arachnothryx_leucophylla_flower</td>\n",
              "      <td>brunfelsia_americana_flower/17c67523de.jpg</td>\n",
              "    </tr>\n",
              "    <tr>\n",
              "      <th>189</th>\n",
              "      <td>caesalpinia_pulcherrima_flower</td>\n",
              "      <td>arachnothryx_leucophylla_flower</td>\n",
              "      <td>caesalpinia_pulcherrima_flower/01724666ee.jpg</td>\n",
              "    </tr>\n",
              "    <tr>\n",
              "      <th>258</th>\n",
              "      <td>cassia_javanica_flower</td>\n",
              "      <td>arachnothryx_leucophylla_flower</td>\n",
              "      <td>cassia_javanica_flower/7d55607246.jpg</td>\n",
              "    </tr>\n",
              "    <tr>\n",
              "      <th>270</th>\n",
              "      <td>celosia_argentea_flower</td>\n",
              "      <td>arachnothryx_leucophylla_flower</td>\n",
              "      <td>celosia_argentea_flower/187d903031.jpg</td>\n",
              "    </tr>\n",
              "    <tr>\n",
              "      <th>272</th>\n",
              "      <td>celosia_argentea_flower</td>\n",
              "      <td>arachnothryx_leucophylla_flower</td>\n",
              "      <td>celosia_argentea_flower/264aed0aa1.jpg</td>\n",
              "    </tr>\n",
              "    <tr>\n",
              "      <th>275</th>\n",
              "      <td>celosia_argentea_flower</td>\n",
              "      <td>arachnothryx_leucophylla_flower</td>\n",
              "      <td>celosia_argentea_flower/88add6f6de.jpg</td>\n",
              "    </tr>\n",
              "    <tr>\n",
              "      <th>276</th>\n",
              "      <td>celosia_argentea_flower</td>\n",
              "      <td>arachnothryx_leucophylla_flower</td>\n",
              "      <td>celosia_argentea_flower/a0181b83e6.jpg</td>\n",
              "    </tr>\n",
              "    <tr>\n",
              "      <th>278</th>\n",
              "      <td>celosia_argentea_flower</td>\n",
              "      <td>arachnothryx_leucophylla_flower</td>\n",
              "      <td>celosia_argentea_flower/fbe7bd210e.jpg</td>\n",
              "    </tr>\n",
              "    <tr>\n",
              "      <th>279</th>\n",
              "      <td>clerodendrum_splendens_flower</td>\n",
              "      <td>arachnothryx_leucophylla_flower</td>\n",
              "      <td>clerodendrum_splendens_flower/0f017f48f6.jpg</td>\n",
              "    </tr>\n",
              "    <tr>\n",
              "      <th>280</th>\n",
              "      <td>clerodendrum_splendens_flower</td>\n",
              "      <td>arachnothryx_leucophylla_flower</td>\n",
              "      <td>clerodendrum_splendens_flower/112f6f604a.jpg</td>\n",
              "    </tr>\n",
              "    <tr>\n",
              "      <th>310</th>\n",
              "      <td>cochlospermum_religiosum_flower</td>\n",
              "      <td>arachnothryx_leucophylla_flower</td>\n",
              "      <td>cochlospermum_religiosum_flower/9b7277ad4e.jpg</td>\n",
              "    </tr>\n",
              "    <tr>\n",
              "      <th>342</th>\n",
              "      <td>costus_woodsonii_flower</td>\n",
              "      <td>arachnothryx_leucophylla_flower</td>\n",
              "      <td>costus_woodsonii_flower/7b165484c9.jpg</td>\n",
              "    </tr>\n",
              "    <tr>\n",
              "      <th>369</th>\n",
              "      <td>cymbidium_flower</td>\n",
              "      <td>arachnothryx_leucophylla_flower</td>\n",
              "      <td>cymbidium_flower/933bcdfefc.jpg</td>\n",
              "    </tr>\n",
              "    <tr>\n",
              "      <th>370</th>\n",
              "      <td>cymbidium_flower</td>\n",
              "      <td>arachnothryx_leucophylla_flower</td>\n",
              "      <td>cymbidium_flower/c22f6225b9.jpg</td>\n",
              "    </tr>\n",
              "    <tr>\n",
              "      <th>382</th>\n",
              "      <td>dendrobium_flower</td>\n",
              "      <td>arachnothryx_leucophylla_flower</td>\n",
              "      <td>dendrobium_flower/1ae5c80750.jpg</td>\n",
              "    </tr>\n",
              "    <tr>\n",
              "      <th>393</th>\n",
              "      <td>dianthus_barbatus_flower</td>\n",
              "      <td>arachnothryx_leucophylla_flower</td>\n",
              "      <td>dianthus_barbatus_flower/09d3bd22c9.jpg</td>\n",
              "    </tr>\n",
              "    <tr>\n",
              "      <th>448</th>\n",
              "      <td>guzmania_flower</td>\n",
              "      <td>arachnothryx_leucophylla_flower</td>\n",
              "      <td>guzmania_flower/4c4f31ad55.jpg</td>\n",
              "    </tr>\n",
              "    <tr>\n",
              "      <th>532</th>\n",
              "      <td>hibiscus_coccineus_flower</td>\n",
              "      <td>arachnothryx_leucophylla_flower</td>\n",
              "      <td>hibiscus_coccineus_flower/49ef1c57dd.jpg</td>\n",
              "    </tr>\n",
              "  </tbody>\n",
              "</table>\n",
              "</div>\n",
              "      <button class=\"colab-df-convert\" onclick=\"convertToInteractive('df-c6364a24-448a-4b06-9acb-e417c3c433e7')\"\n",
              "              title=\"Convert this dataframe to an interactive table.\"\n",
              "              style=\"display:none;\">\n",
              "        \n",
              "  <svg xmlns=\"http://www.w3.org/2000/svg\" height=\"24px\"viewBox=\"0 0 24 24\"\n",
              "       width=\"24px\">\n",
              "    <path d=\"M0 0h24v24H0V0z\" fill=\"none\"/>\n",
              "    <path d=\"M18.56 5.44l.94 2.06.94-2.06 2.06-.94-2.06-.94-.94-2.06-.94 2.06-2.06.94zm-11 1L8.5 8.5l.94-2.06 2.06-.94-2.06-.94L8.5 2.5l-.94 2.06-2.06.94zm10 10l.94 2.06.94-2.06 2.06-.94-2.06-.94-.94-2.06-.94 2.06-2.06.94z\"/><path d=\"M17.41 7.96l-1.37-1.37c-.4-.4-.92-.59-1.43-.59-.52 0-1.04.2-1.43.59L10.3 9.45l-7.72 7.72c-.78.78-.78 2.05 0 2.83L4 21.41c.39.39.9.59 1.41.59.51 0 1.02-.2 1.41-.59l7.78-7.78 2.81-2.81c.8-.78.8-2.07 0-2.86zM5.41 20L4 18.59l7.72-7.72 1.47 1.35L5.41 20z\"/>\n",
              "  </svg>\n",
              "      </button>\n",
              "      \n",
              "  <style>\n",
              "    .colab-df-container {\n",
              "      display:flex;\n",
              "      flex-wrap:wrap;\n",
              "      gap: 12px;\n",
              "    }\n",
              "\n",
              "    .colab-df-convert {\n",
              "      background-color: #E8F0FE;\n",
              "      border: none;\n",
              "      border-radius: 50%;\n",
              "      cursor: pointer;\n",
              "      display: none;\n",
              "      fill: #1967D2;\n",
              "      height: 32px;\n",
              "      padding: 0 0 0 0;\n",
              "      width: 32px;\n",
              "    }\n",
              "\n",
              "    .colab-df-convert:hover {\n",
              "      background-color: #E2EBFA;\n",
              "      box-shadow: 0px 1px 2px rgba(60, 64, 67, 0.3), 0px 1px 3px 1px rgba(60, 64, 67, 0.15);\n",
              "      fill: #174EA6;\n",
              "    }\n",
              "\n",
              "    [theme=dark] .colab-df-convert {\n",
              "      background-color: #3B4455;\n",
              "      fill: #D2E3FC;\n",
              "    }\n",
              "\n",
              "    [theme=dark] .colab-df-convert:hover {\n",
              "      background-color: #434B5C;\n",
              "      box-shadow: 0px 1px 3px 1px rgba(0, 0, 0, 0.15);\n",
              "      filter: drop-shadow(0px 1px 2px rgba(0, 0, 0, 0.3));\n",
              "      fill: #FFFFFF;\n",
              "    }\n",
              "  </style>\n",
              "\n",
              "      <script>\n",
              "        const buttonEl =\n",
              "          document.querySelector('#df-c6364a24-448a-4b06-9acb-e417c3c433e7 button.colab-df-convert');\n",
              "        buttonEl.style.display =\n",
              "          google.colab.kernel.accessAllowed ? 'block' : 'none';\n",
              "\n",
              "        async function convertToInteractive(key) {\n",
              "          const element = document.querySelector('#df-c6364a24-448a-4b06-9acb-e417c3c433e7');\n",
              "          const dataTable =\n",
              "            await google.colab.kernel.invokeFunction('convertToInteractive',\n",
              "                                                     [key], {});\n",
              "          if (!dataTable) return;\n",
              "\n",
              "          const docLinkHtml = 'Like what you see? Visit the ' +\n",
              "            '<a target=\"_blank\" href=https://colab.research.google.com/notebooks/data_table.ipynb>data table notebook</a>'\n",
              "            + ' to learn more about interactive tables.';\n",
              "          element.innerHTML = '';\n",
              "          dataTable['output_type'] = 'display_data';\n",
              "          await google.colab.output.renderOutput(dataTable, element);\n",
              "          const docLink = document.createElement('div');\n",
              "          docLink.innerHTML = docLinkHtml;\n",
              "          element.appendChild(docLink);\n",
              "        }\n",
              "      </script>\n",
              "    </div>\n",
              "  </div>\n",
              "  "
            ]
          },
          "metadata": {},
          "execution_count": 305
        }
      ]
    },
    {
      "cell_type": "code",
      "execution_count": 304,
      "metadata": {
        "id": "aS_7eepI1TTB",
        "colab": {
          "base_uri": "https://localhost:8080/"
        },
        "outputId": "02d15e3c-931e-48fb-b1b5-327d08029857"
      },
      "outputs": [
        {
          "output_type": "execute_result",
          "data": {
            "text/plain": [
              "bougainvillea_flower               6\n",
              "bauhinia_kockiana_flower           5\n",
              "celosia_argentea_flower            5\n",
              "adenium_obesum_flower              2\n",
              "alpinia_purpurata_flower           2\n",
              "angelonia_biflora_flower           2\n",
              "cymbidium_flower                   2\n",
              "brunfelsia_americana_flower        2\n",
              "aglaia_odorata_flower              2\n",
              "clerodendrum_splendens_flower      2\n",
              "cochlospermum_religiosum_flower    1\n",
              "guzmania_flower                    1\n",
              "dianthus_barbatus_flower           1\n",
              "dendrobium_flower                  1\n",
              "costus_woodsonii_flower            1\n",
              "caesalpinia_pulcherrima_flower     1\n",
              "cassia_javanica_flower             1\n",
              "bauhinia_galpinii_flower           1\n",
              "aranda_flower                      1\n",
              "anthurium_andreanum_flower         1\n",
              "allamanda_blanchetti_flower        1\n",
              "hibiscus_coccineus_flower          1\n",
              "Name: actual_y, dtype: int64"
            ]
          },
          "metadata": {},
          "execution_count": 304
        }
      ],
      "source": [
        "wrong_predict_df[wrong_predict_df['pred']=='arachnothryx_leucophylla_flower']['actual_y'].value_counts()"
      ],
      "id": "aS_7eepI1TTB"
    },
    {
      "cell_type": "code",
      "source": [
        "wrong_predict_df[wrong_predict_df['pred']=='allamanda_cathartica_flower']"
      ],
      "metadata": {
        "colab": {
          "base_uri": "https://localhost:8080/",
          "height": 1000
        },
        "outputId": "2934314e-5bf3-4c49-9984-bffb3837bf2f",
        "id": "aqdnVteuWKu6"
      },
      "execution_count": 307,
      "outputs": [
        {
          "output_type": "execute_result",
          "data": {
            "text/plain": [
              "                            actual_y                         pred  \\\n",
              "14             adenium_obesum_flower  allamanda_cathartica_flower   \n",
              "20             aglaia_odorata_flower  allamanda_cathartica_flower   \n",
              "182      brunfelsia_americana_flower  allamanda_cathartica_flower   \n",
              "185      brunfelsia_americana_flower  allamanda_cathartica_flower   \n",
              "188      brunfelsia_americana_flower  allamanda_cathartica_flower   \n",
              "227           cananga_odorata_flower  allamanda_cathartica_flower   \n",
              "236                     canna_flower  allamanda_cathartica_flower   \n",
              "245        cascabela_thevetia_flower  allamanda_cathartica_flower   \n",
              "246        cascabela_thevetia_flower  allamanda_cathartica_flower   \n",
              "247        cascabela_thevetia_flower  allamanda_cathartica_flower   \n",
              "249        cascabela_thevetia_flower  allamanda_cathartica_flower   \n",
              "250        cascabela_thevetia_flower  allamanda_cathartica_flower   \n",
              "262       catharanthus_roseus_flower  allamanda_cathartica_flower   \n",
              "309  cochlospermum_religiosum_flower  allamanda_cathartica_flower   \n",
              "311  cochlospermum_religiosum_flower  allamanda_cathartica_flower   \n",
              "312  cochlospermum_religiosum_flower  allamanda_cathartica_flower   \n",
              "314  cochlospermum_religiosum_flower  allamanda_cathartica_flower   \n",
              "339          costus_woodsonii_flower  allamanda_cathartica_flower   \n",
              "350          crinum_asiaticum_flower  allamanda_cathartica_flower   \n",
              "356          crinum_asiaticum_flower  allamanda_cathartica_flower   \n",
              "357          crinum_asiaticum_flower  allamanda_cathartica_flower   \n",
              "361                 cymbidium_flower  allamanda_cathartica_flower   \n",
              "364                 cymbidium_flower  allamanda_cathartica_flower   \n",
              "372                 cymbidium_flower  allamanda_cathartica_flower   \n",
              "389                dendrobium_flower  allamanda_cathartica_flower   \n",
              "405   dillenia_philippinensis_flower  allamanda_cathartica_flower   \n",
              "408   dillenia_philippinensis_flower  allamanda_cathartica_flower   \n",
              "410        gardenia_scabrella_flower  allamanda_cathartica_flower   \n",
              "419        gardenia_scabrella_flower  allamanda_cathartica_flower   \n",
              "438     gardenia_vietnamensis_flower  allamanda_cathartica_flower   \n",
              "450                  guzmania_flower  allamanda_cathartica_flower   \n",
              "456         helianthus_annuus_flower  allamanda_cathartica_flower   \n",
              "\n",
              "                                              names  \n",
              "14             adenium_obesum_flower/6144689112.jpg  \n",
              "20             aglaia_odorata_flower/0df382bd71.jpg  \n",
              "182      brunfelsia_americana_flower/14fbba4353.jpg  \n",
              "185      brunfelsia_americana_flower/460ebfc37a.jpg  \n",
              "188      brunfelsia_americana_flower/d98abb7fac.jpg  \n",
              "227           cananga_odorata_flower/be013ac62e.jpg  \n",
              "236                     canna_flower/684c5c2def.jpg  \n",
              "245        cascabela_thevetia_flower/95cd745874.jpg  \n",
              "246        cascabela_thevetia_flower/b83ad38c56.jpg  \n",
              "247        cascabela_thevetia_flower/c182066ccb.jpg  \n",
              "249        cascabela_thevetia_flower/f452532e26.jpg  \n",
              "250        cascabela_thevetia_flower/f763f67dfa.jpg  \n",
              "262       catharanthus_roseus_flower/329d5fee1e.jpg  \n",
              "309  cochlospermum_religiosum_flower/6991128159.jpg  \n",
              "311  cochlospermum_religiosum_flower/9bef8663fa.jpg  \n",
              "312  cochlospermum_religiosum_flower/b29628e612.jpg  \n",
              "314  cochlospermum_religiosum_flower/d4aa8ba90c.jpg  \n",
              "339          costus_woodsonii_flower/0b2c288215.jpg  \n",
              "350          crinum_asiaticum_flower/13f9419f72.jpg  \n",
              "356          crinum_asiaticum_flower/91769f5e81.jpg  \n",
              "357          crinum_asiaticum_flower/a2a30385f6.jpg  \n",
              "361                 cymbidium_flower/0f6dd21463.jpg  \n",
              "364                 cymbidium_flower/14256a8572.jpg  \n",
              "372                 cymbidium_flower/ef4bff1a40.jpg  \n",
              "389                dendrobium_flower/ceb5a781e3.jpg  \n",
              "405   dillenia_philippinensis_flower/691ad046fa.jpg  \n",
              "408   dillenia_philippinensis_flower/d4c7433035.jpg  \n",
              "410        gardenia_scabrella_flower/046a68da86.jpg  \n",
              "419        gardenia_scabrella_flower/fb9b05822e.jpg  \n",
              "438     gardenia_vietnamensis_flower/8ecb77e5fa.jpg  \n",
              "450                  guzmania_flower/60354c0b48.jpg  \n",
              "456         helianthus_annuus_flower/212d3d151c.jpg  "
            ],
            "text/html": [
              "\n",
              "  <div id=\"df-1de5011f-3528-47e9-8765-13dcd6b9372a\">\n",
              "    <div class=\"colab-df-container\">\n",
              "      <div>\n",
              "<style scoped>\n",
              "    .dataframe tbody tr th:only-of-type {\n",
              "        vertical-align: middle;\n",
              "    }\n",
              "\n",
              "    .dataframe tbody tr th {\n",
              "        vertical-align: top;\n",
              "    }\n",
              "\n",
              "    .dataframe thead th {\n",
              "        text-align: right;\n",
              "    }\n",
              "</style>\n",
              "<table border=\"1\" class=\"dataframe\">\n",
              "  <thead>\n",
              "    <tr style=\"text-align: right;\">\n",
              "      <th></th>\n",
              "      <th>actual_y</th>\n",
              "      <th>pred</th>\n",
              "      <th>names</th>\n",
              "    </tr>\n",
              "  </thead>\n",
              "  <tbody>\n",
              "    <tr>\n",
              "      <th>14</th>\n",
              "      <td>adenium_obesum_flower</td>\n",
              "      <td>allamanda_cathartica_flower</td>\n",
              "      <td>adenium_obesum_flower/6144689112.jpg</td>\n",
              "    </tr>\n",
              "    <tr>\n",
              "      <th>20</th>\n",
              "      <td>aglaia_odorata_flower</td>\n",
              "      <td>allamanda_cathartica_flower</td>\n",
              "      <td>aglaia_odorata_flower/0df382bd71.jpg</td>\n",
              "    </tr>\n",
              "    <tr>\n",
              "      <th>182</th>\n",
              "      <td>brunfelsia_americana_flower</td>\n",
              "      <td>allamanda_cathartica_flower</td>\n",
              "      <td>brunfelsia_americana_flower/14fbba4353.jpg</td>\n",
              "    </tr>\n",
              "    <tr>\n",
              "      <th>185</th>\n",
              "      <td>brunfelsia_americana_flower</td>\n",
              "      <td>allamanda_cathartica_flower</td>\n",
              "      <td>brunfelsia_americana_flower/460ebfc37a.jpg</td>\n",
              "    </tr>\n",
              "    <tr>\n",
              "      <th>188</th>\n",
              "      <td>brunfelsia_americana_flower</td>\n",
              "      <td>allamanda_cathartica_flower</td>\n",
              "      <td>brunfelsia_americana_flower/d98abb7fac.jpg</td>\n",
              "    </tr>\n",
              "    <tr>\n",
              "      <th>227</th>\n",
              "      <td>cananga_odorata_flower</td>\n",
              "      <td>allamanda_cathartica_flower</td>\n",
              "      <td>cananga_odorata_flower/be013ac62e.jpg</td>\n",
              "    </tr>\n",
              "    <tr>\n",
              "      <th>236</th>\n",
              "      <td>canna_flower</td>\n",
              "      <td>allamanda_cathartica_flower</td>\n",
              "      <td>canna_flower/684c5c2def.jpg</td>\n",
              "    </tr>\n",
              "    <tr>\n",
              "      <th>245</th>\n",
              "      <td>cascabela_thevetia_flower</td>\n",
              "      <td>allamanda_cathartica_flower</td>\n",
              "      <td>cascabela_thevetia_flower/95cd745874.jpg</td>\n",
              "    </tr>\n",
              "    <tr>\n",
              "      <th>246</th>\n",
              "      <td>cascabela_thevetia_flower</td>\n",
              "      <td>allamanda_cathartica_flower</td>\n",
              "      <td>cascabela_thevetia_flower/b83ad38c56.jpg</td>\n",
              "    </tr>\n",
              "    <tr>\n",
              "      <th>247</th>\n",
              "      <td>cascabela_thevetia_flower</td>\n",
              "      <td>allamanda_cathartica_flower</td>\n",
              "      <td>cascabela_thevetia_flower/c182066ccb.jpg</td>\n",
              "    </tr>\n",
              "    <tr>\n",
              "      <th>249</th>\n",
              "      <td>cascabela_thevetia_flower</td>\n",
              "      <td>allamanda_cathartica_flower</td>\n",
              "      <td>cascabela_thevetia_flower/f452532e26.jpg</td>\n",
              "    </tr>\n",
              "    <tr>\n",
              "      <th>250</th>\n",
              "      <td>cascabela_thevetia_flower</td>\n",
              "      <td>allamanda_cathartica_flower</td>\n",
              "      <td>cascabela_thevetia_flower/f763f67dfa.jpg</td>\n",
              "    </tr>\n",
              "    <tr>\n",
              "      <th>262</th>\n",
              "      <td>catharanthus_roseus_flower</td>\n",
              "      <td>allamanda_cathartica_flower</td>\n",
              "      <td>catharanthus_roseus_flower/329d5fee1e.jpg</td>\n",
              "    </tr>\n",
              "    <tr>\n",
              "      <th>309</th>\n",
              "      <td>cochlospermum_religiosum_flower</td>\n",
              "      <td>allamanda_cathartica_flower</td>\n",
              "      <td>cochlospermum_religiosum_flower/6991128159.jpg</td>\n",
              "    </tr>\n",
              "    <tr>\n",
              "      <th>311</th>\n",
              "      <td>cochlospermum_religiosum_flower</td>\n",
              "      <td>allamanda_cathartica_flower</td>\n",
              "      <td>cochlospermum_religiosum_flower/9bef8663fa.jpg</td>\n",
              "    </tr>\n",
              "    <tr>\n",
              "      <th>312</th>\n",
              "      <td>cochlospermum_religiosum_flower</td>\n",
              "      <td>allamanda_cathartica_flower</td>\n",
              "      <td>cochlospermum_religiosum_flower/b29628e612.jpg</td>\n",
              "    </tr>\n",
              "    <tr>\n",
              "      <th>314</th>\n",
              "      <td>cochlospermum_religiosum_flower</td>\n",
              "      <td>allamanda_cathartica_flower</td>\n",
              "      <td>cochlospermum_religiosum_flower/d4aa8ba90c.jpg</td>\n",
              "    </tr>\n",
              "    <tr>\n",
              "      <th>339</th>\n",
              "      <td>costus_woodsonii_flower</td>\n",
              "      <td>allamanda_cathartica_flower</td>\n",
              "      <td>costus_woodsonii_flower/0b2c288215.jpg</td>\n",
              "    </tr>\n",
              "    <tr>\n",
              "      <th>350</th>\n",
              "      <td>crinum_asiaticum_flower</td>\n",
              "      <td>allamanda_cathartica_flower</td>\n",
              "      <td>crinum_asiaticum_flower/13f9419f72.jpg</td>\n",
              "    </tr>\n",
              "    <tr>\n",
              "      <th>356</th>\n",
              "      <td>crinum_asiaticum_flower</td>\n",
              "      <td>allamanda_cathartica_flower</td>\n",
              "      <td>crinum_asiaticum_flower/91769f5e81.jpg</td>\n",
              "    </tr>\n",
              "    <tr>\n",
              "      <th>357</th>\n",
              "      <td>crinum_asiaticum_flower</td>\n",
              "      <td>allamanda_cathartica_flower</td>\n",
              "      <td>crinum_asiaticum_flower/a2a30385f6.jpg</td>\n",
              "    </tr>\n",
              "    <tr>\n",
              "      <th>361</th>\n",
              "      <td>cymbidium_flower</td>\n",
              "      <td>allamanda_cathartica_flower</td>\n",
              "      <td>cymbidium_flower/0f6dd21463.jpg</td>\n",
              "    </tr>\n",
              "    <tr>\n",
              "      <th>364</th>\n",
              "      <td>cymbidium_flower</td>\n",
              "      <td>allamanda_cathartica_flower</td>\n",
              "      <td>cymbidium_flower/14256a8572.jpg</td>\n",
              "    </tr>\n",
              "    <tr>\n",
              "      <th>372</th>\n",
              "      <td>cymbidium_flower</td>\n",
              "      <td>allamanda_cathartica_flower</td>\n",
              "      <td>cymbidium_flower/ef4bff1a40.jpg</td>\n",
              "    </tr>\n",
              "    <tr>\n",
              "      <th>389</th>\n",
              "      <td>dendrobium_flower</td>\n",
              "      <td>allamanda_cathartica_flower</td>\n",
              "      <td>dendrobium_flower/ceb5a781e3.jpg</td>\n",
              "    </tr>\n",
              "    <tr>\n",
              "      <th>405</th>\n",
              "      <td>dillenia_philippinensis_flower</td>\n",
              "      <td>allamanda_cathartica_flower</td>\n",
              "      <td>dillenia_philippinensis_flower/691ad046fa.jpg</td>\n",
              "    </tr>\n",
              "    <tr>\n",
              "      <th>408</th>\n",
              "      <td>dillenia_philippinensis_flower</td>\n",
              "      <td>allamanda_cathartica_flower</td>\n",
              "      <td>dillenia_philippinensis_flower/d4c7433035.jpg</td>\n",
              "    </tr>\n",
              "    <tr>\n",
              "      <th>410</th>\n",
              "      <td>gardenia_scabrella_flower</td>\n",
              "      <td>allamanda_cathartica_flower</td>\n",
              "      <td>gardenia_scabrella_flower/046a68da86.jpg</td>\n",
              "    </tr>\n",
              "    <tr>\n",
              "      <th>419</th>\n",
              "      <td>gardenia_scabrella_flower</td>\n",
              "      <td>allamanda_cathartica_flower</td>\n",
              "      <td>gardenia_scabrella_flower/fb9b05822e.jpg</td>\n",
              "    </tr>\n",
              "    <tr>\n",
              "      <th>438</th>\n",
              "      <td>gardenia_vietnamensis_flower</td>\n",
              "      <td>allamanda_cathartica_flower</td>\n",
              "      <td>gardenia_vietnamensis_flower/8ecb77e5fa.jpg</td>\n",
              "    </tr>\n",
              "    <tr>\n",
              "      <th>450</th>\n",
              "      <td>guzmania_flower</td>\n",
              "      <td>allamanda_cathartica_flower</td>\n",
              "      <td>guzmania_flower/60354c0b48.jpg</td>\n",
              "    </tr>\n",
              "    <tr>\n",
              "      <th>456</th>\n",
              "      <td>helianthus_annuus_flower</td>\n",
              "      <td>allamanda_cathartica_flower</td>\n",
              "      <td>helianthus_annuus_flower/212d3d151c.jpg</td>\n",
              "    </tr>\n",
              "  </tbody>\n",
              "</table>\n",
              "</div>\n",
              "      <button class=\"colab-df-convert\" onclick=\"convertToInteractive('df-1de5011f-3528-47e9-8765-13dcd6b9372a')\"\n",
              "              title=\"Convert this dataframe to an interactive table.\"\n",
              "              style=\"display:none;\">\n",
              "        \n",
              "  <svg xmlns=\"http://www.w3.org/2000/svg\" height=\"24px\"viewBox=\"0 0 24 24\"\n",
              "       width=\"24px\">\n",
              "    <path d=\"M0 0h24v24H0V0z\" fill=\"none\"/>\n",
              "    <path d=\"M18.56 5.44l.94 2.06.94-2.06 2.06-.94-2.06-.94-.94-2.06-.94 2.06-2.06.94zm-11 1L8.5 8.5l.94-2.06 2.06-.94-2.06-.94L8.5 2.5l-.94 2.06-2.06.94zm10 10l.94 2.06.94-2.06 2.06-.94-2.06-.94-.94-2.06-.94 2.06-2.06.94z\"/><path d=\"M17.41 7.96l-1.37-1.37c-.4-.4-.92-.59-1.43-.59-.52 0-1.04.2-1.43.59L10.3 9.45l-7.72 7.72c-.78.78-.78 2.05 0 2.83L4 21.41c.39.39.9.59 1.41.59.51 0 1.02-.2 1.41-.59l7.78-7.78 2.81-2.81c.8-.78.8-2.07 0-2.86zM5.41 20L4 18.59l7.72-7.72 1.47 1.35L5.41 20z\"/>\n",
              "  </svg>\n",
              "      </button>\n",
              "      \n",
              "  <style>\n",
              "    .colab-df-container {\n",
              "      display:flex;\n",
              "      flex-wrap:wrap;\n",
              "      gap: 12px;\n",
              "    }\n",
              "\n",
              "    .colab-df-convert {\n",
              "      background-color: #E8F0FE;\n",
              "      border: none;\n",
              "      border-radius: 50%;\n",
              "      cursor: pointer;\n",
              "      display: none;\n",
              "      fill: #1967D2;\n",
              "      height: 32px;\n",
              "      padding: 0 0 0 0;\n",
              "      width: 32px;\n",
              "    }\n",
              "\n",
              "    .colab-df-convert:hover {\n",
              "      background-color: #E2EBFA;\n",
              "      box-shadow: 0px 1px 2px rgba(60, 64, 67, 0.3), 0px 1px 3px 1px rgba(60, 64, 67, 0.15);\n",
              "      fill: #174EA6;\n",
              "    }\n",
              "\n",
              "    [theme=dark] .colab-df-convert {\n",
              "      background-color: #3B4455;\n",
              "      fill: #D2E3FC;\n",
              "    }\n",
              "\n",
              "    [theme=dark] .colab-df-convert:hover {\n",
              "      background-color: #434B5C;\n",
              "      box-shadow: 0px 1px 3px 1px rgba(0, 0, 0, 0.15);\n",
              "      filter: drop-shadow(0px 1px 2px rgba(0, 0, 0, 0.3));\n",
              "      fill: #FFFFFF;\n",
              "    }\n",
              "  </style>\n",
              "\n",
              "      <script>\n",
              "        const buttonEl =\n",
              "          document.querySelector('#df-1de5011f-3528-47e9-8765-13dcd6b9372a button.colab-df-convert');\n",
              "        buttonEl.style.display =\n",
              "          google.colab.kernel.accessAllowed ? 'block' : 'none';\n",
              "\n",
              "        async function convertToInteractive(key) {\n",
              "          const element = document.querySelector('#df-1de5011f-3528-47e9-8765-13dcd6b9372a');\n",
              "          const dataTable =\n",
              "            await google.colab.kernel.invokeFunction('convertToInteractive',\n",
              "                                                     [key], {});\n",
              "          if (!dataTable) return;\n",
              "\n",
              "          const docLinkHtml = 'Like what you see? Visit the ' +\n",
              "            '<a target=\"_blank\" href=https://colab.research.google.com/notebooks/data_table.ipynb>data table notebook</a>'\n",
              "            + ' to learn more about interactive tables.';\n",
              "          element.innerHTML = '';\n",
              "          dataTable['output_type'] = 'display_data';\n",
              "          await google.colab.output.renderOutput(dataTable, element);\n",
              "          const docLink = document.createElement('div');\n",
              "          docLink.innerHTML = docLinkHtml;\n",
              "          element.appendChild(docLink);\n",
              "        }\n",
              "      </script>\n",
              "    </div>\n",
              "  </div>\n",
              "  "
            ]
          },
          "metadata": {},
          "execution_count": 307
        }
      ],
      "id": "aqdnVteuWKu6"
    },
    {
      "cell_type": "code",
      "execution_count": 308,
      "metadata": {
        "colab": {
          "base_uri": "https://localhost:8080/"
        },
        "outputId": "64fbe99c-5abf-4832-e3ec-46c67f30af6a",
        "id": "ZR4jgB4rWKvD"
      },
      "outputs": [
        {
          "output_type": "execute_result",
          "data": {
            "text/plain": [
              "cascabela_thevetia_flower          5\n",
              "cochlospermum_religiosum_flower    4\n",
              "brunfelsia_americana_flower        3\n",
              "crinum_asiaticum_flower            3\n",
              "cymbidium_flower                   3\n",
              "gardenia_scabrella_flower          2\n",
              "dillenia_philippinensis_flower     2\n",
              "adenium_obesum_flower              1\n",
              "dendrobium_flower                  1\n",
              "guzmania_flower                    1\n",
              "gardenia_vietnamensis_flower       1\n",
              "costus_woodsonii_flower            1\n",
              "aglaia_odorata_flower              1\n",
              "catharanthus_roseus_flower         1\n",
              "canna_flower                       1\n",
              "cananga_odorata_flower             1\n",
              "helianthus_annuus_flower           1\n",
              "Name: actual_y, dtype: int64"
            ]
          },
          "metadata": {},
          "execution_count": 308
        }
      ],
      "source": [
        "wrong_predict_df[wrong_predict_df['pred']=='allamanda_cathartica_flower']['actual_y'].value_counts()"
      ],
      "id": "ZR4jgB4rWKvD"
    },
    {
      "cell_type": "code",
      "execution_count": 191,
      "metadata": {
        "id": "nP7cuepm1TTB",
        "colab": {
          "base_uri": "https://localhost:8080/"
        },
        "outputId": "860ac468-27cb-4529-cd25-1f85e2b09ca5"
      },
      "outputs": [
        {
          "output_type": "stream",
          "name": "stdout",
          "text": [
            "The augmented data MobileNetV2 model correctly predicted 358 images from 50 classes out of 538 images.\n"
          ]
        }
      ],
      "source": [
        "print(f\"The augmented data MobileNetV2 model correctly predicted {df.loc[df['actual_y']==df['pred']].shape[0]} images from {df.loc[df['actual_y']==df['pred']]['actual_y'].value_counts().count()} classes out of {len(test_generator.labels)} images.\")"
      ],
      "id": "nP7cuepm1TTB"
    },
    {
      "cell_type": "code",
      "execution_count": null,
      "metadata": {
        "id": "OZS6A8mx1TTB"
      },
      "outputs": [],
      "source": [
        "df.loc[df['actual_y']==df['pred']]['names']"
      ],
      "id": "OZS6A8mx1TTB"
    },
    {
      "cell_type": "code",
      "execution_count": null,
      "metadata": {
        "id": "tdQ5W1pr1TTB"
      },
      "outputs": [],
      "source": [
        "#Image.open(test_path+'/'+list(df.loc[df['actual_y']==df['pred']]['names'])[0])"
      ],
      "id": "tdQ5W1pr1TTB"
    },
    {
      "cell_type": "markdown",
      "metadata": {
        "id": "8ade82bd"
      },
      "source": [
        "# MobileNetV2 (Unfrozen)"
      ],
      "id": "8ade82bd"
    },
    {
      "cell_type": "code",
      "execution_count": 242,
      "metadata": {
        "id": "218ef417",
        "colab": {
          "base_uri": "https://localhost:8080/"
        },
        "outputId": "7fb01958-5cf1-4fa9-93b6-0e6408ef3a7f"
      },
      "outputs": [
        {
          "output_type": "stream",
          "name": "stdout",
          "text": [
            "Found 1615 images belonging to 50 classes.\n",
            "Found 538 images belonging to 50 classes.\n",
            "Found 426 images belonging to 50 classes.\n"
          ]
        }
      ],
      "source": [
        "train_generator = train_datagen.flow_from_directory(train_path,\n",
        "                                                 target_size = (224, 224),\n",
        "                                                 batch_size = 32,\n",
        "                                                 class_mode = 'categorical')\n",
        "test_generator = test_datagen.flow_from_directory(test_path,\n",
        "                                            target_size = (224, 224),\n",
        "                                            batch_size = 1,\n",
        "                                            class_mode = 'categorical',\n",
        "                                            shuffle = False)\n",
        "val_generator = val_datagen.flow_from_directory(val_path,\n",
        "                                            target_size = (224, 224),\n",
        "                                            batch_size = 32,\n",
        "                                            class_mode = 'categorical')"
      ],
      "id": "218ef417"
    },
    {
      "cell_type": "code",
      "execution_count": 243,
      "metadata": {
        "id": "6bd75922"
      },
      "outputs": [],
      "source": [
        "unfrozen_mob = MobileNetV2(input_shape=(224,224, 3), weights='imagenet', include_top=False)"
      ],
      "id": "6bd75922"
    },
    {
      "cell_type": "code",
      "execution_count": 244,
      "metadata": {
        "id": "32cc67dd"
      },
      "outputs": [],
      "source": [
        "#do not train the pre-trained layers of unfrozen_mob-19\n",
        "for layer in unfrozen_mob.layers:\n",
        "    layer.trainable = True"
      ],
      "id": "32cc67dd"
    },
    {
      "cell_type": "code",
      "execution_count": 245,
      "metadata": {
        "id": "3fdcf799"
      },
      "outputs": [],
      "source": [
        "x = Flatten()(unfrozen_mob.output)"
      ],
      "id": "3fdcf799"
    },
    {
      "cell_type": "code",
      "execution_count": 246,
      "metadata": {
        "id": "e368723b"
      },
      "outputs": [],
      "source": [
        "#adding output layer.Softmax classifier is used as it is multi-class classification\n",
        "prediction = Dense(len(class_list), activation='softmax')(x)\n",
        "\n",
        "unfrozen_mob_model = Model(inputs=unfrozen_mob.input, outputs=prediction)"
      ],
      "id": "e368723b"
    },
    {
      "cell_type": "code",
      "execution_count": 247,
      "metadata": {
        "id": "c3bc713f",
        "colab": {
          "base_uri": "https://localhost:8080/"
        },
        "outputId": "4d1bdc4f-6f12-4dfb-81b1-41bc0f816f58"
      },
      "outputs": [
        {
          "output_type": "stream",
          "name": "stdout",
          "text": [
            "Model: \"model_10\"\n",
            "__________________________________________________________________________________________________\n",
            " Layer (type)                   Output Shape         Param #     Connected to                     \n",
            "==================================================================================================\n",
            " input_11 (InputLayer)          [(None, 224, 224, 3  0           []                               \n",
            "                                )]                                                                \n",
            "                                                                                                  \n",
            " Conv1 (Conv2D)                 (None, 112, 112, 32  864         ['input_11[0][0]']               \n",
            "                                )                                                                 \n",
            "                                                                                                  \n",
            " bn_Conv1 (BatchNormalization)  (None, 112, 112, 32  128         ['Conv1[0][0]']                  \n",
            "                                )                                                                 \n",
            "                                                                                                  \n",
            " Conv1_relu (ReLU)              (None, 112, 112, 32  0           ['bn_Conv1[0][0]']               \n",
            "                                )                                                                 \n",
            "                                                                                                  \n",
            " expanded_conv_depthwise (Depth  (None, 112, 112, 32  288        ['Conv1_relu[0][0]']             \n",
            " wiseConv2D)                    )                                                                 \n",
            "                                                                                                  \n",
            " expanded_conv_depthwise_BN (Ba  (None, 112, 112, 32  128        ['expanded_conv_depthwise[0][0]']\n",
            " tchNormalization)              )                                                                 \n",
            "                                                                                                  \n",
            " expanded_conv_depthwise_relu (  (None, 112, 112, 32  0          ['expanded_conv_depthwise_BN[0][0\n",
            " ReLU)                          )                                ]']                              \n",
            "                                                                                                  \n",
            " expanded_conv_project (Conv2D)  (None, 112, 112, 16  512        ['expanded_conv_depthwise_relu[0]\n",
            "                                )                                [0]']                            \n",
            "                                                                                                  \n",
            " expanded_conv_project_BN (Batc  (None, 112, 112, 16  64         ['expanded_conv_project[0][0]']  \n",
            " hNormalization)                )                                                                 \n",
            "                                                                                                  \n",
            " block_1_expand (Conv2D)        (None, 112, 112, 96  1536        ['expanded_conv_project_BN[0][0]'\n",
            "                                )                                ]                                \n",
            "                                                                                                  \n",
            " block_1_expand_BN (BatchNormal  (None, 112, 112, 96  384        ['block_1_expand[0][0]']         \n",
            " ization)                       )                                                                 \n",
            "                                                                                                  \n",
            " block_1_expand_relu (ReLU)     (None, 112, 112, 96  0           ['block_1_expand_BN[0][0]']      \n",
            "                                )                                                                 \n",
            "                                                                                                  \n",
            " block_1_pad (ZeroPadding2D)    (None, 113, 113, 96  0           ['block_1_expand_relu[0][0]']    \n",
            "                                )                                                                 \n",
            "                                                                                                  \n",
            " block_1_depthwise (DepthwiseCo  (None, 56, 56, 96)  864         ['block_1_pad[0][0]']            \n",
            " nv2D)                                                                                            \n",
            "                                                                                                  \n",
            " block_1_depthwise_BN (BatchNor  (None, 56, 56, 96)  384         ['block_1_depthwise[0][0]']      \n",
            " malization)                                                                                      \n",
            "                                                                                                  \n",
            " block_1_depthwise_relu (ReLU)  (None, 56, 56, 96)   0           ['block_1_depthwise_BN[0][0]']   \n",
            "                                                                                                  \n",
            " block_1_project (Conv2D)       (None, 56, 56, 24)   2304        ['block_1_depthwise_relu[0][0]'] \n",
            "                                                                                                  \n",
            " block_1_project_BN (BatchNorma  (None, 56, 56, 24)  96          ['block_1_project[0][0]']        \n",
            " lization)                                                                                        \n",
            "                                                                                                  \n",
            " block_2_expand (Conv2D)        (None, 56, 56, 144)  3456        ['block_1_project_BN[0][0]']     \n",
            "                                                                                                  \n",
            " block_2_expand_BN (BatchNormal  (None, 56, 56, 144)  576        ['block_2_expand[0][0]']         \n",
            " ization)                                                                                         \n",
            "                                                                                                  \n",
            " block_2_expand_relu (ReLU)     (None, 56, 56, 144)  0           ['block_2_expand_BN[0][0]']      \n",
            "                                                                                                  \n",
            " block_2_depthwise (DepthwiseCo  (None, 56, 56, 144)  1296       ['block_2_expand_relu[0][0]']    \n",
            " nv2D)                                                                                            \n",
            "                                                                                                  \n",
            " block_2_depthwise_BN (BatchNor  (None, 56, 56, 144)  576        ['block_2_depthwise[0][0]']      \n",
            " malization)                                                                                      \n",
            "                                                                                                  \n",
            " block_2_depthwise_relu (ReLU)  (None, 56, 56, 144)  0           ['block_2_depthwise_BN[0][0]']   \n",
            "                                                                                                  \n",
            " block_2_project (Conv2D)       (None, 56, 56, 24)   3456        ['block_2_depthwise_relu[0][0]'] \n",
            "                                                                                                  \n",
            " block_2_project_BN (BatchNorma  (None, 56, 56, 24)  96          ['block_2_project[0][0]']        \n",
            " lization)                                                                                        \n",
            "                                                                                                  \n",
            " block_2_add (Add)              (None, 56, 56, 24)   0           ['block_1_project_BN[0][0]',     \n",
            "                                                                  'block_2_project_BN[0][0]']     \n",
            "                                                                                                  \n",
            " block_3_expand (Conv2D)        (None, 56, 56, 144)  3456        ['block_2_add[0][0]']            \n",
            "                                                                                                  \n",
            " block_3_expand_BN (BatchNormal  (None, 56, 56, 144)  576        ['block_3_expand[0][0]']         \n",
            " ization)                                                                                         \n",
            "                                                                                                  \n",
            " block_3_expand_relu (ReLU)     (None, 56, 56, 144)  0           ['block_3_expand_BN[0][0]']      \n",
            "                                                                                                  \n",
            " block_3_pad (ZeroPadding2D)    (None, 57, 57, 144)  0           ['block_3_expand_relu[0][0]']    \n",
            "                                                                                                  \n",
            " block_3_depthwise (DepthwiseCo  (None, 28, 28, 144)  1296       ['block_3_pad[0][0]']            \n",
            " nv2D)                                                                                            \n",
            "                                                                                                  \n",
            " block_3_depthwise_BN (BatchNor  (None, 28, 28, 144)  576        ['block_3_depthwise[0][0]']      \n",
            " malization)                                                                                      \n",
            "                                                                                                  \n",
            " block_3_depthwise_relu (ReLU)  (None, 28, 28, 144)  0           ['block_3_depthwise_BN[0][0]']   \n",
            "                                                                                                  \n",
            " block_3_project (Conv2D)       (None, 28, 28, 32)   4608        ['block_3_depthwise_relu[0][0]'] \n",
            "                                                                                                  \n",
            " block_3_project_BN (BatchNorma  (None, 28, 28, 32)  128         ['block_3_project[0][0]']        \n",
            " lization)                                                                                        \n",
            "                                                                                                  \n",
            " block_4_expand (Conv2D)        (None, 28, 28, 192)  6144        ['block_3_project_BN[0][0]']     \n",
            "                                                                                                  \n",
            " block_4_expand_BN (BatchNormal  (None, 28, 28, 192)  768        ['block_4_expand[0][0]']         \n",
            " ization)                                                                                         \n",
            "                                                                                                  \n",
            " block_4_expand_relu (ReLU)     (None, 28, 28, 192)  0           ['block_4_expand_BN[0][0]']      \n",
            "                                                                                                  \n",
            " block_4_depthwise (DepthwiseCo  (None, 28, 28, 192)  1728       ['block_4_expand_relu[0][0]']    \n",
            " nv2D)                                                                                            \n",
            "                                                                                                  \n",
            " block_4_depthwise_BN (BatchNor  (None, 28, 28, 192)  768        ['block_4_depthwise[0][0]']      \n",
            " malization)                                                                                      \n",
            "                                                                                                  \n",
            " block_4_depthwise_relu (ReLU)  (None, 28, 28, 192)  0           ['block_4_depthwise_BN[0][0]']   \n",
            "                                                                                                  \n",
            " block_4_project (Conv2D)       (None, 28, 28, 32)   6144        ['block_4_depthwise_relu[0][0]'] \n",
            "                                                                                                  \n",
            " block_4_project_BN (BatchNorma  (None, 28, 28, 32)  128         ['block_4_project[0][0]']        \n",
            " lization)                                                                                        \n",
            "                                                                                                  \n",
            " block_4_add (Add)              (None, 28, 28, 32)   0           ['block_3_project_BN[0][0]',     \n",
            "                                                                  'block_4_project_BN[0][0]']     \n",
            "                                                                                                  \n",
            " block_5_expand (Conv2D)        (None, 28, 28, 192)  6144        ['block_4_add[0][0]']            \n",
            "                                                                                                  \n",
            " block_5_expand_BN (BatchNormal  (None, 28, 28, 192)  768        ['block_5_expand[0][0]']         \n",
            " ization)                                                                                         \n",
            "                                                                                                  \n",
            " block_5_expand_relu (ReLU)     (None, 28, 28, 192)  0           ['block_5_expand_BN[0][0]']      \n",
            "                                                                                                  \n",
            " block_5_depthwise (DepthwiseCo  (None, 28, 28, 192)  1728       ['block_5_expand_relu[0][0]']    \n",
            " nv2D)                                                                                            \n",
            "                                                                                                  \n",
            " block_5_depthwise_BN (BatchNor  (None, 28, 28, 192)  768        ['block_5_depthwise[0][0]']      \n",
            " malization)                                                                                      \n",
            "                                                                                                  \n",
            " block_5_depthwise_relu (ReLU)  (None, 28, 28, 192)  0           ['block_5_depthwise_BN[0][0]']   \n",
            "                                                                                                  \n",
            " block_5_project (Conv2D)       (None, 28, 28, 32)   6144        ['block_5_depthwise_relu[0][0]'] \n",
            "                                                                                                  \n",
            " block_5_project_BN (BatchNorma  (None, 28, 28, 32)  128         ['block_5_project[0][0]']        \n",
            " lization)                                                                                        \n",
            "                                                                                                  \n",
            " block_5_add (Add)              (None, 28, 28, 32)   0           ['block_4_add[0][0]',            \n",
            "                                                                  'block_5_project_BN[0][0]']     \n",
            "                                                                                                  \n",
            " block_6_expand (Conv2D)        (None, 28, 28, 192)  6144        ['block_5_add[0][0]']            \n",
            "                                                                                                  \n",
            " block_6_expand_BN (BatchNormal  (None, 28, 28, 192)  768        ['block_6_expand[0][0]']         \n",
            " ization)                                                                                         \n",
            "                                                                                                  \n",
            " block_6_expand_relu (ReLU)     (None, 28, 28, 192)  0           ['block_6_expand_BN[0][0]']      \n",
            "                                                                                                  \n",
            " block_6_pad (ZeroPadding2D)    (None, 29, 29, 192)  0           ['block_6_expand_relu[0][0]']    \n",
            "                                                                                                  \n",
            " block_6_depthwise (DepthwiseCo  (None, 14, 14, 192)  1728       ['block_6_pad[0][0]']            \n",
            " nv2D)                                                                                            \n",
            "                                                                                                  \n",
            " block_6_depthwise_BN (BatchNor  (None, 14, 14, 192)  768        ['block_6_depthwise[0][0]']      \n",
            " malization)                                                                                      \n",
            "                                                                                                  \n",
            " block_6_depthwise_relu (ReLU)  (None, 14, 14, 192)  0           ['block_6_depthwise_BN[0][0]']   \n",
            "                                                                                                  \n",
            " block_6_project (Conv2D)       (None, 14, 14, 64)   12288       ['block_6_depthwise_relu[0][0]'] \n",
            "                                                                                                  \n",
            " block_6_project_BN (BatchNorma  (None, 14, 14, 64)  256         ['block_6_project[0][0]']        \n",
            " lization)                                                                                        \n",
            "                                                                                                  \n",
            " block_7_expand (Conv2D)        (None, 14, 14, 384)  24576       ['block_6_project_BN[0][0]']     \n",
            "                                                                                                  \n",
            " block_7_expand_BN (BatchNormal  (None, 14, 14, 384)  1536       ['block_7_expand[0][0]']         \n",
            " ization)                                                                                         \n",
            "                                                                                                  \n",
            " block_7_expand_relu (ReLU)     (None, 14, 14, 384)  0           ['block_7_expand_BN[0][0]']      \n",
            "                                                                                                  \n",
            " block_7_depthwise (DepthwiseCo  (None, 14, 14, 384)  3456       ['block_7_expand_relu[0][0]']    \n",
            " nv2D)                                                                                            \n",
            "                                                                                                  \n",
            " block_7_depthwise_BN (BatchNor  (None, 14, 14, 384)  1536       ['block_7_depthwise[0][0]']      \n",
            " malization)                                                                                      \n",
            "                                                                                                  \n",
            " block_7_depthwise_relu (ReLU)  (None, 14, 14, 384)  0           ['block_7_depthwise_BN[0][0]']   \n",
            "                                                                                                  \n",
            " block_7_project (Conv2D)       (None, 14, 14, 64)   24576       ['block_7_depthwise_relu[0][0]'] \n",
            "                                                                                                  \n",
            " block_7_project_BN (BatchNorma  (None, 14, 14, 64)  256         ['block_7_project[0][0]']        \n",
            " lization)                                                                                        \n",
            "                                                                                                  \n",
            " block_7_add (Add)              (None, 14, 14, 64)   0           ['block_6_project_BN[0][0]',     \n",
            "                                                                  'block_7_project_BN[0][0]']     \n",
            "                                                                                                  \n",
            " block_8_expand (Conv2D)        (None, 14, 14, 384)  24576       ['block_7_add[0][0]']            \n",
            "                                                                                                  \n",
            " block_8_expand_BN (BatchNormal  (None, 14, 14, 384)  1536       ['block_8_expand[0][0]']         \n",
            " ization)                                                                                         \n",
            "                                                                                                  \n",
            " block_8_expand_relu (ReLU)     (None, 14, 14, 384)  0           ['block_8_expand_BN[0][0]']      \n",
            "                                                                                                  \n",
            " block_8_depthwise (DepthwiseCo  (None, 14, 14, 384)  3456       ['block_8_expand_relu[0][0]']    \n",
            " nv2D)                                                                                            \n",
            "                                                                                                  \n",
            " block_8_depthwise_BN (BatchNor  (None, 14, 14, 384)  1536       ['block_8_depthwise[0][0]']      \n",
            " malization)                                                                                      \n",
            "                                                                                                  \n",
            " block_8_depthwise_relu (ReLU)  (None, 14, 14, 384)  0           ['block_8_depthwise_BN[0][0]']   \n",
            "                                                                                                  \n",
            " block_8_project (Conv2D)       (None, 14, 14, 64)   24576       ['block_8_depthwise_relu[0][0]'] \n",
            "                                                                                                  \n",
            " block_8_project_BN (BatchNorma  (None, 14, 14, 64)  256         ['block_8_project[0][0]']        \n",
            " lization)                                                                                        \n",
            "                                                                                                  \n",
            " block_8_add (Add)              (None, 14, 14, 64)   0           ['block_7_add[0][0]',            \n",
            "                                                                  'block_8_project_BN[0][0]']     \n",
            "                                                                                                  \n",
            " block_9_expand (Conv2D)        (None, 14, 14, 384)  24576       ['block_8_add[0][0]']            \n",
            "                                                                                                  \n",
            " block_9_expand_BN (BatchNormal  (None, 14, 14, 384)  1536       ['block_9_expand[0][0]']         \n",
            " ization)                                                                                         \n",
            "                                                                                                  \n",
            " block_9_expand_relu (ReLU)     (None, 14, 14, 384)  0           ['block_9_expand_BN[0][0]']      \n",
            "                                                                                                  \n",
            " block_9_depthwise (DepthwiseCo  (None, 14, 14, 384)  3456       ['block_9_expand_relu[0][0]']    \n",
            " nv2D)                                                                                            \n",
            "                                                                                                  \n",
            " block_9_depthwise_BN (BatchNor  (None, 14, 14, 384)  1536       ['block_9_depthwise[0][0]']      \n",
            " malization)                                                                                      \n",
            "                                                                                                  \n",
            " block_9_depthwise_relu (ReLU)  (None, 14, 14, 384)  0           ['block_9_depthwise_BN[0][0]']   \n",
            "                                                                                                  \n",
            " block_9_project (Conv2D)       (None, 14, 14, 64)   24576       ['block_9_depthwise_relu[0][0]'] \n",
            "                                                                                                  \n",
            " block_9_project_BN (BatchNorma  (None, 14, 14, 64)  256         ['block_9_project[0][0]']        \n",
            " lization)                                                                                        \n",
            "                                                                                                  \n",
            " block_9_add (Add)              (None, 14, 14, 64)   0           ['block_8_add[0][0]',            \n",
            "                                                                  'block_9_project_BN[0][0]']     \n",
            "                                                                                                  \n",
            " block_10_expand (Conv2D)       (None, 14, 14, 384)  24576       ['block_9_add[0][0]']            \n",
            "                                                                                                  \n",
            " block_10_expand_BN (BatchNorma  (None, 14, 14, 384)  1536       ['block_10_expand[0][0]']        \n",
            " lization)                                                                                        \n",
            "                                                                                                  \n",
            " block_10_expand_relu (ReLU)    (None, 14, 14, 384)  0           ['block_10_expand_BN[0][0]']     \n",
            "                                                                                                  \n",
            " block_10_depthwise (DepthwiseC  (None, 14, 14, 384)  3456       ['block_10_expand_relu[0][0]']   \n",
            " onv2D)                                                                                           \n",
            "                                                                                                  \n",
            " block_10_depthwise_BN (BatchNo  (None, 14, 14, 384)  1536       ['block_10_depthwise[0][0]']     \n",
            " rmalization)                                                                                     \n",
            "                                                                                                  \n",
            " block_10_depthwise_relu (ReLU)  (None, 14, 14, 384)  0          ['block_10_depthwise_BN[0][0]']  \n",
            "                                                                                                  \n",
            " block_10_project (Conv2D)      (None, 14, 14, 96)   36864       ['block_10_depthwise_relu[0][0]']\n",
            "                                                                                                  \n",
            " block_10_project_BN (BatchNorm  (None, 14, 14, 96)  384         ['block_10_project[0][0]']       \n",
            " alization)                                                                                       \n",
            "                                                                                                  \n",
            " block_11_expand (Conv2D)       (None, 14, 14, 576)  55296       ['block_10_project_BN[0][0]']    \n",
            "                                                                                                  \n",
            " block_11_expand_BN (BatchNorma  (None, 14, 14, 576)  2304       ['block_11_expand[0][0]']        \n",
            " lization)                                                                                        \n",
            "                                                                                                  \n",
            " block_11_expand_relu (ReLU)    (None, 14, 14, 576)  0           ['block_11_expand_BN[0][0]']     \n",
            "                                                                                                  \n",
            " block_11_depthwise (DepthwiseC  (None, 14, 14, 576)  5184       ['block_11_expand_relu[0][0]']   \n",
            " onv2D)                                                                                           \n",
            "                                                                                                  \n",
            " block_11_depthwise_BN (BatchNo  (None, 14, 14, 576)  2304       ['block_11_depthwise[0][0]']     \n",
            " rmalization)                                                                                     \n",
            "                                                                                                  \n",
            " block_11_depthwise_relu (ReLU)  (None, 14, 14, 576)  0          ['block_11_depthwise_BN[0][0]']  \n",
            "                                                                                                  \n",
            " block_11_project (Conv2D)      (None, 14, 14, 96)   55296       ['block_11_depthwise_relu[0][0]']\n",
            "                                                                                                  \n",
            " block_11_project_BN (BatchNorm  (None, 14, 14, 96)  384         ['block_11_project[0][0]']       \n",
            " alization)                                                                                       \n",
            "                                                                                                  \n",
            " block_11_add (Add)             (None, 14, 14, 96)   0           ['block_10_project_BN[0][0]',    \n",
            "                                                                  'block_11_project_BN[0][0]']    \n",
            "                                                                                                  \n",
            " block_12_expand (Conv2D)       (None, 14, 14, 576)  55296       ['block_11_add[0][0]']           \n",
            "                                                                                                  \n",
            " block_12_expand_BN (BatchNorma  (None, 14, 14, 576)  2304       ['block_12_expand[0][0]']        \n",
            " lization)                                                                                        \n",
            "                                                                                                  \n",
            " block_12_expand_relu (ReLU)    (None, 14, 14, 576)  0           ['block_12_expand_BN[0][0]']     \n",
            "                                                                                                  \n",
            " block_12_depthwise (DepthwiseC  (None, 14, 14, 576)  5184       ['block_12_expand_relu[0][0]']   \n",
            " onv2D)                                                                                           \n",
            "                                                                                                  \n",
            " block_12_depthwise_BN (BatchNo  (None, 14, 14, 576)  2304       ['block_12_depthwise[0][0]']     \n",
            " rmalization)                                                                                     \n",
            "                                                                                                  \n",
            " block_12_depthwise_relu (ReLU)  (None, 14, 14, 576)  0          ['block_12_depthwise_BN[0][0]']  \n",
            "                                                                                                  \n",
            " block_12_project (Conv2D)      (None, 14, 14, 96)   55296       ['block_12_depthwise_relu[0][0]']\n",
            "                                                                                                  \n",
            " block_12_project_BN (BatchNorm  (None, 14, 14, 96)  384         ['block_12_project[0][0]']       \n",
            " alization)                                                                                       \n",
            "                                                                                                  \n",
            " block_12_add (Add)             (None, 14, 14, 96)   0           ['block_11_add[0][0]',           \n",
            "                                                                  'block_12_project_BN[0][0]']    \n",
            "                                                                                                  \n",
            " block_13_expand (Conv2D)       (None, 14, 14, 576)  55296       ['block_12_add[0][0]']           \n",
            "                                                                                                  \n",
            " block_13_expand_BN (BatchNorma  (None, 14, 14, 576)  2304       ['block_13_expand[0][0]']        \n",
            " lization)                                                                                        \n",
            "                                                                                                  \n",
            " block_13_expand_relu (ReLU)    (None, 14, 14, 576)  0           ['block_13_expand_BN[0][0]']     \n",
            "                                                                                                  \n",
            " block_13_pad (ZeroPadding2D)   (None, 15, 15, 576)  0           ['block_13_expand_relu[0][0]']   \n",
            "                                                                                                  \n",
            " block_13_depthwise (DepthwiseC  (None, 7, 7, 576)   5184        ['block_13_pad[0][0]']           \n",
            " onv2D)                                                                                           \n",
            "                                                                                                  \n",
            " block_13_depthwise_BN (BatchNo  (None, 7, 7, 576)   2304        ['block_13_depthwise[0][0]']     \n",
            " rmalization)                                                                                     \n",
            "                                                                                                  \n",
            " block_13_depthwise_relu (ReLU)  (None, 7, 7, 576)   0           ['block_13_depthwise_BN[0][0]']  \n",
            "                                                                                                  \n",
            " block_13_project (Conv2D)      (None, 7, 7, 160)    92160       ['block_13_depthwise_relu[0][0]']\n",
            "                                                                                                  \n",
            " block_13_project_BN (BatchNorm  (None, 7, 7, 160)   640         ['block_13_project[0][0]']       \n",
            " alization)                                                                                       \n",
            "                                                                                                  \n",
            " block_14_expand (Conv2D)       (None, 7, 7, 960)    153600      ['block_13_project_BN[0][0]']    \n",
            "                                                                                                  \n",
            " block_14_expand_BN (BatchNorma  (None, 7, 7, 960)   3840        ['block_14_expand[0][0]']        \n",
            " lization)                                                                                        \n",
            "                                                                                                  \n",
            " block_14_expand_relu (ReLU)    (None, 7, 7, 960)    0           ['block_14_expand_BN[0][0]']     \n",
            "                                                                                                  \n",
            " block_14_depthwise (DepthwiseC  (None, 7, 7, 960)   8640        ['block_14_expand_relu[0][0]']   \n",
            " onv2D)                                                                                           \n",
            "                                                                                                  \n",
            " block_14_depthwise_BN (BatchNo  (None, 7, 7, 960)   3840        ['block_14_depthwise[0][0]']     \n",
            " rmalization)                                                                                     \n",
            "                                                                                                  \n",
            " block_14_depthwise_relu (ReLU)  (None, 7, 7, 960)   0           ['block_14_depthwise_BN[0][0]']  \n",
            "                                                                                                  \n",
            " block_14_project (Conv2D)      (None, 7, 7, 160)    153600      ['block_14_depthwise_relu[0][0]']\n",
            "                                                                                                  \n",
            " block_14_project_BN (BatchNorm  (None, 7, 7, 160)   640         ['block_14_project[0][0]']       \n",
            " alization)                                                                                       \n",
            "                                                                                                  \n",
            " block_14_add (Add)             (None, 7, 7, 160)    0           ['block_13_project_BN[0][0]',    \n",
            "                                                                  'block_14_project_BN[0][0]']    \n",
            "                                                                                                  \n",
            " block_15_expand (Conv2D)       (None, 7, 7, 960)    153600      ['block_14_add[0][0]']           \n",
            "                                                                                                  \n",
            " block_15_expand_BN (BatchNorma  (None, 7, 7, 960)   3840        ['block_15_expand[0][0]']        \n",
            " lization)                                                                                        \n",
            "                                                                                                  \n",
            " block_15_expand_relu (ReLU)    (None, 7, 7, 960)    0           ['block_15_expand_BN[0][0]']     \n",
            "                                                                                                  \n",
            " block_15_depthwise (DepthwiseC  (None, 7, 7, 960)   8640        ['block_15_expand_relu[0][0]']   \n",
            " onv2D)                                                                                           \n",
            "                                                                                                  \n",
            " block_15_depthwise_BN (BatchNo  (None, 7, 7, 960)   3840        ['block_15_depthwise[0][0]']     \n",
            " rmalization)                                                                                     \n",
            "                                                                                                  \n",
            " block_15_depthwise_relu (ReLU)  (None, 7, 7, 960)   0           ['block_15_depthwise_BN[0][0]']  \n",
            "                                                                                                  \n",
            " block_15_project (Conv2D)      (None, 7, 7, 160)    153600      ['block_15_depthwise_relu[0][0]']\n",
            "                                                                                                  \n",
            " block_15_project_BN (BatchNorm  (None, 7, 7, 160)   640         ['block_15_project[0][0]']       \n",
            " alization)                                                                                       \n",
            "                                                                                                  \n",
            " block_15_add (Add)             (None, 7, 7, 160)    0           ['block_14_add[0][0]',           \n",
            "                                                                  'block_15_project_BN[0][0]']    \n",
            "                                                                                                  \n",
            " block_16_expand (Conv2D)       (None, 7, 7, 960)    153600      ['block_15_add[0][0]']           \n",
            "                                                                                                  \n",
            " block_16_expand_BN (BatchNorma  (None, 7, 7, 960)   3840        ['block_16_expand[0][0]']        \n",
            " lization)                                                                                        \n",
            "                                                                                                  \n",
            " block_16_expand_relu (ReLU)    (None, 7, 7, 960)    0           ['block_16_expand_BN[0][0]']     \n",
            "                                                                                                  \n",
            " block_16_depthwise (DepthwiseC  (None, 7, 7, 960)   8640        ['block_16_expand_relu[0][0]']   \n",
            " onv2D)                                                                                           \n",
            "                                                                                                  \n",
            " block_16_depthwise_BN (BatchNo  (None, 7, 7, 960)   3840        ['block_16_depthwise[0][0]']     \n",
            " rmalization)                                                                                     \n",
            "                                                                                                  \n",
            " block_16_depthwise_relu (ReLU)  (None, 7, 7, 960)   0           ['block_16_depthwise_BN[0][0]']  \n",
            "                                                                                                  \n",
            " block_16_project (Conv2D)      (None, 7, 7, 320)    307200      ['block_16_depthwise_relu[0][0]']\n",
            "                                                                                                  \n",
            " block_16_project_BN (BatchNorm  (None, 7, 7, 320)   1280        ['block_16_project[0][0]']       \n",
            " alization)                                                                                       \n",
            "                                                                                                  \n",
            " Conv_1 (Conv2D)                (None, 7, 7, 1280)   409600      ['block_16_project_BN[0][0]']    \n",
            "                                                                                                  \n",
            " Conv_1_bn (BatchNormalization)  (None, 7, 7, 1280)  5120        ['Conv_1[0][0]']                 \n",
            "                                                                                                  \n",
            " out_relu (ReLU)                (None, 7, 7, 1280)   0           ['Conv_1_bn[0][0]']              \n",
            "                                                                                                  \n",
            " flatten_10 (Flatten)           (None, 62720)        0           ['out_relu[0][0]']               \n",
            "                                                                                                  \n",
            " dense_11 (Dense)               (None, 50)           3136050     ['flatten_10[0][0]']             \n",
            "                                                                                                  \n",
            "==================================================================================================\n",
            "Total params: 5,394,034\n",
            "Trainable params: 5,359,922\n",
            "Non-trainable params: 34,112\n",
            "__________________________________________________________________________________________________\n"
          ]
        }
      ],
      "source": [
        "# view the structure of the model\n",
        "unfrozen_mob_model.summary()"
      ],
      "id": "c3bc713f"
    },
    {
      "cell_type": "code",
      "execution_count": 248,
      "metadata": {
        "id": "MRnsk4wZ1Zqm"
      },
      "outputs": [],
      "source": [
        "# Compile model\n",
        "unfrozen_mob_model.compile(\n",
        "    loss='categorical_crossentropy',\n",
        "    optimizer='adam',\n",
        "    metrics=['accuracy', 'top_k_categorical_accuracy']\n",
        ")"
      ],
      "id": "MRnsk4wZ1Zqm"
    },
    {
      "cell_type": "code",
      "execution_count": 249,
      "metadata": {
        "id": "WcQhs-iE1Zqn"
      },
      "outputs": [],
      "source": [
        "# Include checkpoint \n",
        "\n",
        "#checkpoint_path = \"../checkpoint/baseline_cnn//cp-{epoch:04d}.ckpt\"\n",
        "\n",
        "\n",
        "# Create a callback that saves the model's weights\n",
        "#cp_callback = tf.keras.callbacks.ModelCheckpoint(filepath=checkpoint_path,\n",
        "#                                                 save_weights_only=True,\n",
        "#                                                verbose=1)"
      ],
      "id": "WcQhs-iE1Zqn"
    },
    {
      "cell_type": "code",
      "execution_count": 250,
      "metadata": {
        "id": "cB_-PqAk1Zqn",
        "colab": {
          "base_uri": "https://localhost:8080/"
        },
        "outputId": "7aeda29a-5689-44f3-853a-b28e4cbe662e"
      },
      "outputs": [
        {
          "output_type": "stream",
          "name": "stdout",
          "text": [
            "Epoch 1/15\n",
            "50/50 [==============================] - 24s 382ms/step - loss: 4.8340 - accuracy: 0.2476 - top_k_categorical_accuracy: 0.4972 - val_loss: 78.7567 - val_accuracy: 0.0433 - val_top_k_categorical_accuracy: 0.1779\n",
            "Epoch 2/15\n",
            "50/50 [==============================] - 18s 353ms/step - loss: 4.1415 - accuracy: 0.4258 - top_k_categorical_accuracy: 0.7378 - val_loss: 85.8767 - val_accuracy: 0.0168 - val_top_k_categorical_accuracy: 0.1058\n",
            "Epoch 3/15\n",
            "50/50 [==============================] - 18s 352ms/step - loss: 3.5614 - accuracy: 0.4618 - top_k_categorical_accuracy: 0.7726 - val_loss: 86.0037 - val_accuracy: 0.0168 - val_top_k_categorical_accuracy: 0.1130\n",
            "Epoch 4/15\n",
            "50/50 [==============================] - 18s 351ms/step - loss: 2.4292 - accuracy: 0.5578 - top_k_categorical_accuracy: 0.8440 - val_loss: 76.8665 - val_accuracy: 0.0216 - val_top_k_categorical_accuracy: 0.1154\n",
            "Epoch 5/15\n",
            "50/50 [==============================] - 18s 357ms/step - loss: 1.5532 - accuracy: 0.6816 - top_k_categorical_accuracy: 0.9185 - val_loss: 66.9633 - val_accuracy: 0.0361 - val_top_k_categorical_accuracy: 0.1418\n",
            "Epoch 6/15\n",
            "50/50 [==============================] - 18s 354ms/step - loss: 0.8537 - accuracy: 0.7997 - top_k_categorical_accuracy: 0.9741 - val_loss: 68.0396 - val_accuracy: 0.0288 - val_top_k_categorical_accuracy: 0.1274\n",
            "Epoch 7/15\n",
            "50/50 [==============================] - 18s 355ms/step - loss: 0.7423 - accuracy: 0.8339 - top_k_categorical_accuracy: 0.9779 - val_loss: 56.3227 - val_accuracy: 0.0361 - val_top_k_categorical_accuracy: 0.1346\n",
            "Epoch 8/15\n",
            "50/50 [==============================] - 18s 354ms/step - loss: 0.4198 - accuracy: 0.8951 - top_k_categorical_accuracy: 0.9874 - val_loss: 71.1183 - val_accuracy: 0.0385 - val_top_k_categorical_accuracy: 0.1707\n",
            "Epoch 9/15\n",
            "50/50 [==============================] - 18s 355ms/step - loss: 0.6003 - accuracy: 0.8610 - top_k_categorical_accuracy: 0.9861 - val_loss: 59.9264 - val_accuracy: 0.0337 - val_top_k_categorical_accuracy: 0.1514\n",
            "Epoch 10/15\n",
            "50/50 [==============================] - 18s 357ms/step - loss: 0.3967 - accuracy: 0.9046 - top_k_categorical_accuracy: 0.9943 - val_loss: 70.3335 - val_accuracy: 0.0505 - val_top_k_categorical_accuracy: 0.1923\n",
            "Epoch 11/15\n",
            "50/50 [==============================] - 18s 359ms/step - loss: 0.3238 - accuracy: 0.9160 - top_k_categorical_accuracy: 0.9937 - val_loss: 64.8195 - val_accuracy: 0.0529 - val_top_k_categorical_accuracy: 0.1731\n",
            "Epoch 12/15\n",
            "50/50 [==============================] - 18s 353ms/step - loss: 0.2655 - accuracy: 0.9267 - top_k_categorical_accuracy: 0.9956 - val_loss: 66.3857 - val_accuracy: 0.0577 - val_top_k_categorical_accuracy: 0.2452\n",
            "Epoch 13/15\n",
            "50/50 [==============================] - 18s 357ms/step - loss: 0.2636 - accuracy: 0.9381 - top_k_categorical_accuracy: 0.9962 - val_loss: 62.2487 - val_accuracy: 0.0673 - val_top_k_categorical_accuracy: 0.2716\n",
            "Epoch 14/15\n",
            "50/50 [==============================] - 18s 356ms/step - loss: 0.2359 - accuracy: 0.9419 - top_k_categorical_accuracy: 0.9987 - val_loss: 55.1401 - val_accuracy: 0.0769 - val_top_k_categorical_accuracy: 0.2933\n",
            "Epoch 15/15\n",
            "50/50 [==============================] - 18s 355ms/step - loss: 0.2878 - accuracy: 0.9425 - top_k_categorical_accuracy: 0.9962 - val_loss: 67.0708 - val_accuracy: 0.0409 - val_top_k_categorical_accuracy: 0.2981\n"
          ]
        }
      ],
      "source": [
        "# fit the model\n",
        "unfrozen_mob_history = unfrozen_mob_model.fit(\n",
        "    train_generator,\n",
        "    steps_per_epoch=train_generator.n//train_generator.batch_size,\n",
        "    validation_data=val_generator,\n",
        "    validation_steps=val_generator.n//val_generator.batch_size,\n",
        "    epochs=15,\n",
        "    shuffle=True,\n",
        "    verbose=1\n",
        ")"
      ],
      "id": "cB_-PqAk1Zqn"
    },
    {
      "cell_type": "code",
      "execution_count": 251,
      "metadata": {
        "id": "XKxMMim-1Zqn"
      },
      "outputs": [],
      "source": [
        "# saving mob model\n",
        "#unfrozen_mob_model.save('unfrozen_mob')\n",
        "#files.download('unfrozen_mob')"
      ],
      "id": "XKxMMim-1Zqn"
    },
    {
      "cell_type": "code",
      "execution_count": 252,
      "metadata": {
        "id": "JmcRpEaL1Zqn",
        "colab": {
          "base_uri": "https://localhost:8080/",
          "height": 312
        },
        "outputId": "47df896a-4dfe-47d9-fb5e-5966e8269737"
      },
      "outputs": [
        {
          "output_type": "display_data",
          "data": {
            "text/plain": [
              "<Figure size 432x288 with 1 Axes>"
            ],
            "image/png": "[encoded data removed]"
          },
          "metadata": {
            "needs_background": "light"
          }
        },
        {
          "output_type": "display_data",
          "data": {
            "text/plain": [
              "<IPython.core.display.Javascript object>"
            ],
            "application/javascript": [
              "\n",
              "    async function download(id, filename, size) {\n",
              "      if (!google.colab.kernel.accessAllowed) {\n",
              "        return;\n",
              "      }\n",
              "      const div = document.createElement('div');\n",
              "      const label = document.createElement('label');\n",
              "      label.textContent = `Downloading \"${filename}\": `;\n",
              "      div.appendChild(label);\n",
              "      const progress = document.createElement('progress');\n",
              "      progress.max = size;\n",
              "      div.appendChild(progress);\n",
              "      document.body.appendChild(div);\n",
              "\n",
              "      const buffers = [];\n",
              "      let downloaded = 0;\n",
              "\n",
              "      const channel = await google.colab.kernel.comms.open(id);\n",
              "      // Send a message to notify the kernel that we're ready.\n",
              "      channel.send({})\n",
              "\n",
              "      for await (const message of channel.messages) {\n",
              "        // Send a message to notify the kernel that we're ready.\n",
              "        channel.send({})\n",
              "        if (message.buffers) {\n",
              "          for (const buffer of message.buffers) {\n",
              "            buffers.push(buffer);\n",
              "            downloaded += buffer.byteLength;\n",
              "            progress.value = downloaded;\n",
              "          }\n",
              "        }\n",
              "      }\n",
              "      const blob = new Blob(buffers, {type: 'application/binary'});\n",
              "      const a = document.createElement('a');\n",
              "      a.href = window.URL.createObjectURL(blob);\n",
              "      a.download = filename;\n",
              "      div.appendChild(a);\n",
              "      a.click();\n",
              "      div.remove();\n",
              "    }\n",
              "  "
            ]
          },
          "metadata": {}
        },
        {
          "output_type": "display_data",
          "data": {
            "text/plain": [
              "<IPython.core.display.Javascript object>"
            ],
            "application/javascript": [
              "download(\"download_00334e7c-4de2-4f0e-8864-357030486d21\", \"unfrozen_mob-acc-rps-1.png\", 17098)"
            ]
          },
          "metadata": {}
        }
      ],
      "source": [
        "# accuracies\n",
        "plt.plot(unfrozen_mob_history.history['accuracy'], label='train acc')\n",
        "plt.plot(unfrozen_mob_history.history['val_accuracy'], label='val acc')\n",
        "plt.legend()\n",
        "plt.title('Unfrozen MobileNetV2 Top-1 Accuracy')\n",
        "plt.xlabel('Number of Epochs')\n",
        "plt.ylabel('Accuracy')\n",
        "plt.savefig('unfrozen_mob-acc-rps-1.png')\n",
        "plt.show()\n",
        "files.download('unfrozen_mob-acc-rps-1.png')"
      ],
      "id": "JmcRpEaL1Zqn"
    },
    {
      "cell_type": "code",
      "execution_count": 253,
      "metadata": {
        "id": "E7_Xaesg1Zqo",
        "colab": {
          "base_uri": "https://localhost:8080/",
          "height": 312
        },
        "outputId": "9fe5914b-388e-4c28-cb81-4166b72a3acd"
      },
      "outputs": [
        {
          "output_type": "display_data",
          "data": {
            "text/plain": [
              "<Figure size 432x288 with 1 Axes>"
            ],
            "image/png": "[encoded data removed]"
          },
          "metadata": {
            "needs_background": "light"
          }
        },
        {
          "output_type": "display_data",
          "data": {
            "text/plain": [
              "<IPython.core.display.Javascript object>"
            ],
            "application/javascript": [
              "\n",
              "    async function download(id, filename, size) {\n",
              "      if (!google.colab.kernel.accessAllowed) {\n",
              "        return;\n",
              "      }\n",
              "      const div = document.createElement('div');\n",
              "      const label = document.createElement('label');\n",
              "      label.textContent = `Downloading \"${filename}\": `;\n",
              "      div.appendChild(label);\n",
              "      const progress = document.createElement('progress');\n",
              "      progress.max = size;\n",
              "      div.appendChild(progress);\n",
              "      document.body.appendChild(div);\n",
              "\n",
              "      const buffers = [];\n",
              "      let downloaded = 0;\n",
              "\n",
              "      const channel = await google.colab.kernel.comms.open(id);\n",
              "      // Send a message to notify the kernel that we're ready.\n",
              "      channel.send({})\n",
              "\n",
              "      for await (const message of channel.messages) {\n",
              "        // Send a message to notify the kernel that we're ready.\n",
              "        channel.send({})\n",
              "        if (message.buffers) {\n",
              "          for (const buffer of message.buffers) {\n",
              "            buffers.push(buffer);\n",
              "            downloaded += buffer.byteLength;\n",
              "            progress.value = downloaded;\n",
              "          }\n",
              "        }\n",
              "      }\n",
              "      const blob = new Blob(buffers, {type: 'application/binary'});\n",
              "      const a = document.createElement('a');\n",
              "      a.href = window.URL.createObjectURL(blob);\n",
              "      a.download = filename;\n",
              "      div.appendChild(a);\n",
              "      a.click();\n",
              "      div.remove();\n",
              "    }\n",
              "  "
            ]
          },
          "metadata": {}
        },
        {
          "output_type": "display_data",
          "data": {
            "text/plain": [
              "<IPython.core.display.Javascript object>"
            ],
            "application/javascript": [
              "download(\"download_307d3cc9-738a-470c-a490-868ce2e5186f\", \"unfrozen_mob-top-5-rps-1.png\", 18930)"
            ]
          },
          "metadata": {}
        }
      ],
      "source": [
        "# loss\n",
        "plt.plot(unfrozen_mob_history.history['top_k_categorical_accuracy'], label='train top-5 accuracy')\n",
        "plt.plot(unfrozen_mob_history.history['val_top_k_categorical_accuracy'], label='val top-5 accuracy')\n",
        "plt.legend()\n",
        "plt.title('Unfrozen MobileNetV2 Top-5 Accuracy')\n",
        "plt.xlabel('Number of Epochs')\n",
        "plt.ylabel('Accuracy')\n",
        "plt.savefig('unfrozen_mob-top-5-rps-1.png')\n",
        "plt.show()\n",
        "files.download('unfrozen_mob-top-5-rps-1.png')"
      ],
      "id": "E7_Xaesg1Zqo"
    },
    {
      "cell_type": "code",
      "execution_count": 254,
      "metadata": {
        "id": "zKILFjlX1Zqo",
        "colab": {
          "base_uri": "https://localhost:8080/"
        },
        "outputId": "e2c1fee2-3c22-4a19-a9b1-702c574b8f82"
      },
      "outputs": [
        {
          "output_type": "stream",
          "name": "stdout",
          "text": [
            "538/538 [==============================] - 7s 14ms/step - loss: 68.1615 - accuracy: 0.0335 - top_k_categorical_accuracy: 0.2770\n"
          ]
        },
        {
          "output_type": "execute_result",
          "data": {
            "text/plain": [
              "[68.16146087646484, 0.03345724940299988, 0.2769516706466675]"
            ]
          },
          "metadata": {},
          "execution_count": 254
        }
      ],
      "source": [
        "# evaluate\n",
        "unfrozen_mob_model.evaluate(test_generator)"
      ],
      "id": "zKILFjlX1Zqo"
    },
    {
      "cell_type": "code",
      "execution_count": 255,
      "metadata": {
        "id": "UGetgryR1Zqo",
        "colab": {
          "base_uri": "https://localhost:8080/"
        },
        "outputId": "5a626c16-3957-457b-b87d-d2fee599709f"
      },
      "outputs": [
        {
          "output_type": "stream",
          "name": "stdout",
          "text": [
            "538/538 [==============================] - 7s 12ms/step\n"
          ]
        }
      ],
      "source": [
        "# predict\n",
        "test_generator.reset()\n",
        "pred=unfrozen_mob_model.predict(test_generator,\n",
        "steps=test_generator.n//test_generator.batch_size,\n",
        "verbose=1)"
      ],
      "id": "UGetgryR1Zqo"
    },
    {
      "cell_type": "code",
      "execution_count": 256,
      "metadata": {
        "id": "AA1qqv_q1Zqo"
      },
      "outputs": [],
      "source": [
        "y_pred = np.argmax(pred,axis=1)"
      ],
      "id": "AA1qqv_q1Zqo"
    },
    {
      "cell_type": "code",
      "execution_count": 257,
      "metadata": {
        "id": "tD8WCBUo1Zqo",
        "colab": {
          "base_uri": "https://localhost:8080/"
        },
        "outputId": "07e04ddf-b0f8-4f32-a5dd-21e61a177cc0"
      },
      "outputs": [
        {
          "output_type": "stream",
          "name": "stdout",
          "text": [
            "              precision    recall  f1-score   support\n",
            "\n",
            "           0       0.00      0.00      0.00         0\n",
            "           1       0.00      0.00      0.00         0\n",
            "           2       0.00      0.00      0.00         3\n",
            "           3       0.00      0.00      0.00         0\n",
            "           4       0.12      0.22      0.15         9\n",
            "           5       0.00      0.00      0.00         3\n",
            "           6       0.00      0.00      0.00         0\n",
            "           7       0.00      0.00      0.00         0\n",
            "           8       0.07      1.00      0.12         1\n",
            "           9       0.00      0.00      0.00         0\n",
            "          10       0.08      0.20      0.12         5\n",
            "          11       0.00      0.00      0.00         1\n",
            "          12       0.00      0.00      0.00         0\n",
            "          13       0.00      0.00      0.00         0\n",
            "          14       0.00      0.00      0.00         0\n",
            "          15       0.00      0.00      0.00         0\n",
            "          16       1.00      0.02      0.04       497\n",
            "          17       0.15      0.22      0.18         9\n",
            "          18       0.00      0.00      0.00         0\n",
            "          19       0.00      0.00      0.00         0\n",
            "          20       0.00      0.00      0.00         0\n",
            "          21       0.00      0.00      0.00         0\n",
            "          22       0.00      0.00      0.00         0\n",
            "          23       0.00      0.00      0.00         0\n",
            "          24       0.00      0.00      0.00         2\n",
            "          25       0.00      0.00      0.00         0\n",
            "          26       0.00      0.00      0.00         0\n",
            "          27       0.00      0.00      0.00         0\n",
            "          28       0.00      0.00      0.00         0\n",
            "          29       0.00      0.00      0.00         0\n",
            "          30       0.25      0.50      0.33         4\n",
            "          31       0.00      0.00      0.00         0\n",
            "          32       0.00      0.00      0.00         0\n",
            "          33       0.00      0.00      0.00         0\n",
            "          34       0.00      0.00      0.00         0\n",
            "          35       0.00      0.00      0.00         0\n",
            "          36       0.00      0.00      0.00         1\n",
            "          37       0.00      0.00      0.00         0\n",
            "          38       0.00      0.00      0.00         0\n",
            "          39       0.00      0.00      0.00         0\n",
            "          40       0.00      0.00      0.00         0\n",
            "          41       0.00      0.00      0.00         0\n",
            "          42       0.00      0.00      0.00         0\n",
            "          43       0.00      0.00      0.00         0\n",
            "          44       0.00      0.00      0.00         1\n",
            "          45       0.00      0.00      0.00         2\n",
            "          46       0.00      0.00      0.00         0\n",
            "          47       0.00      0.00      0.00         0\n",
            "          48       0.00      0.00      0.00         0\n",
            "          49       0.00      0.00      0.00         0\n",
            "\n",
            "    accuracy                           0.03       538\n",
            "   macro avg       0.03      0.04      0.02       538\n",
            "weighted avg       0.93      0.03      0.05       538\n",
            "\n"
          ]
        },
        {
          "output_type": "stream",
          "name": "stderr",
          "text": [
            "/usr/local/lib/python3.7/dist-packages/sklearn/metrics/_classification.py:1318: UndefinedMetricWarning: Recall and F-score are ill-defined and being set to 0.0 in labels with no true samples. Use `zero_division` parameter to control this behavior.\n",
            "  _warn_prf(average, modifier, msg_start, len(result))\n",
            "/usr/local/lib/python3.7/dist-packages/sklearn/metrics/_classification.py:1318: UndefinedMetricWarning: Recall and F-score are ill-defined and being set to 0.0 in labels with no true samples. Use `zero_division` parameter to control this behavior.\n",
            "  _warn_prf(average, modifier, msg_start, len(result))\n",
            "/usr/local/lib/python3.7/dist-packages/sklearn/metrics/_classification.py:1318: UndefinedMetricWarning: Recall and F-score are ill-defined and being set to 0.0 in labels with no true samples. Use `zero_division` parameter to control this behavior.\n",
            "  _warn_prf(average, modifier, msg_start, len(result))\n"
          ]
        }
      ],
      "source": [
        "#get classification report\n",
        "print(classification_report(y_pred, labels))\n"
      ],
      "id": "tD8WCBUo1Zqo"
    },
    {
      "cell_type": "code",
      "execution_count": 258,
      "metadata": {
        "id": "xr2unWkx1Zqo"
      },
      "outputs": [],
      "source": [
        "df = create_prediction_df(y_pred, labels)"
      ],
      "id": "xr2unWkx1Zqo"
    },
    {
      "cell_type": "code",
      "execution_count": 259,
      "metadata": {
        "id": "yc2lXlVW1Zqp",
        "colab": {
          "base_uri": "https://localhost:8080/",
          "height": 658
        },
        "outputId": "c2ff0167-e57d-4899-8601-5e08ca4a5c79"
      },
      "outputs": [
        {
          "output_type": "execute_result",
          "data": {
            "text/plain": [
              "                             actual_y                              pred  \\\n",
              "43        allamanda_cathartica_flower       allamanda_cathartica_flower   \n",
              "45        allamanda_cathartica_flower       allamanda_cathartica_flower   \n",
              "105   arachnothryx_leucophylla_flower   arachnothryx_leucophylla_flower   \n",
              "133                   arundina_flower                   arundina_flower   \n",
              "189    caesalpinia_pulcherrima_flower    caesalpinia_pulcherrima_flower   \n",
              "190    caesalpinia_pulcherrima_flower    caesalpinia_pulcherrima_flower   \n",
              "191    caesalpinia_pulcherrima_flower    caesalpinia_pulcherrima_flower   \n",
              "192    caesalpinia_pulcherrima_flower    caesalpinia_pulcherrima_flower   \n",
              "193    caesalpinia_pulcherrima_flower    caesalpinia_pulcherrima_flower   \n",
              "194    caesalpinia_pulcherrima_flower    caesalpinia_pulcherrima_flower   \n",
              "195    caesalpinia_pulcherrima_flower    caesalpinia_pulcherrima_flower   \n",
              "196    caesalpinia_pulcherrima_flower    caesalpinia_pulcherrima_flower   \n",
              "197    caesalpinia_pulcherrima_flower    caesalpinia_pulcherrima_flower   \n",
              "198    caesalpinia_pulcherrima_flower    caesalpinia_pulcherrima_flower   \n",
              "204  calliandra_haematocephala_flower  calliandra_haematocephala_flower   \n",
              "206  calliandra_haematocephala_flower  calliandra_haematocephala_flower   \n",
              "325          cosmos_bipinnatus_flower          cosmos_bipinnatus_flower   \n",
              "326          cosmos_bipinnatus_flower          cosmos_bipinnatus_flower   \n",
              "\n",
              "                                               names  \n",
              "43        allamanda_cathartica_flower/1c0e8d8dd6.jpg  \n",
              "45        allamanda_cathartica_flower/2bd9108c5a.jpg  \n",
              "105   arachnothryx_leucophylla_flower/976d033ea5.jpg  \n",
              "133                   arundina_flower/c96473a6eb.jpg  \n",
              "189    caesalpinia_pulcherrima_flower/01724666ee.jpg  \n",
              "190    caesalpinia_pulcherrima_flower/2a4621f4a5.jpg  \n",
              "191    caesalpinia_pulcherrima_flower/31a88090c0.jpg  \n",
              "192    caesalpinia_pulcherrima_flower/38400fb9fe.jpg  \n",
              "193    caesalpinia_pulcherrima_flower/80396fd7b6.jpg  \n",
              "194    caesalpinia_pulcherrima_flower/8865bb6dd4.jpg  \n",
              "195    caesalpinia_pulcherrima_flower/9478329c2f.jpg  \n",
              "196    caesalpinia_pulcherrima_flower/b191fcac73.jpg  \n",
              "197    caesalpinia_pulcherrima_flower/b63f5ec9dc.jpg  \n",
              "198    caesalpinia_pulcherrima_flower/b8b2b634c6.jpg  \n",
              "204  calliandra_haematocephala_flower/80cf878b73.jpg  \n",
              "206  calliandra_haematocephala_flower/ac8e1e3f19.jpg  \n",
              "325          cosmos_bipinnatus_flower/856d69d0c9.jpg  \n",
              "326          cosmos_bipinnatus_flower/a7389bc766.jpg  "
            ],
            "text/html": [
              "\n",
              "  <div id=\"df-35ecdd27-0c5f-4dae-a807-9ae997e7ef23\">\n",
              "    <div class=\"colab-df-container\">\n",
              "      <div>\n",
              "<style scoped>\n",
              "    .dataframe tbody tr th:only-of-type {\n",
              "        vertical-align: middle;\n",
              "    }\n",
              "\n",
              "    .dataframe tbody tr th {\n",
              "        vertical-align: top;\n",
              "    }\n",
              "\n",
              "    .dataframe thead th {\n",
              "        text-align: right;\n",
              "    }\n",
              "</style>\n",
              "<table border=\"1\" class=\"dataframe\">\n",
              "  <thead>\n",
              "    <tr style=\"text-align: right;\">\n",
              "      <th></th>\n",
              "      <th>actual_y</th>\n",
              "      <th>pred</th>\n",
              "      <th>names</th>\n",
              "    </tr>\n",
              "  </thead>\n",
              "  <tbody>\n",
              "    <tr>\n",
              "      <th>43</th>\n",
              "      <td>allamanda_cathartica_flower</td>\n",
              "      <td>allamanda_cathartica_flower</td>\n",
              "      <td>allamanda_cathartica_flower/1c0e8d8dd6.jpg</td>\n",
              "    </tr>\n",
              "    <tr>\n",
              "      <th>45</th>\n",
              "      <td>allamanda_cathartica_flower</td>\n",
              "      <td>allamanda_cathartica_flower</td>\n",
              "      <td>allamanda_cathartica_flower/2bd9108c5a.jpg</td>\n",
              "    </tr>\n",
              "    <tr>\n",
              "      <th>105</th>\n",
              "      <td>arachnothryx_leucophylla_flower</td>\n",
              "      <td>arachnothryx_leucophylla_flower</td>\n",
              "      <td>arachnothryx_leucophylla_flower/976d033ea5.jpg</td>\n",
              "    </tr>\n",
              "    <tr>\n",
              "      <th>133</th>\n",
              "      <td>arundina_flower</td>\n",
              "      <td>arundina_flower</td>\n",
              "      <td>arundina_flower/c96473a6eb.jpg</td>\n",
              "    </tr>\n",
              "    <tr>\n",
              "      <th>189</th>\n",
              "      <td>caesalpinia_pulcherrima_flower</td>\n",
              "      <td>caesalpinia_pulcherrima_flower</td>\n",
              "      <td>caesalpinia_pulcherrima_flower/01724666ee.jpg</td>\n",
              "    </tr>\n",
              "    <tr>\n",
              "      <th>190</th>\n",
              "      <td>caesalpinia_pulcherrima_flower</td>\n",
              "      <td>caesalpinia_pulcherrima_flower</td>\n",
              "      <td>caesalpinia_pulcherrima_flower/2a4621f4a5.jpg</td>\n",
              "    </tr>\n",
              "    <tr>\n",
              "      <th>191</th>\n",
              "      <td>caesalpinia_pulcherrima_flower</td>\n",
              "      <td>caesalpinia_pulcherrima_flower</td>\n",
              "      <td>caesalpinia_pulcherrima_flower/31a88090c0.jpg</td>\n",
              "    </tr>\n",
              "    <tr>\n",
              "      <th>192</th>\n",
              "      <td>caesalpinia_pulcherrima_flower</td>\n",
              "      <td>caesalpinia_pulcherrima_flower</td>\n",
              "      <td>caesalpinia_pulcherrima_flower/38400fb9fe.jpg</td>\n",
              "    </tr>\n",
              "    <tr>\n",
              "      <th>193</th>\n",
              "      <td>caesalpinia_pulcherrima_flower</td>\n",
              "      <td>caesalpinia_pulcherrima_flower</td>\n",
              "      <td>caesalpinia_pulcherrima_flower/80396fd7b6.jpg</td>\n",
              "    </tr>\n",
              "    <tr>\n",
              "      <th>194</th>\n",
              "      <td>caesalpinia_pulcherrima_flower</td>\n",
              "      <td>caesalpinia_pulcherrima_flower</td>\n",
              "      <td>caesalpinia_pulcherrima_flower/8865bb6dd4.jpg</td>\n",
              "    </tr>\n",
              "    <tr>\n",
              "      <th>195</th>\n",
              "      <td>caesalpinia_pulcherrima_flower</td>\n",
              "      <td>caesalpinia_pulcherrima_flower</td>\n",
              "      <td>caesalpinia_pulcherrima_flower/9478329c2f.jpg</td>\n",
              "    </tr>\n",
              "    <tr>\n",
              "      <th>196</th>\n",
              "      <td>caesalpinia_pulcherrima_flower</td>\n",
              "      <td>caesalpinia_pulcherrima_flower</td>\n",
              "      <td>caesalpinia_pulcherrima_flower/b191fcac73.jpg</td>\n",
              "    </tr>\n",
              "    <tr>\n",
              "      <th>197</th>\n",
              "      <td>caesalpinia_pulcherrima_flower</td>\n",
              "      <td>caesalpinia_pulcherrima_flower</td>\n",
              "      <td>caesalpinia_pulcherrima_flower/b63f5ec9dc.jpg</td>\n",
              "    </tr>\n",
              "    <tr>\n",
              "      <th>198</th>\n",
              "      <td>caesalpinia_pulcherrima_flower</td>\n",
              "      <td>caesalpinia_pulcherrima_flower</td>\n",
              "      <td>caesalpinia_pulcherrima_flower/b8b2b634c6.jpg</td>\n",
              "    </tr>\n",
              "    <tr>\n",
              "      <th>204</th>\n",
              "      <td>calliandra_haematocephala_flower</td>\n",
              "      <td>calliandra_haematocephala_flower</td>\n",
              "      <td>calliandra_haematocephala_flower/80cf878b73.jpg</td>\n",
              "    </tr>\n",
              "    <tr>\n",
              "      <th>206</th>\n",
              "      <td>calliandra_haematocephala_flower</td>\n",
              "      <td>calliandra_haematocephala_flower</td>\n",
              "      <td>calliandra_haematocephala_flower/ac8e1e3f19.jpg</td>\n",
              "    </tr>\n",
              "    <tr>\n",
              "      <th>325</th>\n",
              "      <td>cosmos_bipinnatus_flower</td>\n",
              "      <td>cosmos_bipinnatus_flower</td>\n",
              "      <td>cosmos_bipinnatus_flower/856d69d0c9.jpg</td>\n",
              "    </tr>\n",
              "    <tr>\n",
              "      <th>326</th>\n",
              "      <td>cosmos_bipinnatus_flower</td>\n",
              "      <td>cosmos_bipinnatus_flower</td>\n",
              "      <td>cosmos_bipinnatus_flower/a7389bc766.jpg</td>\n",
              "    </tr>\n",
              "  </tbody>\n",
              "</table>\n",
              "</div>\n",
              "      <button class=\"colab-df-convert\" onclick=\"convertToInteractive('df-35ecdd27-0c5f-4dae-a807-9ae997e7ef23')\"\n",
              "              title=\"Convert this dataframe to an interactive table.\"\n",
              "              style=\"display:none;\">\n",
              "        \n",
              "  <svg xmlns=\"http://www.w3.org/2000/svg\" height=\"24px\"viewBox=\"0 0 24 24\"\n",
              "       width=\"24px\">\n",
              "    <path d=\"M0 0h24v24H0V0z\" fill=\"none\"/>\n",
              "    <path d=\"M18.56 5.44l.94 2.06.94-2.06 2.06-.94-2.06-.94-.94-2.06-.94 2.06-2.06.94zm-11 1L8.5 8.5l.94-2.06 2.06-.94-2.06-.94L8.5 2.5l-.94 2.06-2.06.94zm10 10l.94 2.06.94-2.06 2.06-.94-2.06-.94-.94-2.06-.94 2.06-2.06.94z\"/><path d=\"M17.41 7.96l-1.37-1.37c-.4-.4-.92-.59-1.43-.59-.52 0-1.04.2-1.43.59L10.3 9.45l-7.72 7.72c-.78.78-.78 2.05 0 2.83L4 21.41c.39.39.9.59 1.41.59.51 0 1.02-.2 1.41-.59l7.78-7.78 2.81-2.81c.8-.78.8-2.07 0-2.86zM5.41 20L4 18.59l7.72-7.72 1.47 1.35L5.41 20z\"/>\n",
              "  </svg>\n",
              "      </button>\n",
              "      \n",
              "  <style>\n",
              "    .colab-df-container {\n",
              "      display:flex;\n",
              "      flex-wrap:wrap;\n",
              "      gap: 12px;\n",
              "    }\n",
              "\n",
              "    .colab-df-convert {\n",
              "      background-color: #E8F0FE;\n",
              "      border: none;\n",
              "      border-radius: 50%;\n",
              "      cursor: pointer;\n",
              "      display: none;\n",
              "      fill: #1967D2;\n",
              "      height: 32px;\n",
              "      padding: 0 0 0 0;\n",
              "      width: 32px;\n",
              "    }\n",
              "\n",
              "    .colab-df-convert:hover {\n",
              "      background-color: #E2EBFA;\n",
              "      box-shadow: 0px 1px 2px rgba(60, 64, 67, 0.3), 0px 1px 3px 1px rgba(60, 64, 67, 0.15);\n",
              "      fill: #174EA6;\n",
              "    }\n",
              "\n",
              "    [theme=dark] .colab-df-convert {\n",
              "      background-color: #3B4455;\n",
              "      fill: #D2E3FC;\n",
              "    }\n",
              "\n",
              "    [theme=dark] .colab-df-convert:hover {\n",
              "      background-color: #434B5C;\n",
              "      box-shadow: 0px 1px 3px 1px rgba(0, 0, 0, 0.15);\n",
              "      filter: drop-shadow(0px 1px 2px rgba(0, 0, 0, 0.3));\n",
              "      fill: #FFFFFF;\n",
              "    }\n",
              "  </style>\n",
              "\n",
              "      <script>\n",
              "        const buttonEl =\n",
              "          document.querySelector('#df-35ecdd27-0c5f-4dae-a807-9ae997e7ef23 button.colab-df-convert');\n",
              "        buttonEl.style.display =\n",
              "          google.colab.kernel.accessAllowed ? 'block' : 'none';\n",
              "\n",
              "        async function convertToInteractive(key) {\n",
              "          const element = document.querySelector('#df-35ecdd27-0c5f-4dae-a807-9ae997e7ef23');\n",
              "          const dataTable =\n",
              "            await google.colab.kernel.invokeFunction('convertToInteractive',\n",
              "                                                     [key], {});\n",
              "          if (!dataTable) return;\n",
              "\n",
              "          const docLinkHtml = 'Like what you see? Visit the ' +\n",
              "            '<a target=\"_blank\" href=https://colab.research.google.com/notebooks/data_table.ipynb>data table notebook</a>'\n",
              "            + ' to learn more about interactive tables.';\n",
              "          element.innerHTML = '';\n",
              "          dataTable['output_type'] = 'display_data';\n",
              "          await google.colab.output.renderOutput(dataTable, element);\n",
              "          const docLink = document.createElement('div');\n",
              "          docLink.innerHTML = docLinkHtml;\n",
              "          element.appendChild(docLink);\n",
              "        }\n",
              "      </script>\n",
              "    </div>\n",
              "  </div>\n",
              "  "
            ]
          },
          "metadata": {},
          "execution_count": 259
        }
      ],
      "source": [
        "df.loc[df['actual_y']==df['pred']]"
      ],
      "id": "yc2lXlVW1Zqp"
    },
    {
      "cell_type": "code",
      "execution_count": 260,
      "metadata": {
        "id": "Y5zggxYS1Zqp",
        "colab": {
          "base_uri": "https://localhost:8080/"
        },
        "outputId": "df12adfe-84d9-4780-8658-2dc6fb116ec6"
      },
      "outputs": [
        {
          "output_type": "stream",
          "name": "stdout",
          "text": [
            "The unfrozen MobileNetV2 model correctly predicted 18 images from 6 classes out of 538 images.\n"
          ]
        }
      ],
      "source": [
        "print(f\"The unfrozen MobileNetV2 model correctly predicted {df.loc[df['actual_y']==df['pred']].shape[0]} images from {df.loc[df['actual_y']==df['pred']]['actual_y'].value_counts().count()} classes out of {len(test_generator.labels)} images.\")"
      ],
      "id": "Y5zggxYS1Zqp"
    },
    {
      "cell_type": "code",
      "execution_count": 261,
      "metadata": {
        "id": "fvz8BDmm1Zqp",
        "colab": {
          "base_uri": "https://localhost:8080/"
        },
        "outputId": "67c7f2e1-9e13-49a4-b8ef-59f32a0d4300"
      },
      "outputs": [
        {
          "output_type": "execute_result",
          "data": {
            "text/plain": [
              "43          allamanda_cathartica_flower/1c0e8d8dd6.jpg\n",
              "45          allamanda_cathartica_flower/2bd9108c5a.jpg\n",
              "105     arachnothryx_leucophylla_flower/976d033ea5.jpg\n",
              "133                     arundina_flower/c96473a6eb.jpg\n",
              "189      caesalpinia_pulcherrima_flower/01724666ee.jpg\n",
              "190      caesalpinia_pulcherrima_flower/2a4621f4a5.jpg\n",
              "191      caesalpinia_pulcherrima_flower/31a88090c0.jpg\n",
              "192      caesalpinia_pulcherrima_flower/38400fb9fe.jpg\n",
              "193      caesalpinia_pulcherrima_flower/80396fd7b6.jpg\n",
              "194      caesalpinia_pulcherrima_flower/8865bb6dd4.jpg\n",
              "195      caesalpinia_pulcherrima_flower/9478329c2f.jpg\n",
              "196      caesalpinia_pulcherrima_flower/b191fcac73.jpg\n",
              "197      caesalpinia_pulcherrima_flower/b63f5ec9dc.jpg\n",
              "198      caesalpinia_pulcherrima_flower/b8b2b634c6.jpg\n",
              "204    calliandra_haematocephala_flower/80cf878b73.jpg\n",
              "206    calliandra_haematocephala_flower/ac8e1e3f19.jpg\n",
              "325            cosmos_bipinnatus_flower/856d69d0c9.jpg\n",
              "326            cosmos_bipinnatus_flower/a7389bc766.jpg\n",
              "Name: names, dtype: object"
            ]
          },
          "metadata": {},
          "execution_count": 261
        }
      ],
      "source": [
        "df.loc[df['actual_y']==df['pred']]['names']"
      ],
      "id": "fvz8BDmm1Zqp"
    },
    {
      "cell_type": "code",
      "execution_count": 262,
      "metadata": {
        "id": "f74P6K-r1Zqp"
      },
      "outputs": [],
      "source": [
        "#Image.open(test_path+'/'+list(df.loc[df['actual_y']==df['pred']]['names'])[0])"
      ],
      "id": "f74P6K-r1Zqp"
    },
    {
      "cell_type": "markdown",
      "metadata": {
        "id": "76f15767"
      },
      "source": [
        "# MobileNetV2 (Unfrozen, Tuned)"
      ],
      "id": "76f15767"
    },
    {
      "cell_type": "code",
      "execution_count": 263,
      "metadata": {
        "id": "37c03337"
      },
      "outputs": [],
      "source": [
        "from tensorflow.keras.applications.mobilenet_v2 import  MobileNetV2\n",
        "\n",
        "def create_mobilenet_unfreezeAll_finetune():\n",
        "    image_size = [224,224]\n",
        "    #instantiate transfer learning wihtout including top layer\n",
        "    mobilenetv2 = MobileNetV2(input_shape= image_size + [3], weights = 'imagenet', include_top = False)\n",
        "\n",
        "    # UNFREEZE all layers first\n",
        "    mobilenetv2.trainable = True \n",
        "\n",
        "    # initial layers \n",
        "    x = tf.keras.layers.GlobalAveragePooling2D()(mobilenetv2.output)\n",
        "    x = tf.keras.layers.Reshape((1, 1, 1280))(x)\n",
        "    x = tf.keras.layers.Dropout(0.3, name='Dropout')(x)\n",
        "    x = tf.keras.layers.Conv2D(len(class_list), (1, 1), padding='same')(x)\n",
        "    x = tf.keras.layers.Activation('softmax', name='final_activation')(x)\n",
        "    prediction = tf.keras.layers.Reshape((len(class_list),), name='output')(x)\n",
        "   \n",
        "    # create a model object \n",
        "    model_mobilenet = Model(inputs = mobilenetv2.input, outputs = prediction)\n",
        "    \n",
        "    # Compile model\n",
        "    base_learning_rate = 0.001\n",
        "\n",
        "    model_mobilenet.compile(\n",
        "        optimizer = tf.keras.optimizers.RMSprop(learning_rate=base_learning_rate/100),\n",
        "        loss= 'categorical_crossentropy',\n",
        "        metrics=['accuracy', 'top_k_categorical_accuracy']\n",
        "        )\n",
        "                           \n",
        "    \n",
        "    return model_mobilenet"
      ],
      "id": "37c03337"
    },
    {
      "cell_type": "code",
      "execution_count": 264,
      "metadata": {
        "id": "Ps7eAXT23qzG"
      },
      "outputs": [],
      "source": [
        "tuned_unfrozen_mob = create_mobilenet_unfreezeAll_finetune()"
      ],
      "id": "Ps7eAXT23qzG"
    },
    {
      "cell_type": "code",
      "execution_count": 265,
      "metadata": {
        "id": "xeMjIOHl2EQt"
      },
      "outputs": [],
      "source": [
        "# Include checkpoint \n",
        "\n",
        "#checkpoint_path = \"../checkpoint/baseline_cnn//cp-{epoch:04d}.ckpt\"\n",
        "\n",
        "\n",
        "# Create a callback that saves the model's weights\n",
        "#cp_callback = tf.keras.callbacks.ModelCheckpoint(filepath=checkpoint_path,\n",
        "#                                                 save_weights_only=True,\n",
        "#                                                verbose=1)"
      ],
      "id": "xeMjIOHl2EQt"
    },
    {
      "cell_type": "code",
      "execution_count": 266,
      "metadata": {
        "id": "6SjHESh52EQt",
        "colab": {
          "base_uri": "https://localhost:8080/"
        },
        "outputId": "cdc69c26-e2ac-4017-a0ea-45fb770cc554"
      },
      "outputs": [
        {
          "output_type": "stream",
          "name": "stdout",
          "text": [
            "Epoch 1/15\n",
            "50/50 [==============================] - 27s 382ms/step - loss: 4.3279 - accuracy: 0.0269 - top_k_categorical_accuracy: 0.1269 - val_loss: 4.1456 - val_accuracy: 0.0481 - val_top_k_categorical_accuracy: 0.1707\n",
            "Epoch 2/15\n",
            "50/50 [==============================] - 18s 367ms/step - loss: 4.0147 - accuracy: 0.0594 - top_k_categorical_accuracy: 0.1895 - val_loss: 4.0037 - val_accuracy: 0.0625 - val_top_k_categorical_accuracy: 0.1947\n",
            "Epoch 3/15\n",
            "50/50 [==============================] - 18s 358ms/step - loss: 3.7761 - accuracy: 0.0802 - top_k_categorical_accuracy: 0.2577 - val_loss: 3.8578 - val_accuracy: 0.0841 - val_top_k_categorical_accuracy: 0.2356\n",
            "Epoch 4/15\n",
            "50/50 [==============================] - 18s 355ms/step - loss: 3.5247 - accuracy: 0.1276 - top_k_categorical_accuracy: 0.3474 - val_loss: 3.6931 - val_accuracy: 0.1130 - val_top_k_categorical_accuracy: 0.2885\n",
            "Epoch 5/15\n",
            "50/50 [==============================] - 18s 359ms/step - loss: 3.3029 - accuracy: 0.1687 - top_k_categorical_accuracy: 0.4359 - val_loss: 3.5649 - val_accuracy: 0.1274 - val_top_k_categorical_accuracy: 0.3678\n",
            "Epoch 6/15\n",
            "50/50 [==============================] - 18s 356ms/step - loss: 3.0935 - accuracy: 0.2173 - top_k_categorical_accuracy: 0.5123 - val_loss: 3.3835 - val_accuracy: 0.1731 - val_top_k_categorical_accuracy: 0.4207\n",
            "Epoch 7/15\n",
            "50/50 [==============================] - 18s 356ms/step - loss: 2.8627 - accuracy: 0.3108 - top_k_categorical_accuracy: 0.6039 - val_loss: 3.2368 - val_accuracy: 0.2188 - val_top_k_categorical_accuracy: 0.4519\n",
            "Epoch 8/15\n",
            "50/50 [==============================] - 18s 359ms/step - loss: 2.6773 - accuracy: 0.3569 - top_k_categorical_accuracy: 0.6545 - val_loss: 3.0795 - val_accuracy: 0.2692 - val_top_k_categorical_accuracy: 0.4976\n",
            "Epoch 9/15\n",
            "50/50 [==============================] - 18s 363ms/step - loss: 2.4898 - accuracy: 0.4296 - top_k_categorical_accuracy: 0.7347 - val_loss: 2.9390 - val_accuracy: 0.2933 - val_top_k_categorical_accuracy: 0.5385\n",
            "Epoch 10/15\n",
            "50/50 [==============================] - 18s 358ms/step - loss: 2.3157 - accuracy: 0.4820 - top_k_categorical_accuracy: 0.7738 - val_loss: 2.7585 - val_accuracy: 0.3365 - val_top_k_categorical_accuracy: 0.5938\n",
            "Epoch 11/15\n",
            "50/50 [==============================] - 18s 359ms/step - loss: 2.1484 - accuracy: 0.5389 - top_k_categorical_accuracy: 0.8136 - val_loss: 2.6517 - val_accuracy: 0.3606 - val_top_k_categorical_accuracy: 0.6466\n",
            "Epoch 12/15\n",
            "50/50 [==============================] - 18s 355ms/step - loss: 1.9481 - accuracy: 0.6071 - top_k_categorical_accuracy: 0.8610 - val_loss: 2.5340 - val_accuracy: 0.3846 - val_top_k_categorical_accuracy: 0.6683\n",
            "Epoch 13/15\n",
            "50/50 [==============================] - 18s 353ms/step - loss: 1.7799 - accuracy: 0.6418 - top_k_categorical_accuracy: 0.8825 - val_loss: 2.3926 - val_accuracy: 0.4327 - val_top_k_categorical_accuracy: 0.7091\n",
            "Epoch 14/15\n",
            "50/50 [==============================] - 18s 362ms/step - loss: 1.6560 - accuracy: 0.6936 - top_k_categorical_accuracy: 0.8983 - val_loss: 2.2988 - val_accuracy: 0.4615 - val_top_k_categorical_accuracy: 0.7260\n",
            "Epoch 15/15\n",
            "50/50 [==============================] - 18s 359ms/step - loss: 1.4904 - accuracy: 0.7328 - top_k_categorical_accuracy: 0.9217 - val_loss: 2.1746 - val_accuracy: 0.4808 - val_top_k_categorical_accuracy: 0.7476\n"
          ]
        }
      ],
      "source": [
        "# fit the model\n",
        "tuned_unfrozen_mob_history = tuned_unfrozen_mob.fit(\n",
        "    train_generator,\n",
        "    steps_per_epoch=train_generator.n//train_generator.batch_size,\n",
        "    validation_data=val_generator,\n",
        "    validation_steps=val_generator.n//val_generator.batch_size,\n",
        "    epochs=15,\n",
        "    shuffle=True,\n",
        "    verbose=1\n",
        ")"
      ],
      "id": "6SjHESh52EQt"
    },
    {
      "cell_type": "code",
      "execution_count": 267,
      "metadata": {
        "id": "JXNXfE8A2EQu"
      },
      "outputs": [],
      "source": [
        "# saving mob model\n",
        "#tuned_unfrozen_mob_model.save('tuned_unfrozen_mob')\n",
        "#files.download('tuned_unfrozen_mob')"
      ],
      "id": "JXNXfE8A2EQu"
    },
    {
      "cell_type": "code",
      "execution_count": 268,
      "metadata": {
        "id": "55mUTkeX2EQu",
        "colab": {
          "base_uri": "https://localhost:8080/",
          "height": 295
        },
        "outputId": "db951f74-2c5b-4991-c677-2fb152e0bf1e"
      },
      "outputs": [
        {
          "output_type": "display_data",
          "data": {
            "text/plain": [
              "<Figure size 432x288 with 1 Axes>"
            ],
            "image/png": "[encoded data removed]"
          },
          "metadata": {
            "needs_background": "light"
          }
        },
        {
          "output_type": "display_data",
          "data": {
            "text/plain": [
              "<IPython.core.display.Javascript object>"
            ],
            "application/javascript": [
              "\n",
              "    async function download(id, filename, size) {\n",
              "      if (!google.colab.kernel.accessAllowed) {\n",
              "        return;\n",
              "      }\n",
              "      const div = document.createElement('div');\n",
              "      const label = document.createElement('label');\n",
              "      label.textContent = `Downloading \"${filename}\": `;\n",
              "      div.appendChild(label);\n",
              "      const progress = document.createElement('progress');\n",
              "      progress.max = size;\n",
              "      div.appendChild(progress);\n",
              "      document.body.appendChild(div);\n",
              "\n",
              "      const buffers = [];\n",
              "      let downloaded = 0;\n",
              "\n",
              "      const channel = await google.colab.kernel.comms.open(id);\n",
              "      // Send a message to notify the kernel that we're ready.\n",
              "      channel.send({})\n",
              "\n",
              "      for await (const message of channel.messages) {\n",
              "        // Send a message to notify the kernel that we're ready.\n",
              "        channel.send({})\n",
              "        if (message.buffers) {\n",
              "          for (const buffer of message.buffers) {\n",
              "            buffers.push(buffer);\n",
              "            downloaded += buffer.byteLength;\n",
              "            progress.value = downloaded;\n",
              "          }\n",
              "        }\n",
              "      }\n",
              "      const blob = new Blob(buffers, {type: 'application/binary'});\n",
              "      const a = document.createElement('a');\n",
              "      a.href = window.URL.createObjectURL(blob);\n",
              "      a.download = filename;\n",
              "      div.appendChild(a);\n",
              "      a.click();\n",
              "      div.remove();\n",
              "    }\n",
              "  "
            ]
          },
          "metadata": {}
        },
        {
          "output_type": "display_data",
          "data": {
            "text/plain": [
              "<IPython.core.display.Javascript object>"
            ],
            "application/javascript": [
              "download(\"download_fe247d47-d827-4a44-93c5-917128275317\", \"tuned_unfrozen_mob-acc-rps-1.png\", 20327)"
            ]
          },
          "metadata": {}
        }
      ],
      "source": [
        "# accuracies\n",
        "plt.plot(tuned_unfrozen_mob_history.history['accuracy'], label='train acc')\n",
        "plt.plot(tuned_unfrozen_mob_history.history['val_accuracy'], label='val acc')\n",
        "plt.legend()\n",
        "plt.title('Tuned Unfrozen MobileNetV2 Top-1 Accuracy')\n",
        "plt.xlabel('Number of Epochs')\n",
        "plt.ylabel('Accuracy')\n",
        "plt.savefig('tuned_unfrozen_mob-acc-rps-1.png')\n",
        "plt.show()\n",
        "files.download('tuned_unfrozen_mob-acc-rps-1.png')"
      ],
      "id": "55mUTkeX2EQu"
    },
    {
      "cell_type": "code",
      "execution_count": 269,
      "metadata": {
        "id": "P_38XyXT2EQu",
        "colab": {
          "base_uri": "https://localhost:8080/",
          "height": 295
        },
        "outputId": "dbcf1e1c-e495-4af9-f4b3-0971c10ccb55"
      },
      "outputs": [
        {
          "output_type": "display_data",
          "data": {
            "text/plain": [
              "<Figure size 432x288 with 1 Axes>"
            ],
            "image/png": "[encoded data removed]"
          },
          "metadata": {
            "needs_background": "light"
          }
        },
        {
          "output_type": "display_data",
          "data": {
            "text/plain": [
              "<IPython.core.display.Javascript object>"
            ],
            "application/javascript": [
              "\n",
              "    async function download(id, filename, size) {\n",
              "      if (!google.colab.kernel.accessAllowed) {\n",
              "        return;\n",
              "      }\n",
              "      const div = document.createElement('div');\n",
              "      const label = document.createElement('label');\n",
              "      label.textContent = `Downloading \"${filename}\": `;\n",
              "      div.appendChild(label);\n",
              "      const progress = document.createElement('progress');\n",
              "      progress.max = size;\n",
              "      div.appendChild(progress);\n",
              "      document.body.appendChild(div);\n",
              "\n",
              "      const buffers = [];\n",
              "      let downloaded = 0;\n",
              "\n",
              "      const channel = await google.colab.kernel.comms.open(id);\n",
              "      // Send a message to notify the kernel that we're ready.\n",
              "      channel.send({})\n",
              "\n",
              "      for await (const message of channel.messages) {\n",
              "        // Send a message to notify the kernel that we're ready.\n",
              "        channel.send({})\n",
              "        if (message.buffers) {\n",
              "          for (const buffer of message.buffers) {\n",
              "            buffers.push(buffer);\n",
              "            downloaded += buffer.byteLength;\n",
              "            progress.value = downloaded;\n",
              "          }\n",
              "        }\n",
              "      }\n",
              "      const blob = new Blob(buffers, {type: 'application/binary'});\n",
              "      const a = document.createElement('a');\n",
              "      a.href = window.URL.createObjectURL(blob);\n",
              "      a.download = filename;\n",
              "      div.appendChild(a);\n",
              "      a.click();\n",
              "      div.remove();\n",
              "    }\n",
              "  "
            ]
          },
          "metadata": {}
        },
        {
          "output_type": "display_data",
          "data": {
            "text/plain": [
              "<IPython.core.display.Javascript object>"
            ],
            "application/javascript": [
              "download(\"download_a12c790a-729d-4054-861d-b5ec152ad38e\", \"tuned_unfrozen_mob-top-5-rps-1.png\", 23064)"
            ]
          },
          "metadata": {}
        }
      ],
      "source": [
        "# loss\n",
        "plt.plot(tuned_unfrozen_mob_history.history['top_k_categorical_accuracy'], label='train top-5 accuracy')\n",
        "plt.plot(tuned_unfrozen_mob_history.history['val_top_k_categorical_accuracy'], label='val top-5 accuracy')\n",
        "plt.legend()\n",
        "plt.title('Tuned Unfrozen MobileNetV2 Top-5 Accuracy')\n",
        "plt.xlabel('Number of Epochs')\n",
        "plt.ylabel('Accuracy')\n",
        "plt.savefig('tuned_unfrozen_mob-top-5-rps-1.png')\n",
        "plt.show()\n",
        "files.download('tuned_unfrozen_mob-top-5-rps-1.png')"
      ],
      "id": "P_38XyXT2EQu"
    },
    {
      "cell_type": "code",
      "execution_count": 271,
      "metadata": {
        "id": "shrO9aRa2EQv",
        "colab": {
          "base_uri": "https://localhost:8080/"
        },
        "outputId": "19ff7517-5d7e-4e17-8f26-5cce416e7111"
      },
      "outputs": [
        {
          "output_type": "stream",
          "name": "stdout",
          "text": [
            "538/538 [==============================] - 7s 14ms/step - loss: 2.2472 - accuracy: 0.4647 - top_k_categorical_accuracy: 0.7565\n"
          ]
        },
        {
          "output_type": "execute_result",
          "data": {
            "text/plain": [
              "[2.2471933364868164, 0.46468400955200195, 0.75650554895401]"
            ]
          },
          "metadata": {},
          "execution_count": 271
        }
      ],
      "source": [
        "# evaluate\n",
        "tuned_unfrozen_mob.evaluate(test_generator)"
      ],
      "id": "shrO9aRa2EQv"
    },
    {
      "cell_type": "code",
      "execution_count": 272,
      "metadata": {
        "id": "zz-KQobY2EQv",
        "colab": {
          "base_uri": "https://localhost:8080/"
        },
        "outputId": "68579d06-6f3c-48c1-edcf-cfec31dc0e2d"
      },
      "outputs": [
        {
          "output_type": "stream",
          "name": "stdout",
          "text": [
            "538/538 [==============================] - 7s 12ms/step\n"
          ]
        }
      ],
      "source": [
        "# predict\n",
        "test_generator.reset()\n",
        "pred=tuned_unfrozen_mob.predict(test_generator,\n",
        "steps=test_generator.n//test_generator.batch_size,\n",
        "verbose=1)"
      ],
      "id": "zz-KQobY2EQv"
    },
    {
      "cell_type": "code",
      "execution_count": 273,
      "metadata": {
        "id": "DghLrmdE2EQv"
      },
      "outputs": [],
      "source": [
        "y_pred = np.argmax(pred,axis=1)"
      ],
      "id": "DghLrmdE2EQv"
    },
    {
      "cell_type": "code",
      "execution_count": 274,
      "metadata": {
        "id": "NeSbPEfi2EQv",
        "colab": {
          "base_uri": "https://localhost:8080/"
        },
        "outputId": "4f858c13-cecb-4080-b5be-64325a99f21b"
      },
      "outputs": [
        {
          "output_type": "stream",
          "name": "stdout",
          "text": [
            "              precision    recall  f1-score   support\n",
            "\n",
            "           0       0.46      1.00      0.63         6\n",
            "           1       0.00      0.00      0.00         0\n",
            "           2       0.00      0.00      0.00         0\n",
            "           3       0.56      0.28      0.37        18\n",
            "           4       0.88      0.32      0.47        47\n",
            "           5       0.83      0.50      0.62        20\n",
            "           6       0.86      0.63      0.73        19\n",
            "           7       0.46      0.40      0.43        15\n",
            "           8       0.87      0.24      0.37        55\n",
            "           9       0.36      0.42      0.38        12\n",
            "          10       0.83      0.56      0.67        18\n",
            "          11       0.82      0.32      0.46        28\n",
            "          12       0.10      0.50      0.17         2\n",
            "          13       0.00      0.00      0.00         2\n",
            "          14       0.00      0.00      0.00         3\n",
            "          15       0.22      0.50      0.31         4\n",
            "          16       0.80      0.44      0.57        18\n",
            "          17       0.85      0.61      0.71        18\n",
            "          18       0.44      0.50      0.47         8\n",
            "          19       0.40      1.00      0.57         4\n",
            "          20       0.20      1.00      0.33         2\n",
            "          21       0.45      0.62      0.53         8\n",
            "          22       0.50      0.57      0.53         7\n",
            "          23       0.11      0.50      0.18         2\n",
            "          24       0.20      1.00      0.33         2\n",
            "          25       0.11      1.00      0.20         1\n",
            "          26       0.45      0.56      0.50         9\n",
            "          27       0.56      1.00      0.71         5\n",
            "          28       0.29      0.50      0.36         4\n",
            "          29       0.29      0.67      0.40         3\n",
            "          30       0.62      0.25      0.36        20\n",
            "          31       0.25      0.20      0.22        10\n",
            "          32       0.50      1.00      0.67         5\n",
            "          33       0.77      0.59      0.67        17\n",
            "          34       0.00      0.00      0.00         0\n",
            "          35       0.25      0.50      0.33         4\n",
            "          36       0.20      0.67      0.31         3\n",
            "          37       0.09      0.33      0.14         3\n",
            "          38       0.29      1.00      0.44         2\n",
            "          39       0.50      0.33      0.40        15\n",
            "          40       0.80      0.80      0.80        10\n",
            "          41       0.25      0.60      0.35         5\n",
            "          42       0.58      0.58      0.58        12\n",
            "          43       0.87      0.52      0.65        25\n",
            "          44       0.27      0.75      0.40         4\n",
            "          45       0.40      0.36      0.38        11\n",
            "          46       0.40      1.00      0.57         4\n",
            "          47       0.62      0.56      0.59         9\n",
            "          48       0.61      0.58      0.59        19\n",
            "          49       0.67      0.40      0.50        20\n",
            "\n",
            "    accuracy                           0.46       538\n",
            "   macro avg       0.44      0.53      0.42       538\n",
            "weighted avg       0.66      0.46      0.50       538\n",
            "\n"
          ]
        },
        {
          "output_type": "stream",
          "name": "stderr",
          "text": [
            "/usr/local/lib/python3.7/dist-packages/sklearn/metrics/_classification.py:1318: UndefinedMetricWarning: Recall and F-score are ill-defined and being set to 0.0 in labels with no true samples. Use `zero_division` parameter to control this behavior.\n",
            "  _warn_prf(average, modifier, msg_start, len(result))\n",
            "/usr/local/lib/python3.7/dist-packages/sklearn/metrics/_classification.py:1318: UndefinedMetricWarning: Recall and F-score are ill-defined and being set to 0.0 in labels with no true samples. Use `zero_division` parameter to control this behavior.\n",
            "  _warn_prf(average, modifier, msg_start, len(result))\n",
            "/usr/local/lib/python3.7/dist-packages/sklearn/metrics/_classification.py:1318: UndefinedMetricWarning: Recall and F-score are ill-defined and being set to 0.0 in labels with no true samples. Use `zero_division` parameter to control this behavior.\n",
            "  _warn_prf(average, modifier, msg_start, len(result))\n"
          ]
        }
      ],
      "source": [
        "#get classification report\n",
        "print(classification_report(y_pred, labels))\n"
      ],
      "id": "NeSbPEfi2EQv"
    },
    {
      "cell_type": "code",
      "execution_count": 275,
      "metadata": {
        "id": "P1QLxdMW2EQw"
      },
      "outputs": [],
      "source": [
        "df = create_prediction_df(y_pred, labels)"
      ],
      "id": "P1QLxdMW2EQw"
    },
    {
      "cell_type": "code",
      "execution_count": 276,
      "metadata": {
        "id": "ZX7AX2uF2EQw",
        "colab": {
          "base_uri": "https://localhost:8080/",
          "height": 424
        },
        "outputId": "5e0e5f4e-a87a-4114-b3b4-a47de3d43a29"
      },
      "outputs": [
        {
          "output_type": "execute_result",
          "data": {
            "text/plain": [
              "                      actual_y                       pred  \\\n",
              "0              acanthus_flower            acanthus_flower   \n",
              "5              acanthus_flower            acanthus_flower   \n",
              "6              acanthus_flower            acanthus_flower   \n",
              "7              acanthus_flower            acanthus_flower   \n",
              "10             acanthus_flower            acanthus_flower   \n",
              "..                         ...                        ...   \n",
              "531  hibiscus_coccineus_flower  hibiscus_coccineus_flower   \n",
              "533  hibiscus_coccineus_flower  hibiscus_coccineus_flower   \n",
              "534  hibiscus_coccineus_flower  hibiscus_coccineus_flower   \n",
              "535  hibiscus_coccineus_flower  hibiscus_coccineus_flower   \n",
              "537  hibiscus_coccineus_flower  hibiscus_coccineus_flower   \n",
              "\n",
              "                                        names  \n",
              "0              acanthus_flower/17a8830381.jpg  \n",
              "5              acanthus_flower/36c4d4dbd3.jpg  \n",
              "6              acanthus_flower/38ca13746b.jpg  \n",
              "7              acanthus_flower/45f40e2bbe.jpg  \n",
              "10             acanthus_flower/ec0b225710.jpg  \n",
              "..                                        ...  \n",
              "531  hibiscus_coccineus_flower/40f9e46e76.jpg  \n",
              "533  hibiscus_coccineus_flower/4b6c9c4cd5.jpg  \n",
              "534  hibiscus_coccineus_flower/745d985a9a.jpg  \n",
              "535  hibiscus_coccineus_flower/85dbf5b9ff.jpg  \n",
              "537  hibiscus_coccineus_flower/d2e171aed4.jpg  \n",
              "\n",
              "[250 rows x 3 columns]"
            ],
            "text/html": [
              "\n",
              "  <div id=\"df-3f8ae8db-184e-4bfc-8bf1-85ea57084544\">\n",
              "    <div class=\"colab-df-container\">\n",
              "      <div>\n",
              "<style scoped>\n",
              "    .dataframe tbody tr th:only-of-type {\n",
              "        vertical-align: middle;\n",
              "    }\n",
              "\n",
              "    .dataframe tbody tr th {\n",
              "        vertical-align: top;\n",
              "    }\n",
              "\n",
              "    .dataframe thead th {\n",
              "        text-align: right;\n",
              "    }\n",
              "</style>\n",
              "<table border=\"1\" class=\"dataframe\">\n",
              "  <thead>\n",
              "    <tr style=\"text-align: right;\">\n",
              "      <th></th>\n",
              "      <th>actual_y</th>\n",
              "      <th>pred</th>\n",
              "      <th>names</th>\n",
              "    </tr>\n",
              "  </thead>\n",
              "  <tbody>\n",
              "    <tr>\n",
              "      <th>0</th>\n",
              "      <td>acanthus_flower</td>\n",
              "      <td>acanthus_flower</td>\n",
              "      <td>acanthus_flower/17a8830381.jpg</td>\n",
              "    </tr>\n",
              "    <tr>\n",
              "      <th>5</th>\n",
              "      <td>acanthus_flower</td>\n",
              "      <td>acanthus_flower</td>\n",
              "      <td>acanthus_flower/36c4d4dbd3.jpg</td>\n",
              "    </tr>\n",
              "    <tr>\n",
              "      <th>6</th>\n",
              "      <td>acanthus_flower</td>\n",
              "      <td>acanthus_flower</td>\n",
              "      <td>acanthus_flower/38ca13746b.jpg</td>\n",
              "    </tr>\n",
              "    <tr>\n",
              "      <th>7</th>\n",
              "      <td>acanthus_flower</td>\n",
              "      <td>acanthus_flower</td>\n",
              "      <td>acanthus_flower/45f40e2bbe.jpg</td>\n",
              "    </tr>\n",
              "    <tr>\n",
              "      <th>10</th>\n",
              "      <td>acanthus_flower</td>\n",
              "      <td>acanthus_flower</td>\n",
              "      <td>acanthus_flower/ec0b225710.jpg</td>\n",
              "    </tr>\n",
              "    <tr>\n",
              "      <th>...</th>\n",
              "      <td>...</td>\n",
              "      <td>...</td>\n",
              "      <td>...</td>\n",
              "    </tr>\n",
              "    <tr>\n",
              "      <th>531</th>\n",
              "      <td>hibiscus_coccineus_flower</td>\n",
              "      <td>hibiscus_coccineus_flower</td>\n",
              "      <td>hibiscus_coccineus_flower/40f9e46e76.jpg</td>\n",
              "    </tr>\n",
              "    <tr>\n",
              "      <th>533</th>\n",
              "      <td>hibiscus_coccineus_flower</td>\n",
              "      <td>hibiscus_coccineus_flower</td>\n",
              "      <td>hibiscus_coccineus_flower/4b6c9c4cd5.jpg</td>\n",
              "    </tr>\n",
              "    <tr>\n",
              "      <th>534</th>\n",
              "      <td>hibiscus_coccineus_flower</td>\n",
              "      <td>hibiscus_coccineus_flower</td>\n",
              "      <td>hibiscus_coccineus_flower/745d985a9a.jpg</td>\n",
              "    </tr>\n",
              "    <tr>\n",
              "      <th>535</th>\n",
              "      <td>hibiscus_coccineus_flower</td>\n",
              "      <td>hibiscus_coccineus_flower</td>\n",
              "      <td>hibiscus_coccineus_flower/85dbf5b9ff.jpg</td>\n",
              "    </tr>\n",
              "    <tr>\n",
              "      <th>537</th>\n",
              "      <td>hibiscus_coccineus_flower</td>\n",
              "      <td>hibiscus_coccineus_flower</td>\n",
              "      <td>hibiscus_coccineus_flower/d2e171aed4.jpg</td>\n",
              "    </tr>\n",
              "  </tbody>\n",
              "</table>\n",
              "<p>250 rows × 3 columns</p>\n",
              "</div>\n",
              "      <button class=\"colab-df-convert\" onclick=\"convertToInteractive('df-3f8ae8db-184e-4bfc-8bf1-85ea57084544')\"\n",
              "              title=\"Convert this dataframe to an interactive table.\"\n",
              "              style=\"display:none;\">\n",
              "        \n",
              "  <svg xmlns=\"http://www.w3.org/2000/svg\" height=\"24px\"viewBox=\"0 0 24 24\"\n",
              "       width=\"24px\">\n",
              "    <path d=\"M0 0h24v24H0V0z\" fill=\"none\"/>\n",
              "    <path d=\"M18.56 5.44l.94 2.06.94-2.06 2.06-.94-2.06-.94-.94-2.06-.94 2.06-2.06.94zm-11 1L8.5 8.5l.94-2.06 2.06-.94-2.06-.94L8.5 2.5l-.94 2.06-2.06.94zm10 10l.94 2.06.94-2.06 2.06-.94-2.06-.94-.94-2.06-.94 2.06-2.06.94z\"/><path d=\"M17.41 7.96l-1.37-1.37c-.4-.4-.92-.59-1.43-.59-.52 0-1.04.2-1.43.59L10.3 9.45l-7.72 7.72c-.78.78-.78 2.05 0 2.83L4 21.41c.39.39.9.59 1.41.59.51 0 1.02-.2 1.41-.59l7.78-7.78 2.81-2.81c.8-.78.8-2.07 0-2.86zM5.41 20L4 18.59l7.72-7.72 1.47 1.35L5.41 20z\"/>\n",
              "  </svg>\n",
              "      </button>\n",
              "      \n",
              "  <style>\n",
              "    .colab-df-container {\n",
              "      display:flex;\n",
              "      flex-wrap:wrap;\n",
              "      gap: 12px;\n",
              "    }\n",
              "\n",
              "    .colab-df-convert {\n",
              "      background-color: #E8F0FE;\n",
              "      border: none;\n",
              "      border-radius: 50%;\n",
              "      cursor: pointer;\n",
              "      display: none;\n",
              "      fill: #1967D2;\n",
              "      height: 32px;\n",
              "      padding: 0 0 0 0;\n",
              "      width: 32px;\n",
              "    }\n",
              "\n",
              "    .colab-df-convert:hover {\n",
              "      background-color: #E2EBFA;\n",
              "      box-shadow: 0px 1px 2px rgba(60, 64, 67, 0.3), 0px 1px 3px 1px rgba(60, 64, 67, 0.15);\n",
              "      fill: #174EA6;\n",
              "    }\n",
              "\n",
              "    [theme=dark] .colab-df-convert {\n",
              "      background-color: #3B4455;\n",
              "      fill: #D2E3FC;\n",
              "    }\n",
              "\n",
              "    [theme=dark] .colab-df-convert:hover {\n",
              "      background-color: #434B5C;\n",
              "      box-shadow: 0px 1px 3px 1px rgba(0, 0, 0, 0.15);\n",
              "      filter: drop-shadow(0px 1px 2px rgba(0, 0, 0, 0.3));\n",
              "      fill: #FFFFFF;\n",
              "    }\n",
              "  </style>\n",
              "\n",
              "      <script>\n",
              "        const buttonEl =\n",
              "          document.querySelector('#df-3f8ae8db-184e-4bfc-8bf1-85ea57084544 button.colab-df-convert');\n",
              "        buttonEl.style.display =\n",
              "          google.colab.kernel.accessAllowed ? 'block' : 'none';\n",
              "\n",
              "        async function convertToInteractive(key) {\n",
              "          const element = document.querySelector('#df-3f8ae8db-184e-4bfc-8bf1-85ea57084544');\n",
              "          const dataTable =\n",
              "            await google.colab.kernel.invokeFunction('convertToInteractive',\n",
              "                                                     [key], {});\n",
              "          if (!dataTable) return;\n",
              "\n",
              "          const docLinkHtml = 'Like what you see? Visit the ' +\n",
              "            '<a target=\"_blank\" href=https://colab.research.google.com/notebooks/data_table.ipynb>data table notebook</a>'\n",
              "            + ' to learn more about interactive tables.';\n",
              "          element.innerHTML = '';\n",
              "          dataTable['output_type'] = 'display_data';\n",
              "          await google.colab.output.renderOutput(dataTable, element);\n",
              "          const docLink = document.createElement('div');\n",
              "          docLink.innerHTML = docLinkHtml;\n",
              "          element.appendChild(docLink);\n",
              "        }\n",
              "      </script>\n",
              "    </div>\n",
              "  </div>\n",
              "  "
            ]
          },
          "metadata": {},
          "execution_count": 276
        }
      ],
      "source": [
        "df.loc[df['actual_y']==df['pred']]"
      ],
      "id": "ZX7AX2uF2EQw"
    },
    {
      "cell_type": "code",
      "execution_count": 277,
      "metadata": {
        "id": "pqBP18Ma2EQw",
        "colab": {
          "base_uri": "https://localhost:8080/"
        },
        "outputId": "5546f8df-71ba-4388-b2f6-797a77ffbb09"
      },
      "outputs": [
        {
          "output_type": "stream",
          "name": "stdout",
          "text": [
            "The unfrozen tuned MobileNetV2 model correctly predicted 250 images from 45 classes out of 538 images.\n"
          ]
        }
      ],
      "source": [
        "print(f\"The unfrozen tuned MobileNetV2 model correctly predicted {df.loc[df['actual_y']==df['pred']].shape[0]} images from {df.loc[df['actual_y']==df['pred']]['actual_y'].value_counts().count()} classes out of {len(test_generator.labels)} images.\")"
      ],
      "id": "pqBP18Ma2EQw"
    },
    {
      "cell_type": "code",
      "execution_count": 278,
      "metadata": {
        "id": "ggYjZK3z2EQw",
        "colab": {
          "base_uri": "https://localhost:8080/"
        },
        "outputId": "cb90fb7e-5c0b-49c7-ebd6-9b03b6b04718"
      },
      "outputs": [
        {
          "output_type": "execute_result",
          "data": {
            "text/plain": [
              "0                acanthus_flower/17a8830381.jpg\n",
              "5                acanthus_flower/36c4d4dbd3.jpg\n",
              "6                acanthus_flower/38ca13746b.jpg\n",
              "7                acanthus_flower/45f40e2bbe.jpg\n",
              "10               acanthus_flower/ec0b225710.jpg\n",
              "                         ...                   \n",
              "531    hibiscus_coccineus_flower/40f9e46e76.jpg\n",
              "533    hibiscus_coccineus_flower/4b6c9c4cd5.jpg\n",
              "534    hibiscus_coccineus_flower/745d985a9a.jpg\n",
              "535    hibiscus_coccineus_flower/85dbf5b9ff.jpg\n",
              "537    hibiscus_coccineus_flower/d2e171aed4.jpg\n",
              "Name: names, Length: 250, dtype: object"
            ]
          },
          "metadata": {},
          "execution_count": 278
        }
      ],
      "source": [
        "df.loc[df['actual_y']==df['pred']]['names']"
      ],
      "id": "ggYjZK3z2EQw"
    },
    {
      "cell_type": "code",
      "execution_count": null,
      "metadata": {
        "id": "Fhio6XL02EQw"
      },
      "outputs": [],
      "source": [
        "#Image.open(test_path+'/'+list(df.loc[df['actual_y']==df['pred']]['names'])[0])"
      ],
      "id": "Fhio6XL02EQw"
    }
  ],
  "metadata": {
    "accelerator": "GPU",
    "colab": {
      "collapsed_sections": [],
      "name": "5. Modelling_colab.ipynb",
      "toc_visible": true,
      "provenance": [],
      "include_colab_link": true
    },
    "kernelspec": {
      "display_name": "Python 3 (ipykernel)",
      "language": "python",
      "name": "python3"
    },
    "language_info": {
      "codemirror_mode": {
        "name": "ipython",
        "version": 3
      },
      "file_extension": ".py",
      "mimetype": "text/x-python",
      "name": "python",
      "nbconvert_exporter": "python",
      "pygments_lexer": "ipython3",
      "version": "3.7.13"
    }
  },
  "nbformat": 4,
  "nbformat_minor": 5
}